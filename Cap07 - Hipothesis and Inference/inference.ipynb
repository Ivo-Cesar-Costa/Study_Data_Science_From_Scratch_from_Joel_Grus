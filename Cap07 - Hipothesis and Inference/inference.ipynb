{
 "cells": [
  {
   "cell_type": "code",
   "execution_count": 1,
   "id": "89f3c4b4-46c9-4856-b083-30038ca62ffa",
   "metadata": {},
   "outputs": [],
   "source": [
    "from typing import Tuple\n",
    "import math\n",
    "\n",
    "def normal_approximation_to_binomial(n: int, p: float) -> Tuple[float, float]:\n",
    "    \"\"\"Returns mu and sigma corresponding to a Binomial(n, p)\"\"\"\n",
    "    mu = p * n\n",
    "    sigma = math.sqrt(p * (1 - p) * n)\n",
    "    return mu, sigma"
   ]
  },
  {
   "cell_type": "code",
   "execution_count": 2,
   "id": "d736c6b1-d86f-4ff7-8963-8b6d84280b14",
   "metadata": {},
   "outputs": [
    {
     "name": "stdout",
     "output_type": "stream",
     "text": [
      "importing Jupyter notebook from probability.ipynb\n"
     ]
    },
    {
     "data": {
      "text/plain": [
       "<Figure size 432x288 with 0 Axes>"
      ]
     },
     "metadata": {},
     "output_type": "display_data"
    }
   ],
   "source": [
    "import import_ipynb\n",
    "from probability import normal_cdf\n",
    "\n",
    "# The normal cdf _is_ the probability the variable is below a threshold\n",
    "normal_probability_below = normal_cdf\n",
    "\n",
    "# It's above the threshold if it's not below the threshold\n",
    "def normal_probability_above(lo: float,\n",
    "                             mu: float = 0,\n",
    "                             sigma: float = 1) -> float:\n",
    "    \"\"\"The probability that a N(mu, sigma) is greater than lo.\"\"\"\n",
    "    return 1 - normal_cdf(lo, mu, sigma)"
   ]
  },
  {
   "cell_type": "code",
   "execution_count": 3,
   "id": "3d5df411-e957-4740-a4e3-be96c9517760",
   "metadata": {},
   "outputs": [],
   "source": [
    "# It's between if it's less than hi, but not less than lo.\n",
    "def normal_probability_between(lo: float,\n",
    "                               hi: float,\n",
    "                               mu: float = 0,\n",
    "                               sigma: float = 1) -> float:\n",
    "    \"\"\"The probability that a N(mu, sigma) is between lo and hi.\"\"\"\n",
    "    return normal_cdf(hi, mu, sigma) - normal_cdf(lo, mu, sigma)"
   ]
  },
  {
   "cell_type": "code",
   "execution_count": 4,
   "id": "6d0c5d09-3d4c-4f60-b342-8cd36da1642d",
   "metadata": {},
   "outputs": [],
   "source": [
    "# It's outside if it's not between\n",
    "def normal_probability_outside(lo: float,\n",
    "                               hi: float,\n",
    "                               mu: float = 0,\n",
    "                               sigma: float = 1) -> float:\n",
    "    \"\"\"The probability that a N(mu, sigma) is not between lo and hi.\"\"\"\n",
    "    return 1 - normal_probability_between(lo, hi, mu, sigma)"
   ]
  },
  {
   "cell_type": "code",
   "execution_count": 5,
   "id": "d2eeda51-6901-4092-bc1f-3d9842d1e3d8",
   "metadata": {},
   "outputs": [],
   "source": [
    "from probability import inverse_normal_cdf"
   ]
  },
  {
   "cell_type": "code",
   "execution_count": 6,
   "id": "0b377b80-cf59-4f15-9113-a565c8f6e665",
   "metadata": {},
   "outputs": [],
   "source": [
    "def normal_upper_bound(probability: float,\n",
    "                       mu: float = 0,\n",
    "                       sigma: float = 1) -> float:\n",
    "    \"\"\"Returns the z for which P(Z <= z) = probability\"\"\"\n",
    "    return inverse_normal_cdf(probability, mu, sigma)"
   ]
  },
  {
   "cell_type": "code",
   "execution_count": 7,
   "id": "c313df63-e309-4ebd-87be-0c5b8d63f71f",
   "metadata": {},
   "outputs": [],
   "source": [
    "def normal_lower_bound(probability: float,\n",
    "                       mu: float = 0,\n",
    "                       sigma: float = 1) -> float:\n",
    "    \"\"\"Returns the z for which P(Z >= z) = probability\"\"\"\n",
    "    return inverse_normal_cdf(1 - probability, mu, sigma)"
   ]
  },
  {
   "cell_type": "code",
   "execution_count": 8,
   "id": "44b4b018-0d94-4e73-bf12-47544e28eed4",
   "metadata": {},
   "outputs": [],
   "source": [
    "def normal_two_sided_bounds(probability: float,\n",
    "                            mu: float = 0,\n",
    "                            sigma: float = 1) -> Tuple[float, float]:\n",
    "    \"\"\"\n",
    "    Returns the symmetric (about the mean) bounds\n",
    "    that contain the specified probability\n",
    "    \"\"\"\n",
    "    tail_probability = (1 - probability) / 2\n",
    "\n",
    "    # upper bound should have tail_probability above it\n",
    "    upper_bound = normal_lower_bound(tail_probability, mu, sigma)\n",
    "\n",
    "    # lower bound should have tail_probability below it\n",
    "    lower_bound = normal_upper_bound(tail_probability, mu, sigma)\n",
    "\n",
    "    return lower_bound, upper_bound"
   ]
  },
  {
   "cell_type": "code",
   "execution_count": 9,
   "id": "2cd33fad-297c-40cd-99d9-39b0ff480fd9",
   "metadata": {},
   "outputs": [
    {
     "data": {
      "text/plain": [
       "(500.0, 15.811388300841896)"
      ]
     },
     "execution_count": 9,
     "metadata": {},
     "output_type": "execute_result"
    }
   ],
   "source": [
    "mu_0, sigma_0 = normal_approximation_to_binomial(1000, 0.5)\n",
    "mu_0, sigma_0"
   ]
  },
  {
   "cell_type": "code",
   "execution_count": 10,
   "id": "53001f1a-2680-4613-8745-2f8110263299",
   "metadata": {},
   "outputs": [],
   "source": [
    "assert mu_0 == 500"
   ]
  },
  {
   "cell_type": "code",
   "execution_count": 11,
   "id": "0e9795fa-9187-46d7-855d-0410d91f088d",
   "metadata": {},
   "outputs": [],
   "source": [
    "assert 15.8 < sigma_0 < 15.9"
   ]
  },
  {
   "cell_type": "code",
   "execution_count": 12,
   "id": "04a0179c-b050-495b-bddd-fae4f1c0bdff",
   "metadata": {},
   "outputs": [
    {
     "data": {
      "text/plain": [
       "(469.01026640487555, 530.9897335951244)"
      ]
     },
     "execution_count": 12,
     "metadata": {},
     "output_type": "execute_result"
    }
   ],
   "source": [
    "# (469, 531)\n",
    "lower_bound, upper_bound = normal_two_sided_bounds(0.95, mu_0, sigma_0)\n",
    "lower_bound, upper_bound"
   ]
  },
  {
   "cell_type": "code",
   "execution_count": 13,
   "id": "63c9b48e-7530-4e6f-8ca0-f05e7462c2fa",
   "metadata": {},
   "outputs": [],
   "source": [
    "assert 468.5 < lower_bound < 469.5"
   ]
  },
  {
   "cell_type": "code",
   "execution_count": 14,
   "id": "fb8c5c32-2451-4f75-a1ed-1826ed51264a",
   "metadata": {},
   "outputs": [],
   "source": [
    "assert 530.5 < upper_bound < 531.5"
   ]
  },
  {
   "cell_type": "code",
   "execution_count": 15,
   "id": "5d41d7a1-234e-4424-999b-3d9b7abadfb8",
   "metadata": {},
   "outputs": [
    {
     "data": {
      "text/plain": [
       "(469.01026640487555, 530.9897335951244)"
      ]
     },
     "execution_count": 15,
     "metadata": {},
     "output_type": "execute_result"
    }
   ],
   "source": [
    "# 95% bounds based on assumption p is 0.5\n",
    "lo, hi = normal_two_sided_bounds(0.95, mu_0, sigma_0)\n",
    "lo, hi"
   ]
  },
  {
   "cell_type": "code",
   "execution_count": 16,
   "id": "56f5f262-37d2-44f7-a072-cc43c881138d",
   "metadata": {},
   "outputs": [
    {
     "data": {
      "text/plain": [
       "(550.0, 15.732132722552274)"
      ]
     },
     "execution_count": 16,
     "metadata": {},
     "output_type": "execute_result"
    }
   ],
   "source": [
    "# actual mu and sigma based on p = 0.55\n",
    "mu_1, sigma_1 = normal_approximation_to_binomial(1000, 0.55)\n",
    "mu_1, sigma_1"
   ]
  },
  {
   "cell_type": "code",
   "execution_count": 17,
   "id": "03dcd5a1-e3cd-4234-9379-513ba7472643",
   "metadata": {},
   "outputs": [
    {
     "data": {
      "text/plain": [
       "0.8865480012953671"
      ]
     },
     "execution_count": 17,
     "metadata": {},
     "output_type": "execute_result"
    }
   ],
   "source": [
    "# a type 2 error means we fail to reject the null hypothesis\n",
    "# which will happen when X is still in our original interval\n",
    "type_2_probability = normal_probability_between(lo, hi, mu_1, sigma_1)\n",
    "power = 1 - type_2_probability      # 0.887\n",
    "power"
   ]
  },
  {
   "cell_type": "code",
   "execution_count": 18,
   "id": "f68df2bf-3738-45bf-b8d4-54c8bba190b6",
   "metadata": {},
   "outputs": [],
   "source": [
    "assert 0.886 < power < 0.888"
   ]
  },
  {
   "cell_type": "code",
   "execution_count": 19,
   "id": "2052d944-07c1-4d9b-a17d-842577a46147",
   "metadata": {},
   "outputs": [
    {
     "data": {
      "text/plain": [
       "526.0073585242053"
      ]
     },
     "execution_count": 19,
     "metadata": {},
     "output_type": "execute_result"
    }
   ],
   "source": [
    "hi = normal_upper_bound(0.95, mu_0, sigma_0)\n",
    "# is 526 (< 531, since we need more probability in the upper tail)\n",
    "hi"
   ]
  },
  {
   "cell_type": "code",
   "execution_count": 20,
   "id": "232b6802-441d-43e1-a156-f88ec46743aa",
   "metadata": {},
   "outputs": [
    {
     "data": {
      "text/plain": [
       "0.9363794803307173"
      ]
     },
     "execution_count": 20,
     "metadata": {},
     "output_type": "execute_result"
    }
   ],
   "source": [
    "type_2_probability = normal_probability_below(hi, mu_1, sigma_1)\n",
    "power = 1 - type_2_probability      # 0.936\n",
    "power"
   ]
  },
  {
   "cell_type": "code",
   "execution_count": 21,
   "id": "e3f09eb8-f7ed-4d54-8628-3e15a0de6a06",
   "metadata": {},
   "outputs": [],
   "source": [
    "assert 526 < hi < 526.1"
   ]
  },
  {
   "cell_type": "code",
   "execution_count": 22,
   "id": "69b954cb-4a83-4cb5-842a-a331b304c3e1",
   "metadata": {},
   "outputs": [],
   "source": [
    "assert 0.9363 < power < 0.9364"
   ]
  },
  {
   "cell_type": "code",
   "execution_count": 23,
   "id": "00275da5-ef17-4f68-95da-f2ac831db952",
   "metadata": {},
   "outputs": [],
   "source": [
    "def two_sided_p_value(x: float, mu: float = 0, sigma: float = 1) -> float:\n",
    "    \"\"\"\n",
    "    How likely are we to see a value at least as extreme as x (in either\n",
    "    direction) if our values are from a N(mu, sigma)?\n",
    "    \"\"\"\n",
    "    if x >= mu:\n",
    "        # x is greater than the mean, so the tail is everything greater than x\n",
    "        return 2 * normal_probability_above(x, mu, sigma)\n",
    "    else:\n",
    "        # x is less than the mean, so the tail is everything less than x\n",
    "        return 2 * normal_probability_below(x, mu, sigma)"
   ]
  },
  {
   "cell_type": "code",
   "execution_count": 24,
   "id": "f10f2317-58d8-4f39-9641-562d437ecf0a",
   "metadata": {},
   "outputs": [
    {
     "data": {
      "text/plain": [
       "0.06207721579598835"
      ]
     },
     "execution_count": 24,
     "metadata": {},
     "output_type": "execute_result"
    }
   ],
   "source": [
    "two_sided_p_value(529.5, mu_0, sigma_0)   # 0.062"
   ]
  },
  {
   "cell_type": "code",
   "execution_count": 25,
   "id": "a59ba74d-f8a6-406c-bcd7-cc1a4e4774a6",
   "metadata": {},
   "outputs": [],
   "source": [
    "import random\n",
    "\n",
    "extreme_value_count = 0\n",
    "for _ in range(1000):\n",
    "    num_heads = sum(1 if random.random() < 0.5 else 0    # Count # of heads\n",
    "                    for _ in range(1000))                # in 1000 flips,\n",
    "    if num_heads >= 530 or num_heads <= 470:             # and count how often\n",
    "        extreme_value_count += 1                         # the # is 'extrem"
   ]
  },
  {
   "cell_type": "code",
   "execution_count": 26,
   "id": "d46c9dde-c34e-49ab-b2ab-89b76243cff6",
   "metadata": {},
   "outputs": [
    {
     "data": {
      "text/plain": [
       "65"
      ]
     },
     "execution_count": 26,
     "metadata": {},
     "output_type": "execute_result"
    }
   ],
   "source": [
    "extreme_value_count"
   ]
  },
  {
   "cell_type": "code",
   "execution_count": 27,
   "id": "103e8b6b-e9a7-4b1a-9bf7-4bed26bf4c31",
   "metadata": {},
   "outputs": [],
   "source": [
    "# p-value was 0.062 => ~62 extreme values out of 1000\n",
    "assert 59 < extreme_value_count < 100, f\"{extreme_value_count}\""
   ]
  },
  {
   "cell_type": "code",
   "execution_count": 28,
   "id": "150a2ebb-a38c-4516-84c1-2a7902e226f6",
   "metadata": {},
   "outputs": [
    {
     "data": {
      "text/plain": [
       "0.046345287837786575"
      ]
     },
     "execution_count": 28,
     "metadata": {},
     "output_type": "execute_result"
    }
   ],
   "source": [
    "two_sided_p_value(531.5, mu_0, sigma_0)   # 0.0463"
   ]
  },
  {
   "cell_type": "code",
   "execution_count": 29,
   "id": "2e891eab-6298-43b2-929c-4f2e03e58c4b",
   "metadata": {},
   "outputs": [
    {
     "data": {
      "text/plain": [
       "0.046345287837786575"
      ]
     },
     "execution_count": 29,
     "metadata": {},
     "output_type": "execute_result"
    }
   ],
   "source": [
    "tspv = two_sided_p_value(531.5, mu_0, sigma_0)\n",
    "tspv"
   ]
  },
  {
   "cell_type": "code",
   "execution_count": 30,
   "id": "0a1d9363-a227-4e77-9dd5-07d282c2d710",
   "metadata": {},
   "outputs": [],
   "source": [
    "assert 0.0463 < tspv < 0.0464"
   ]
  },
  {
   "cell_type": "code",
   "execution_count": 31,
   "id": "03a5f7ea-2e6e-407e-8cf0-a86ce46a9355",
   "metadata": {},
   "outputs": [],
   "source": [
    "upper_p_value = normal_probability_above\n",
    "lower_p_value = normal_probability_below"
   ]
  },
  {
   "cell_type": "code",
   "execution_count": 32,
   "id": "3e05b2ef-2ca1-42aa-bf44-8f648a3f509b",
   "metadata": {},
   "outputs": [
    {
     "data": {
      "text/plain": [
       "0.06062885772582072"
      ]
     },
     "execution_count": 32,
     "metadata": {},
     "output_type": "execute_result"
    }
   ],
   "source": [
    "upper_p_value(524.5, mu_0, sigma_0) # 0.061"
   ]
  },
  {
   "cell_type": "code",
   "execution_count": 33,
   "id": "8a5e70b3-89cb-4113-b7a3-5145f3e1f43d",
   "metadata": {},
   "outputs": [
    {
     "data": {
      "text/plain": [
       "0.04686839508859242"
      ]
     },
     "execution_count": 33,
     "metadata": {},
     "output_type": "execute_result"
    }
   ],
   "source": [
    "upper_p_value(526.5, mu_0, sigma_0) # 0.047"
   ]
  },
  {
   "cell_type": "code",
   "execution_count": 34,
   "id": "e920fd3b-1784-489d-8696-3dde17dda5d8",
   "metadata": {},
   "outputs": [
    {
     "data": {
      "text/plain": [
       "(0.525, 0.525, 0.015791611697353755)"
      ]
     },
     "execution_count": 34,
     "metadata": {},
     "output_type": "execute_result"
    }
   ],
   "source": [
    "p_hat = 525 / 1000\n",
    "mu = p_hat\n",
    "sigma = math.sqrt(p_hat * (1 - p_hat) / 1000)   # 0.0158\n",
    "p_hat, mu, sigma"
   ]
  },
  {
   "cell_type": "code",
   "execution_count": 35,
   "id": "fdd8eca0-ff6d-4adf-81d1-59dd9f171e26",
   "metadata": {},
   "outputs": [
    {
     "data": {
      "text/plain": [
       "(0.4940490278129096, 0.5559509721870904)"
      ]
     },
     "execution_count": 35,
     "metadata": {},
     "output_type": "execute_result"
    }
   ],
   "source": [
    "normal_two_sided_bounds(0.95, mu, sigma)        # [0.4940, 0.5560]"
   ]
  },
  {
   "cell_type": "code",
   "execution_count": 36,
   "id": "80afc82f-9eb9-4a20-b11a-810f7c3c4806",
   "metadata": {},
   "outputs": [
    {
     "data": {
      "text/plain": [
       "(0.54, 0.54, 0.015760710643876435)"
      ]
     },
     "execution_count": 36,
     "metadata": {},
     "output_type": "execute_result"
    }
   ],
   "source": [
    "p_hat = 540 / 1000\n",
    "mu = p_hat\n",
    "sigma = math.sqrt(p_hat * (1 - p_hat) / 1000) # 0.0158\n",
    "p_hat, mu, sigma"
   ]
  },
  {
   "cell_type": "code",
   "execution_count": 37,
   "id": "8941b9cf-c830-4108-928d-1179298993d4",
   "metadata": {},
   "outputs": [
    {
     "data": {
      "text/plain": [
       "(0.5091095927295919, 0.5708904072704082)"
      ]
     },
     "execution_count": 37,
     "metadata": {},
     "output_type": "execute_result"
    }
   ],
   "source": [
    "normal_two_sided_bounds(0.95, mu, sigma) # [0.5091, 0.5709]"
   ]
  },
  {
   "cell_type": "code",
   "execution_count": 38,
   "id": "cd0c3b89-54a2-4d70-82de-5147c6b60336",
   "metadata": {},
   "outputs": [],
   "source": [
    "from typing import List\n",
    "\n",
    "def run_experiment() -> List[bool]:\n",
    "    \"\"\"Flips a fair coin 1000 times, True = heads, False = tails\"\"\"\n",
    "    return [random.random() < 0.5 for _ in range(1000)]"
   ]
  },
  {
   "cell_type": "code",
   "execution_count": 39,
   "id": "4d248bba-fe2b-4d6f-a06e-f6ee7560b1e0",
   "metadata": {},
   "outputs": [],
   "source": [
    "def reject_fairness(experiment: List[bool]) -> bool:\n",
    "    \"\"\"Using the 5% significance levels\"\"\"\n",
    "    num_heads = len([flip for flip in experiment if flip])\n",
    "    return num_heads < 469 or num_heads > 531"
   ]
  },
  {
   "cell_type": "code",
   "execution_count": 40,
   "id": "b2594989-be3f-4c67-9cc5-e33d59a40ab0",
   "metadata": {},
   "outputs": [
    {
     "data": {
      "text/plain": [
       "46"
      ]
     },
     "execution_count": 40,
     "metadata": {},
     "output_type": "execute_result"
    }
   ],
   "source": [
    "random.seed(0)\n",
    "experiments = [run_experiment() for _ in range(1000)]\n",
    "num_rejections = len([experiment\n",
    "                      for experiment in experiments\n",
    "                      if reject_fairness(experiment)])\n",
    "num_rejections"
   ]
  },
  {
   "cell_type": "code",
   "execution_count": 41,
   "id": "9a9d1565-ad19-42e0-9675-b64d7ae9648a",
   "metadata": {},
   "outputs": [],
   "source": [
    "assert num_rejections == 46"
   ]
  },
  {
   "cell_type": "code",
   "execution_count": 42,
   "id": "da2c0678-1fd5-4243-af5e-cb47374dd78d",
   "metadata": {},
   "outputs": [],
   "source": [
    "def estimated_parameters(N: int, n: int) -> Tuple[float, float]:\n",
    "    p = n / N\n",
    "    sigma = math.sqrt(p * (1 - p) / N)\n",
    "    return p, sigma"
   ]
  },
  {
   "cell_type": "code",
   "execution_count": 43,
   "id": "9a6579b8-9550-4bdc-8a91-7ab5e060dd92",
   "metadata": {},
   "outputs": [],
   "source": [
    "def a_b_test_statistic(N_A: int, n_A: int, N_B: int, n_B: int) -> float:\n",
    "    p_A, sigma_A = estimated_parameters(N_A, n_A)\n",
    "    p_B, sigma_B = estimated_parameters(N_B, n_B)\n",
    "    return (p_B - p_A) / math.sqrt(sigma_A ** 2 + sigma_B ** 2)"
   ]
  },
  {
   "cell_type": "code",
   "execution_count": 44,
   "id": "ccf20ff7-0c50-4ac5-b468-f19431d447cc",
   "metadata": {},
   "outputs": [
    {
     "data": {
      "text/plain": [
       "-1.1403464899034472"
      ]
     },
     "execution_count": 44,
     "metadata": {},
     "output_type": "execute_result"
    }
   ],
   "source": [
    "z = a_b_test_statistic(1000, 200, 1000, 180)    # -1.14\n",
    "z"
   ]
  },
  {
   "cell_type": "code",
   "execution_count": 45,
   "id": "22d406b4-1e5d-48af-9290-c70ea7dc4c2c",
   "metadata": {},
   "outputs": [],
   "source": [
    "assert -1.15 < z < -1.13"
   ]
  },
  {
   "cell_type": "code",
   "execution_count": 46,
   "id": "06de44be-4e15-4b1d-9645-136ba1595ce7",
   "metadata": {},
   "outputs": [
    {
     "data": {
      "text/plain": [
       "0.254141976542236"
      ]
     },
     "execution_count": 46,
     "metadata": {},
     "output_type": "execute_result"
    }
   ],
   "source": [
    "two_sided_p_value(z)                            # 0.254"
   ]
  },
  {
   "cell_type": "code",
   "execution_count": 47,
   "id": "9ebe7b66-1760-437f-b733-eb5be4298d7d",
   "metadata": {},
   "outputs": [],
   "source": [
    "assert 0.253 < two_sided_p_value(z) < 0.255"
   ]
  },
  {
   "cell_type": "code",
   "execution_count": 48,
   "id": "bf3b059d-8f44-4fb9-ac44-13a5ffb898c8",
   "metadata": {},
   "outputs": [
    {
     "data": {
      "text/plain": [
       "-2.948839123097944"
      ]
     },
     "execution_count": 48,
     "metadata": {},
     "output_type": "execute_result"
    }
   ],
   "source": [
    "z = a_b_test_statistic(1000, 200, 1000, 150)    # -2.94\n",
    "z"
   ]
  },
  {
   "cell_type": "code",
   "execution_count": 49,
   "id": "6198667c-6f73-43e6-a006-3eec8ca9210b",
   "metadata": {},
   "outputs": [
    {
     "data": {
      "text/plain": [
       "0.003189699706216853"
      ]
     },
     "execution_count": 49,
     "metadata": {},
     "output_type": "execute_result"
    }
   ],
   "source": [
    "two_sided_p_value(z)                            # 0.003"
   ]
  },
  {
   "cell_type": "code",
   "execution_count": 50,
   "id": "6beb2e16-44b5-4ad2-a649-04428b637217",
   "metadata": {},
   "outputs": [],
   "source": [
    "def B(alpha: float, beta: float) -> float:\n",
    "    \"\"\"A normalizing constant so that the total probability is 1\"\"\"\n",
    "    return math.gamma(alpha) * math.gamma(beta) / math.gamma(alpha + beta)"
   ]
  },
  {
   "cell_type": "code",
   "execution_count": 51,
   "id": "b45d19d8-91d2-45fa-8be9-0e01c3535923",
   "metadata": {},
   "outputs": [],
   "source": [
    "def beta_pdf(x: float, alpha: float, beta: float) -> float:\n",
    "    if x <= 0 or x >= 1:          # no weight outside of [0, 1]\n",
    "        return 0\n",
    "    return x ** (alpha - 1) * (1 - x) ** (beta - 1) / B(alpha, beta)"
   ]
  }
 ],
 "metadata": {
  "kernelspec": {
   "display_name": "Python 3 (ipykernel)",
   "language": "python",
   "name": "python3"
  },
  "language_info": {
   "codemirror_mode": {
    "name": "ipython",
    "version": 3
   },
   "file_extension": ".py",
   "mimetype": "text/x-python",
   "name": "python",
   "nbconvert_exporter": "python",
   "pygments_lexer": "ipython3",
   "version": "3.10.2"
  }
 },
 "nbformat": 4,
 "nbformat_minor": 5
}
