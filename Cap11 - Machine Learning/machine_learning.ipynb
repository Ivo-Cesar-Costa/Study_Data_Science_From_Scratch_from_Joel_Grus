{
 "cells": [
  {
   "cell_type": "code",
   "execution_count": 1,
   "id": "aec1626d-1cef-45c8-b750-296faa8f9a6a",
   "metadata": {},
   "outputs": [],
   "source": [
    "import random\n",
    "from typing import TypeVar, List, Tuple\n",
    "X = TypeVar('X')  # generic type to represent a data point"
   ]
  },
  {
   "cell_type": "code",
   "execution_count": 2,
   "id": "c4c7bf7d-b2ba-4793-b19e-b08cfcade219",
   "metadata": {},
   "outputs": [
    {
     "data": {
      "text/plain": [
       "typing.TypeVar"
      ]
     },
     "execution_count": 2,
     "metadata": {},
     "output_type": "execute_result"
    }
   ],
   "source": [
    "type(X)"
   ]
  },
  {
   "cell_type": "code",
   "execution_count": 3,
   "id": "57ff3494-447e-4e29-abac-d7ad671bb316",
   "metadata": {},
   "outputs": [],
   "source": [
    "def split_data(data: List[X], prob: float) -> Tuple[List[X], List[X]]:\n",
    "    \"\"\"Split data into fractions [prob, 1 - prob]\"\"\"\n",
    "    data = data[:]                    # Make a shallow copy\n",
    "    random.shuffle(data)              # because shuffle modifies the list.\n",
    "    cut = int(len(data) * prob)       # Use prob to find a cutoff\n",
    "    return data[:cut], data[cut:]     # and split the shuffled list there."
   ]
  },
  {
   "cell_type": "code",
   "execution_count": 4,
   "id": "df976ab9-69b4-490d-b8c5-46787107ce60",
   "metadata": {},
   "outputs": [],
   "source": [
    "data = [n for n in range(1000)]\n",
    "train, test = split_data(data, 0.75)"
   ]
  },
  {
   "cell_type": "code",
   "execution_count": 5,
   "id": "bca47108-40e5-4286-9c18-f0b935cff611",
   "metadata": {},
   "outputs": [
    {
     "data": {
      "text/plain": [
       "(750, 250)"
      ]
     },
     "execution_count": 5,
     "metadata": {},
     "output_type": "execute_result"
    }
   ],
   "source": [
    "len(train), len(test)"
   ]
  },
  {
   "cell_type": "code",
   "execution_count": 6,
   "id": "86786823-61f5-4ce2-a6c9-2c35b9658177",
   "metadata": {},
   "outputs": [],
   "source": [
    "# The proportions should be correct\n",
    "assert len(train) == 750\n",
    "assert len(test) == 250"
   ]
  },
  {
   "cell_type": "code",
   "execution_count": 7,
   "id": "2f0399a8-51a8-467a-8da8-3fef1ee952e5",
   "metadata": {},
   "outputs": [],
   "source": [
    "# And the original data should be preserved (in some order)\n",
    "assert sorted(train + test) == data"
   ]
  },
  {
   "cell_type": "code",
   "execution_count": 8,
   "id": "6633a4b8-abaf-4a4f-9701-a1c60f19ea57",
   "metadata": {},
   "outputs": [
    {
     "data": {
      "text/plain": [
       "typing.TypeVar"
      ]
     },
     "execution_count": 8,
     "metadata": {},
     "output_type": "execute_result"
    }
   ],
   "source": [
    "Y = TypeVar('Y')  # generic type to represent output variables\n",
    "type(Y)"
   ]
  },
  {
   "cell_type": "code",
   "execution_count": 9,
   "id": "f31f845a-bc65-4dcb-ab7a-147c5a85a585",
   "metadata": {},
   "outputs": [],
   "source": [
    "def train_test_split(xs: List[X],\n",
    "                     ys: List[Y],\n",
    "                     test_pct: float) -> Tuple[List[X], List[X], List[Y], List[Y]]:\n",
    "    # Generate the indices and split them.\n",
    "    idxs = [i for i in range(len(xs))]\n",
    "    train_idxs, test_idxs = split_data(idxs, 1 - test_pct)\n",
    "\n",
    "    return ([xs[i] for i in train_idxs],  # x_train\n",
    "            [xs[i] for i in test_idxs],   # x_test\n",
    "            [ys[i] for i in train_idxs],  # y_train\n",
    "            [ys[i] for i in test_idxs])   # y_test"
   ]
  },
  {
   "cell_type": "code",
   "execution_count": 10,
   "id": "2c2fbd09-fe76-49c7-b73e-177cbaa6c0fb",
   "metadata": {},
   "outputs": [],
   "source": [
    "xs = [x for x in range(1000)]  # xs are 1 ... 1000"
   ]
  },
  {
   "cell_type": "code",
   "execution_count": 11,
   "id": "9910b599-2883-4864-8fc7-283bc6587feb",
   "metadata": {},
   "outputs": [],
   "source": [
    "ys = [2 * x for x in xs]       # each y_i is twice x_i"
   ]
  },
  {
   "cell_type": "code",
   "execution_count": 12,
   "id": "dc28056e-28ed-4edb-b4a0-7903c828f26b",
   "metadata": {},
   "outputs": [
    {
     "data": {
      "text/plain": [
       "([0, 1, 2, 3], [0, 2, 4, 6])"
      ]
     },
     "execution_count": 12,
     "metadata": {},
     "output_type": "execute_result"
    }
   ],
   "source": [
    "xs[:4],ys[:4]"
   ]
  },
  {
   "cell_type": "code",
   "execution_count": 13,
   "id": "0914d83e-2774-486b-bd07-a59097fb0294",
   "metadata": {},
   "outputs": [],
   "source": [
    "x_train, x_test, y_train, y_test = train_test_split(xs, ys, 0.25)"
   ]
  },
  {
   "cell_type": "code",
   "execution_count": 14,
   "id": "9eba44c3-debd-4a43-b517-76f1602db6ab",
   "metadata": {},
   "outputs": [
    {
     "data": {
      "text/plain": [
       "(750, 250, 750, 250)"
      ]
     },
     "execution_count": 14,
     "metadata": {},
     "output_type": "execute_result"
    }
   ],
   "source": [
    "len(x_train), len(x_test), len(y_train), len(y_test)"
   ]
  },
  {
   "cell_type": "code",
   "execution_count": 15,
   "id": "d846f49d-8f32-4328-bc64-1cd9f6e68f00",
   "metadata": {},
   "outputs": [],
   "source": [
    "# Check that the proportions are correct\n",
    "assert len(x_train) == len(y_train) == 750\n",
    "assert len(x_test) == len(y_test) == 250"
   ]
  },
  {
   "cell_type": "code",
   "execution_count": 16,
   "id": "19bef398-44b1-4e12-80aa-f8101f83c822",
   "metadata": {},
   "outputs": [
    {
     "data": {
      "text/plain": [
       "([411, 524, 353, 203], [822, 1048, 706, 406])"
      ]
     },
     "execution_count": 16,
     "metadata": {},
     "output_type": "execute_result"
    }
   ],
   "source": [
    "x_train[:4], y_train[:4]"
   ]
  },
  {
   "cell_type": "code",
   "execution_count": 17,
   "id": "0b7b4197-24cc-4d00-92a9-1bd590805a41",
   "metadata": {},
   "outputs": [],
   "source": [
    "# Check that the corresponding data points are paired correctly.\n",
    "assert all(y == 2 * x for x, y in zip(x_train, y_train))\n",
    "assert all(y == 2 * x for x, y in zip(x_test, y_test))"
   ]
  },
  {
   "cell_type": "code",
   "execution_count": 18,
   "id": "dc08c9fe-6f42-4b85-9567-0beb1c5071cf",
   "metadata": {},
   "outputs": [],
   "source": [
    "def accuracy(tp: int, fp: int, fn: int, tn: int) -> float:\n",
    "    correct = tp + tn\n",
    "    total = tp + fp + fn + tn\n",
    "    return correct / total"
   ]
  },
  {
   "cell_type": "code",
   "execution_count": 19,
   "id": "73272ca8-72a5-4f14-8be3-72640df992c8",
   "metadata": {},
   "outputs": [],
   "source": [
    "assert accuracy(70, 4930, 13930, 981070) == 0.98114"
   ]
  },
  {
   "cell_type": "code",
   "execution_count": 20,
   "id": "903e0e4d-ac51-4299-8135-c8e487b412a3",
   "metadata": {},
   "outputs": [],
   "source": [
    "def precision(tp: int, fp: int, fn: int, tn: int) -> float:\n",
    "    return tp / (tp + fp)"
   ]
  },
  {
   "cell_type": "code",
   "execution_count": 21,
   "id": "4c976876-faec-4342-99a6-a6c6742ae043",
   "metadata": {},
   "outputs": [],
   "source": [
    "assert precision(70, 4930, 13930, 981070) == 0.014"
   ]
  },
  {
   "cell_type": "code",
   "execution_count": 22,
   "id": "91789813-7eca-45e4-a259-0803e91fc05d",
   "metadata": {},
   "outputs": [],
   "source": [
    "def recall(tp: int, fp: int, fn: int, tn: int) -> float:\n",
    "    return tp / (tp + fn)"
   ]
  },
  {
   "cell_type": "code",
   "execution_count": 23,
   "id": "352e6dbe-cbf4-48fc-b539-279a08f9ebe9",
   "metadata": {},
   "outputs": [],
   "source": [
    "assert recall(70, 4930, 13930, 981070) == 0.005"
   ]
  },
  {
   "cell_type": "code",
   "execution_count": 24,
   "id": "ec0d1cfa-3494-40d3-afef-a7d64993b4b4",
   "metadata": {},
   "outputs": [],
   "source": [
    "def f1_score(tp: int, fp: int, fn: int, tn: int) -> float:\n",
    "    p = precision(tp, fp, fn, tn)\n",
    "    r = recall(tp, fp, fn, tn)\n",
    "\n",
    "    return 2 * p * r / (p + r)"
   ]
  }
 ],
 "metadata": {
  "kernelspec": {
   "display_name": "Python 3 (ipykernel)",
   "language": "python",
   "name": "python3"
  },
  "language_info": {
   "codemirror_mode": {
    "name": "ipython",
    "version": 3
   },
   "file_extension": ".py",
   "mimetype": "text/x-python",
   "name": "python",
   "nbconvert_exporter": "python",
   "pygments_lexer": "ipython3",
   "version": "3.10.2"
  }
 },
 "nbformat": 4,
 "nbformat_minor": 5
}
