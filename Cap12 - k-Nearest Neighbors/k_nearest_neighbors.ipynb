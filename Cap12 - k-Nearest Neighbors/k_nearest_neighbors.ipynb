{
 "cells": [
  {
   "cell_type": "code",
   "execution_count": 1,
   "id": "6c5ce1c3-9c5b-4e17-ba7f-0f6106208da7",
   "metadata": {},
   "outputs": [],
   "source": [
    "from typing import List\n",
    "from collections import Counter"
   ]
  },
  {
   "cell_type": "code",
   "execution_count": 2,
   "id": "f786e003-f23a-4ebb-ac76-766ec75576f2",
   "metadata": {},
   "outputs": [],
   "source": [
    "def raw_majority_vote(labels: List[str]) -> str:\n",
    "    votes = Counter(labels)\n",
    "    winner, _ = votes.most_common(1)[0]\n",
    "    return winner"
   ]
  },
  {
   "cell_type": "code",
   "execution_count": 3,
   "id": "9fbb5a5f-cf3d-46d4-98f7-04dc72614f63",
   "metadata": {},
   "outputs": [],
   "source": [
    "assert raw_majority_vote(['a', 'b', 'c', 'b']) == 'b'"
   ]
  },
  {
   "cell_type": "code",
   "execution_count": 4,
   "id": "7818c2cb-40ef-413c-8f89-06fbb7c3c392",
   "metadata": {},
   "outputs": [],
   "source": [
    "def majority_vote(labels: List[str]) -> str:\n",
    "    \"\"\"Assumes that labels are ordered from nearest to farthest.\"\"\"\n",
    "    vote_counts = Counter(labels)\n",
    "    winner, winner_count = vote_counts.most_common(1)[0]\n",
    "    num_winners = len([count\n",
    "                       for count in vote_counts.values()\n",
    "                       if count == winner_count])\n",
    "\n",
    "    if num_winners == 1:\n",
    "        return winner                     # unique winner, so return it\n",
    "    else:\n",
    "        return majority_vote(labels[:-1]) # try again without the farthest"
   ]
  },
  {
   "cell_type": "code",
   "execution_count": 5,
   "id": "29ab340d-6bf9-4714-ab79-a5cd1b98e6c9",
   "metadata": {},
   "outputs": [],
   "source": [
    "# Tie, so look at first 4, then 'b'\n",
    "assert majority_vote(['a', 'b', 'c', 'b', 'a']) == 'b'"
   ]
  },
  {
   "cell_type": "code",
   "execution_count": 6,
   "id": "2a3bc0d9-90a7-4b29-9d73-076b6791fa31",
   "metadata": {},
   "outputs": [
    {
     "name": "stdout",
     "output_type": "stream",
     "text": [
      "importing Jupyter notebook from linear_algebra.ipynb\n"
     ]
    }
   ],
   "source": [
    "from typing import NamedTuple\n",
    "import import_ipynb\n",
    "from linear_algebra import Vector, distance"
   ]
  },
  {
   "cell_type": "code",
   "execution_count": 7,
   "id": "f2c46828-5703-4c30-9850-588b4b6ec95e",
   "metadata": {},
   "outputs": [],
   "source": [
    "class LabeledPoint(NamedTuple):\n",
    "    point: Vector\n",
    "    label: str"
   ]
  },
  {
   "cell_type": "code",
   "execution_count": 8,
   "id": "6dda1261-681e-4138-be61-f23a420de6b9",
   "metadata": {},
   "outputs": [],
   "source": [
    "def knn_classify(k: int,\n",
    "                 labeled_points: List[LabeledPoint],\n",
    "                 new_point: Vector) -> str:\n",
    "\n",
    "    # Order the labeled points from nearest to farthest.\n",
    "    by_distance = sorted(labeled_points,\n",
    "                         key=lambda lp: distance(lp.point, new_point))\n",
    "\n",
    "    # Find the labels for the k closest\n",
    "    k_nearest_labels = [lp.label for lp in by_distance[:k]]\n",
    "\n",
    "    # and let them vote.\n",
    "    return majority_vote(k_nearest_labels)"
   ]
  },
  {
   "cell_type": "code",
   "execution_count": 9,
   "id": "3428ad86-3af0-419b-9c2c-87e92aaf8a26",
   "metadata": {},
   "outputs": [],
   "source": [
    "import random"
   ]
  },
  {
   "cell_type": "code",
   "execution_count": 10,
   "id": "4eaeb62b-3277-4bbd-93cb-34116a4e7abb",
   "metadata": {},
   "outputs": [],
   "source": [
    "def random_point(dim: int) -> Vector:\n",
    "    return [random.random() for _ in range(dim)]"
   ]
  },
  {
   "cell_type": "code",
   "execution_count": 11,
   "id": "8879bdf3-0c87-48c0-a4c7-80b7a7f9ae38",
   "metadata": {},
   "outputs": [],
   "source": [
    "def random_distances(dim: int, num_pairs: int) -> List[float]:\n",
    "    return [distance(random_point(dim), random_point(dim))\n",
    "            for _ in range(num_pairs)]"
   ]
  },
  {
   "cell_type": "code",
   "execution_count": 12,
   "id": "b4e859bf-b394-4177-bf4d-bde65951ffc4",
   "metadata": {},
   "outputs": [],
   "source": [
    "# def main():\n",
    "#     from typing import Dict\n",
    "#     import csv\n",
    "#     from collections import defaultdict\n",
    "    \n",
    "#     def parse_iris_row(row: List[str]) -> LabeledPoint:\n",
    "#         \"\"\"\n",
    "#         sepal_length, sepal_width, petal_length, petal_width, class\n",
    "#         \"\"\"\n",
    "#         measurements = [float(value) for value in row[:-1]]\n",
    "#         # class is e.g. \"Iris-virginica\"; we just want \"virginica\"\n",
    "#         label = row[-1].split(\"-\")[-1]\n",
    "    \n",
    "#         return LabeledPoint(measurements, label)\n",
    "    \n",
    "#     with open('iris.csv') as f:\n",
    "#         reader = csv.reader(f)\n",
    "#         iris_data = [parse_iris_row(row) for row in reader]\n",
    "    \n",
    "#     # We'll also group just the points by species/label so we can plot them.\n",
    "#     points_by_species: Dict[str, List[Vector]] = defaultdict(list)\n",
    "#     for iris in iris_data:\n",
    "#         points_by_species[iris.label].append(iris.point)\n",
    "    \n",
    "#     from matplotlib import pyplot as plt\n",
    "#     metrics = ['sepal length', 'sepal width', 'petal length', 'petal width']\n",
    "#     pairs = [(i, j) for i in range(4) for j in range(4) if i < j]\n",
    "#     marks = ['+', '.', 'x']  # we have 3 classes, so 3 markers\n",
    "    \n",
    "#     fig, ax = plt.subplots(2, 3)\n",
    "    \n",
    "#     for row in range(2):\n",
    "#         for col in range(3):\n",
    "#             i, j = pairs[3 * row + col]\n",
    "#             ax[row][col].set_title(f\"{metrics[i]} vs {metrics[j]}\", fontsize=8)\n",
    "#             ax[row][col].set_xticks([])\n",
    "#             ax[row][col].set_yticks([])\n",
    "    \n",
    "#             for mark, (species, points) in zip(marks, points_by_species.items()):\n",
    "#                 xs = [point[i] for point in points]\n",
    "#                 ys = [point[j] for point in points]\n",
    "#                 ax[row][col].scatter(xs, ys, marker=mark, label=species)\n",
    "    \n",
    "#     ax[-1][-1].legend(loc='lower right', prop={'size': 6})\n",
    "#     # plt.show()\n",
    "    \n",
    "    \n",
    "    \n",
    "#     plt.savefig('images/iris_scatter.png')\n",
    "#     plt.gca().clear()\n",
    "    \n",
    "#     import random\n",
    "#     from machine_learning import split_data\n",
    "    \n",
    "#     random.seed(12)\n",
    "#     iris_train, iris_test = split_data(iris_data, 0.70)\n",
    "#     assert len(iris_train) == 0.7 * 150\n",
    "#     assert len(iris_test) == 0.3 * 150\n",
    "    \n",
    "#     from typing import Tuple\n",
    "    \n",
    "#     # track how many times we see (predicted, actual)\n",
    "#     confusion_matrix: Dict[Tuple[str, str], int] = defaultdict(int)\n",
    "#     num_correct = 0\n",
    "    \n",
    "#     for iris in iris_test:\n",
    "#         predicted = knn_classify(5, iris_train, iris.point)\n",
    "#         actual = iris.label\n",
    "    \n",
    "#         if predicted == actual:\n",
    "#             num_correct += 1\n",
    "    \n",
    "#         confusion_matrix[(predicted, actual)] += 1\n",
    "    \n",
    "#     pct_correct = num_correct / len(iris_test)\n",
    "#     print(pct_correct, confusion_matrix)\n",
    "    \n",
    "#     import tqdm\n",
    "#     dimensions = range(1, 101)\n",
    "    \n",
    "#     avg_distances = []\n",
    "#     min_distances = []\n",
    "    \n",
    "#     random.seed(0)\n",
    "#     for dim in tqdm.tqdm(dimensions, desc=\"Curse of Dimensionality\"):\n",
    "#         distances = random_distances(dim, 10000)      # 10,000 random pairs\n",
    "#         avg_distances.append(sum(distances) / 10000)  # track the average\n",
    "#         min_distances.append(min(distances))          # track the minimum\n",
    "    \n",
    "#     min_avg_ratio = [min_dist / avg_dist\n",
    "#                      for min_dist, avg_dist in zip(min_distances, avg_distances)]\n",
    "    \n",
    "# if __name__ == \"__main__\": main()"
   ]
  },
  {
   "cell_type": "markdown",
   "id": "3d1d14db-1678-4a1f-ad35-11af8daab835",
   "metadata": {},
   "source": [
    "## break of the function main above"
   ]
  },
  {
   "cell_type": "code",
   "execution_count": 13,
   "id": "c0b53728-7edf-415f-9d6a-6bf20829924b",
   "metadata": {},
   "outputs": [],
   "source": [
    "from typing import Dict\n",
    "import csv\n",
    "from collections import defaultdict"
   ]
  },
  {
   "cell_type": "code",
   "execution_count": 14,
   "id": "e5231e58-e577-4708-a6c8-93dcce93a8b0",
   "metadata": {},
   "outputs": [],
   "source": [
    "def parse_iris_row(row: List[str]) -> LabeledPoint:\n",
    "        \"\"\"\n",
    "        sepal_length, sepal_width, petal_length, petal_width, class\n",
    "        \"\"\"\n",
    "        measurements = [float(value) for value in row[:-1]]\n",
    "        # class is e.g. \"Iris-virginica\"; we just want \"virginica\"\n",
    "        label = row[-1].split(\"-\")[-1]\n",
    "    \n",
    "        return LabeledPoint(measurements, label)"
   ]
  },
  {
   "cell_type": "code",
   "execution_count": 15,
   "id": "898db45c-3571-4fa9-b07c-2bceb1849fef",
   "metadata": {},
   "outputs": [],
   "source": [
    "with open('iris.csv') as f:\n",
    "        reader = csv.reader(f)\n",
    "        iris_data = [parse_iris_row(row) for row in reader]"
   ]
  },
  {
   "cell_type": "code",
   "execution_count": 16,
   "id": "18689a8e-c303-4ed7-981d-9993466a5d78",
   "metadata": {},
   "outputs": [
    {
     "data": {
      "text/plain": [
       "[LabeledPoint(point=[], label='5.1,3.5,1.4,.2,\"Setosa\"'),\n",
       " LabeledPoint(point=[], label='4.9,3,1.4,.2,\"Setosa\"'),\n",
       " LabeledPoint(point=[], label='4.7,3.2,1.3,.2,\"Setosa\"')]"
      ]
     },
     "execution_count": 16,
     "metadata": {},
     "output_type": "execute_result"
    }
   ],
   "source": [
    "iris_data[:3]"
   ]
  },
  {
   "cell_type": "code",
   "execution_count": 17,
   "id": "4101e0c3-4aac-4691-918c-ec60774d6395",
   "metadata": {},
   "outputs": [],
   "source": [
    "# We'll also group just the points by species/label so we can plot them.\n",
    "points_by_species: Dict[str, List[Vector]] = defaultdict(list)\n",
    "for iris in iris_data:\n",
    "    points_by_species[iris.label].append(iris.point)"
   ]
  },
  {
   "cell_type": "code",
   "execution_count": 18,
   "id": "6241f21f-a868-4ee1-b8e5-ab8924f5afee",
   "metadata": {},
   "outputs": [
    {
     "data": {
      "text/plain": [
       "[]"
      ]
     },
     "execution_count": 18,
     "metadata": {},
     "output_type": "execute_result"
    }
   ],
   "source": [
    "iris.point"
   ]
  },
  {
   "cell_type": "code",
   "execution_count": 19,
   "id": "f2221353-d458-4bda-aa5e-569bc73b6410",
   "metadata": {},
   "outputs": [],
   "source": [
    "from matplotlib import pyplot as plt"
   ]
  },
  {
   "cell_type": "code",
   "execution_count": 20,
   "id": "b3c53ac4-e4a0-4b51-a62c-b5267f971ed6",
   "metadata": {},
   "outputs": [],
   "source": [
    "metrics = ['sepal length', 'sepal width', 'petal length', 'petal width']"
   ]
  },
  {
   "cell_type": "code",
   "execution_count": 21,
   "id": "430d1d0f-5f8d-4917-8052-d44c029e93f2",
   "metadata": {},
   "outputs": [
    {
     "data": {
      "text/plain": [
       "[(0, 1), (0, 2), (0, 3), (1, 2), (1, 3), (2, 3)]"
      ]
     },
     "execution_count": 21,
     "metadata": {},
     "output_type": "execute_result"
    }
   ],
   "source": [
    "pairs = [(i, j) for i in range(4) for j in range(4) if i < j]\n",
    "pairs"
   ]
  },
  {
   "cell_type": "code",
   "execution_count": 22,
   "id": "5e82b7e7-03b3-42f8-b5dd-1bb94be7bea0",
   "metadata": {},
   "outputs": [
    {
     "data": {
      "text/plain": [
       "['+', '.', 'x']"
      ]
     },
     "execution_count": 22,
     "metadata": {},
     "output_type": "execute_result"
    }
   ],
   "source": [
    "marks = ['+', '.', 'x']  # we have 3 classes, so 3 markers\n",
    "marks"
   ]
  },
  {
   "cell_type": "code",
   "execution_count": 23,
   "id": "b9678803-6f9b-49ff-90fb-da5a7aa8cd46",
   "metadata": {},
   "outputs": [
    {
     "data": {
      "image/png": "[encoded data removed]",
      "text/plain": [
       "<Figure size 432x288 with 6 Axes>"
      ]
     },
     "metadata": {
      "needs_background": "light"
     },
     "output_type": "display_data"
    }
   ],
   "source": [
    "fig, ax = plt.subplots(2, 3)"
   ]
  },
  {
   "cell_type": "code",
   "execution_count": 24,
   "id": "2e3f6133-24d2-4952-84dd-d5bf94cc8630",
   "metadata": {},
   "outputs": [],
   "source": [
    "# for row in range(2):\n",
    "#     for col in range(3):\n",
    "#         i, j = pairs[3 * row + col]\n",
    "#         ax[row][col].set_title(f\"{metrics[i]} vs {metrics[j]}\", fontsize=8)\n",
    "#         ax[row][col].set_xticks([])\n",
    "#         ax[row][col].set_yticks([])\n",
    "\n",
    "#         for mark, (species, points) in zip(marks, points_by_species.items()):\n",
    "#             xs = [point[i] for point in points]\n",
    "#             ys = [point[j] for point in points]\n",
    "#             ax[row][col].scatter(xs, ys, marker=mark, label=species)\n",
    "\n",
    "# ax[-1][-1].legend(loc='lower right', prop={'size': 6})\n",
    "# plt.show()"
   ]
  },
  {
   "cell_type": "code",
   "execution_count": 25,
   "id": "a4fbd51d-3db8-4cb4-9c1a-e5188933f1f5",
   "metadata": {},
   "outputs": [
    {
     "name": "stderr",
     "output_type": "stream",
     "text": [
      "No artists with labels found to put in legend.  Note that artists whose label start with an underscore are ignored when legend() is called with no argument.\n"
     ]
    },
    {
     "data": {
      "text/plain": [
       "<matplotlib.legend.Legend at 0x235517083d0>"
      ]
     },
     "execution_count": 25,
     "metadata": {},
     "output_type": "execute_result"
    }
   ],
   "source": [
    "ax[-1][-1].legend(loc='lower right', prop={'size': 6})\n",
    "# plt.show()"
   ]
  },
  {
   "cell_type": "code",
   "execution_count": 26,
   "id": "88535f38-f27a-43d1-8cc0-1ac979bfd235",
   "metadata": {},
   "outputs": [],
   "source": [
    "# plt.savefig('im/iris_scatter.png')\n",
    "# plt.gca().clear()"
   ]
  },
  {
   "cell_type": "code",
   "execution_count": 27,
   "id": "56bdd3fa-085f-4ba3-9385-6d82f0e7461a",
   "metadata": {},
   "outputs": [
    {
     "name": "stdout",
     "output_type": "stream",
     "text": [
      "importing Jupyter notebook from machine_learning.ipynb\n"
     ]
    }
   ],
   "source": [
    "import random\n",
    "from machine_learning import split_data"
   ]
  },
  {
   "cell_type": "code",
   "execution_count": 28,
   "id": "5900592e-4cbd-4661-8ac0-9cd5e6b99638",
   "metadata": {},
   "outputs": [
    {
     "data": {
      "text/plain": [
       "(105, 45)"
      ]
     },
     "execution_count": 28,
     "metadata": {},
     "output_type": "execute_result"
    }
   ],
   "source": [
    "random.seed(12)\n",
    "iris_train, iris_test = split_data(iris_data, 0.70)\n",
    "len(iris_train), len(iris_test)"
   ]
  },
  {
   "cell_type": "code",
   "execution_count": 29,
   "id": "616efa74-5a1a-4b10-a03c-24eb38e7952c",
   "metadata": {},
   "outputs": [
    {
     "data": {
      "text/plain": [
       "150"
      ]
     },
     "execution_count": 29,
     "metadata": {},
     "output_type": "execute_result"
    }
   ],
   "source": [
    "len(iris_data)"
   ]
  },
  {
   "cell_type": "code",
   "execution_count": 30,
   "id": "c3f406b7-3a3b-48f8-ae4d-0b05c15648d5",
   "metadata": {},
   "outputs": [],
   "source": [
    "assert len(iris_train) == 0.7 * 150"
   ]
  },
  {
   "cell_type": "code",
   "execution_count": 31,
   "id": "6e32a4a0-d2e1-4b21-b975-facffd9834a7",
   "metadata": {},
   "outputs": [],
   "source": [
    "assert len(iris_test) == 0.3 * 150"
   ]
  },
  {
   "cell_type": "code",
   "execution_count": 32,
   "id": "c20216f0-f0c2-4c54-af1f-e5ed8e34600c",
   "metadata": {},
   "outputs": [],
   "source": [
    "from typing import Tuple"
   ]
  },
  {
   "cell_type": "code",
   "execution_count": 33,
   "id": "2f251c97-f587-48b8-8aac-008553711988",
   "metadata": {},
   "outputs": [],
   "source": [
    "# track how many times we see (predicted, actual)\n",
    "confusion_matrix: Dict[Tuple[str, str], int] = defaultdict(int)\n",
    "num_correct = 0"
   ]
  },
  {
   "cell_type": "code",
   "execution_count": 34,
   "id": "ca911ae6-375c-4b1b-8329-9b5479c7163e",
   "metadata": {},
   "outputs": [
    {
     "data": {
      "text/plain": [
       "(defaultdict(int, {}), 0)"
      ]
     },
     "execution_count": 34,
     "metadata": {},
     "output_type": "execute_result"
    }
   ],
   "source": [
    "confusion_matrix, num_correct"
   ]
  },
  {
   "cell_type": "code",
   "execution_count": 35,
   "id": "8d1814a6-f5e3-4bb2-8d0b-920d0fbf3d8a",
   "metadata": {},
   "outputs": [],
   "source": [
    "for iris in iris_test:\n",
    "    predicted = knn_classify(5, iris_train, iris.point)\n",
    "    actual = iris.label\n",
    "    \n",
    "    if predicted == actual:\n",
    "        num_correct += 1\n",
    "    \n",
    "    confusion_matrix[(predicted, actual)] += 1"
   ]
  },
  {
   "cell_type": "code",
   "execution_count": 36,
   "id": "9e1faa21-19ca-4d79-a630-9fd853320e57",
   "metadata": {},
   "outputs": [
    {
     "name": "stdout",
     "output_type": "stream",
     "text": [
      "0.0 defaultdict(<class 'int'>, {('4.9,3.1,1.5,.1,\"Setosa\"', '5,3.5,1.3,.3,\"Setosa\"'): 1, ('4.9,3.1,1.5,.1,\"Setosa\"', '5.6,2.5,3.9,1.1,\"Versicolor\"'): 1, ('4.9,3.1,1.5,.1,\"Setosa\"', '5.1,3.5,1.4,.3,\"Setosa\"'): 1, ('4.9,3.1,1.5,.1,\"Setosa\"', '6.5,3,5.2,2,\"Virginica\"'): 1, ('4.9,3.1,1.5,.1,\"Setosa\"', '6.5,3,5.5,1.8,\"Virginica\"'): 1, ('4.9,3.1,1.5,.1,\"Setosa\"', '5.8,4,1.2,.2,\"Setosa\"'): 1, ('4.9,3.1,1.5,.1,\"Setosa\"', '6.3,3.3,4.7,1.6,\"Versicolor\"'): 1, ('4.9,3.1,1.5,.1,\"Setosa\"', '6.5,2.8,4.6,1.5,\"Versicolor\"'): 1, ('4.9,3.1,1.5,.1,\"Setosa\"', '7.7,2.8,6.7,2,\"Virginica\"'): 1, ('4.9,3.1,1.5,.1,\"Setosa\"', '5.2,3.4,1.4,.2,\"Setosa\"'): 1, ('4.9,3.1,1.5,.1,\"Setosa\"', '6.7,3.1,4.4,1.4,\"Versicolor\"'): 1, ('4.9,3.1,1.5,.1,\"Setosa\"', '5.4,3,4.5,1.5,\"Versicolor\"'): 1, ('4.9,3.1,1.5,.1,\"Setosa\"', '6.9,3.2,5.7,2.3,\"Virginica\"'): 1, ('4.9,3.1,1.5,.1,\"Setosa\"', '6.5,3,5.8,2.2,\"Virginica\"'): 1, ('4.9,3.1,1.5,.1,\"Setosa\"', '5,3.4,1.5,.2,\"Setosa\"'): 1, ('4.9,3.1,1.5,.1,\"Setosa\"', '6.9,3.1,5.4,2.1,\"Virginica\"'): 1, ('4.9,3.1,1.5,.1,\"Setosa\"', '6.8,3.2,5.9,2.3,\"Virginica\"'): 1, ('4.9,3.1,1.5,.1,\"Setosa\"', '4.8,3.4,1.6,.2,\"Setosa\"'): 1, ('4.9,3.1,1.5,.1,\"Setosa\"', '7.3,2.9,6.3,1.8,\"Virginica\"'): 1, ('4.9,3.1,1.5,.1,\"Setosa\"', '7.1,3,5.9,2.1,\"Virginica\"'): 1, ('4.9,3.1,1.5,.1,\"Setosa\"', '7.2,3,5.8,1.6,\"Virginica\"'): 1, ('4.9,3.1,1.5,.1,\"Setosa\"', '6.3,2.3,4.4,1.3,\"Versicolor\"'): 1, ('4.9,3.1,1.5,.1,\"Setosa\"', '6.4,2.8,5.6,2.2,\"Virginica\"'): 1, ('4.9,3.1,1.5,.1,\"Setosa\"', '5.1,3.8,1.5,.3,\"Setosa\"'): 1, ('4.9,3.1,1.5,.1,\"Setosa\"', '6.4,3.2,4.5,1.5,\"Versicolor\"'): 1, ('4.9,3.1,1.5,.1,\"Setosa\"', '5.7,4.4,1.5,.4,\"Setosa\"'): 1, ('4.9,3.1,1.5,.1,\"Setosa\"', '5.5,2.3,4,1.3,\"Versicolor\"'): 1, ('4.9,3.1,1.5,.1,\"Setosa\"', '6.7,3.1,4.7,1.5,\"Versicolor\"'): 1, ('4.9,3.1,1.5,.1,\"Setosa\"', '4.5,2.3,1.3,.3,\"Setosa\"'): 1, ('4.9,3.1,1.5,.1,\"Setosa\"', '5.6,2.7,4.2,1.3,\"Versicolor\"'): 1, ('4.9,3.1,1.5,.1,\"Setosa\"', '6.8,3,5.5,2.1,\"Virginica\"'): 1, ('4.9,3.1,1.5,.1,\"Setosa\"', '4.9,3.6,1.4,.1,\"Setosa\"'): 1, ('4.9,3.1,1.5,.1,\"Setosa\"', '5.1,3.5,1.4,.2,\"Setosa\"'): 1, ('4.9,3.1,1.5,.1,\"Setosa\"', '6.6,2.9,4.6,1.3,\"Versicolor\"'): 1, ('4.9,3.1,1.5,.1,\"Setosa\"', '7.7,3.8,6.7,2.2,\"Virginica\"'): 1, ('4.9,3.1,1.5,.1,\"Setosa\"', '5.9,3.2,4.8,1.8,\"Versicolor\"'): 1, ('4.9,3.1,1.5,.1,\"Setosa\"', '6.3,2.7,4.9,1.8,\"Virginica\"'): 1, ('4.9,3.1,1.5,.1,\"Setosa\"', '5.7,3,4.2,1.2,\"Versicolor\"'): 1, ('4.9,3.1,1.5,.1,\"Setosa\"', '4.7,3.2,1.3,.2,\"Setosa\"'): 1, ('4.9,3.1,1.5,.1,\"Setosa\"', '6.2,2.9,4.3,1.3,\"Versicolor\"'): 1, ('4.9,3.1,1.5,.1,\"Setosa\"', '5.5,3.5,1.3,.2,\"Setosa\"'): 1, ('4.9,3.1,1.5,.1,\"Setosa\"', '5.5,2.5,4,1.3,\"Versicolor\"'): 1, ('4.9,3.1,1.5,.1,\"Setosa\"', '7.7,3,6.1,2.3,\"Virginica\"'): 1, ('4.9,3.1,1.5,.1,\"Setosa\"', '6.2,2.2,4.5,1.5,\"Versicolor\"'): 1, ('4.9,3.1,1.5,.1,\"Setosa\"', '5.6,2.8,4.9,2,\"Virginica\"'): 1})\n"
     ]
    }
   ],
   "source": [
    "pct_correct = num_correct / len(iris_test)\n",
    "print(pct_correct, confusion_matrix)"
   ]
  },
  {
   "cell_type": "code",
   "execution_count": 37,
   "id": "80aa6f02-aa01-488d-a3de-ebfa37344b56",
   "metadata": {},
   "outputs": [],
   "source": [
    "import tqdm\n",
    "dimensions = range(1, 101)"
   ]
  },
  {
   "cell_type": "code",
   "execution_count": 38,
   "id": "94b8588d-ba41-47f7-ac8d-6088528372f5",
   "metadata": {},
   "outputs": [],
   "source": [
    "avg_distances = []\n",
    "min_distances = []\n",
    "random.seed(0)"
   ]
  },
  {
   "cell_type": "code",
   "execution_count": 39,
   "id": "44d351f5-4a65-416a-b0da-744da716a889",
   "metadata": {},
   "outputs": [
    {
     "name": "stderr",
     "output_type": "stream",
     "text": [
      "Curse of Dimensionality: 100%|███████████████████████████████████████████████████████| 100/100 [00:14<00:00,  6.84it/s]\n"
     ]
    }
   ],
   "source": [
    "for dim in tqdm.tqdm(dimensions, desc=\"Curse of Dimensionality\"):\n",
    "    distances = random_distances(dim, 10000)      # 10,000 random pairs\n",
    "    avg_distances.append(sum(distances) / 10000)  # track the average\n",
    "    min_distances.append(min(distances))          # track the minimum"
   ]
  },
  {
   "cell_type": "code",
   "execution_count": 40,
   "id": "23041bbc-2a61-442e-b490-c89df84ec4b0",
   "metadata": {},
   "outputs": [],
   "source": [
    "# def random_point(dim: int) -> Vector:\n",
    "#     return [random.random() for _ in range(dim)]"
   ]
  },
  {
   "cell_type": "code",
   "execution_count": 41,
   "id": "8d65400b-7dcb-4f37-8174-c253395bf0e1",
   "metadata": {},
   "outputs": [],
   "source": [
    "# def random_distances(dim: int, num_pairs: int) -> List[float]:\n",
    "#     return [distance(random_point(dim), random_point(dim))\n",
    "#             for _ in range(num_pairs)]"
   ]
  },
  {
   "cell_type": "code",
   "execution_count": 42,
   "id": "1dbc9f1c-9a7b-4178-ab7d-882feff06a47",
   "metadata": {},
   "outputs": [
    {
     "name": "stdout",
     "output_type": "stream",
     "text": [
      "10000\n"
     ]
    },
    {
     "data": {
      "text/plain": [
       "[4.207411108403404, 3.9826674600725642, 4.043086444733868]"
      ]
     },
     "execution_count": 42,
     "metadata": {},
     "output_type": "execute_result"
    }
   ],
   "source": [
    "print(len(distances))\n",
    "distances[:3]"
   ]
  },
  {
   "cell_type": "code",
   "execution_count": 43,
   "id": "b947dc7b-6234-437b-b3cd-ab3c169581ca",
   "metadata": {},
   "outputs": [
    {
     "name": "stdout",
     "output_type": "stream",
     "text": [
      "100\n"
     ]
    },
    {
     "data": {
      "text/plain": [
       "[0.3310009902894413, 0.5239565117360907, 0.6627400615351537]"
      ]
     },
     "execution_count": 43,
     "metadata": {},
     "output_type": "execute_result"
    }
   ],
   "source": [
    "print(len(avg_distances))\n",
    "avg_distances[:3]"
   ]
  },
  {
   "cell_type": "code",
   "execution_count": 44,
   "id": "29221f3b-8f12-4511-8a4c-8317e8cdf539",
   "metadata": {},
   "outputs": [
    {
     "name": "stdout",
     "output_type": "stream",
     "text": [
      "100\n"
     ]
    },
    {
     "data": {
      "text/plain": [
       "[7.947421226228712e-06, 0.006484482319022018, 0.03888081104350126]"
      ]
     },
     "execution_count": 44,
     "metadata": {},
     "output_type": "execute_result"
    }
   ],
   "source": [
    "print(len(min_distances))\n",
    "min_distances[:3]"
   ]
  },
  {
   "cell_type": "code",
   "execution_count": 45,
   "id": "5bac5c60-bff0-4c6e-ba5c-0ef85a5ae4c2",
   "metadata": {},
   "outputs": [
    {
     "data": {
      "text/plain": [
       "[2.4010264196729895e-05, 0.012375993376885747, 0.05866675835687187]"
      ]
     },
     "execution_count": 45,
     "metadata": {},
     "output_type": "execute_result"
    }
   ],
   "source": [
    "min_avg_ratio = [min_dist / avg_dist\n",
    "                     for min_dist, avg_dist in zip(min_distances, avg_distances)]\n",
    "min_avg_ratio[:3]"
   ]
  },
  {
   "cell_type": "code",
   "execution_count": 46,
   "id": "e394f7c2-30b9-4e33-a937-fe15591ce204",
   "metadata": {},
   "outputs": [],
   "source": [
    "#if __name__ == \"__main__\": main()"
   ]
  }
 ],
 "metadata": {
  "kernelspec": {
   "display_name": "Python 3 (ipykernel)",
   "language": "python",
   "name": "python3"
  },
  "language_info": {
   "codemirror_mode": {
    "name": "ipython",
    "version": 3
   },
   "file_extension": ".py",
   "mimetype": "text/x-python",
   "name": "python",
   "nbconvert_exporter": "python",
   "pygments_lexer": "ipython3",
   "version": "3.10.2"
  }
 },
 "nbformat": 4,
 "nbformat_minor": 5
}
