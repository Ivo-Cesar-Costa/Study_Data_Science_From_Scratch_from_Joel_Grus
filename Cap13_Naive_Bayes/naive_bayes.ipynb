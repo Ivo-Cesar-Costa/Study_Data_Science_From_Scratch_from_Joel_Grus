{
 "cells": [
  {
   "cell_type": "code",
   "execution_count": 1,
   "id": "c447853a-5559-40a6-9893-b7b116d8ed73",
   "metadata": {},
   "outputs": [],
   "source": [
    "from typing import Set\n",
    "import re"
   ]
  },
  {
   "cell_type": "code",
   "execution_count": 2,
   "id": "41a89f87-95d6-4b91-8f1c-3c6d5bbb9e3e",
   "metadata": {},
   "outputs": [],
   "source": [
    "def tokenize(text: str) -> Set[str]:\n",
    "    text = text.lower()                         # Convert to lowercase,\n",
    "    all_words = re.findall(\"[a-z0-9']+\", text)  # extract the words, and\n",
    "    return set(all_words)                       # remove duplicates."
   ]
  },
  {
   "cell_type": "code",
   "execution_count": 3,
   "id": "c5d9d415-b845-44aa-897e-993fac7d0ce6",
   "metadata": {},
   "outputs": [],
   "source": [
    "assert tokenize(\"Data Science is science\") == {\"data\", \"science\", \"is\"}"
   ]
  },
  {
   "cell_type": "code",
   "execution_count": 4,
   "id": "a7a191bb-cf16-47fb-8cc5-6b0c63c79486",
   "metadata": {},
   "outputs": [],
   "source": [
    "from typing import NamedTuple"
   ]
  },
  {
   "cell_type": "code",
   "execution_count": 5,
   "id": "111cc398-b62f-4069-89bd-492a0fdcfc04",
   "metadata": {},
   "outputs": [],
   "source": [
    "class Message(NamedTuple):\n",
    "    text: str\n",
    "    is_spam: bool"
   ]
  },
  {
   "cell_type": "code",
   "execution_count": 6,
   "id": "026ef1f7-8b0a-4b85-9678-09035c4b86c6",
   "metadata": {},
   "outputs": [],
   "source": [
    "from typing import List, Tuple, Dict, Iterable\n",
    "import math\n",
    "from collections import defaultdict"
   ]
  },
  {
   "cell_type": "code",
   "execution_count": 7,
   "id": "39723dd9-1d15-4324-9cae-fc75ab68f5aa",
   "metadata": {},
   "outputs": [],
   "source": [
    "class NaiveBayesClassifier:\n",
    "    def __init__(self, k: float = 0.5) -> None:\n",
    "        self.k = k  # smoothing factor\n",
    "\n",
    "        self.tokens: Set[str] = set()\n",
    "        self.token_spam_counts: Dict[str, int] = defaultdict(int)\n",
    "        self.token_ham_counts: Dict[str, int] = defaultdict(int)\n",
    "        self.spam_messages = self.ham_messages = 0\n",
    "\n",
    "    def train(self, messages: Iterable[Message]) -> None:\n",
    "        for message in messages:\n",
    "            # Increment message counts\n",
    "            if message.is_spam:\n",
    "                self.spam_messages += 1\n",
    "            else:\n",
    "                self.ham_messages += 1\n",
    "\n",
    "            # Increment word counts\n",
    "            for token in tokenize(message.text):\n",
    "                self.tokens.add(token)\n",
    "                if message.is_spam:\n",
    "                    self.token_spam_counts[token] += 1\n",
    "                else:\n",
    "                    self.token_ham_counts[token] += 1\n",
    "\n",
    "    def _probabilities(self, token: str) -> Tuple[float, float]:\n",
    "        \"\"\"returns P(token | spam) and P(token | not spam)\"\"\"\n",
    "        spam = self.token_spam_counts[token]\n",
    "        ham = self.token_ham_counts[token]\n",
    "\n",
    "        p_token_spam = (spam + self.k) / (self.spam_messages + 2 * self.k)\n",
    "        p_token_ham = (ham + self.k) / (self.ham_messages + 2 * self.k)\n",
    "\n",
    "        return p_token_spam, p_token_ham\n",
    "\n",
    "    def predict(self, text: str) -> float:\n",
    "        text_tokens = tokenize(text)\n",
    "        log_prob_if_spam = log_prob_if_ham = 0.0\n",
    "\n",
    "        # Iterate through each word in our vocabulary.\n",
    "        for token in self.tokens:\n",
    "            prob_if_spam, prob_if_ham = self._probabilities(token)\n",
    "\n",
    "            # If *token* appears in the message,\n",
    "            # add the log probability of seeing it;\n",
    "            if token in text_tokens:\n",
    "                log_prob_if_spam += math.log(prob_if_spam)\n",
    "                log_prob_if_ham += math.log(prob_if_ham)\n",
    "\n",
    "            # otherwise add the log probability of _not_ seeing it\n",
    "            # which is log(1 - probability of seeing it)\n",
    "            else:\n",
    "                log_prob_if_spam += math.log(1.0 - prob_if_spam)\n",
    "                log_prob_if_ham += math.log(1.0 - prob_if_ham)\n",
    "\n",
    "        prob_if_spam = math.exp(log_prob_if_spam)\n",
    "        prob_if_ham = math.exp(log_prob_if_ham)\n",
    "        return prob_if_spam / (prob_if_spam + prob_if_ham)"
   ]
  },
  {
   "cell_type": "code",
   "execution_count": 8,
   "id": "e460ef0e-b73a-4fbe-ad13-c8af17468b8d",
   "metadata": {},
   "outputs": [],
   "source": [
    "messages = [Message(\"spam rules\", is_spam=True),\n",
    "            Message(\"ham rules\", is_spam=False),\n",
    "            Message(\"hello ham\", is_spam=False)]\n",
    "\n",
    "model = NaiveBayesClassifier(k=0.5)\n",
    "model.train(messages)"
   ]
  },
  {
   "cell_type": "code",
   "execution_count": 9,
   "id": "2ec2635f-ede0-41af-b3b4-acbaf06cde9c",
   "metadata": {},
   "outputs": [],
   "source": [
    "assert model.tokens == {\"spam\", \"ham\", \"rules\", \"hello\"}"
   ]
  },
  {
   "cell_type": "code",
   "execution_count": 10,
   "id": "ab5820bc-e8f1-4f62-b4dc-5f41259821cc",
   "metadata": {},
   "outputs": [],
   "source": [
    "assert model.spam_messages == 1"
   ]
  },
  {
   "cell_type": "code",
   "execution_count": 11,
   "id": "d2686f09-19a2-4ce1-8920-6b1948b41f32",
   "metadata": {},
   "outputs": [],
   "source": [
    "assert model.ham_messages == 2"
   ]
  },
  {
   "cell_type": "code",
   "execution_count": 12,
   "id": "8965d11c-5c60-4ecc-bb9c-4093fe320539",
   "metadata": {},
   "outputs": [],
   "source": [
    "assert model.token_spam_counts == {\"spam\": 1, \"rules\": 1}"
   ]
  },
  {
   "cell_type": "code",
   "execution_count": 13,
   "id": "9387e9d8-28c5-40b6-98bc-5cad5e092f17",
   "metadata": {},
   "outputs": [],
   "source": [
    "assert model.token_ham_counts == {\"ham\": 2, \"rules\": 1, \"hello\": 1}"
   ]
  },
  {
   "cell_type": "code",
   "execution_count": 14,
   "id": "a215173b-47b5-4138-9f0e-6c6baa8e2131",
   "metadata": {},
   "outputs": [],
   "source": [
    "text = \"hello spam\""
   ]
  },
  {
   "cell_type": "code",
   "execution_count": 15,
   "id": "05ff9ab8-0b25-4a63-a0dd-cb3bb97892c8",
   "metadata": {},
   "outputs": [],
   "source": [
    "probs_if_spam = [\n",
    "    (1 + 0.5) / (1 + 2 * 0.5),      # \"spam\"  (present)\n",
    "    1 - (0 + 0.5) / (1 + 2 * 0.5),  # \"ham\"   (not present)\n",
    "    1 - (1 + 0.5) / (1 + 2 * 0.5),  # \"rules\" (not present)\n",
    "    (0 + 0.5) / (1 + 2 * 0.5)       # \"hello\" (present)\n",
    "]"
   ]
  },
  {
   "cell_type": "code",
   "execution_count": 16,
   "id": "6b3ae7cf-d7d9-4c25-9b09-b547bea27272",
   "metadata": {},
   "outputs": [],
   "source": [
    "probs_if_ham = [\n",
    "    (0 + 0.5) / (2 + 2 * 0.5),      # \"spam\"  (present)\n",
    "    1 - (2 + 0.5) / (2 + 2 * 0.5),  # \"ham\"   (not present)\n",
    "    1 - (1 + 0.5) / (2 + 2 * 0.5),  # \"rules\" (not present)\n",
    "    (1 + 0.5) / (2 + 2 * 0.5),      # \"hello\" (present)\n",
    "]"
   ]
  },
  {
   "cell_type": "code",
   "execution_count": 17,
   "id": "61c1fc58-0261-4bb4-b3cb-50bea275745d",
   "metadata": {},
   "outputs": [],
   "source": [
    "p_if_spam = math.exp(sum(math.log(p) for p in probs_if_spam))\n",
    "p_if_ham = math.exp(sum(math.log(p) for p in probs_if_ham))"
   ]
  },
  {
   "cell_type": "code",
   "execution_count": 18,
   "id": "b87b7b5d-d636-46f9-8425-4de7428f734b",
   "metadata": {},
   "outputs": [
    {
     "data": {
      "text/plain": [
       "(0.03515625, 0.006944444444444444)"
      ]
     },
     "execution_count": 18,
     "metadata": {},
     "output_type": "execute_result"
    }
   ],
   "source": [
    "p_if_spam, p_if_ham"
   ]
  },
  {
   "cell_type": "code",
   "execution_count": 19,
   "id": "55f0fe1b-0094-401f-bcec-aa24a2f1bd6b",
   "metadata": {},
   "outputs": [
    {
     "data": {
      "text/plain": [
       "(0.8350515463917525, 0.8350515463917525)"
      ]
     },
     "execution_count": 19,
     "metadata": {},
     "output_type": "execute_result"
    }
   ],
   "source": [
    "model.predict(text), p_if_spam / (p_if_spam + p_if_ham)"
   ]
  },
  {
   "cell_type": "code",
   "execution_count": 20,
   "id": "26bff88b-e94f-4ea7-b73a-5d7deb9cd71d",
   "metadata": {},
   "outputs": [],
   "source": [
    "# Should be about 0.83\n",
    "assert round(model.predict(text)) == round(p_if_spam / (p_if_spam + p_if_ham))"
   ]
  },
  {
   "cell_type": "code",
   "execution_count": 21,
   "id": "de639a73-ea93-4b69-b927-754897f898a2",
   "metadata": {},
   "outputs": [],
   "source": [
    "def drop_final_s(word):\n",
    "    return re.sub(\"s$\", \"\", word)"
   ]
  },
  {
   "cell_type": "code",
   "execution_count": 22,
   "id": "35d90f7a-1822-4a1c-9ae7-9c9595dce269",
   "metadata": {},
   "outputs": [],
   "source": [
    "# def main():"
   ]
  },
  {
   "cell_type": "code",
   "execution_count": 23,
   "id": "d53ed434-c782-4c47-b225-13567287c3e4",
   "metadata": {},
   "outputs": [],
   "source": [
    "import glob, re\n",
    "    \n",
    "# modify the path to wherever you've put the files\n",
    "path = r'C:\\Users\\Ivo\\Downloads\\Genius\\Data_Science_From_Scratch\\Cap13_Naive_Bayes\\spam_data/*/*'"
   ]
  },
  {
   "cell_type": "code",
   "execution_count": 24,
   "id": "dc318c41-5e90-437e-a94c-822e11c5d13c",
   "metadata": {},
   "outputs": [],
   "source": [
    "data: List[Message] = []"
   ]
  },
  {
   "cell_type": "code",
   "execution_count": 25,
   "id": "b1531652-2adc-4a1e-aad1-7f789b84b562",
   "metadata": {},
   "outputs": [],
   "source": [
    "# glob.glob returns every filename that matches the wildcarded path\n",
    "for filename in glob.glob(path):\n",
    "    is_spam = \"ham\" not in filename\n",
    "    \n",
    "    # There are some garbage characters in the emails, the errors='ignore'\n",
    "    # skips them instead of raising an exception.\n",
    "    with open(filename, errors='ignore') as email_file:\n",
    "        for line in email_file:\n",
    "            if line.startswith(\"Subject:\"):\n",
    "                subject = line.lstrip(\"Subject: \")\n",
    "                data.append(Message(subject, is_spam))\n",
    "                break  # done with this file"
   ]
  },
  {
   "cell_type": "code",
   "execution_count": 26,
   "id": "1a5fb488-f2ac-4230-bc8a-953f61ba9870",
   "metadata": {},
   "outputs": [
    {
     "name": "stdout",
     "output_type": "stream",
     "text": [
      "importing Jupyter notebook from machine_learning.ipynb\n"
     ]
    }
   ],
   "source": [
    "import random\n",
    "import import_ipynb\n",
    "from machine_learning import split_data"
   ]
  },
  {
   "cell_type": "code",
   "execution_count": 27,
   "id": "d9a57222-9834-4cb6-b2c0-0d57eb4c5d1f",
   "metadata": {},
   "outputs": [],
   "source": [
    "random.seed(0)      # just so you get the same answers as me\n",
    "train_messages, test_messages = split_data(data, 0.75)"
   ]
  },
  {
   "cell_type": "code",
   "execution_count": 28,
   "id": "4981b088-77a0-470b-9a7e-e881769d479a",
   "metadata": {},
   "outputs": [],
   "source": [
    "model = NaiveBayesClassifier()\n",
    "model.train(train_messages)"
   ]
  },
  {
   "cell_type": "code",
   "execution_count": 29,
   "id": "54f9a2f2-a2f2-43dc-901d-ee67d07255c6",
   "metadata": {},
   "outputs": [],
   "source": [
    "from collections import Counter"
   ]
  },
  {
   "cell_type": "code",
   "execution_count": 30,
   "id": "c21ec6f5-6b2b-4e13-9983-387d737b670a",
   "metadata": {},
   "outputs": [
    {
     "data": {
      "text/plain": [
       "[(Message(text='NEWS.COM INVESTOR: Techs rise, but Dow falls on day of Bush speech\\n', is_spam=False),\n",
       "  0.0005202358965214317),\n",
       " (Message(text='Best\\n', is_spam=False), 0.14028305973242164),\n",
       " (Message(text='Grow Up And Be A Man!\\xa0 abm\\n', is_spam=True),\n",
       "  0.11482190887633734)]"
      ]
     },
     "execution_count": 30,
     "metadata": {},
     "output_type": "execute_result"
    }
   ],
   "source": [
    "predictions = [(message, model.predict(message.text))\n",
    "                   for message in test_messages]\n",
    "predictions[:3]"
   ]
  },
  {
   "cell_type": "code",
   "execution_count": 31,
   "id": "c8194f93-dece-4115-8c16-fcd0ce7f4adc",
   "metadata": {},
   "outputs": [
    {
     "data": {
      "text/plain": [
       "Counter({(False, False): 670,\n",
       "         (True, False): 40,\n",
       "         (True, True): 86,\n",
       "         (False, True): 29})"
      ]
     },
     "execution_count": 31,
     "metadata": {},
     "output_type": "execute_result"
    }
   ],
   "source": [
    "# Assume that spam_probability > 0.5 corresponds to spam prediction\n",
    "# and count the combinations of (actual is_spam, predicted is_spam)\n",
    "confusion_matrix = Counter((message.is_spam, spam_probability > 0.5)\n",
    "                               for message, spam_probability in predictions)\n",
    "confusion_matrix"
   ]
  },
  {
   "cell_type": "code",
   "execution_count": 32,
   "id": "9af9f4d2-3f36-4af6-bb3c-2d1e7db6244b",
   "metadata": {},
   "outputs": [
    {
     "name": "stdout",
     "output_type": "stream",
     "text": [
      "Counter({(False, False): 670, (True, True): 86, (True, False): 40, (False, True): 29})\n"
     ]
    }
   ],
   "source": [
    "print(confusion_matrix)"
   ]
  },
  {
   "cell_type": "code",
   "execution_count": 33,
   "id": "34728b71-7d29-4289-84ef-72fb76ce3379",
   "metadata": {},
   "outputs": [],
   "source": [
    "def p_spam_given_token(token: str, model: NaiveBayesClassifier) -> float:\n",
    "    # We probably shouldn't call private methods, but it's for a good cause.\n",
    "    prob_if_spam, prob_if_ham = model._probabilities(token)\n",
    "    \n",
    "    return prob_if_spam / (prob_if_spam + prob_if_ham)"
   ]
  },
  {
   "cell_type": "code",
   "execution_count": 34,
   "id": "f3c81839-511d-4811-b85f-c20882cb6d6b",
   "metadata": {},
   "outputs": [
    {
     "data": {
      "text/plain": [
       "['spambayes', 'users', 'razor']"
      ]
     },
     "execution_count": 34,
     "metadata": {},
     "output_type": "execute_result"
    }
   ],
   "source": [
    "words = sorted(model.tokens, key=lambda t: p_spam_given_token(t, model))\n",
    "words[:3]"
   ]
  },
  {
   "cell_type": "code",
   "execution_count": 35,
   "id": "cd89bb04-a862-4bc7-a626-4710241c279f",
   "metadata": {},
   "outputs": [
    {
     "name": "stdout",
     "output_type": "stream",
     "text": [
      "spammiest_words ['zzzz', '95', 'attn', 'per', 'clearance', 'money', 'rates', 'sale', 'systemworks', 'adv']\n"
     ]
    }
   ],
   "source": [
    "print(\"spammiest_words\", words[-10:])"
   ]
  },
  {
   "cell_type": "code",
   "execution_count": 36,
   "id": "d4036d65-061e-4a46-9df9-066144a35bb8",
   "metadata": {},
   "outputs": [
    {
     "name": "stdout",
     "output_type": "stream",
     "text": [
      "hammiest_words ['spambayes', 'users', 'razor', 'zzzzteana', 'sadev', 'apt', 'perl', 'ouch', 'spamassassin', 'bliss']\n"
     ]
    }
   ],
   "source": [
    "print(\"hammiest_words\", words[:10])"
   ]
  },
  {
   "cell_type": "code",
   "execution_count": 37,
   "id": "555fe40c-519b-4f74-8158-1be552794641",
   "metadata": {},
   "outputs": [],
   "source": [
    "# if __name__ == \"__main__\": main()"
   ]
  }
 ],
 "metadata": {
  "kernelspec": {
   "display_name": "Python 3 (ipykernel)",
   "language": "python",
   "name": "python3"
  },
  "language_info": {
   "codemirror_mode": {
    "name": "ipython",
    "version": 3
   },
   "file_extension": ".py",
   "mimetype": "text/x-python",
   "name": "python",
   "nbconvert_exporter": "python",
   "pygments_lexer": "ipython3",
   "version": "3.10.2"
  }
 },
 "nbformat": 4,
 "nbformat_minor": 5
}
