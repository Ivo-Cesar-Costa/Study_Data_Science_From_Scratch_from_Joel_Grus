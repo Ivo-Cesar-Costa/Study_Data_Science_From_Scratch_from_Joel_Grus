{
 "cells": [
  {
   "cell_type": "code",
   "execution_count": 1,
   "id": "03a7a339-c2de-4159-be52-d0f668159025",
   "metadata": {},
   "outputs": [],
   "source": [
    "def predict(alpha: float, beta: float, x_i: float) -> float:\n",
    "    return beta * x_i + alpha"
   ]
  },
  {
   "cell_type": "code",
   "execution_count": 2,
   "id": "294453f9-262f-4624-8ea8-05740571ff42",
   "metadata": {},
   "outputs": [],
   "source": [
    "def error(alpha: float, beta: float, x_i: float, y_i: float) -> float:\n",
    "    \"\"\"\n",
    "    The error from predicting beta * x_i + alpha\n",
    "    when the actual value is y_i\n",
    "    \"\"\"\n",
    "    return predict(alpha, beta, x_i) - y_i"
   ]
  },
  {
   "cell_type": "code",
   "execution_count": 3,
   "id": "c3a60a49-8661-46ab-9470-af8cfdf13ff6",
   "metadata": {},
   "outputs": [
    {
     "name": "stdout",
     "output_type": "stream",
     "text": [
      "importing Jupyter notebook from linear_algebra.ipynb\n"
     ]
    }
   ],
   "source": [
    "import import_ipynb\n",
    "from linear_algebra import Vector"
   ]
  },
  {
   "cell_type": "code",
   "execution_count": 4,
   "id": "239eea45-71b1-4034-8072-712417625f5d",
   "metadata": {},
   "outputs": [],
   "source": [
    "def sum_of_sqerrors(alpha: float, beta: float, x: Vector, y: Vector) -> float:\n",
    "    return sum(error(alpha, beta, x_i, y_i) ** 2\n",
    "               for x_i, y_i in zip(x, y))"
   ]
  },
  {
   "cell_type": "code",
   "execution_count": 5,
   "id": "bae34108-9370-4e98-9588-99176fc0203e",
   "metadata": {},
   "outputs": [
    {
     "name": "stdout",
     "output_type": "stream",
     "text": [
      "importing Jupyter notebook from statisticas.ipynb\n"
     ]
    },
    {
     "data": {
      "text/plain": [
       "<Figure size 432x288 with 0 Axes>"
      ]
     },
     "metadata": {},
     "output_type": "display_data"
    }
   ],
   "source": [
    "from typing import Tuple\n",
    "import import_ipynb\n",
    "from linear_algebra import Vector\n",
    "from statisticas import correlation, standard_deviation, mean"
   ]
  },
  {
   "cell_type": "code",
   "execution_count": 6,
   "id": "223a2bc3-2771-4024-972f-6491fba5dc8b",
   "metadata": {},
   "outputs": [],
   "source": [
    "def least_squares_fit(x: Vector, y: Vector) -> Tuple[float, float]:\n",
    "    \"\"\"\n",
    "    Given two vectors x and y,\n",
    "    find the least-squares values of alpha and beta\n",
    "    \"\"\"\n",
    "    beta = correlation(x, y) * standard_deviation(y) / standard_deviation(x)\n",
    "    alpha = mean(y) - beta * mean(x)\n",
    "    return alpha, beta"
   ]
  },
  {
   "cell_type": "code",
   "execution_count": 7,
   "id": "ad45e34b-d61d-4e4a-a2b4-a8d422da957e",
   "metadata": {},
   "outputs": [],
   "source": [
    "x = [i for i in range(-100, 110, 10)]\n",
    "y = [3 * i - 5 for i in x]"
   ]
  },
  {
   "cell_type": "code",
   "execution_count": 8,
   "id": "516a6dc8-3627-424b-8ad6-f7c073aebbc0",
   "metadata": {},
   "outputs": [
    {
     "data": {
      "text/plain": [
       "([-100, -90, -80, -70, -60], [-305, -275, -245, -215, -185])"
      ]
     },
     "execution_count": 8,
     "metadata": {},
     "output_type": "execute_result"
    }
   ],
   "source": [
    "x[:5], y[:5]"
   ]
  },
  {
   "cell_type": "code",
   "execution_count": 9,
   "id": "9705d098-22c6-4651-9dc9-9d5d24255b61",
   "metadata": {},
   "outputs": [],
   "source": [
    "# Should find that y = 3x - 5\n",
    "assert least_squares_fit(x, y) == (-5, 3)"
   ]
  },
  {
   "cell_type": "code",
   "execution_count": 10,
   "id": "af59d2ee-61de-4094-87ad-ff91c70f2655",
   "metadata": {},
   "outputs": [],
   "source": [
    "from statisticas import num_friends_good, daily_minutes_good"
   ]
  },
  {
   "cell_type": "code",
   "execution_count": 11,
   "id": "ac1f5307-09c6-485c-8b5f-54cd230fbc53",
   "metadata": {},
   "outputs": [
    {
     "data": {
      "text/plain": [
       "(22.94755241346903, 0.903865945605865)"
      ]
     },
     "execution_count": 11,
     "metadata": {},
     "output_type": "execute_result"
    }
   ],
   "source": [
    "alpha, beta = least_squares_fit(num_friends_good, daily_minutes_good)\n",
    "alpha, beta"
   ]
  },
  {
   "cell_type": "code",
   "execution_count": 12,
   "id": "9b25d255-4f33-40e8-9096-c004cf00b633",
   "metadata": {},
   "outputs": [],
   "source": [
    "assert 22.9 < alpha < 23.0\n",
    "assert 0.9 < beta < 0.905"
   ]
  },
  {
   "cell_type": "code",
   "execution_count": 13,
   "id": "9905f07c-4058-4149-9656-c343317c2936",
   "metadata": {},
   "outputs": [],
   "source": [
    "from statisticas import de_mean"
   ]
  },
  {
   "cell_type": "code",
   "execution_count": 14,
   "id": "06ad1c82-8b0d-41a4-ad79-2dae77cfb812",
   "metadata": {},
   "outputs": [],
   "source": [
    "def total_sum_of_squares(y: Vector) -> float:\n",
    "    \"\"\"the total squared variation of y_i's from their mean\"\"\"\n",
    "    return sum(v ** 2 for v in de_mean(y))"
   ]
  },
  {
   "cell_type": "code",
   "execution_count": 15,
   "id": "90440842-ce7b-4c10-8dd3-dbb635c6887b",
   "metadata": {},
   "outputs": [],
   "source": [
    "def r_squared(alpha: float, beta: float, x: Vector, y: Vector) -> float:\n",
    "    \"\"\"\n",
    "    the fraction of variation in y captured by the model, which equals\n",
    "    1 - the fraction of variation in y not captured by the model\n",
    "    \"\"\"\n",
    "    return 1.0 - (sum_of_sqerrors(alpha, beta, x, y) /\n",
    "                  total_sum_of_squares(y))"
   ]
  },
  {
   "cell_type": "code",
   "execution_count": 16,
   "id": "03d0a500-285d-4c57-9394-655ff5da6e00",
   "metadata": {},
   "outputs": [
    {
     "data": {
      "text/plain": [
       "0.3291078377836305"
      ]
     },
     "execution_count": 16,
     "metadata": {},
     "output_type": "execute_result"
    }
   ],
   "source": [
    "rsq = r_squared(alpha, beta, num_friends_good, daily_minutes_good)\n",
    "rsq"
   ]
  },
  {
   "cell_type": "code",
   "execution_count": 17,
   "id": "ec7849c1-fb52-438f-9da1-d2c3d2268ed7",
   "metadata": {},
   "outputs": [],
   "source": [
    "assert 0.328 < rsq < 0.330"
   ]
  },
  {
   "cell_type": "code",
   "execution_count": 18,
   "id": "d243edb2-96fb-4c71-be3f-46c159b6e895",
   "metadata": {},
   "outputs": [],
   "source": [
    "# def main():"
   ]
  },
  {
   "cell_type": "code",
   "execution_count": 19,
   "id": "29f2bc1a-2e98-4225-b46c-0882f105f641",
   "metadata": {},
   "outputs": [
    {
     "name": "stdout",
     "output_type": "stream",
     "text": [
      "importing Jupyter notebook from gradient_descent.ipynb\n"
     ]
    }
   ],
   "source": [
    "import random\n",
    "import tqdm\n",
    "from gradient_descent import gradient_step"
   ]
  },
  {
   "cell_type": "code",
   "execution_count": 20,
   "id": "433cce7d-091f-4c99-a343-97f744b4638c",
   "metadata": {},
   "outputs": [],
   "source": [
    "num_epochs = 1000\n",
    "random.seed(0)"
   ]
  },
  {
   "cell_type": "code",
   "execution_count": 21,
   "id": "5df3cc7e-8ea9-44b8-ba68-d8ab17090903",
   "metadata": {},
   "outputs": [
    {
     "data": {
      "text/plain": [
       "[0.8444218515250481, 0.7579544029403025]"
      ]
     },
     "execution_count": 21,
     "metadata": {},
     "output_type": "execute_result"
    }
   ],
   "source": [
    "guess = [random.random(), random.random()]  # choose random value to start\n",
    "guess"
   ]
  },
  {
   "cell_type": "code",
   "execution_count": 22,
   "id": "57cfc56f-738a-4cfe-a281-4dcf5d833d08",
   "metadata": {},
   "outputs": [],
   "source": [
    "learning_rate = 0.00001"
   ]
  },
  {
   "cell_type": "code",
   "execution_count": 23,
   "id": "e7aa4d9e-daeb-4439-bbbd-9f7ab4ca84cc",
   "metadata": {},
   "outputs": [
    {
     "name": "stderr",
     "output_type": "stream",
     "text": [
      "loss: 14348.419: 100%|███████████████████████████████████████████████████████████| 1000/1000 [00:00<00:00, 1206.27it/s]\n"
     ]
    }
   ],
   "source": [
    "with tqdm.trange(num_epochs) as t:\n",
    "    for _ in t:\n",
    "        alpha, beta = guess\n",
    "    \n",
    "        # Partial derivative of loss with respect to alpha\n",
    "        grad_a = sum(2 * error(alpha, beta, x_i, y_i)\n",
    "                         for x_i, y_i in zip(num_friends_good,\n",
    "                                             daily_minutes_good))\n",
    "    \n",
    "        # Partial derivative of loss with respect to beta\n",
    "        grad_b = sum(2 * error(alpha, beta, x_i, y_i) * x_i\n",
    "                         for x_i, y_i in zip(num_friends_good,\n",
    "                                             daily_minutes_good))\n",
    "    \n",
    "        # Compute loss to stick in the tqdm description\n",
    "        loss = sum_of_sqerrors(alpha, beta,\n",
    "                                   num_friends_good, daily_minutes_good)\n",
    "        t.set_description(f\"loss: {loss:.3f}\")\n",
    "    \n",
    "            # Finally, update the guess\n",
    "        guess = gradient_step(guess, [grad_a, grad_b], -learning_rate)"
   ]
  },
  {
   "cell_type": "code",
   "execution_count": 24,
   "id": "7dc6529c-63f1-4c95-9587-04622b37affb",
   "metadata": {},
   "outputs": [
    {
     "data": {
      "text/plain": [
       "(19.41175990380865, 1.1870085907235692)"
      ]
     },
     "execution_count": 24,
     "metadata": {},
     "output_type": "execute_result"
    }
   ],
   "source": [
    "# We should get pretty much the same results\n",
    "alpha, beta = guess\n",
    "alpha, beta"
   ]
  },
  {
   "cell_type": "code",
   "execution_count": 25,
   "id": "3873f729-cf29-4f47-856c-4ba12faa0b4e",
   "metadata": {},
   "outputs": [
    {
     "data": {
      "text/plain": [
       "[19.41175990380865, 1.1870085907235692]"
      ]
     },
     "execution_count": 25,
     "metadata": {},
     "output_type": "execute_result"
    }
   ],
   "source": [
    "guess"
   ]
  },
  {
   "cell_type": "code",
   "execution_count": 26,
   "id": "d0810733-2e16-4dac-9a17-3fc02f3367e6",
   "metadata": {},
   "outputs": [],
   "source": [
    "assert 18.9 < alpha < 23.0\n",
    "assert 0.9 < beta < 1.905"
   ]
  },
  {
   "cell_type": "code",
   "execution_count": 27,
   "id": "bd67430c-bfd0-411a-ba94-2e56373b1263",
   "metadata": {},
   "outputs": [],
   "source": [
    "# if __name__ == \"__main__\": main()"
   ]
  }
 ],
 "metadata": {
  "kernelspec": {
   "display_name": "Python 3 (ipykernel)",
   "language": "python",
   "name": "python3"
  },
  "language_info": {
   "codemirror_mode": {
    "name": "ipython",
    "version": 3
   },
   "file_extension": ".py",
   "mimetype": "text/x-python",
   "name": "python",
   "nbconvert_exporter": "python",
   "pygments_lexer": "ipython3",
   "version": "3.10.2"
  }
 },
 "nbformat": 4,
 "nbformat_minor": 5
}
