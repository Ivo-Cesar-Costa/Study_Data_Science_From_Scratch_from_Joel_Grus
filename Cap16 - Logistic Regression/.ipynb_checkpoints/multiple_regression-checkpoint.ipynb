{
 "cells": [
  {
   "cell_type": "code",
   "execution_count": 1,
   "id": "7be6354b-bbed-4170-9f01-8697d2848a3a",
   "metadata": {},
   "outputs": [],
   "source": [
    "from typing import List\n",
    "import import_ipynb"
   ]
  },
  {
   "cell_type": "code",
   "execution_count": 2,
   "id": "f8aa3b4b-e2a3-4660-8cd5-4678114bb8f4",
   "metadata": {},
   "outputs": [
    {
     "name": "stdout",
     "output_type": "stream",
     "text": [
      "importing Jupyter notebook from linear_algebra.ipynb\n"
     ]
    }
   ],
   "source": [
    "inputs: List[List[float]] = [[1.,49,4,0],[1,41,9,0],[1,40,8,0],[1,25,6,0],[1,21,1,0],[1,21,0,0],[1,19,3,0],[1,19,0,0],[1,18,9,0],[1,18,8,0],[1,16,4,0],[1,15,3,0],[1,15,0,0],[1,15,2,0],[1,15,7,0],[1,14,0,0],[1,14,1,0],[1,13,1,0],[1,13,7,0],[1,13,4,0],[1,13,2,0],[1,12,5,0],[1,12,0,0],[1,11,9,0],[1,10,9,0],[1,10,1,0],[1,10,1,0],[1,10,7,0],[1,10,9,0],[1,10,1,0],[1,10,6,0],[1,10,6,0],[1,10,8,0],[1,10,10,0],[1,10,6,0],[1,10,0,0],[1,10,5,0],[1,10,3,0],[1,10,4,0],[1,9,9,0],[1,9,9,0],[1,9,0,0],[1,9,0,0],[1,9,6,0],[1,9,10,0],[1,9,8,0],[1,9,5,0],[1,9,2,0],[1,9,9,0],[1,9,10,0],[1,9,7,0],[1,9,2,0],[1,9,0,0],[1,9,4,0],[1,9,6,0],[1,9,4,0],[1,9,7,0],[1,8,3,0],[1,8,2,0],[1,8,4,0],[1,8,9,0],[1,8,2,0],[1,8,3,0],[1,8,5,0],[1,8,8,0],[1,8,0,0],[1,8,9,0],[1,8,10,0],[1,8,5,0],[1,8,5,0],[1,7,5,0],[1,7,5,0],[1,7,0,0],[1,7,2,0],[1,7,8,0],[1,7,10,0],[1,7,5,0],[1,7,3,0],[1,7,3,0],[1,7,6,0],[1,7,7,0],[1,7,7,0],[1,7,9,0],[1,7,3,0],[1,7,8,0],[1,6,4,0],[1,6,6,0],[1,6,4,0],[1,6,9,0],[1,6,0,0],[1,6,1,0],[1,6,4,0],[1,6,1,0],[1,6,0,0],[1,6,7,0],[1,6,0,0],[1,6,8,0],[1,6,4,0],[1,6,2,1],[1,6,1,1],[1,6,3,1],[1,6,6,1],[1,6,4,1],[1,6,4,1],[1,6,1,1],[1,6,3,1],[1,6,4,1],[1,5,1,1],[1,5,9,1],[1,5,4,1],[1,5,6,1],[1,5,4,1],[1,5,4,1],[1,5,10,1],[1,5,5,1],[1,5,2,1],[1,5,4,1],[1,5,4,1],[1,5,9,1],[1,5,3,1],[1,5,10,1],[1,5,2,1],[1,5,2,1],[1,5,9,1],[1,4,8,1],[1,4,6,1],[1,4,0,1],[1,4,10,1],[1,4,5,1],[1,4,10,1],[1,4,9,1],[1,4,1,1],[1,4,4,1],[1,4,4,1],[1,4,0,1],[1,4,3,1],[1,4,1,1],[1,4,3,1],[1,4,2,1],[1,4,4,1],[1,4,4,1],[1,4,8,1],[1,4,2,1],[1,4,4,1],[1,3,2,1],[1,3,6,1],[1,3,4,1],[1,3,7,1],[1,3,4,1],[1,3,1,1],[1,3,10,1],[1,3,3,1],[1,3,4,1],[1,3,7,1],[1,3,5,1],[1,3,6,1],[1,3,1,1],[1,3,6,1],[1,3,10,1],[1,3,2,1],[1,3,4,1],[1,3,2,1],[1,3,1,1],[1,3,5,1],[1,2,4,1],[1,2,2,1],[1,2,8,1],[1,2,3,1],[1,2,1,1],[1,2,9,1],[1,2,10,1],[1,2,9,1],[1,2,4,1],[1,2,5,1],[1,2,0,1],[1,2,9,1],[1,2,9,1],[1,2,0,1],[1,2,1,1],[1,2,1,1],[1,2,4,1],[1,1,0,1],[1,1,2,1],[1,1,2,1],[1,1,5,1],[1,1,3,1],[1,1,10,1],[1,1,6,1],[1,1,0,1],[1,1,8,1],[1,1,6,1],[1,1,4,1],[1,1,9,1],[1,1,9,1],[1,1,4,1],[1,1,2,1],[1,1,9,1],[1,1,0,1],[1,1,8,1],[1,1,6,1],[1,1,1,1],[1,1,1,1],[1,1,5,1]]\n",
    "\n",
    "from linear_algebra import dot, Vector"
   ]
  },
  {
   "cell_type": "code",
   "execution_count": 3,
   "id": "9231d11c-bc96-4656-b8f0-d2d7edc46e56",
   "metadata": {},
   "outputs": [],
   "source": [
    "def predict(x: Vector, beta: Vector) -> float:\n",
    "    \"\"\"assumes that the first element of x is 1\"\"\"\n",
    "    return dot(x, beta)"
   ]
  },
  {
   "cell_type": "code",
   "execution_count": 4,
   "id": "ecbd7865-3137-4046-b388-952b69a94b9a",
   "metadata": {},
   "outputs": [
    {
     "data": {
      "text/plain": [
       "[1, 49, 4, 0]"
      ]
     },
     "execution_count": 4,
     "metadata": {},
     "output_type": "execute_result"
    }
   ],
   "source": [
    "[1,    # constant term\n",
    " 49,   # number of friends\n",
    " 4,    # work hours per day\n",
    " 0]    # doesn't have PhD"
   ]
  },
  {
   "cell_type": "code",
   "execution_count": 5,
   "id": "d747829c-756e-43f4-9cc7-8e6993eb56ff",
   "metadata": {},
   "outputs": [],
   "source": [
    "from typing import List"
   ]
  },
  {
   "cell_type": "code",
   "execution_count": 6,
   "id": "4b0c3023-b097-4c25-b35e-e5837431b97d",
   "metadata": {},
   "outputs": [],
   "source": [
    "def error(x: Vector, y: float, beta: Vector) -> float:\n",
    "    return predict(x, beta) - y"
   ]
  },
  {
   "cell_type": "code",
   "execution_count": 7,
   "id": "8f2690bf-4038-4558-a866-dcfd3877b14b",
   "metadata": {},
   "outputs": [],
   "source": [
    "def squared_error(x: Vector, y: float, beta: Vector) -> float:\n",
    "    return error(x, y, beta) ** 2"
   ]
  },
  {
   "cell_type": "code",
   "execution_count": 8,
   "id": "c3f6d00d-9f19-4ae1-bdb2-688ff87bc8a7",
   "metadata": {},
   "outputs": [],
   "source": [
    "x = [1, 2, 3]\n",
    "y = 30\n",
    "beta = [4, 4, 4]  # so prediction = 4 + 8 + 12 = 24"
   ]
  },
  {
   "cell_type": "code",
   "execution_count": 9,
   "id": "578d0b1a-8a64-4aa2-95af-08111f804d11",
   "metadata": {},
   "outputs": [
    {
     "data": {
      "text/plain": [
       "-6"
      ]
     },
     "execution_count": 9,
     "metadata": {},
     "output_type": "execute_result"
    }
   ],
   "source": [
    "error(x, y, beta)"
   ]
  },
  {
   "cell_type": "code",
   "execution_count": 10,
   "id": "2d953a08-716f-4cb0-bd12-faa1593a760b",
   "metadata": {},
   "outputs": [],
   "source": [
    "assert error(x, y, beta) == -6"
   ]
  },
  {
   "cell_type": "code",
   "execution_count": 11,
   "id": "0ef95a37-8f37-4667-aca4-d5569d01d6d0",
   "metadata": {},
   "outputs": [
    {
     "data": {
      "text/plain": [
       "36"
      ]
     },
     "execution_count": 11,
     "metadata": {},
     "output_type": "execute_result"
    }
   ],
   "source": [
    "squared_error(x, y, beta)"
   ]
  },
  {
   "cell_type": "code",
   "execution_count": 12,
   "id": "7ffabf8c-516a-41ba-a069-9ff3b5be3a76",
   "metadata": {},
   "outputs": [],
   "source": [
    "assert squared_error(x, y, beta) == 36"
   ]
  },
  {
   "cell_type": "code",
   "execution_count": 13,
   "id": "43fd6c6a-c9e0-4127-a316-20318cf0e976",
   "metadata": {},
   "outputs": [],
   "source": [
    "def sqerror_gradient(x: Vector, y: float, beta: Vector) -> Vector:\n",
    "    err = error(x, y, beta)\n",
    "    return [2 * err * x_i for x_i in x]"
   ]
  },
  {
   "cell_type": "code",
   "execution_count": 14,
   "id": "7f231581-9eac-4cd5-a0d7-f14e71e67c79",
   "metadata": {},
   "outputs": [
    {
     "data": {
      "text/plain": [
       "[-12, -24, -36]"
      ]
     },
     "execution_count": 14,
     "metadata": {},
     "output_type": "execute_result"
    }
   ],
   "source": [
    "sqerror_gradient(x, y, beta) "
   ]
  },
  {
   "cell_type": "code",
   "execution_count": 15,
   "id": "1f7a8dbc-99ee-4fc4-bcf6-3cc343d6d6b0",
   "metadata": {},
   "outputs": [],
   "source": [
    "assert sqerror_gradient(x, y, beta) == [-12, -24, -36]"
   ]
  },
  {
   "cell_type": "code",
   "execution_count": 16,
   "id": "65b1c425-85ec-4664-95e2-97b2fed8fdf4",
   "metadata": {},
   "outputs": [
    {
     "name": "stdout",
     "output_type": "stream",
     "text": [
      "importing Jupyter notebook from gradient_descent.ipynb\n"
     ]
    }
   ],
   "source": [
    "import random\n",
    "import tqdm\n",
    "from linear_algebra import vector_mean\n",
    "from gradient_descent import gradient_step"
   ]
  },
  {
   "cell_type": "code",
   "execution_count": 17,
   "id": "b58a1f96-c31c-4faa-9562-3544d542ad14",
   "metadata": {},
   "outputs": [],
   "source": [
    "def least_squares_fit(xs: List[Vector],\n",
    "                      ys: List[float],\n",
    "                      learning_rate: float = 0.001,\n",
    "                      num_steps: int = 1000,\n",
    "                      batch_size: int = 1) -> Vector:\n",
    "    \"\"\"\n",
    "    Find the beta that minimizes the sum of squared errors\n",
    "    assuming the model y = dot(x, beta).\n",
    "    \"\"\"\n",
    "    # Start with a random guess\n",
    "    guess = [random.random() for _ in xs[0]]\n",
    "\n",
    "    for _ in tqdm.trange(num_steps, desc=\"least squares fit\"):\n",
    "        for start in range(0, len(xs), batch_size):\n",
    "            batch_xs = xs[start:start+batch_size]\n",
    "            batch_ys = ys[start:start+batch_size]\n",
    "\n",
    "            gradient = vector_mean([sqerror_gradient(x, y, guess)\n",
    "                                    for x, y in zip(batch_xs, batch_ys)])\n",
    "            guess = gradient_step(guess, gradient, -learning_rate)\n",
    "\n",
    "    return guess"
   ]
  },
  {
   "cell_type": "code",
   "execution_count": 18,
   "id": "35a57b76-d0f6-4000-abce-0a8d6357bd23",
   "metadata": {},
   "outputs": [
    {
     "name": "stdout",
     "output_type": "stream",
     "text": [
      "importing Jupyter notebook from simple_linear_regression.ipynb\n"
     ]
    },
    {
     "name": "stderr",
     "output_type": "stream",
     "text": [
      "loss: 13197.466:  29%|████████████████████                                                | 2948/10000 [00:02<00:05, 1350.94it/s]IOPub message rate exceeded.\n",
      "The Jupyter server will temporarily stop sending output\n",
      "to the client in order to avoid crashing it.\n",
      "To change this limit, set the config variable\n",
      "`--ServerApp.iopub_msg_rate_limit`.\n",
      "\n",
      "Current values:\n",
      "ServerApp.iopub_msg_rate_limit=1000.0 (msgs/sec)\n",
      "ServerApp.rate_limit_window=3.0 (secs)\n",
      "\n",
      "loss: 13196.619:  76%|███████████████████████████████████████████████████▍                | 7565/10000 [00:05<00:01, 1308.54it/s]IOPub message rate exceeded.\n",
      "The Jupyter server will temporarily stop sending output\n",
      "to the client in order to avoid crashing it.\n",
      "To change this limit, set the config variable\n",
      "`--ServerApp.iopub_msg_rate_limit`.\n",
      "\n",
      "Current values:\n",
      "ServerApp.iopub_msg_rate_limit=1000.0 (msgs/sec)\n",
      "ServerApp.rate_limit_window=3.0 (secs)\n",
      "\n",
      "loss: 13196.619: 100%|███████████████████████████████████████████████████████████████████| 10000/10000 [00:07<00:00, 1343.66it/s]\n"
     ]
    }
   ],
   "source": [
    "from simple_linear_regression import total_sum_of_squares"
   ]
  },
  {
   "cell_type": "code",
   "execution_count": 19,
   "id": "86e7eb95-4f95-4552-baf2-c9ba801d5fd8",
   "metadata": {},
   "outputs": [],
   "source": [
    "def multiple_r_squared(xs: List[Vector], ys: Vector, beta: Vector) -> float:\n",
    "    sum_of_squared_errors = sum(error(x, y, beta) ** 2\n",
    "                                for x, y in zip(xs, ys))\n",
    "    return 1.0 - sum_of_squared_errors / total_sum_of_squares(ys)"
   ]
  },
  {
   "cell_type": "code",
   "execution_count": 20,
   "id": "7f2a18df-da1f-457e-9493-844a6ee469c2",
   "metadata": {},
   "outputs": [],
   "source": [
    "from typing import TypeVar, Callable"
   ]
  },
  {
   "cell_type": "code",
   "execution_count": 21,
   "id": "f48bd24c-abe7-4e99-9526-1a1fb53637d4",
   "metadata": {},
   "outputs": [],
   "source": [
    "X = TypeVar('X')        # Generic type for data\n",
    "Stat = TypeVar('Stat')  # Generic type for \"statistic\""
   ]
  },
  {
   "cell_type": "code",
   "execution_count": 22,
   "id": "8ee57028-ef8a-4bf6-a006-6848f13a4621",
   "metadata": {},
   "outputs": [],
   "source": [
    "def bootstrap_sample(data: List[X]) -> List[X]:\n",
    "    \"\"\"randomly samples len(data) elements with replacement\"\"\"\n",
    "    return [random.choice(data) for _ in data]"
   ]
  },
  {
   "cell_type": "code",
   "execution_count": 23,
   "id": "c6bdd041-3524-4226-bbfc-37523a4aaf9d",
   "metadata": {},
   "outputs": [],
   "source": [
    "def bootstrap_statistic(data: List[X],\n",
    "                        stats_fn: Callable[[List[X]], Stat],\n",
    "                        num_samples: int) -> List[Stat]:\n",
    "    \"\"\"evaluates stats_fn on num_samples bootstrap samples from data\"\"\"\n",
    "    return [stats_fn(bootstrap_sample(data)) for _ in range(num_samples)]"
   ]
  },
  {
   "cell_type": "code",
   "execution_count": 24,
   "id": "ee615250-f7d9-441c-9d15-62b7c6bff2bd",
   "metadata": {},
   "outputs": [
    {
     "data": {
      "text/plain": [
       "[99.92057158083084, 99.75891675029297, 100.01127472136861]"
      ]
     },
     "execution_count": 24,
     "metadata": {},
     "output_type": "execute_result"
    }
   ],
   "source": [
    "# 101 points all very close to 100\n",
    "close_to_100 = [99.5 + random.random() for _ in range(101)]\n",
    "close_to_100[:3]"
   ]
  },
  {
   "cell_type": "code",
   "execution_count": 25,
   "id": "97e1ac6a-86f5-4e29-8aa5-330db11eb7ae",
   "metadata": {},
   "outputs": [
    {
     "data": {
      "text/plain": [
       "[100.23148922079085, 0.11713429320851798, 0.22046053686782852]"
      ]
     },
     "execution_count": 25,
     "metadata": {},
     "output_type": "execute_result"
    }
   ],
   "source": [
    "# 101 points, 50 of them near 0, 50 of them near 200\n",
    "far_from_100 = ([99.5 + random.random()] +\n",
    "                [random.random() for _ in range(50)] +\n",
    "                [200 + random.random() for _ in range(50)])\n",
    "far_from_100[:3]"
   ]
  },
  {
   "cell_type": "code",
   "execution_count": 26,
   "id": "c1ce6d8d-95cc-433d-9022-d35629e84e16",
   "metadata": {},
   "outputs": [],
   "source": [
    "#from statistics import median, standard_deviation"
   ]
  },
  {
   "cell_type": "markdown",
   "id": "2afcbeb0-0e1e-47a8-93c2-c0fca7a68f26",
   "metadata": {},
   "source": [
    "#### adicionado standard_deviation"
   ]
  },
  {
   "cell_type": "code",
   "execution_count": 27,
   "id": "223c0f28-9447-4b0b-92fe-096091816b07",
   "metadata": {},
   "outputs": [],
   "source": [
    "from typing import List\n",
    "import math\n",
    "from linear_algebra import sum_of_squares\n",
    "\n",
    "def mean(xs: List[float]) -> float:\n",
    "    return sum(xs) / len(xs)"
   ]
  },
  {
   "cell_type": "code",
   "execution_count": 28,
   "id": "9b4742cb-a2fa-4fee-ac24-a8202cb5067a",
   "metadata": {},
   "outputs": [],
   "source": [
    "def de_mean(xs: List[float]) -> List[float]:\n",
    "    \"\"\"Translate xs by subtracting its mean (so the result has mean 0)\"\"\"\n",
    "    x_bar = mean(xs)\n",
    "    return [x - x_bar for x in xs]"
   ]
  },
  {
   "cell_type": "code",
   "execution_count": 29,
   "id": "ea4f265a-9d7a-42f3-99fc-54cbbc3a6df3",
   "metadata": {},
   "outputs": [],
   "source": [
    "def variance(xs: List[float]) -> float:\n",
    "    \"\"\"Almost the average squared deviation from the mean\"\"\"\n",
    "    assert len(xs) >= 2, \"variance requires at least two elements\"\n",
    "\n",
    "    n = len(xs)\n",
    "    deviations = de_mean(xs)\n",
    "    return sum_of_squares(deviations) / (n - 1)"
   ]
  },
  {
   "cell_type": "code",
   "execution_count": 30,
   "id": "68f71a3b-1aef-4e39-90d2-7f487712ad22",
   "metadata": {},
   "outputs": [],
   "source": [
    "def standard_deviation(xs: List[float]) -> float:\n",
    "    \"\"\"The standard deviation is the square root of the variance\"\"\"\n",
    "    return math.sqrt(variance(xs))"
   ]
  },
  {
   "cell_type": "markdown",
   "id": "fbc14448-d5df-40a7-884f-58d81f650b27",
   "metadata": {},
   "source": [
    "#### acaba aqui o acrescimo"
   ]
  },
  {
   "cell_type": "code",
   "execution_count": 31,
   "id": "04d2f193-05c3-4db2-8bb8-5a549a4e0dc7",
   "metadata": {},
   "outputs": [],
   "source": [
    "from statistics import median"
   ]
  },
  {
   "cell_type": "code",
   "execution_count": 32,
   "id": "09fa47ce-4afc-44cf-8a82-faf0eeeeef97",
   "metadata": {},
   "outputs": [
    {
     "data": {
      "text/plain": [
       "[100.08980118353116, 100.10318562796138, 100.04869930383559]"
      ]
     },
     "execution_count": 32,
     "metadata": {},
     "output_type": "execute_result"
    }
   ],
   "source": [
    "medians_close = bootstrap_statistic(close_to_100, median, 100)\n",
    "medians_close[:3]"
   ]
  },
  {
   "cell_type": "code",
   "execution_count": 33,
   "id": "d81013b6-3314-4f75-9fef-fc5d2712d395",
   "metadata": {},
   "outputs": [
    {
     "data": {
      "text/plain": [
       "[200.0456964935684, 100.23148922079085, 200.15768657212232]"
      ]
     },
     "execution_count": 33,
     "metadata": {},
     "output_type": "execute_result"
    }
   ],
   "source": [
    "medians_far = bootstrap_statistic(far_from_100, median, 100)\n",
    "medians_far[:3]"
   ]
  },
  {
   "cell_type": "code",
   "execution_count": 34,
   "id": "96213443-3160-4f9a-af7b-85d1f94d9eb0",
   "metadata": {},
   "outputs": [
    {
     "data": {
      "text/plain": [
       "0.03297014219316836"
      ]
     },
     "execution_count": 34,
     "metadata": {},
     "output_type": "execute_result"
    }
   ],
   "source": [
    "standard_deviation(medians_close)"
   ]
  },
  {
   "cell_type": "code",
   "execution_count": 35,
   "id": "b2569fc0-6810-43f2-a5a3-2c259a9e2651",
   "metadata": {},
   "outputs": [],
   "source": [
    "assert standard_deviation(medians_close) < 1"
   ]
  },
  {
   "cell_type": "code",
   "execution_count": 36,
   "id": "b391e088-50b7-4880-b685-8cde546bb2b2",
   "metadata": {},
   "outputs": [
    {
     "data": {
      "text/plain": [
       "96.96111685099788"
      ]
     },
     "execution_count": 36,
     "metadata": {},
     "output_type": "execute_result"
    }
   ],
   "source": [
    "standard_deviation(medians_far)"
   ]
  },
  {
   "cell_type": "code",
   "execution_count": 37,
   "id": "b00d325d-e48a-4bfc-9c50-d0dd16d14cca",
   "metadata": {},
   "outputs": [],
   "source": [
    "assert standard_deviation(medians_far) > 90"
   ]
  },
  {
   "cell_type": "code",
   "execution_count": 38,
   "id": "5ce1c615-8782-46b7-b8cf-f39e665b0549",
   "metadata": {},
   "outputs": [
    {
     "name": "stdout",
     "output_type": "stream",
     "text": [
      "importing Jupyter notebook from probability.ipynb\n"
     ]
    },
    {
     "data": {
      "text/plain": [
       "<Figure size 432x288 with 0 Axes>"
      ]
     },
     "metadata": {},
     "output_type": "display_data"
    }
   ],
   "source": [
    "from probability import normal_cdf"
   ]
  },
  {
   "cell_type": "code",
   "execution_count": 39,
   "id": "34a67512-f1e7-4a67-9e98-ee415a38a2f8",
   "metadata": {},
   "outputs": [],
   "source": [
    "def p_value(beta_hat_j: float, sigma_hat_j: float) -> float:\n",
    "    if beta_hat_j > 0:\n",
    "        # if the coefficient is positive, we need to compute twice the\n",
    "        # probability of seeing an even *larger* value\n",
    "        return 2 * (1 - normal_cdf(beta_hat_j / sigma_hat_j))\n",
    "    else:\n",
    "        # otherwise twice the probability of seeing a *smaller* value\n",
    "        return 2 * normal_cdf(beta_hat_j / sigma_hat_j)"
   ]
  },
  {
   "cell_type": "code",
   "execution_count": 40,
   "id": "edc57ef3-d45c-42e6-aded-a7cab957df49",
   "metadata": {},
   "outputs": [],
   "source": [
    "assert p_value(30.58, 1.27)   < 0.001  # constant term\n",
    "assert p_value(0.972, 0.103)  < 0.001  # num_friends\n",
    "assert p_value(-1.865, 0.155) < 0.001  # work_hours\n",
    "assert p_value(0.923, 1.249)  > 0.4    # phd"
   ]
  },
  {
   "cell_type": "code",
   "execution_count": 41,
   "id": "cc194a08-2c16-4841-bbdd-92ed14811b07",
   "metadata": {},
   "outputs": [],
   "source": [
    "# alpha is a *hyperparameter* controlling how harsh the penalty is\n",
    "# sometimes it's called \"lambda\" but that already means something in Python\n",
    "def ridge_penalty(beta: Vector, alpha: float) -> float:\n",
    "    return alpha * dot(beta[1:], beta[1:])"
   ]
  },
  {
   "cell_type": "code",
   "execution_count": 42,
   "id": "7f6aa656-4646-4181-ac19-c6a8ab00ae18",
   "metadata": {},
   "outputs": [],
   "source": [
    "def squared_error_ridge(x: Vector,\n",
    "                        y: float,\n",
    "                        beta: Vector,\n",
    "                        alpha: float) -> float:\n",
    "    \"\"\"estimate error plus ridge penalty on beta\"\"\"\n",
    "    return error(x, y, beta) ** 2 + ridge_penalty(beta, alpha)"
   ]
  },
  {
   "cell_type": "code",
   "execution_count": 43,
   "id": "68b8a940-4231-4be4-96d4-e6eb166d324b",
   "metadata": {},
   "outputs": [],
   "source": [
    "from linear_algebra import add"
   ]
  },
  {
   "cell_type": "code",
   "execution_count": 44,
   "id": "55af855f-b40c-4235-af70-f49decd00e11",
   "metadata": {},
   "outputs": [],
   "source": [
    "def ridge_penalty_gradient(beta: Vector, alpha: float) -> Vector:\n",
    "    \"\"\"gradient of just the ridge penalty\"\"\"\n",
    "    return [0.] + [2 * alpha * beta_j for beta_j in beta[1:]]"
   ]
  },
  {
   "cell_type": "code",
   "execution_count": 45,
   "id": "9e6bda6f-8595-49a5-9e4a-82251c18457c",
   "metadata": {},
   "outputs": [],
   "source": [
    "def sqerror_ridge_gradient(x: Vector,\n",
    "                           y: float,\n",
    "                           beta: Vector,\n",
    "                           alpha: float) -> Vector:\n",
    "    \"\"\"\n",
    "    the gradient corresponding to the ith squared error term\n",
    "    including the ridge penalty\n",
    "    \"\"\"\n",
    "    return add(sqerror_gradient(x, y, beta),\n",
    "               ridge_penalty_gradient(beta, alpha))"
   ]
  },
  {
   "cell_type": "code",
   "execution_count": 46,
   "id": "87e6f7a3-1be9-4a5e-9305-3a4604f4e697",
   "metadata": {},
   "outputs": [],
   "source": [
    "#from statistics import daily_minutes_good\n",
    "from gradient_descent import gradient_step"
   ]
  },
  {
   "cell_type": "markdown",
   "id": "509b3a87-746f-4f63-a8c6-48fb13bf3538",
   "metadata": {},
   "source": [
    "#### adicionado daily_minutes_good from statistics"
   ]
  },
  {
   "cell_type": "code",
   "execution_count": 47,
   "id": "645b4d2a-9985-45bd-a81d-9a4b33808fc5",
   "metadata": {},
   "outputs": [],
   "source": [
    "daily_minutes = [1,68.77,51.25,52.08,38.36,44.54,57.13,51.4,41.42,31.22,34.76,54.01,38.79,47.59,49.1,27.66,41.03,36.73,48.65,28.12,46.62,35.57,32.98,35,26.07,23.77,39.73,40.57,31.65,31.21,36.32,20.45,21.93,26.02,27.34,23.49,46.94,30.5,33.8,24.23,21.4,27.94,32.24,40.57,25.07,19.42,22.39,18.42,46.96,23.72,26.41,26.97,36.76,40.32,35.02,29.47,30.2,31,38.11,38.18,36.31,21.03,30.86,36.07,28.66,29.08,37.28,15.28,24.17,22.31,30.17,25.53,19.85,35.37,44.6,17.23,13.47,26.33,35.02,32.09,24.81,19.33,28.77,24.26,31.98,25.73,24.86,16.28,34.51,15.23,39.72,40.8,26.06,35.76,34.76,16.13,44.04,18.03,19.65,32.62,35.59,39.43,14.18,35.24,40.13,41.82,35.45,36.07,43.67,24.61,20.9,21.9,18.79,27.61,27.21,26.61,29.77,20.59,27.53,13.82,33.2,25,33.1,36.65,18.63,14.87,22.2,36.81,25.53,24.62,26.25,18.21,28.08,19.42,29.79,32.8,35.99,28.32,27.79,35.88,29.06,36.28,14.1,36.63,37.49,26.9,18.58,38.48,24.48,18.95,33.55,14.24,29.04,32.51,25.63,22.22,19,32.73,15.16,13.9,27.2,32.01,29.27,33,13.74,20.42,27.32,18.23,35.35,28.48,9.08,24.62,20.12,35.26,19.92,31.02,16.49,12.16,30.7,31.22,34.65,13.13,27.51,33.2,31.57,14.1,33.42,17.44,10.12,24.42,9.82,23.39,30.93,15.03,21.67,31.09,33.29,22.61,26.89,23.48,8.38,27.81,32.35,23.84]\n"
   ]
  },
  {
   "cell_type": "code",
   "execution_count": 48,
   "id": "63faa6b6-4d93-4427-a878-d9b16b217a24",
   "metadata": {},
   "outputs": [],
   "source": [
    "num_friends = [100.0,49,41,40,25,21,21,19,19,18,18,16,15,15,15,15,14,14,13,13,13,13,12,12,11,10,10,10,10,10,10,10,10,10,10,10,10,10,10,10,9,9,9,9,9,9,9,9,9,9,9,9,9,9,9,9,9,9,8,8,8,8,8,8,8,8,8,8,8,8,8,7,7,7,7,7,7,7,7,7,7,7,7,7,7,7,6,6,6,6,6,6,6,6,6,6,6,6,6,6,6,6,6,6,6,6,6,6,5,5,5,5,5,5,5,5,5,5,5,5,5,5,5,5,5,4,4,4,4,4,4,4,4,4,4,4,4,4,4,4,4,4,4,4,4,3,3,3,3,3,3,3,3,3,3,3,3,3,3,3,3,3,3,3,3,2,2,2,2,2,2,2,2,2,2,2,2,2,2,2,2,2,1,1,1,1,1,1,1,1,1,1,1,1,1,1,1,1,1,1,1,1,1,1]\n"
   ]
  },
  {
   "cell_type": "code",
   "execution_count": 49,
   "id": "94f3c7b9-a0b1-4bf9-903c-81065312afd4",
   "metadata": {},
   "outputs": [],
   "source": [
    "outlier = num_friends.index(100)"
   ]
  },
  {
   "cell_type": "code",
   "execution_count": 50,
   "id": "76d0b286-edc0-481e-a5f7-bbd15db5f1c8",
   "metadata": {},
   "outputs": [],
   "source": [
    "num_friends_good = [x\n",
    "                    for i, x in enumerate(num_friends)\n",
    "                    if i != outlier]\n",
    "\n",
    "daily_minutes_good = [x\n",
    "                      for i, x in enumerate(daily_minutes)\n",
    "                      if i != outlier]\n",
    "\n",
    "daily_hours_good = [dm / 60 for dm in daily_minutes_good]"
   ]
  },
  {
   "cell_type": "markdown",
   "id": "6e344304-b805-4262-8921-c855b586cd16",
   "metadata": {},
   "source": [
    "#### end up here"
   ]
  },
  {
   "cell_type": "code",
   "execution_count": 51,
   "id": "9fc03735-46a6-4ad1-8b2f-9fa2211c8e44",
   "metadata": {},
   "outputs": [],
   "source": [
    "learning_rate = 0.001"
   ]
  },
  {
   "cell_type": "code",
   "execution_count": 52,
   "id": "a31521a2-0d4a-47f4-a59f-496dc4a91181",
   "metadata": {},
   "outputs": [],
   "source": [
    "def least_squares_fit_ridge(xs: List[Vector],\n",
    "                            ys: List[float],\n",
    "                            alpha: float,\n",
    "                            learning_rate: float,\n",
    "                            num_steps: int,\n",
    "                            batch_size: int = 1) -> Vector:\n",
    "    # Start guess with mean\n",
    "    guess = [random.random() for _ in xs[0]]\n",
    "\n",
    "    for i in range(num_steps):\n",
    "        for start in range(0, len(xs), batch_size):\n",
    "            batch_xs = xs[start:start+batch_size]\n",
    "            batch_ys = ys[start:start+batch_size]\n",
    "\n",
    "            gradient = vector_mean([sqerror_ridge_gradient(x, y, guess, alpha)\n",
    "                                    for x, y in zip(batch_xs, batch_ys)])\n",
    "            guess = gradient_step(guess, gradient, -learning_rate)\n",
    "\n",
    "    return guess"
   ]
  },
  {
   "cell_type": "code",
   "execution_count": 53,
   "id": "dad20489-2b98-49f8-8bf7-8b779e0232d8",
   "metadata": {},
   "outputs": [],
   "source": [
    "def lasso_penalty(beta, alpha):\n",
    "    return alpha * sum(abs(beta_i) for beta_i in beta[1:])"
   ]
  },
  {
   "cell_type": "code",
   "execution_count": 54,
   "id": "04ffbc82-86b8-471b-9dba-290ba58aa01e",
   "metadata": {},
   "outputs": [],
   "source": [
    "# def main():"
   ]
  },
  {
   "cell_type": "code",
   "execution_count": 55,
   "id": "0ce1fdea-4ab1-4d52-9357-c23b9ea7b2a9",
   "metadata": {},
   "outputs": [],
   "source": [
    "#from statistics import daily_minutes_good\n",
    "from gradient_descent import gradient_step"
   ]
  },
  {
   "cell_type": "code",
   "execution_count": 56,
   "id": "cc70b35b-f741-41fd-b008-11f078fb8b3c",
   "metadata": {},
   "outputs": [],
   "source": [
    "random.seed(0)\n",
    "# I used trial and error to choose niters and step_size.\n",
    "# This will run for a while.\n",
    "learning_rate = 0.001"
   ]
  },
  {
   "cell_type": "code",
   "execution_count": 57,
   "id": "a1e0b64c-1b1e-4d0a-a6f9-c97959784498",
   "metadata": {},
   "outputs": [
    {
     "name": "stderr",
     "output_type": "stream",
     "text": [
      "least squares fit: 100%|███████████████████████████████████████████████████████████████████| 5000/5000 [00:01<00:00, 2514.51it/s]\n"
     ]
    }
   ],
   "source": [
    "beta = least_squares_fit(inputs, daily_minutes_good, learning_rate, 5000, 25)\n",
    "assert 30.50 < beta[0] < 30.70  # constant\n",
    "assert  0.96 < beta[1] <  1.00  # num friends\n",
    "assert -1.89 < beta[2] < -1.85  # work hours per day\n",
    "assert  0.91 < beta[3] <  0.94  # has PhD"
   ]
  },
  {
   "cell_type": "code",
   "execution_count": 58,
   "id": "58a229e6-815b-4f61-90b5-2a83c71ab26d",
   "metadata": {},
   "outputs": [
    {
     "data": {
      "text/plain": [
       "[30.514795945185586, 0.9748274277323267, -1.8506912934343662, 0.91407780744768]"
      ]
     },
     "execution_count": 58,
     "metadata": {},
     "output_type": "execute_result"
    }
   ],
   "source": [
    "beta[:4]"
   ]
  },
  {
   "cell_type": "code",
   "execution_count": 59,
   "id": "aea58997-526c-4220-9320-c9e6bcda5d37",
   "metadata": {},
   "outputs": [],
   "source": [
    "assert 0.67 < multiple_r_squared(inputs, daily_minutes_good, beta) < 0.68"
   ]
  },
  {
   "cell_type": "code",
   "execution_count": 60,
   "id": "3c4cad1b-79bd-4807-ab2f-b9ee74b672bd",
   "metadata": {},
   "outputs": [
    {
     "data": {
      "text/plain": [
       "0.6799849346187969"
      ]
     },
     "execution_count": 60,
     "metadata": {},
     "output_type": "execute_result"
    }
   ],
   "source": [
    "multiple_r_squared(inputs, daily_minutes_good, beta)"
   ]
  },
  {
   "cell_type": "code",
   "execution_count": 61,
   "id": "709b75d8-dafc-468a-ae48-bcff18b91fb8",
   "metadata": {},
   "outputs": [],
   "source": [
    "from typing import Tuple\n",
    "    \n",
    "import datetime"
   ]
  },
  {
   "cell_type": "code",
   "execution_count": 62,
   "id": "974a34aa-58c9-4e42-a9ed-946b63d5372d",
   "metadata": {},
   "outputs": [],
   "source": [
    "def estimate_sample_beta(pairs: List[Tuple[Vector, float]]):\n",
    "        x_sample = [x for x, _ in pairs]\n",
    "        y_sample = [y for _, y in pairs]\n",
    "        beta = least_squares_fit(x_sample, y_sample, learning_rate, 5000, 25)\n",
    "        print(\"bootstrap sample\", beta)\n",
    "        return beta"
   ]
  },
  {
   "cell_type": "code",
   "execution_count": 63,
   "id": "07129b9e-95ff-412e-9dd3-9dd488f9b4c4",
   "metadata": {},
   "outputs": [],
   "source": [
    "random.seed(0) # so that you get the same results as me"
   ]
  },
  {
   "cell_type": "code",
   "execution_count": 64,
   "id": "04a14c82-c6fa-4795-82db-a87eb8c23fc5",
   "metadata": {},
   "outputs": [
    {
     "name": "stderr",
     "output_type": "stream",
     "text": [
      "least squares fit: 100%|███████████████████████████████████████████████████████████████████| 5000/5000 [00:01<00:00, 2520.00it/s]\n"
     ]
    },
    {
     "name": "stdout",
     "output_type": "stream",
     "text": [
      "bootstrap sample [30.49402029547432, 1.0393791030498776, -1.9516851948558502, 0.7483721251697333]\n"
     ]
    },
    {
     "name": "stderr",
     "output_type": "stream",
     "text": [
      "least squares fit: 100%|███████████████████████████████████████████████████████████████████| 5000/5000 [00:02<00:00, 2487.84it/s]"
     ]
    },
    {
     "name": "stdout",
     "output_type": "stream",
     "text": [
      "bootstrap sample [30.149963287526045, 1.0005300432763113, -2.0650380122822543, 3.177179854834797]\n"
     ]
    },
    {
     "name": "stderr",
     "output_type": "stream",
     "text": [
      "\n"
     ]
    }
   ],
   "source": [
    "# This will take a couple of minutes!\n",
    "bootstrap_betas = bootstrap_statistic(list(zip(inputs, daily_minutes_good)),\n",
    "                                      estimate_sample_beta,\n",
    "                                      2)"
   ]
  },
  {
   "cell_type": "code",
   "execution_count": 65,
   "id": "80c4282b-a3d3-46c1-8553-4c974392aae8",
   "metadata": {},
   "outputs": [
    {
     "name": "stdout",
     "output_type": "stream",
     "text": [
      "[0.24328504343497992, 0.027470433608610203, 0.08015254586881093, 1.7174264158444694]\n"
     ]
    }
   ],
   "source": [
    "bootstrap_standard_errors = [\n",
    "    standard_deviation([beta[i] for beta in bootstrap_betas])\n",
    "    for i in range(4)]\n",
    "\n",
    "print(bootstrap_standard_errors)"
   ]
  },
  {
   "cell_type": "code",
   "execution_count": 66,
   "id": "d609c637-e757-4e0a-a9df-354db04cef75",
   "metadata": {},
   "outputs": [],
   "source": [
    "# [1.272,    # constant term, actual error = 1.19\n",
    "#  0.103,    # num_friends,   actual error = 0.080\n",
    "#  0.155,    # work_hours,    actual error = 0.127\n",
    "#  1.249]    # phd,           actual error = 0.998"
   ]
  },
  {
   "cell_type": "code",
   "execution_count": 67,
   "id": "f91fb330-9eaf-44b3-9f8f-5368b3f4adb0",
   "metadata": {},
   "outputs": [
    {
     "data": {
      "text/plain": [
       "[30.514795945185586, 0.9748274277323267, -1.8506912934343662, 0.91407780744768]"
      ]
     },
     "execution_count": 67,
     "metadata": {},
     "output_type": "execute_result"
    }
   ],
   "source": [
    "random.seed(0)\n",
    "beta_0 = least_squares_fit_ridge(inputs, daily_minutes_good, 0.0,  # alpha\n",
    "                                 learning_rate, 5000, 25)\n",
    "beta_0"
   ]
  },
  {
   "cell_type": "code",
   "execution_count": 68,
   "id": "8cb25101-7439-4fd1-b7f6-2ce0b917bfc4",
   "metadata": {},
   "outputs": [],
   "source": [
    "# [30.51, 0.97, -1.85, 0.91]\n",
    "assert 5 < dot(beta_0[1:], beta_0[1:]) < 6\n",
    "assert 0.67 < multiple_r_squared(inputs, daily_minutes_good, beta_0) < 0.69"
   ]
  },
  {
   "cell_type": "code",
   "execution_count": 69,
   "id": "90a38545-28d4-4938-ab44-c1c13488696c",
   "metadata": {},
   "outputs": [],
   "source": [
    "beta_0_1 = least_squares_fit_ridge(inputs, daily_minutes_good, 0.1,  # alpha\n",
    "                                       learning_rate, 5000, 25)"
   ]
  },
  {
   "cell_type": "code",
   "execution_count": 70,
   "id": "83c18793-2df3-456f-ab08-bf683cd512d9",
   "metadata": {},
   "outputs": [
    {
     "data": {
      "text/plain": [
       "[30.80152599845916, 0.9507225777158704, -1.833142990416332, 0.5384447644638315]"
      ]
     },
     "execution_count": 70,
     "metadata": {},
     "output_type": "execute_result"
    }
   ],
   "source": [
    "beta_0_1"
   ]
  },
  {
   "cell_type": "code",
   "execution_count": 71,
   "id": "7bac1b52-78fa-458e-8ebc-ba4c23d5fdcb",
   "metadata": {},
   "outputs": [],
   "source": [
    "# [30.8, 0.95, -1.83, 0.54]\n",
    "assert 4 < dot(beta_0_1[1:], beta_0_1[1:]) < 5\n",
    "assert 0.67 < multiple_r_squared(inputs, daily_minutes_good, beta_0_1) < 0.69"
   ]
  },
  {
   "cell_type": "code",
   "execution_count": 72,
   "id": "15dbb110-4ef0-4f3c-8f52-3ba972c360cb",
   "metadata": {},
   "outputs": [],
   "source": [
    "beta_1 = least_squares_fit_ridge(inputs, daily_minutes_good, 1,  # alpha\n",
    "                                     learning_rate, 5000, 25)"
   ]
  },
  {
   "cell_type": "code",
   "execution_count": 73,
   "id": "122b5388-e88d-453f-a8dd-b46a782dacf8",
   "metadata": {},
   "outputs": [
    {
     "data": {
      "text/plain": [
       "[30.64980857808465,\n",
       " 0.8971525641581909,\n",
       " -1.6767995323859526,\n",
       " 0.10444589873012239]"
      ]
     },
     "execution_count": 73,
     "metadata": {},
     "output_type": "execute_result"
    }
   ],
   "source": [
    "beta_1"
   ]
  },
  {
   "cell_type": "code",
   "execution_count": 74,
   "id": "8fafb009-2201-4970-ab4a-e7f342c0f44e",
   "metadata": {},
   "outputs": [],
   "source": [
    "# [30.6, 0.90, -1.68, 0.10]\n",
    "assert 3 < dot(beta_1[1:], beta_1[1:]) < 4\n",
    "assert 0.67 < multiple_r_squared(inputs, daily_minutes_good, beta_1) < 0.69"
   ]
  },
  {
   "cell_type": "code",
   "execution_count": 75,
   "id": "c31f7339-2dba-4bb1-91c0-01a0c0596b1d",
   "metadata": {},
   "outputs": [],
   "source": [
    "beta_10 = least_squares_fit_ridge(inputs, daily_minutes_good,10,  # alpha\n",
    "                                      learning_rate, 5000, 25)"
   ]
  },
  {
   "cell_type": "code",
   "execution_count": 76,
   "id": "bb4dda77-dbda-4e91-a740-d46b0a843ca7",
   "metadata": {},
   "outputs": [
    {
     "data": {
      "text/plain": [
       "[28.30708308025664,\n",
       " 0.6726275942984854,\n",
       " -0.9045499907700505,\n",
       " -0.0052131931011540865]"
      ]
     },
     "execution_count": 76,
     "metadata": {},
     "output_type": "execute_result"
    }
   ],
   "source": [
    "beta_10"
   ]
  },
  {
   "cell_type": "code",
   "execution_count": 77,
   "id": "58609db2-a76e-43e2-8a2c-d13077b40d4e",
   "metadata": {},
   "outputs": [],
   "source": [
    " # [28.3, 0.67, -0.90, -0.01]\n",
    "assert 1 < dot(beta_10[1:], beta_10[1:]) < 2\n",
    "assert 0.5 < multiple_r_squared(inputs, daily_minutes_good, beta_10) < 0.6"
   ]
  },
  {
   "cell_type": "code",
   "execution_count": 78,
   "id": "9d99b9d1-87c4-4d71-97f2-6a6a323e450c",
   "metadata": {},
   "outputs": [],
   "source": [
    "# if __name__ == \"__main__\": main()"
   ]
  },
  {
   "cell_type": "code",
   "execution_count": null,
   "id": "61e3b0ab-de98-4e1a-9bab-6574113e68a0",
   "metadata": {},
   "outputs": [],
   "source": []
  }
 ],
 "metadata": {
  "kernelspec": {
   "display_name": "Python 3 (ipykernel)",
   "language": "python",
   "name": "python3"
  },
  "language_info": {
   "codemirror_mode": {
    "name": "ipython",
    "version": 3
   },
   "file_extension": ".py",
   "mimetype": "text/x-python",
   "name": "python",
   "nbconvert_exporter": "python",
   "pygments_lexer": "ipython3",
   "version": "3.10.2"
  }
 },
 "nbformat": 4,
 "nbformat_minor": 5
}
