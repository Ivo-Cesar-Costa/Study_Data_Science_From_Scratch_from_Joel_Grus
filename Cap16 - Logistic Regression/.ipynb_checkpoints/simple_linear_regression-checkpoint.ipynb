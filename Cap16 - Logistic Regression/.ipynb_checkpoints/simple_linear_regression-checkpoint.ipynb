{
 "cells": [
  {
   "cell_type": "code",
   "execution_count": 1,
   "id": "03a7a339-c2de-4159-be52-d0f668159025",
   "metadata": {},
   "outputs": [],
   "source": [
    "def predict(alpha: float, beta: float, x_i: float) -> float:\n",
    "    return beta * x_i + alpha"
   ]
  },
  {
   "cell_type": "code",
   "execution_count": 2,
   "id": "294453f9-262f-4624-8ea8-05740571ff42",
   "metadata": {},
   "outputs": [],
   "source": [
    "def error(alpha: float, beta: float, x_i: float, y_i: float) -> float:\n",
    "    \"\"\"\n",
    "    The error from predicting beta * x_i + alpha\n",
    "    when the actual value is y_i\n",
    "    \"\"\"\n",
    "    return predict(alpha, beta, x_i) - y_i"
   ]
  },
  {
   "cell_type": "code",
   "execution_count": 3,
   "id": "c3a60a49-8661-46ab-9470-af8cfdf13ff6",
   "metadata": {},
   "outputs": [
    {
     "name": "stdout",
     "output_type": "stream",
     "text": [
      "importing Jupyter notebook from linear_algebra.ipynb\n"
     ]
    }
   ],
   "source": [
    "import import_ipynb\n",
    "from linear_algebra import Vector"
   ]
  },
  {
   "cell_type": "code",
   "execution_count": 4,
   "id": "239eea45-71b1-4034-8072-712417625f5d",
   "metadata": {},
   "outputs": [],
   "source": [
    "def sum_of_sqerrors(alpha: float, beta: float, x: Vector, y: Vector) -> float:\n",
    "    return sum(error(alpha, beta, x_i, y_i) ** 2\n",
    "               for x_i, y_i in zip(x, y))"
   ]
  },
  {
   "cell_type": "code",
   "execution_count": 5,
   "id": "bae34108-9370-4e98-9588-99176fc0203e",
   "metadata": {},
   "outputs": [],
   "source": [
    "from typing import Tuple\n",
    "from linear_algebra import Vector, sum_of_squares\n",
    "from statistics import correlation, mean"
   ]
  },
  {
   "cell_type": "markdown",
   "id": "aa9a9f26-2b79-43f7-bdd4-5f4782acf842",
   "metadata": {},
   "source": [
    "#### adicionado standard_deviation"
   ]
  },
  {
   "cell_type": "code",
   "execution_count": 6,
   "id": "4f7f76dd-d658-41f7-953d-23496790ce1f",
   "metadata": {},
   "outputs": [],
   "source": [
    "from typing import List\n",
    "import math\n",
    "\n",
    "def mean(xs: List[float]) -> float:\n",
    "    return sum(xs) / len(xs)"
   ]
  },
  {
   "cell_type": "code",
   "execution_count": 7,
   "id": "5b8a2099-d39e-4ccc-9933-ac46a8e93d93",
   "metadata": {},
   "outputs": [],
   "source": [
    "def de_mean(xs: List[float]) -> List[float]:\n",
    "    \"\"\"Translate xs by subtracting its mean (so the result has mean 0)\"\"\"\n",
    "    x_bar = mean(xs)\n",
    "    return [x - x_bar for x in xs]"
   ]
  },
  {
   "cell_type": "code",
   "execution_count": 8,
   "id": "3fa1642f-6ddf-4457-b712-00444f64c9ee",
   "metadata": {},
   "outputs": [],
   "source": [
    "def variance(xs: List[float]) -> float:\n",
    "    \"\"\"Almost the average squared deviation from the mean\"\"\"\n",
    "    assert len(xs) >= 2, \"variance requires at least two elements\"\n",
    "\n",
    "    n = len(xs)\n",
    "    deviations = de_mean(xs)\n",
    "    return sum_of_squares(deviations) / (n - 1)"
   ]
  },
  {
   "cell_type": "code",
   "execution_count": 9,
   "id": "b1c9baef-d641-4735-b2b8-695a54853ba4",
   "metadata": {},
   "outputs": [],
   "source": [
    "def standard_deviation(xs: List[float]) -> float:\n",
    "    \"\"\"The standard deviation is the square root of the variance\"\"\"\n",
    "    return math.sqrt(variance(xs))"
   ]
  },
  {
   "cell_type": "markdown",
   "id": "2a5d317e-df0b-424f-bb11-072188806090",
   "metadata": {},
   "source": [
    "#### acaba aqui o acrescimo"
   ]
  },
  {
   "cell_type": "code",
   "execution_count": 10,
   "id": "223a2bc3-2771-4024-972f-6491fba5dc8b",
   "metadata": {},
   "outputs": [],
   "source": [
    "def least_squares_fit(x: Vector, y: Vector) -> Tuple[float, float]:\n",
    "    \"\"\"\n",
    "    Given two vectors x and y,\n",
    "    find the least-squares values of alpha and beta\n",
    "    \"\"\"\n",
    "    beta = correlation(x, y) * standard_deviation(y) / standard_deviation(x)\n",
    "    alpha = mean(y) - beta * mean(x)\n",
    "    return alpha, beta"
   ]
  },
  {
   "cell_type": "code",
   "execution_count": 11,
   "id": "ad45e34b-d61d-4e4a-a2b4-a8d422da957e",
   "metadata": {},
   "outputs": [],
   "source": [
    "x = [i for i in range(-100, 110, 10)]\n",
    "y = [3 * i - 5 for i in x]"
   ]
  },
  {
   "cell_type": "code",
   "execution_count": 12,
   "id": "516a6dc8-3627-424b-8ad6-f7c073aebbc0",
   "metadata": {},
   "outputs": [
    {
     "data": {
      "text/plain": [
       "([-100, -90, -80, -70, -60], [-305, -275, -245, -215, -185])"
      ]
     },
     "execution_count": 12,
     "metadata": {},
     "output_type": "execute_result"
    }
   ],
   "source": [
    "x[:5], y[:5]"
   ]
  },
  {
   "cell_type": "code",
   "execution_count": 13,
   "id": "9705d098-22c6-4651-9dc9-9d5d24255b61",
   "metadata": {},
   "outputs": [],
   "source": [
    "# Should find that y = 3x - 5\n",
    "assert least_squares_fit(x, y) == (-5, 3)"
   ]
  },
  {
   "cell_type": "code",
   "execution_count": 36,
   "id": "af59d2ee-61de-4094-87ad-ff91c70f2655",
   "metadata": {},
   "outputs": [],
   "source": [
    "# from statistics import num_friends_good, daily_minutes_good"
   ]
  },
  {
   "cell_type": "markdown",
   "id": "12f2d547-9666-4a87-8724-3fb72d985d3f",
   "metadata": {},
   "source": [
    "#### adicionado num_friends, daily_minutes, outlier, num_friends_good, daily_minutes_good "
   ]
  },
  {
   "cell_type": "code",
   "execution_count": 15,
   "id": "8ac0b5a3-8aee-4ec7-b992-9745292b1773",
   "metadata": {},
   "outputs": [],
   "source": [
    "num_friends = [100.0,49,41,40,25,21,21,19,19,18,18,16,15,15,15,15,14,14,13,13,13,13,12,12,11,10,10,10,10,10,10,10,10,10,10,10,10,10,10,10,9,9,9,9,9,9,9,9,9,9,9,9,9,9,9,9,9,9,8,8,8,8,8,8,8,8,8,8,8,8,8,7,7,7,7,7,7,7,7,7,7,7,7,7,7,7,6,6,6,6,6,6,6,6,6,6,6,6,6,6,6,6,6,6,6,6,6,6,5,5,5,5,5,5,5,5,5,5,5,5,5,5,5,5,5,4,4,4,4,4,4,4,4,4,4,4,4,4,4,4,4,4,4,4,4,3,3,3,3,3,3,3,3,3,3,3,3,3,3,3,3,3,3,3,3,2,2,2,2,2,2,2,2,2,2,2,2,2,2,2,2,2,1,1,1,1,1,1,1,1,1,1,1,1,1,1,1,1,1,1,1,1,1,1]"
   ]
  },
  {
   "cell_type": "code",
   "execution_count": 16,
   "id": "4a3d70f0-96ba-4d99-a7ec-9361b320e621",
   "metadata": {},
   "outputs": [],
   "source": [
    "daily_minutes = [1,68.77,51.25,52.08,38.36,44.54,57.13,51.4,41.42,31.22,34.76,54.01,38.79,47.59,49.1,27.66,41.03,36.73,48.65,28.12,46.62,35.57,32.98,35,26.07,23.77,39.73,40.57,31.65,31.21,36.32,20.45,21.93,26.02,27.34,23.49,46.94,30.5,33.8,24.23,21.4,27.94,32.24,40.57,25.07,19.42,22.39,18.42,46.96,23.72,26.41,26.97,36.76,40.32,35.02,29.47,30.2,31,38.11,38.18,36.31,21.03,30.86,36.07,28.66,29.08,37.28,15.28,24.17,22.31,30.17,25.53,19.85,35.37,44.6,17.23,13.47,26.33,35.02,32.09,24.81,19.33,28.77,24.26,31.98,25.73,24.86,16.28,34.51,15.23,39.72,40.8,26.06,35.76,34.76,16.13,44.04,18.03,19.65,32.62,35.59,39.43,14.18,35.24,40.13,41.82,35.45,36.07,43.67,24.61,20.9,21.9,18.79,27.61,27.21,26.61,29.77,20.59,27.53,13.82,33.2,25,33.1,36.65,18.63,14.87,22.2,36.81,25.53,24.62,26.25,18.21,28.08,19.42,29.79,32.8,35.99,28.32,27.79,35.88,29.06,36.28,14.1,36.63,37.49,26.9,18.58,38.48,24.48,18.95,33.55,14.24,29.04,32.51,25.63,22.22,19,32.73,15.16,13.9,27.2,32.01,29.27,33,13.74,20.42,27.32,18.23,35.35,28.48,9.08,24.62,20.12,35.26,19.92,31.02,16.49,12.16,30.7,31.22,34.65,13.13,27.51,33.2,31.57,14.1,33.42,17.44,10.12,24.42,9.82,23.39,30.93,15.03,21.67,31.09,33.29,22.61,26.89,23.48,8.38,27.81,32.35,23.84]"
   ]
  },
  {
   "cell_type": "code",
   "execution_count": 17,
   "id": "77631241-8d84-41fa-9c25-841f6203bace",
   "metadata": {},
   "outputs": [],
   "source": [
    "outlier = num_friends.index(100)\n",
    "\n",
    "num_friends_good = [x\n",
    "                    for i, x in enumerate(num_friends)\n",
    "                    if i != outlier]\n",
    "\n",
    "daily_minutes_good = [x\n",
    "                      for i, x in enumerate(daily_minutes)\n",
    "                      if i != outlier]"
   ]
  },
  {
   "cell_type": "markdown",
   "id": "b267c577-8e2b-40da-9212-3ab538b8ed8d",
   "metadata": {},
   "source": [
    "#### termina aqui"
   ]
  },
  {
   "cell_type": "code",
   "execution_count": 18,
   "id": "ac1f5307-09c6-485c-8b5f-54cd230fbc53",
   "metadata": {},
   "outputs": [
    {
     "data": {
      "text/plain": [
       "(22.947552413469, 0.9038659456058691)"
      ]
     },
     "execution_count": 18,
     "metadata": {},
     "output_type": "execute_result"
    }
   ],
   "source": [
    "alpha, beta = least_squares_fit(num_friends_good, daily_minutes_good)\n",
    "alpha, beta"
   ]
  },
  {
   "cell_type": "code",
   "execution_count": 19,
   "id": "9b25d255-4f33-40e8-9096-c004cf00b633",
   "metadata": {},
   "outputs": [],
   "source": [
    "assert 22.9 < alpha < 23.0\n",
    "assert 0.9 < beta < 0.905"
   ]
  },
  {
   "cell_type": "code",
   "execution_count": 20,
   "id": "9905f07c-4058-4149-9656-c343317c2936",
   "metadata": {},
   "outputs": [],
   "source": [
    "# from statistics import de_mean"
   ]
  },
  {
   "cell_type": "code",
   "execution_count": 21,
   "id": "06ad1c82-8b0d-41a4-ad79-2dae77cfb812",
   "metadata": {},
   "outputs": [],
   "source": [
    "def total_sum_of_squares(y: Vector) -> float:\n",
    "    \"\"\"the total squared variation of y_i's from their mean\"\"\"\n",
    "    return sum(v ** 2 for v in de_mean(y))"
   ]
  },
  {
   "cell_type": "code",
   "execution_count": 22,
   "id": "90440842-ce7b-4c10-8dd3-dbb635c6887b",
   "metadata": {},
   "outputs": [],
   "source": [
    "def r_squared(alpha: float, beta: float, x: Vector, y: Vector) -> float:\n",
    "    \"\"\"\n",
    "    the fraction of variation in y captured by the model, which equals\n",
    "    1 - the fraction of variation in y not captured by the model\n",
    "    \"\"\"\n",
    "    return 1.0 - (sum_of_sqerrors(alpha, beta, x, y) /\n",
    "                  total_sum_of_squares(y))"
   ]
  },
  {
   "cell_type": "code",
   "execution_count": 23,
   "id": "03d0a500-285d-4c57-9394-655ff5da6e00",
   "metadata": {},
   "outputs": [
    {
     "data": {
      "text/plain": [
       "0.32910783778363073"
      ]
     },
     "execution_count": 23,
     "metadata": {},
     "output_type": "execute_result"
    }
   ],
   "source": [
    "rsq = r_squared(alpha, beta, num_friends_good, daily_minutes_good)\n",
    "rsq"
   ]
  },
  {
   "cell_type": "code",
   "execution_count": 24,
   "id": "ec7849c1-fb52-438f-9da1-d2c3d2268ed7",
   "metadata": {},
   "outputs": [],
   "source": [
    "assert 0.328 < rsq < 0.330"
   ]
  },
  {
   "cell_type": "code",
   "execution_count": 25,
   "id": "d243edb2-96fb-4c71-be3f-46c159b6e895",
   "metadata": {},
   "outputs": [],
   "source": [
    "# def main():"
   ]
  },
  {
   "cell_type": "code",
   "execution_count": 26,
   "id": "29f2bc1a-2e98-4225-b46c-0882f105f641",
   "metadata": {},
   "outputs": [
    {
     "name": "stdout",
     "output_type": "stream",
     "text": [
      "importing Jupyter notebook from gradient_descent.ipynb\n"
     ]
    }
   ],
   "source": [
    "import random\n",
    "import tqdm\n",
    "from gradient_descent import gradient_step"
   ]
  },
  {
   "cell_type": "code",
   "execution_count": 27,
   "id": "433cce7d-091f-4c99-a343-97f744b4638c",
   "metadata": {},
   "outputs": [],
   "source": [
    "num_epochs = 10000\n",
    "random.seed(0)"
   ]
  },
  {
   "cell_type": "code",
   "execution_count": 28,
   "id": "5df3cc7e-8ea9-44b8-ba68-d8ab17090903",
   "metadata": {},
   "outputs": [
    {
     "data": {
      "text/plain": [
       "[0.8444218515250481, 0.7579544029403025]"
      ]
     },
     "execution_count": 28,
     "metadata": {},
     "output_type": "execute_result"
    }
   ],
   "source": [
    "guess = [random.random(), random.random()]  # choose random value to start\n",
    "guess"
   ]
  },
  {
   "cell_type": "code",
   "execution_count": 29,
   "id": "57cfc56f-738a-4cfe-a281-4dcf5d833d08",
   "metadata": {},
   "outputs": [],
   "source": [
    "learning_rate = 0.00001"
   ]
  },
  {
   "cell_type": "code",
   "execution_count": 30,
   "id": "e7aa4d9e-daeb-4439-bbbd-9f7ab4ca84cc",
   "metadata": {},
   "outputs": [
    {
     "name": "stderr",
     "output_type": "stream",
     "text": [
      "loss: 13197.457:  29%|███████████████████▍                                                | 2857/10000 [00:02<00:05, 1332.89it/s]IOPub message rate exceeded.\n",
      "The Jupyter server will temporarily stop sending output\n",
      "to the client in order to avoid crashing it.\n",
      "To change this limit, set the config variable\n",
      "`--ServerApp.iopub_msg_rate_limit`.\n",
      "\n",
      "Current values:\n",
      "ServerApp.iopub_msg_rate_limit=1000.0 (msgs/sec)\n",
      "ServerApp.rate_limit_window=3.0 (secs)\n",
      "\n",
      "loss: 13196.619:  76%|███████████████████████████████████████████████████▌                | 7584/10000 [00:05<00:01, 1250.37it/s]IOPub message rate exceeded.\n",
      "The Jupyter server will temporarily stop sending output\n",
      "to the client in order to avoid crashing it.\n",
      "To change this limit, set the config variable\n",
      "`--ServerApp.iopub_msg_rate_limit`.\n",
      "\n",
      "Current values:\n",
      "ServerApp.iopub_msg_rate_limit=1000.0 (msgs/sec)\n",
      "ServerApp.rate_limit_window=3.0 (secs)\n",
      "\n",
      "loss: 13196.619: 100%|███████████████████████████████████████████████████████████████████| 10000/10000 [00:07<00:00, 1347.37it/s]\n"
     ]
    }
   ],
   "source": [
    "with tqdm.trange(num_epochs) as t:\n",
    "    for _ in t:\n",
    "        alpha, beta = guess\n",
    "    \n",
    "        # Partial derivative of loss with respect to alpha\n",
    "        grad_a = sum(2 * error(alpha, beta, x_i, y_i)\n",
    "                         for x_i, y_i in zip(num_friends_good,\n",
    "                                             daily_minutes_good))\n",
    "    \n",
    "        # Partial derivative of loss with respect to beta\n",
    "        grad_b = sum(2 * error(alpha, beta, x_i, y_i) * x_i\n",
    "                         for x_i, y_i in zip(num_friends_good,\n",
    "                                             daily_minutes_good))\n",
    "    \n",
    "        # Compute loss to stick in the tqdm description\n",
    "        loss = sum_of_sqerrors(alpha, beta,\n",
    "                                   num_friends_good, daily_minutes_good)\n",
    "        t.set_description(f\"loss: {loss:.3f}\")\n",
    "    \n",
    "            # Finally, update the guess\n",
    "        guess = gradient_step(guess, [grad_a, grad_b], -learning_rate)"
   ]
  },
  {
   "cell_type": "code",
   "execution_count": 31,
   "id": "7dc6529c-63f1-4c95-9587-04622b37affb",
   "metadata": {},
   "outputs": [
    {
     "data": {
      "text/plain": [
       "(22.947552155340915, 0.9038659662765034)"
      ]
     },
     "execution_count": 31,
     "metadata": {},
     "output_type": "execute_result"
    }
   ],
   "source": [
    "# We should get pretty much the same results\n",
    "alpha, beta = guess\n",
    "alpha, beta"
   ]
  },
  {
   "cell_type": "code",
   "execution_count": 32,
   "id": "3873f729-cf29-4f47-856c-4ba12faa0b4e",
   "metadata": {},
   "outputs": [
    {
     "data": {
      "text/plain": [
       "[22.947552155340915, 0.9038659662765034]"
      ]
     },
     "execution_count": 32,
     "metadata": {},
     "output_type": "execute_result"
    }
   ],
   "source": [
    "guess"
   ]
  },
  {
   "cell_type": "code",
   "execution_count": 33,
   "id": "d0810733-2e16-4dac-9a17-3fc02f3367e6",
   "metadata": {},
   "outputs": [],
   "source": [
    "assert 22.9 < alpha < 23.0\n",
    "assert 0.9 < beta < 0.905"
   ]
  },
  {
   "cell_type": "code",
   "execution_count": 34,
   "id": "bd67430c-bfd0-411a-ba94-2e56373b1263",
   "metadata": {},
   "outputs": [],
   "source": [
    "# if __name__ == \"__main__\": main()"
   ]
  },
  {
   "cell_type": "code",
   "execution_count": null,
   "id": "ac0375b3-b8eb-4a77-a477-281bda63b061",
   "metadata": {},
   "outputs": [],
   "source": []
  }
 ],
 "metadata": {
  "kernelspec": {
   "display_name": "Python 3 (ipykernel)",
   "language": "python",
   "name": "python3"
  },
  "language_info": {
   "codemirror_mode": {
    "name": "ipython",
    "version": 3
   },
   "file_extension": ".py",
   "mimetype": "text/x-python",
   "name": "python",
   "nbconvert_exporter": "python",
   "pygments_lexer": "ipython3",
   "version": "3.10.2"
  }
 },
 "nbformat": 4,
 "nbformat_minor": 5
}
