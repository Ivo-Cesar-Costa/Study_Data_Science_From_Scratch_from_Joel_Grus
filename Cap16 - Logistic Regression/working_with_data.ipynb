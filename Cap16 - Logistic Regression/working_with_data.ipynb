{
 "cells": [
  {
   "cell_type": "code",
   "execution_count": 1,
   "id": "85e9465a-fd7a-4e20-8924-05ac687498ce",
   "metadata": {},
   "outputs": [],
   "source": [
    "from typing import List, Dict\n",
    "from collections import Counter\n",
    "import math\n",
    "\n",
    "import matplotlib.pyplot as plt"
   ]
  },
  {
   "cell_type": "code",
   "execution_count": 2,
   "id": "1968dda4-2713-45d4-aa5f-c5f363448b3c",
   "metadata": {},
   "outputs": [],
   "source": [
    "def bucketize(point: float, bucket_size: float) -> float:\n",
    "    \"\"\"Floor the point to the next lower multiple of bucket_size\"\"\"\n",
    "    return bucket_size * math.floor(point / bucket_size)"
   ]
  },
  {
   "cell_type": "code",
   "execution_count": 3,
   "id": "f4daf12c-b61e-45b8-b6d6-39d512ae2e06",
   "metadata": {},
   "outputs": [],
   "source": [
    "def make_histogram(points: List[float], bucket_size: float) -> Dict[float, int]:\n",
    "    \"\"\"Buckets the points and counts how many in each bucket\"\"\"\n",
    "    return Counter(bucketize(point, bucket_size) for point in points)"
   ]
  },
  {
   "cell_type": "code",
   "execution_count": 4,
   "id": "71c356d3-d89b-4aa3-a86d-9b2279fee04f",
   "metadata": {},
   "outputs": [],
   "source": [
    "def plot_histogram(points: List[float], bucket_size: float, title: str = \"\"):\n",
    "    histogram = make_histogram(points, bucket_size)\n",
    "    plt.bar(histogram.keys(), histogram.values(), width=bucket_size)\n",
    "    plt.title(title)"
   ]
  },
  {
   "cell_type": "code",
   "execution_count": 5,
   "id": "fa5a19ff-90d7-4c2c-b7bf-0620e6ea2b04",
   "metadata": {},
   "outputs": [
    {
     "name": "stdout",
     "output_type": "stream",
     "text": [
      "importing Jupyter notebook from probability.ipynb\n"
     ]
    },
    {
     "data": {
      "text/plain": [
       "<Figure size 432x288 with 0 Axes>"
      ]
     },
     "metadata": {},
     "output_type": "display_data"
    }
   ],
   "source": [
    "import random\n",
    "import import_ipynb\n",
    "from probability import inverse_normal_cdf"
   ]
  },
  {
   "cell_type": "code",
   "execution_count": 6,
   "id": "0972863b-2d18-4457-9e90-c465a0eeafe5",
   "metadata": {},
   "outputs": [],
   "source": [
    "def random_normal() -> float:\n",
    "    \"\"\"Returns a random draw from a standard normal distribution\"\"\"\n",
    "    return inverse_normal_cdf(random.random())"
   ]
  },
  {
   "cell_type": "code",
   "execution_count": 7,
   "id": "5d94bef8-00cf-4aae-8611-821d65a2fb39",
   "metadata": {},
   "outputs": [
    {
     "name": "stdout",
     "output_type": "stream",
     "text": [
      "1000\n"
     ]
    },
    {
     "data": {
      "text/plain": [
       "[0.5333042144775391, -1.0316753387451172]"
      ]
     },
     "execution_count": 7,
     "metadata": {},
     "output_type": "execute_result"
    }
   ],
   "source": [
    "xs = [random_normal() for _ in range(1000)]\n",
    "print(len(xs))\n",
    "xs[:2] "
   ]
  },
  {
   "cell_type": "code",
   "execution_count": 8,
   "id": "0d69d92d-d753-462e-b0b0-87696c2c8653",
   "metadata": {},
   "outputs": [
    {
     "name": "stdout",
     "output_type": "stream",
     "text": [
      "1000\n"
     ]
    },
    {
     "data": {
      "text/plain": [
       "[0.7426023483276367, -1.0228204727172852]"
      ]
     },
     "execution_count": 8,
     "metadata": {},
     "output_type": "execute_result"
    }
   ],
   "source": [
    "ys1 = [ x + random_normal() / 2 for x in xs]\n",
    "print(len(ys1))\n",
    "ys1[:2]"
   ]
  },
  {
   "cell_type": "code",
   "execution_count": 9,
   "id": "3d18c7cf-ce77-4551-bd65-aa0db95690df",
   "metadata": {},
   "outputs": [
    {
     "name": "stdout",
     "output_type": "stream",
     "text": [
      "1000\n"
     ]
    },
    {
     "data": {
      "text/plain": [
       "[-1.753706932067871, 1.0366201400756836]"
      ]
     },
     "execution_count": 9,
     "metadata": {},
     "output_type": "execute_result"
    }
   ],
   "source": [
    "ys2 = [-x + random_normal() / 2 for x in xs]\n",
    "print(len(ys2))\n",
    "ys2[:2]"
   ]
  },
  {
   "cell_type": "code",
   "execution_count": 10,
   "id": "ae126e16-7b61-453e-8f20-c8659daa4f5a",
   "metadata": {},
   "outputs": [
    {
     "data": {
      "image/png": "[encoded data removed]",
      "text/plain": [
       "<Figure size 432x288 with 1 Axes>"
      ]
     },
     "metadata": {
      "needs_background": "light"
     },
     "output_type": "display_data"
    }
   ],
   "source": [
    "plt.scatter(xs, ys1, marker='.', color='red', label='ys1')\n",
    "plt.scatter(xs, ys2, marker='.', color='blue',  label='ys2')\n",
    "plt.xlabel('xs')\n",
    "plt.ylabel('ys')\n",
    "plt.legend(loc=9)\n",
    "plt.title(\"Very Different Joint Distributions\")\n",
    "#plt.show()\n",
    "\n",
    "\n",
    "plt.savefig('images/working_scatter.png')"
   ]
  },
  {
   "cell_type": "code",
   "execution_count": 11,
   "id": "a1284db3-ba70-40ce-a5c6-cd9171e64e52",
   "metadata": {},
   "outputs": [
    {
     "data": {
      "text/plain": [
       "<Figure size 432x288 with 0 Axes>"
      ]
     },
     "metadata": {},
     "output_type": "display_data"
    }
   ],
   "source": [
    "plt.gca().clear()\n",
    "plt.close()\n",
    "plt.clf()"
   ]
  },
  {
   "cell_type": "code",
   "execution_count": 12,
   "id": "dcfcbade-76a8-4023-b486-30ae86374ba5",
   "metadata": {},
   "outputs": [
    {
     "name": "stdout",
     "output_type": "stream",
     "text": [
      "importing Jupyter notebook from statisticas.ipynb\n",
      "importing Jupyter notebook from linear_algebra.ipynb\n"
     ]
    },
    {
     "data": {
      "text/plain": [
       "<Figure size 432x288 with 0 Axes>"
      ]
     },
     "metadata": {},
     "output_type": "display_data"
    }
   ],
   "source": [
    "from statisticas import correlation"
   ]
  },
  {
   "cell_type": "code",
   "execution_count": 13,
   "id": "b01eb943-efee-4ba6-ba8f-796beeb7c40f",
   "metadata": {},
   "outputs": [
    {
     "data": {
      "text/plain": [
       "0.8952814761261199"
      ]
     },
     "execution_count": 13,
     "metadata": {},
     "output_type": "execute_result"
    }
   ],
   "source": [
    "correlation(xs, ys1)"
   ]
  },
  {
   "cell_type": "code",
   "execution_count": 14,
   "id": "7f9a0789-3d6d-4511-82e1-d2a7dec989a4",
   "metadata": {},
   "outputs": [],
   "source": [
    "assert 0.88 < correlation(xs, ys1) < 0.91"
   ]
  },
  {
   "cell_type": "code",
   "execution_count": 15,
   "id": "3bef7d82-90e4-4af2-8f08-f3bc284fc91f",
   "metadata": {},
   "outputs": [
    {
     "data": {
      "text/plain": [
       "-0.8940874392631807"
      ]
     },
     "execution_count": 15,
     "metadata": {},
     "output_type": "execute_result"
    }
   ],
   "source": [
    "correlation(xs, ys2)"
   ]
  },
  {
   "cell_type": "code",
   "execution_count": 16,
   "id": "0fc22ee8-1858-4724-9e4f-ec1164579e78",
   "metadata": {},
   "outputs": [],
   "source": [
    "assert -0.91 < correlation(xs, ys2) < -0.86"
   ]
  },
  {
   "cell_type": "code",
   "execution_count": 17,
   "id": "e441fb36-5442-4819-ae52-96fd76659125",
   "metadata": {},
   "outputs": [],
   "source": [
    "from linear_algebra import Matrix, Vector, make_matrix"
   ]
  },
  {
   "cell_type": "code",
   "execution_count": 18,
   "id": "99fd1081-a042-451c-b2dd-09c6151da6c4",
   "metadata": {},
   "outputs": [],
   "source": [
    "def correlation_matrix(data: List[Vector]) -> Matrix:\n",
    "    \"\"\"\n",
    "    Returns the len(data) x len(data) matrix whose (i, j)-th entry\n",
    "    is the correlation between data[i] and data[j]\n",
    "    \"\"\"\n",
    "    def correlation_ij(i: int, j: int) -> float:\n",
    "        return correlation(data[i], data[j])\n",
    "\n",
    "    return make_matrix(len(data), len(data), correlation_ij)"
   ]
  },
  {
   "cell_type": "code",
   "execution_count": 19,
   "id": "c9e71b6e-964d-4900-a8ff-d384c92ac001",
   "metadata": {},
   "outputs": [],
   "source": [
    "vectors = [xs, ys1, ys2]"
   ]
  },
  {
   "cell_type": "code",
   "execution_count": 20,
   "id": "1e2183e1-d76d-4604-a34d-98c19d917169",
   "metadata": {},
   "outputs": [],
   "source": [
    "assert correlation_matrix(vectors) == [\n",
    "    [correlation(xs,  xs), correlation(xs,  ys1), correlation(xs,  ys2)],\n",
    "    [correlation(ys1, xs), correlation(ys1, ys1), correlation(ys1, ys2)],\n",
    "    [correlation(ys2, xs), correlation(ys2, ys1), correlation(ys2, ys2)],\n",
    "]"
   ]
  },
  {
   "cell_type": "code",
   "execution_count": 21,
   "id": "f668204e-5efe-4e50-8230-2599eac45fdc",
   "metadata": {},
   "outputs": [],
   "source": [
    "import datetime"
   ]
  },
  {
   "cell_type": "code",
   "execution_count": 22,
   "id": "566adab5-f74d-40a0-8d71-64fd187264c3",
   "metadata": {},
   "outputs": [
    {
     "data": {
      "text/plain": [
       "{'closing_price': 102.06, 'date': datetime.date(2014, 8, 29), 'symbol': 'AAPL'}"
      ]
     },
     "execution_count": 22,
     "metadata": {},
     "output_type": "execute_result"
    }
   ],
   "source": [
    "stock_price = {'closing_price': 102.06,\n",
    "               'date': datetime.date(2014, 8, 29),\n",
    "               'symbol': 'AAPL'}\n",
    "stock_price"
   ]
  },
  {
   "cell_type": "code",
   "execution_count": 23,
   "id": "59242999-dc30-4ff6-a886-f5f37281fcf9",
   "metadata": {},
   "outputs": [
    {
     "data": {
      "text/plain": [
       "{'closing_price': 102.06,\n",
       " 'date': datetime.date(2014, 8, 29),\n",
       " 'symbol': 'AAPL',\n",
       " 'cosing_price': 103.06}"
      ]
     },
     "execution_count": 23,
     "metadata": {},
     "output_type": "execute_result"
    }
   ],
   "source": [
    "# oops, typo\n",
    "stock_price['cosing_price'] = 103.06\n",
    "stock_price"
   ]
  },
  {
   "cell_type": "code",
   "execution_count": 24,
   "id": "e1d2c016-1ac6-4d46-a9d4-a8d3a588ff96",
   "metadata": {},
   "outputs": [],
   "source": [
    "prices: Dict[datetime.date, float] = {}"
   ]
  },
  {
   "cell_type": "code",
   "execution_count": 25,
   "id": "975444c8-cd6f-4261-87f0-a447c54765f3",
   "metadata": {},
   "outputs": [],
   "source": [
    "from typing import NamedTuple"
   ]
  },
  {
   "cell_type": "code",
   "execution_count": 26,
   "id": "c4356f37-c8a9-40de-b29d-9c30380bda9f",
   "metadata": {},
   "outputs": [],
   "source": [
    "class StockPrice(NamedTuple):\n",
    "    symbol: str\n",
    "    date: datetime.date\n",
    "    closing_price: float\n",
    "\n",
    "    def is_high_tech(self) -> bool:\n",
    "        \"\"\"It's a class, so we can add methods too\"\"\"\n",
    "        return self.symbol in ['MSFT', 'GOOG', 'FB', 'AMZN', 'AAPL']"
   ]
  },
  {
   "cell_type": "code",
   "execution_count": 27,
   "id": "a5a5b501-4ae9-45db-b938-30996473f71c",
   "metadata": {},
   "outputs": [
    {
     "data": {
      "text/plain": [
       "StockPrice(symbol='MSFT', date=datetime.date(2018, 12, 14), closing_price=106.03)"
      ]
     },
     "execution_count": 27,
     "metadata": {},
     "output_type": "execute_result"
    }
   ],
   "source": [
    "price = StockPrice('MSFT', datetime.date(2018, 12, 14), 106.03)\n",
    "price"
   ]
  },
  {
   "cell_type": "code",
   "execution_count": 28,
   "id": "01fc92e0-3a5f-40a8-8d65-25516db4e310",
   "metadata": {},
   "outputs": [],
   "source": [
    "assert price.symbol == 'MSFT'\n",
    "assert price.closing_price == 106.03\n",
    "assert price.is_high_tech()"
   ]
  },
  {
   "cell_type": "code",
   "execution_count": 29,
   "id": "8bb7b9c1-56d8-4c84-bc13-bf3534ac1889",
   "metadata": {},
   "outputs": [],
   "source": [
    "from dateutil.parser import parse"
   ]
  },
  {
   "cell_type": "code",
   "execution_count": 30,
   "id": "0e743d06-607d-4024-afa4-25508b99dce5",
   "metadata": {},
   "outputs": [],
   "source": [
    "def parse_row(row: List[str]) -> StockPrice:\n",
    "    symbol, date, closing_price = row\n",
    "    return StockPrice(symbol=symbol,\n",
    "                      date=parse(date).date(),\n",
    "                      closing_price=float(closing_price))"
   ]
  },
  {
   "cell_type": "code",
   "execution_count": 31,
   "id": "26cd54f2-f423-4184-80b0-9942a86961ff",
   "metadata": {},
   "outputs": [
    {
     "data": {
      "text/plain": [
       "StockPrice(symbol='MSFT', date=datetime.date(2018, 12, 14), closing_price=106.03)"
      ]
     },
     "execution_count": 31,
     "metadata": {},
     "output_type": "execute_result"
    }
   ],
   "source": [
    "# Now test our function\n",
    "stock = parse_row([\"MSFT\", \"2018-12-14\", \"106.03\"])\n",
    "stock"
   ]
  },
  {
   "cell_type": "code",
   "execution_count": 32,
   "id": "852b9b5c-3f0e-4035-8bf5-b78346100853",
   "metadata": {},
   "outputs": [],
   "source": [
    "assert stock.symbol == \"MSFT\"\n",
    "assert stock.date == datetime.date(2018, 12, 14)\n",
    "assert stock.closing_price == 106.03"
   ]
  },
  {
   "cell_type": "code",
   "execution_count": 33,
   "id": "64186eea-19b1-40c5-b30e-303327822f90",
   "metadata": {},
   "outputs": [],
   "source": [
    "from typing import Optional\n",
    "import re"
   ]
  },
  {
   "cell_type": "code",
   "execution_count": 34,
   "id": "99ec909d-7592-4441-a986-6f03387a2ca7",
   "metadata": {},
   "outputs": [],
   "source": [
    "def try_parse_row(row: List[str]) -> Optional[StockPrice]:\n",
    "    symbol, date_, closing_price_ = row\n",
    "\n",
    "    # Stock symbol should be all capital letters\n",
    "    if not re.match(r\"^[A-Z]+$\", symbol):\n",
    "        return None\n",
    "\n",
    "    try:\n",
    "        date = parse(date_).date()\n",
    "    except ValueError:\n",
    "        return None\n",
    "\n",
    "    try:\n",
    "        closing_price = float(closing_price_)\n",
    "    except ValueError:\n",
    "        return None\n",
    "\n",
    "    return StockPrice(symbol, date, closing_price)"
   ]
  },
  {
   "cell_type": "code",
   "execution_count": 35,
   "id": "9cb75cfe-4556-486e-b63c-c6207a5441b2",
   "metadata": {},
   "outputs": [],
   "source": [
    "# Should return None for errors\n",
    "assert try_parse_row([\"MSFT0\", \"2018-12-14\", \"106.03\"]) is None\n",
    "assert try_parse_row([\"MSFT\", \"2018-12--14\", \"106.03\"]) is None\n",
    "assert try_parse_row([\"MSFT\", \"2018-12-14\", \"x\"]) is None"
   ]
  },
  {
   "cell_type": "code",
   "execution_count": 36,
   "id": "bed54bdc-8296-49cd-af00-9a7e72372db4",
   "metadata": {},
   "outputs": [],
   "source": [
    "# But should return same as before if data is good.\n",
    "assert try_parse_row([\"MSFT\", \"2018-12-14\", \"106.03\"]) == stock"
   ]
  },
  {
   "cell_type": "code",
   "execution_count": 37,
   "id": "c5d76b68-387c-4296-8af9-e4bdaeca8577",
   "metadata": {},
   "outputs": [],
   "source": [
    "from dateutil.parser import parse\n",
    "import csv"
   ]
  },
  {
   "cell_type": "code",
   "execution_count": 38,
   "id": "9d8ebaa4-5c42-48d5-a3c4-965f0ab65900",
   "metadata": {},
   "outputs": [
    {
     "data": {
      "text/plain": [
       "{'symbol': 'MSFT',\n",
       " 'date': datetime.date(2018, 12, 14),\n",
       " 'closing_price': 106.03}"
      ]
     },
     "execution_count": 38,
     "metadata": {},
     "output_type": "execute_result"
    }
   ],
   "source": [
    "stocks = dict(symbol='MSFT', date=datetime.date(2018, 12, 14), closing_price=106.03)\n",
    "stocks"
   ]
  },
  {
   "cell_type": "code",
   "execution_count": 39,
   "id": "125c6740-8a8d-4e55-af29-3b599f5c2abd",
   "metadata": {},
   "outputs": [],
   "source": [
    "with open(\"stocks.csv\", \"r\") as f:\n",
    "    reader = csv.DictReader(f)\n",
    "    rows = [[row['Symbol'], row['Date'], row['Close']]\n",
    "            for row in reader]"
   ]
  },
  {
   "cell_type": "code",
   "execution_count": 40,
   "id": "6f3f67c5-f1db-4596-b100-1610c2cc1aba",
   "metadata": {},
   "outputs": [],
   "source": [
    "# skip header\n",
    "maybe_data = [try_parse_row(row) for row in rows]"
   ]
  },
  {
   "cell_type": "code",
   "execution_count": 41,
   "id": "75001e68-8544-422e-8cc4-f29214d1f93e",
   "metadata": {},
   "outputs": [
    {
     "data": {
      "text/plain": [
       "[StockPrice(symbol='AAPL', date=datetime.date(1980, 12, 12), closing_price=0.513393),\n",
       " StockPrice(symbol='AAPL', date=datetime.date(1980, 12, 15), closing_price=0.486607),\n",
       " StockPrice(symbol='AAPL', date=datetime.date(1980, 12, 16), closing_price=0.450893)]"
      ]
     },
     "execution_count": 41,
     "metadata": {},
     "output_type": "execute_result"
    }
   ],
   "source": [
    "maybe_data[:3]"
   ]
  },
  {
   "cell_type": "code",
   "execution_count": 42,
   "id": "4f397d8d-65ea-4db7-8b7c-2b0c17deed0b",
   "metadata": {},
   "outputs": [],
   "source": [
    "# Make sure they all loaded successfully:\n",
    "assert maybe_data\n",
    "assert all(sp is not None for sp in maybe_data)"
   ]
  },
  {
   "cell_type": "code",
   "execution_count": 43,
   "id": "580888d7-b4ff-40a4-bd84-124b43f679de",
   "metadata": {},
   "outputs": [
    {
     "name": "stdout",
     "output_type": "stream",
     "text": [
      "23105\n"
     ]
    },
    {
     "data": {
      "text/plain": [
       "[StockPrice(symbol='AAPL', date=datetime.date(1980, 12, 12), closing_price=0.513393),\n",
       " StockPrice(symbol='AAPL', date=datetime.date(1980, 12, 15), closing_price=0.486607),\n",
       " StockPrice(symbol='AAPL', date=datetime.date(1980, 12, 16), closing_price=0.450893)]"
      ]
     },
     "execution_count": 43,
     "metadata": {},
     "output_type": "execute_result"
    }
   ],
   "source": [
    "# This is just to make mypy happy\n",
    "data = [sp for sp in maybe_data if sp is not None]\n",
    "print(len(data))\n",
    "data[:3]"
   ]
  },
  {
   "cell_type": "code",
   "execution_count": 44,
   "id": "c8ce65dd-a9c9-49d1-9233-2937f16f596b",
   "metadata": {},
   "outputs": [
    {
     "data": {
      "text/plain": [
       "{'closing_price': 102.06,\n",
       " 'date': datetime.date(2014, 8, 29),\n",
       " 'symbol': 'AAPL',\n",
       " 'cosing_price': 103.06}"
      ]
     },
     "execution_count": 44,
     "metadata": {},
     "output_type": "execute_result"
    }
   ],
   "source": [
    "stock_price"
   ]
  },
  {
   "cell_type": "code",
   "execution_count": 45,
   "id": "b218a648-b76f-4431-839a-0b9235f8189d",
   "metadata": {},
   "outputs": [
    {
     "data": {
      "text/plain": [
       "232.070007"
      ]
     },
     "execution_count": 45,
     "metadata": {},
     "output_type": "execute_result"
    }
   ],
   "source": [
    "max_aapl_price = max(stock_price.closing_price\n",
    "                     for stock_price in data\n",
    "                     if stock_price.symbol == \"AAPL\")\n",
    "max_aapl_price"
   ]
  },
  {
   "cell_type": "code",
   "execution_count": 46,
   "id": "7edbc0d0-efe0-4c34-b347-5ccb6f1fda89",
   "metadata": {},
   "outputs": [],
   "source": [
    "from collections import defaultdict"
   ]
  },
  {
   "cell_type": "code",
   "execution_count": 47,
   "id": "3d800ac9-ebc9-46e1-bcce-d29d872e39d9",
   "metadata": {},
   "outputs": [
    {
     "data": {
      "text/plain": [
       "defaultdict(<function __main__.<lambda>()>, {})"
      ]
     },
     "execution_count": 47,
     "metadata": {},
     "output_type": "execute_result"
    }
   ],
   "source": [
    "max_prices: Dict[str, float] = defaultdict(lambda: float('-inf'))\n",
    "max_prices"
   ]
  },
  {
   "cell_type": "code",
   "execution_count": 48,
   "id": "7cb6664c-96a1-49bc-aaa6-faa37c561fd6",
   "metadata": {},
   "outputs": [
    {
     "data": {
      "text/plain": [
       "defaultdict(<function __main__.<lambda>()>,\n",
       "            {'AAPL': 232.070007,\n",
       "             'MSFT': 115.610001,\n",
       "             'FB': 217.5,\n",
       "             'GOOG': 1268.329956})"
      ]
     },
     "execution_count": 48,
     "metadata": {},
     "output_type": "execute_result"
    }
   ],
   "source": [
    "for sp in data:\n",
    "    symbol, closing_price = sp.symbol, sp.closing_price\n",
    "    if closing_price > max_prices[symbol]:\n",
    "        max_prices[symbol] = closing_price\n",
    "max_prices"
   ]
  },
  {
   "cell_type": "code",
   "execution_count": 49,
   "id": "8d0756fb-f5e0-4d30-9bf3-a643da899765",
   "metadata": {},
   "outputs": [],
   "source": [
    "from typing import List\n",
    "from collections import defaultdict"
   ]
  },
  {
   "cell_type": "code",
   "execution_count": 50,
   "id": "78511f55-0d20-4b35-98b7-9f529c1021b6",
   "metadata": {},
   "outputs": [
    {
     "data": {
      "text/plain": [
       "defaultdict(list, {})"
      ]
     },
     "execution_count": 50,
     "metadata": {},
     "output_type": "execute_result"
    }
   ],
   "source": [
    "# Collect the prices by symbol\n",
    "prices: Dict[str, List[StockPrice]] = defaultdict(list)\n",
    "prices"
   ]
  },
  {
   "cell_type": "code",
   "execution_count": 51,
   "id": "16954139-3ae2-4aa6-a9b6-3f060a046438",
   "metadata": {},
   "outputs": [],
   "source": [
    "for sp in data:\n",
    "    prices[sp.symbol].append(sp)"
   ]
  },
  {
   "cell_type": "code",
   "execution_count": 52,
   "id": "a8fbbdcf-47bc-4522-b18a-517c56dd7a9a",
   "metadata": {},
   "outputs": [],
   "source": [
    "# Order the prices by date\n",
    "prices = {symbol: sorted(symbol_prices)\n",
    "          for symbol, symbol_prices in prices.items()}"
   ]
  },
  {
   "cell_type": "code",
   "execution_count": 53,
   "id": "fd793076-31c0-4d15-8a7c-8e35033f0061",
   "metadata": {},
   "outputs": [],
   "source": [
    "def pct_change(yesterday: StockPrice, today: StockPrice) -> float:\n",
    "    return today.closing_price / yesterday.closing_price - 1"
   ]
  },
  {
   "cell_type": "code",
   "execution_count": 54,
   "id": "d966e3d0-d784-4e4f-a757-beff2c60d7d8",
   "metadata": {},
   "outputs": [],
   "source": [
    "class DailyChange(NamedTuple):\n",
    "    symbol: str\n",
    "    date: datetime.date\n",
    "    pct_change: float"
   ]
  },
  {
   "cell_type": "code",
   "execution_count": 55,
   "id": "842c9a73-2cac-4231-93bd-b7d67a9c71ed",
   "metadata": {},
   "outputs": [],
   "source": [
    "def day_over_day_changes(prices: List[StockPrice]) -> List[DailyChange]:\n",
    "    \"\"\"\n",
    "    Assumes prices are for one stock and are in order\n",
    "    \"\"\"\n",
    "    return [DailyChange(symbol=today.symbol,\n",
    "                        date=today.date,\n",
    "                        pct_change=pct_change(yesterday, today))\n",
    "            for yesterday, today in zip(prices, prices[1:])]"
   ]
  },
  {
   "cell_type": "code",
   "execution_count": 56,
   "id": "cf20d19b-dea7-4c0e-96d4-30d47487fde5",
   "metadata": {},
   "outputs": [
    {
     "data": {
      "text/plain": [
       "[DailyChange(symbol='AAPL', date=datetime.date(1980, 12, 15), pct_change=-0.05217445504710816),\n",
       " DailyChange(symbol='AAPL', date=datetime.date(1980, 12, 16), pct_change=-0.07339392980372261),\n",
       " DailyChange(symbol='AAPL', date=datetime.date(1980, 12, 17), pct_change=0.0247531010683244)]"
      ]
     },
     "execution_count": 56,
     "metadata": {},
     "output_type": "execute_result"
    }
   ],
   "source": [
    "all_changes = [change\n",
    "               for symbol_prices in prices.values()\n",
    "               for change in day_over_day_changes(symbol_prices)]\n",
    "all_changes[:3]"
   ]
  },
  {
   "cell_type": "code",
   "execution_count": 57,
   "id": "0f506e8a-bb8a-4204-ac12-90ce943e0d88",
   "metadata": {},
   "outputs": [
    {
     "data": {
      "text/plain": [
       "DailyChange(symbol='AAPL', date=datetime.date(1997, 8, 6), pct_change=0.33227854830957937)"
      ]
     },
     "execution_count": 57,
     "metadata": {},
     "output_type": "execute_result"
    }
   ],
   "source": [
    "max_change = max(all_changes, key=lambda change: change.pct_change)\n",
    "max_change"
   ]
  },
  {
   "cell_type": "code",
   "execution_count": 58,
   "id": "3314e95e-9f24-412d-86a0-a5354eef9ed8",
   "metadata": {},
   "outputs": [
    {
     "name": "stdout",
     "output_type": "stream",
     "text": [
      "AAPL\n",
      "\n",
      "1997-08-06\n",
      "\n",
      "0.33227854830957937\n",
      "\n"
     ]
    }
   ],
   "source": [
    "assert max_change.symbol == 'AAPL'\n",
    "print(f'{max_change.symbol}\\n')\n",
    "\n",
    "assert max_change.date == datetime.date(1997, 8, 6)\n",
    "print(f'{max_change.date}\\n')\n",
    "\n",
    "assert 0.33 < max_change.pct_change < 0.34\n",
    "print(f'{max_change.pct_change}\\n')"
   ]
  },
  {
   "cell_type": "code",
   "execution_count": 59,
   "id": "feab31f4-f65f-4ee7-b276-c997008982b4",
   "metadata": {},
   "outputs": [
    {
     "data": {
      "text/plain": [
       "DailyChange(symbol='AAPL', date=datetime.date(2000, 9, 29), pct_change=-0.5186915679972073)"
      ]
     },
     "execution_count": 59,
     "metadata": {},
     "output_type": "execute_result"
    }
   ],
   "source": [
    "min_change = min(all_changes, key=lambda change: change.pct_change)\n",
    "min_change"
   ]
  },
  {
   "cell_type": "code",
   "execution_count": 60,
   "id": "7575ef22-7ebf-4d0b-aa10-eaa9960136df",
   "metadata": {},
   "outputs": [
    {
     "name": "stdout",
     "output_type": "stream",
     "text": [
      "AAPL\n",
      "\n",
      "2000-09-29\n",
      "\n",
      "-0.5186915679972073\n",
      "\n"
     ]
    }
   ],
   "source": [
    "# see, e.g. http://money.cnn.com/2000/09/29/markets/techwrap/\n",
    "assert min_change.symbol == 'AAPL'\n",
    "print(f'{min_change.symbol}\\n')\n",
    "\n",
    "assert min_change.date == datetime.date(2000, 9, 29)\n",
    "print(f'{min_change.date}\\n')\n",
    "\n",
    "assert -0.52 < min_change.pct_change < -0.51\n",
    "print(f'{min_change.pct_change}\\n')"
   ]
  },
  {
   "cell_type": "code",
   "execution_count": 61,
   "id": "14b02c5e-a879-4b0f-9a29-e87567c1b07c",
   "metadata": {},
   "outputs": [
    {
     "data": {
      "text/plain": [
       "{1: [],\n",
       " 2: [],\n",
       " 3: [],\n",
       " 4: [],\n",
       " 5: [],\n",
       " 6: [],\n",
       " 7: [],\n",
       " 8: [],\n",
       " 9: [],\n",
       " 10: [],\n",
       " 11: [],\n",
       " 12: []}"
      ]
     },
     "execution_count": 61,
     "metadata": {},
     "output_type": "execute_result"
    }
   ],
   "source": [
    "changes_by_month: List[DailyChange] = {month: [] for month in range(1, 13)}\n",
    "changes_by_month"
   ]
  },
  {
   "cell_type": "code",
   "execution_count": 62,
   "id": "e40ab2e7-528d-4a22-aedf-553fad088c85",
   "metadata": {},
   "outputs": [
    {
     "data": {
      "text/plain": [
       "[DailyChange(symbol='AAPL', date=datetime.date(1980, 12, 15), pct_change=-0.05217445504710816),\n",
       " DailyChange(symbol='AAPL', date=datetime.date(1980, 12, 16), pct_change=-0.07339392980372261),\n",
       " DailyChange(symbol='AAPL', date=datetime.date(1980, 12, 17), pct_change=0.0247531010683244)]"
      ]
     },
     "execution_count": 62,
     "metadata": {},
     "output_type": "execute_result"
    }
   ],
   "source": [
    "all_changes[:3]"
   ]
  },
  {
   "cell_type": "code",
   "execution_count": 63,
   "id": "b4d24a89-8383-4f3c-bd48-f946044344d0",
   "metadata": {},
   "outputs": [],
   "source": [
    "for change in all_changes:\n",
    "    changes_by_month[change.date.month].append(change)  "
   ]
  },
  {
   "cell_type": "code",
   "execution_count": 64,
   "id": "e9dd132b-727e-4331-8aac-b80c7c4cf372",
   "metadata": {},
   "outputs": [
    {
     "data": {
      "text/plain": [
       "{1: 0.0021865911307884013,\n",
       " 2: 0.00014320928359588448,\n",
       " 3: 0.0009950657322022312,\n",
       " 4: 0.0017246603289960414,\n",
       " 5: 0.001045801424244935,\n",
       " 6: -0.00038890680439638084,\n",
       " 7: 0.0008653144845121465,\n",
       " 8: 0.0012329314091353012,\n",
       " 9: -4.63670330797049e-06,\n",
       " 10: 0.002905423893850083,\n",
       " 11: 0.0008081709427041247,\n",
       " 12: 0.0009192394682663616}"
      ]
     },
     "execution_count": 64,
     "metadata": {},
     "output_type": "execute_result"
    }
   ],
   "source": [
    "avg_daily_change = {\n",
    "    month: sum(change.pct_change for change in changes) / len(changes)\n",
    "    for month, changes in changes_by_month.items()\n",
    "}\n",
    "avg_daily_change"
   ]
  },
  {
   "cell_type": "code",
   "execution_count": 65,
   "id": "e76d933c-46e3-4938-8ada-2d3f6efc61cd",
   "metadata": {},
   "outputs": [
    {
     "name": "stdout",
     "output_type": "stream",
     "text": [
      "0.002905423893850083\n"
     ]
    },
    {
     "data": {
      "text/plain": [
       "0.002905423893850083"
      ]
     },
     "execution_count": 65,
     "metadata": {},
     "output_type": "execute_result"
    }
   ],
   "source": [
    "# October is the best month\n",
    "assert avg_daily_change[10] == max(avg_daily_change.values())\n",
    "\n",
    "print(max(avg_daily_change.values()))\n",
    "avg_daily_change[10]"
   ]
  },
  {
   "cell_type": "code",
   "execution_count": 66,
   "id": "aa1936ac-4926-407f-82b7-d3b5a25738f6",
   "metadata": {},
   "outputs": [],
   "source": [
    "from linear_algebra import distance"
   ]
  },
  {
   "cell_type": "code",
   "execution_count": 67,
   "id": "b36f0255-d7bd-4ed6-bcf7-f95241ed4683",
   "metadata": {},
   "outputs": [],
   "source": [
    "a_to_b = distance([63, 150], [67, 160])        # 10.77\n",
    "a_to_c = distance([63, 150], [70, 171])        # 22.14\n",
    "b_to_c = distance([67, 160], [70, 171])        # 11.40"
   ]
  },
  {
   "cell_type": "code",
   "execution_count": 68,
   "id": "fbabacbe-b287-416a-95aa-b9f08186b0c0",
   "metadata": {},
   "outputs": [
    {
     "data": {
      "text/plain": [
       "(10.77033, 22.135944, 11.401754)"
      ]
     },
     "execution_count": 68,
     "metadata": {},
     "output_type": "execute_result"
    }
   ],
   "source": [
    "round(a_to_b,6),round(a_to_c,6),round(b_to_c,6)  "
   ]
  },
  {
   "cell_type": "code",
   "execution_count": 69,
   "id": "9b6c4bd3-3306-43a5-8226-725f2b36c7a9",
   "metadata": {},
   "outputs": [],
   "source": [
    "a_to_b = distance([160, 150], [170.2, 160])    # 14.28\n",
    "a_to_c = distance([160, 150], [177.8, 171])    # 27.53\n",
    "b_to_c = distance([170.2, 160], [177.8, 171])  # 13.37"
   ]
  },
  {
   "cell_type": "code",
   "execution_count": 70,
   "id": "63f7e6c3-5d98-4943-8d4b-600c6eb2c9d3",
   "metadata": {},
   "outputs": [
    {
     "data": {
      "text/plain": [
       "(14.284257, 27.528894, 13.370116)"
      ]
     },
     "execution_count": 70,
     "metadata": {},
     "output_type": "execute_result"
    }
   ],
   "source": [
    "round(a_to_b,6),round(a_to_c,6),round(b_to_c,6) "
   ]
  },
  {
   "cell_type": "code",
   "execution_count": 71,
   "id": "dc9e2a52-b753-4ca8-ace8-c2e1e2d53894",
   "metadata": {},
   "outputs": [],
   "source": [
    "from typing import Tuple\n",
    "\n",
    "from linear_algebra import vector_mean, sum_of_squares\n",
    "from statisticas import standard_deviation"
   ]
  },
  {
   "cell_type": "code",
   "execution_count": 72,
   "id": "bcdde186-612d-4f0c-bdac-9055e59e585f",
   "metadata": {},
   "outputs": [],
   "source": [
    "def scale(data: List[Vector]) -> Tuple[Vector, Vector]:\n",
    "    \"\"\"returns the means and standard deviations for each position\"\"\"\n",
    "    dim = len(data[0])\n",
    "\n",
    "    means = vector_mean(data)\n",
    "    stdevs = [standard_deviation([vector[i] for vector in data])\n",
    "              for i in range(dim)]\n",
    "\n",
    "    return means, stdevs"
   ]
  },
  {
   "cell_type": "code",
   "execution_count": 73,
   "id": "82702320-5bac-477c-b574-740a784962f1",
   "metadata": {},
   "outputs": [
    {
     "name": "stdout",
     "output_type": "stream",
     "text": [
      "[-1.0, 0.0, 1.0]\n"
     ]
    },
    {
     "data": {
      "text/plain": [
       "[2.0, 1.0, 0.0]"
      ]
     },
     "execution_count": 73,
     "metadata": {},
     "output_type": "execute_result"
    }
   ],
   "source": [
    "vectors = [[-3, -1, 1], [-1, 0, 1], [1, 1, 1]]\n",
    "means, stdevs = scale(vectors)\n",
    "assert means == [-1, 0, 1]\n",
    "assert stdevs == [2, 1, 0]\n",
    "\n",
    "print(means)\n",
    "stdevs"
   ]
  },
  {
   "cell_type": "code",
   "execution_count": 74,
   "id": "0e7bfcac-9ce7-4f9e-9299-e745b505186b",
   "metadata": {},
   "outputs": [],
   "source": [
    "def rescale(data: List[Vector]) -> List[Vector]:\n",
    "    \"\"\"\n",
    "    Rescales the input data so that each position has\n",
    "    mean 0 and standard deviation 1. (Leaves a position\n",
    "    as is if its standard deviation is 0.)\n",
    "    \"\"\"\n",
    "    dim = len(data[0])\n",
    "    means, stdevs = scale(data)\n",
    "\n",
    "    # Make a copy of each vector\n",
    "    rescaled = [v[:] for v in data]\n",
    "\n",
    "    for v in rescaled:\n",
    "        for i in range(dim):\n",
    "            if stdevs[i] > 0:\n",
    "                v[i] = (v[i] - means[i]) / stdevs[i]\n",
    "\n",
    "    return rescaled"
   ]
  },
  {
   "cell_type": "code",
   "execution_count": 75,
   "id": "c93a6067-7c93-40f2-9e87-6a7b5560575a",
   "metadata": {},
   "outputs": [
    {
     "name": "stdout",
     "output_type": "stream",
     "text": [
      "StockPrice(symbol='AAPL', date=datetime.date(1980, 12, 12), closing_price=0.513393)\n"
     ]
    },
    {
     "data": {
      "text/plain": [
       "('AAPL', datetime.date(1980, 12, 12), 0.513393)"
      ]
     },
     "execution_count": 75,
     "metadata": {},
     "output_type": "execute_result"
    }
   ],
   "source": [
    "print(data[0])\n",
    "rescaled = [v[:] for v in data]\n",
    "rescaled[0]"
   ]
  },
  {
   "cell_type": "code",
   "execution_count": 76,
   "id": "12167eb2-7131-4e59-833e-2cb576952657",
   "metadata": {},
   "outputs": [
    {
     "name": "stdout",
     "output_type": "stream",
     "text": [
      "[0.0, 0.0, 1.0]\n"
     ]
    },
    {
     "data": {
      "text/plain": [
       "[1.0, 1.0, 0.0]"
      ]
     },
     "execution_count": 76,
     "metadata": {},
     "output_type": "execute_result"
    }
   ],
   "source": [
    "means, stdevs = scale(rescale(vectors))\n",
    "assert means == [0, 0, 1]\n",
    "assert stdevs == [1, 1, 0]\n",
    "\n",
    "print(means)\n",
    "stdevs"
   ]
  },
  {
   "cell_type": "code",
   "execution_count": 77,
   "id": "92d0d01f-f0b1-4e6d-91d7-fa500a3db753",
   "metadata": {},
   "outputs": [],
   "source": [
    "import tqdm"
   ]
  },
  {
   "cell_type": "code",
   "execution_count": 78,
   "id": "722ea84a-7178-4f1d-b745-9421f74fe878",
   "metadata": {},
   "outputs": [],
   "source": [
    "pca_data = [\n",
    "[20.9666776351559,-13.1138080189357],\n",
    "[22.7719907680008,-19.8890894944696],\n",
    "[25.6687103160153,-11.9956004517219],\n",
    "[18.0019794950564,-18.1989191165133],\n",
    "[21.3967402102156,-10.8893126308196],\n",
    "[0.443696899177716,-19.7221132386308],\n",
    "[29.9198322142127,-14.0958668502427],\n",
    "[19.0805843080126,-13.7888747608312],\n",
    "[16.4685063521314,-11.2612927034291],\n",
    "[21.4597664701884,-12.4740034586705],\n",
    "[3.87655283720532,-17.575162461771],\n",
    "[34.5713920556787,-10.705185165378],\n",
    "[13.3732115747722,-16.7270274494424],\n",
    "[20.7281704141919,-8.81165591556553],\n",
    "[24.839851437942,-12.1240962157419],\n",
    "[20.3019544741252,-12.8725060780898],\n",
    "[21.9021426929599,-17.3225432396452],\n",
    "[23.2285885715486,-12.2676568419045],\n",
    "[28.5749111681851,-13.2616470619453],\n",
    "[29.2957424128701,-14.6299928678996],\n",
    "[15.2495527798625,-18.4649714274207],\n",
    "[26.5567257400476,-9.19794350561966],\n",
    "[30.1934232346361,-12.6272709845971],\n",
    "[36.8267446011057,-7.25409849336718],\n",
    "[32.157416823084,-10.4729534347553],\n",
    "[5.85964365291694,-22.6573731626132],\n",
    "[25.7426190674693,-14.8055803854566],\n",
    "[16.237602636139,-16.5920595763719],\n",
    "[14.7408608850568,-20.0537715298403],\n",
    "[6.85907008242544,-18.3965586884781],\n",
    "[26.5918329233128,-8.92664811750842],\n",
    "[-11.2216019958228,-27.0519081982856],\n",
    "[8.93593745011035,-20.8261235122575],\n",
    "[24.4481258671796,-18.0324012215159],\n",
    "[2.82048515404903,-22.4208457598703],\n",
    "[30.8803004755948,-11.455358009593],\n",
    "[15.4586738236098,-11.1242825084309],\n",
    "[28.5332537090494,-14.7898744423126],\n",
    "[40.4830293441052,-2.41946428697183],\n",
    "[15.7563759125684,-13.5771266003795],\n",
    "[19.3635588851727,-20.6224770470434],\n",
    "[13.4212840786467,-19.0238227375766],\n",
    "[7.77570680426702,-16.6385739839089],\n",
    "[21.4865983854408,-15.290799330002],\n",
    "[12.6392705930724,-23.6433305964301],\n",
    "[12.4746151388128,-17.9720169566614],\n",
    "[23.4572410437998,-14.602080545086],\n",
    "[13.6878189833565,-18.9687408182414],\n",
    "[15.4077465943441,-14.5352487124086],\n",
    "[20.3356581548895,-10.0883159703702],\n",
    "[20.7093833689359,-12.6939091236766],\n",
    "[11.1032293684441,-14.1383848928755],\n",
    "[17.5048321498308,-9.2338593361801],\n",
    "[16.3303688220188,-15.1054735529158],\n",
    "[26.6929062710726,-13.306030567991],\n",
    "[34.4985678099711,-9.86199941278607],\n",
    "[39.1374291499406,-10.5621430853401],\n",
    "[21.9088956482146,-9.95198845621849],\n",
    "[22.2367457578087,-17.2200123442707],\n",
    "[10.0032784145577,-19.3557700653426],\n",
    "[14.045833906665,-15.871937521131],\n",
    "[15.5640911917607,-18.3396956121887],\n",
    "[24.4771926581586,-14.8715313479137],\n",
    "[26.533415556629,-14.693883922494],\n",
    "[12.8722580202544,-21.2750596021509],\n",
    "[24.4768291376862,-15.9592080959207],\n",
    "[18.2230748567433,-14.6541444069985],\n",
    "[4.1902148367447,-20.6144032528762],\n",
    "[12.4332594022086,-16.6079789231489],\n",
    "[20.5483758651873,-18.8512560786321],\n",
    "[17.8180560451358,-12.5451990696752],\n",
    "[11.0071081078049,-20.3938092335862],\n",
    "[8.30560561422449,-22.9503944138682],\n",
    "[33.9857852657284,-4.8371294974382],\n",
    "[17.4376502239652,-14.5095976075022],\n",
    "[29.0379635148943,-14.8461553663227],\n",
    "[29.1344666599319,-7.70862921632672],\n",
    "[32.9730697624544,-15.5839178785654],\n",
    "[13.4211493998212,-20.150199857584],\n",
    "[11.380538260355,-12.8619410359766],\n",
    "[28.672631499186,-8.51866271785711],\n",
    "[16.4296061111902,-23.3326051279759],\n",
    "[25.7168371582585,-13.8899296143829],\n",
    "[13.3185154732595,-17.8959160024249],\n",
    "[3.60832478605376,-25.4023343597712],\n",
    "[39.5445949652652,-11.466377647931],\n",
    "[25.1693484426101,-12.2752652925707],\n",
    "[25.2884257196471,-7.06710309184533],\n",
    "[6.77665715793125,-22.3947299635571],\n",
    "[20.1844223778907,-16.0427471125407],\n",
    "[25.5506805272535,-9.33856532270204],\n",
    "[25.1495682602477,-7.17350567090738],\n",
    "[15.6978431006492,-17.5979197162642],\n",
    "[37.42780451491,-10.843637288504],\n",
    "[22.974620174842,-10.6171162611686],\n",
    "[34.6327117468934,-9.26182440487384],\n",
    "[34.7042513789061,-6.9630753351114],\n",
    "[15.6563953929008,-17.2196961218915],\n",
    "[25.2049825789225,-14.1592086208169]\n",
    "]"
   ]
  },
  {
   "cell_type": "code",
   "execution_count": 79,
   "id": "f6db8511-1c20-4a10-bf12-25d2cf5a1ab7",
   "metadata": {},
   "outputs": [],
   "source": [
    "from linear_algebra import subtract"
   ]
  },
  {
   "cell_type": "code",
   "execution_count": 80,
   "id": "28c6cc5f-8386-4eec-9b28-155213445b0e",
   "metadata": {},
   "outputs": [],
   "source": [
    "def de_mean(data: List[Vector]) -> List[Vector]:\n",
    "    \"\"\"Recenters the data to have mean 0 in every dimension\"\"\"\n",
    "    mean = vector_mean(data)\n",
    "    return [subtract(vector, mean) for vector in data]"
   ]
  },
  {
   "cell_type": "code",
   "execution_count": 81,
   "id": "7dd394e7-2a65-41a6-89b8-b817849f59f0",
   "metadata": {},
   "outputs": [],
   "source": [
    "from linear_algebra import magnitude"
   ]
  },
  {
   "cell_type": "code",
   "execution_count": 82,
   "id": "29a01c8b-9a39-4451-9edb-2c209cb6bd94",
   "metadata": {},
   "outputs": [],
   "source": [
    "def direction(w: Vector) -> Vector:\n",
    "    mag = magnitude(w)\n",
    "    return [w_i / mag for w_i in w]"
   ]
  },
  {
   "cell_type": "code",
   "execution_count": 83,
   "id": "da592292-ae66-43f9-bc88-8a65f16acdb7",
   "metadata": {},
   "outputs": [],
   "source": [
    "from linear_algebra import dot"
   ]
  },
  {
   "cell_type": "code",
   "execution_count": 84,
   "id": "b749f578-0e50-4a08-a7b1-2697dd06d68c",
   "metadata": {},
   "outputs": [],
   "source": [
    "def directional_variance(data: List[Vector], w: Vector) -> float:\n",
    "    \"\"\"\n",
    "    Returns the variance of x in the direction of w\n",
    "    \"\"\"\n",
    "    w_dir = direction(w)\n",
    "    return sum(dot(v, w_dir) ** 2 for v in data)"
   ]
  },
  {
   "cell_type": "code",
   "execution_count": 85,
   "id": "b6b9cb16-e81a-4b18-8e6b-84bdcf5c3f41",
   "metadata": {},
   "outputs": [],
   "source": [
    "def directional_variance_gradient(data: List[Vector], w: Vector) -> Vector:\n",
    "    \"\"\"\n",
    "    The gradient of directional variance with respect to w\n",
    "    \"\"\"\n",
    "    w_dir = direction(w)\n",
    "    return [sum(2 * dot(v, w_dir) * v[i] for v in data)\n",
    "            for i in range(len(w))]"
   ]
  },
  {
   "cell_type": "code",
   "execution_count": 86,
   "id": "2523a6ba-5f08-4418-97df-36be3b85ebca",
   "metadata": {},
   "outputs": [
    {
     "name": "stdout",
     "output_type": "stream",
     "text": [
      "importing Jupyter notebook from gradient_descent.ipynb\n"
     ]
    }
   ],
   "source": [
    "from gradient_descent import gradient_step"
   ]
  },
  {
   "cell_type": "code",
   "execution_count": 87,
   "id": "9d23047b-4a1c-4de5-9220-5df53c3d52d9",
   "metadata": {},
   "outputs": [],
   "source": [
    "def first_principal_component(data: List[Vector],\n",
    "                              n: int = 100,\n",
    "                              step_size: float = 0.1) -> Vector:\n",
    "    # Start with a random guess\n",
    "    guess = [1.0 for _ in data[0]]\n",
    "\n",
    "    with tqdm.trange(n) as t:\n",
    "        for _ in t:\n",
    "            dv = directional_variance(data, guess)\n",
    "            gradient = directional_variance_gradient(data, guess)\n",
    "            guess = gradient_step(guess, gradient, step_size)\n",
    "            t.set_description(f\"dv: {dv:.3f}\")\n",
    "\n",
    "    return direction(guess)"
   ]
  },
  {
   "cell_type": "code",
   "execution_count": 88,
   "id": "7a6b0622-7dea-40ab-98b8-40817cb08a25",
   "metadata": {},
   "outputs": [],
   "source": [
    "from linear_algebra import scalar_multiply"
   ]
  },
  {
   "cell_type": "code",
   "execution_count": 89,
   "id": "849b0ad2-fef7-46ce-872c-1cedb7aa79dd",
   "metadata": {},
   "outputs": [],
   "source": [
    "def project(v: Vector, w: Vector) -> Vector:\n",
    "    \"\"\"return the projection of v onto the direction w\"\"\"\n",
    "    projection_length = dot(v, w)\n",
    "    return scalar_multiply(projection_length, w)"
   ]
  },
  {
   "cell_type": "code",
   "execution_count": 90,
   "id": "42bda065-52c3-4b5c-ac04-edc7f6cd1dba",
   "metadata": {},
   "outputs": [],
   "source": [
    "from linear_algebra import subtract"
   ]
  },
  {
   "cell_type": "code",
   "execution_count": 91,
   "id": "709ea9a5-7f76-45c5-ad19-c6a754a8b2e8",
   "metadata": {},
   "outputs": [],
   "source": [
    "def remove_projection_from_vector(v: Vector, w: Vector) -> Vector:\n",
    "    \"\"\"projects v onto w and subtracts the result from v\"\"\"\n",
    "    return subtract(v, project(v, w))"
   ]
  },
  {
   "cell_type": "code",
   "execution_count": 92,
   "id": "00a915a3-e74f-490b-99a9-0a6e7559ee76",
   "metadata": {},
   "outputs": [],
   "source": [
    "def remove_projection(data: List[Vector], w: Vector) -> List[Vector]:\n",
    "    return [remove_projection_from_vector(v, w) for v in data]"
   ]
  },
  {
   "cell_type": "code",
   "execution_count": 93,
   "id": "60606bec-acd5-46b8-89c0-dac787a7ec8f",
   "metadata": {},
   "outputs": [],
   "source": [
    "def pca(data: List[Vector], num_components: int) -> List[Vector]:\n",
    "    components: List[Vector] = []\n",
    "    for _ in range(num_components):\n",
    "        component = first_principal_component(data)\n",
    "        components.append(component)\n",
    "        data = remove_projection(data, component)\n",
    "\n",
    "    return components"
   ]
  },
  {
   "cell_type": "code",
   "execution_count": 94,
   "id": "8a541078-8179-4ebe-ae6d-d9b517f10a7f",
   "metadata": {},
   "outputs": [],
   "source": [
    "def transform_vector(v: Vector, components: List[Vector]) -> Vector:\n",
    "    return [dot(v, w) for w in components]"
   ]
  },
  {
   "cell_type": "code",
   "execution_count": 95,
   "id": "1fc12e4e-6a54-404f-8812-230e4d6dcd52",
   "metadata": {},
   "outputs": [],
   "source": [
    "def transform(data: List[Vector], components: List[Vector]) -> List[Vector]:\n",
    "    return [transform_vector(v, components) for v in data]"
   ]
  },
  {
   "cell_type": "code",
   "execution_count": 96,
   "id": "b2f041d0-c38e-46d0-af75-cd8e4b446946",
   "metadata": {},
   "outputs": [],
   "source": [
    "# def main():\n",
    "\n",
    "#     # I don't know why this is necessary\n",
    "#     plt.gca().clear()\n",
    "#     plt.close()"
   ]
  },
  {
   "cell_type": "code",
   "execution_count": 97,
   "id": "c43bcd2e-657b-41b0-844f-49e949f114b7",
   "metadata": {},
   "outputs": [],
   "source": [
    "import random\n",
    "from probability import inverse_normal_cdf"
   ]
  },
  {
   "cell_type": "code",
   "execution_count": 98,
   "id": "03a59cca-4073-4817-9207-bb5a5902d9a6",
   "metadata": {},
   "outputs": [],
   "source": [
    "random.seed(0)"
   ]
  },
  {
   "cell_type": "code",
   "execution_count": 99,
   "id": "e3c476af-64b4-4d6b-bc7f-40377da80bbc",
   "metadata": {},
   "outputs": [
    {
     "data": {
      "text/plain": [
       "[68.88437030500961, 51.590880588060486, -15.885683833830996]"
      ]
     },
     "execution_count": 99,
     "metadata": {},
     "output_type": "execute_result"
    }
   ],
   "source": [
    " # uniform between -100 and 100\n",
    "uniform = [200 * random.random() - 100 for _ in range(10000)]\n",
    "uniform[:3]"
   ]
  },
  {
   "cell_type": "code",
   "execution_count": 100,
   "id": "01499b6d-8e96-408a-847f-e12298bc133c",
   "metadata": {},
   "outputs": [
    {
     "data": {
      "text/plain": [
       "[50.763559341430664, 18.96437644958496, 21.814985275268555]"
      ]
     },
     "execution_count": 100,
     "metadata": {},
     "output_type": "execute_result"
    }
   ],
   "source": [
    "# normal distribution with mean 0, standard deviation 57\n",
    "normal = [57 * inverse_normal_cdf(random.random())\n",
    "              for _ in range(10000)]\n",
    "normal[:3]"
   ]
  },
  {
   "cell_type": "code",
   "execution_count": 101,
   "id": "7299bde1-87e3-404e-9ff4-ab4bf7b953a9",
   "metadata": {},
   "outputs": [
    {
     "data": {
      "image/png": "[encoded data removed]",
      "text/plain": [
       "<Figure size 432x288 with 1 Axes>"
      ]
     },
     "metadata": {
      "needs_background": "light"
     },
     "output_type": "display_data"
    }
   ],
   "source": [
    "plot_histogram(uniform,10, \"Uniform Histogram\")\n",
    "plt.savefig('images/working_histogram_uniform.png')"
   ]
  },
  {
   "cell_type": "code",
   "execution_count": 102,
   "id": "1c2f2b7f-9065-40e2-a9ec-69ca7e7dde66",
   "metadata": {},
   "outputs": [
    {
     "data": {
      "image/png": "[encoded data removed]",
      "text/plain": [
       "<Figure size 432x288 with 1 Axes>"
      ]
     },
     "metadata": {
      "needs_background": "light"
     },
     "output_type": "display_data"
    }
   ],
   "source": [
    "plot_histogram(normal, 10, \"Normal Histogram\")\n",
    "plt.savefig('images/working_histogram_normal.png')"
   ]
  },
  {
   "cell_type": "code",
   "execution_count": 103,
   "id": "bd8a76be-a8c7-409c-b8c1-8d320c52a2cc",
   "metadata": {},
   "outputs": [],
   "source": [
    "from statisticas import correlation"
   ]
  },
  {
   "cell_type": "code",
   "execution_count": 104,
   "id": "23986cf5-a012-4c62-810a-3a379d098402",
   "metadata": {},
   "outputs": [
    {
     "name": "stdout",
     "output_type": "stream",
     "text": [
      "0.8952814761261199\n",
      "-0.8940874392631807\n"
     ]
    }
   ],
   "source": [
    "print(correlation(xs, ys1))      # about 0.9\n",
    "print(correlation(xs, ys2))      # about -0.9"
   ]
  },
  {
   "cell_type": "code",
   "execution_count": 105,
   "id": "746b37c0-7b95-4439-a82e-ea4664103529",
   "metadata": {},
   "outputs": [],
   "source": [
    "from typing import List"
   ]
  },
  {
   "cell_type": "code",
   "execution_count": 106,
   "id": "59e7a869-c146-4f60-9a0a-3c3560f38311",
   "metadata": {},
   "outputs": [],
   "source": [
    "# Just some random data to show off correlation scatterplots\n",
    "num_points = 100"
   ]
  },
  {
   "cell_type": "code",
   "execution_count": 107,
   "id": "6151296f-6fda-4b31-b75c-ed92b3dc1ba5",
   "metadata": {},
   "outputs": [],
   "source": [
    "def random_row() -> List[float]:\n",
    "        row = [0.0, 0, 0, 0]\n",
    "        row[0] = random_normal()\n",
    "        row[1] = -5 * row[0] + random_normal()\n",
    "        row[2] = row[0] + row[1] + 5 * random_normal()\n",
    "        row[3] = 6 if row[2] > -2 else 0\n",
    "        return row"
   ]
  },
  {
   "cell_type": "code",
   "execution_count": 108,
   "id": "e036b551-d262-4830-ae90-43c8fde2a145",
   "metadata": {},
   "outputs": [
    {
     "data": {
      "text/plain": [
       "[[1.0127925872802734, -4.364223480224609, -4.353599548339844, 0],\n",
       " [-0.6466960906982422, 3.261737823486328, 1.4120292663574219, 6],\n",
       " [0.7850933074951172, -4.440364837646484, -3.9487648010253906, 0]]"
      ]
     },
     "execution_count": 108,
     "metadata": {},
     "output_type": "execute_result"
    }
   ],
   "source": [
    "random.seed(0)\n",
    "# each row has 4 points, but really we want the columns\n",
    "corr_rows = [random_row() for _ in range(num_points)]\n",
    "corr_rows[:3]"
   ]
  },
  {
   "cell_type": "code",
   "execution_count": 109,
   "id": "356dd07c-de26-4101-aab2-c0702f09ab12",
   "metadata": {},
   "outputs": [],
   "source": [
    "corr_data = [list(col) for col in zip(*corr_rows)]"
   ]
  },
  {
   "cell_type": "code",
   "execution_count": 110,
   "id": "7e61ad51-cff5-4b75-a432-241d12799855",
   "metadata": {},
   "outputs": [
    {
     "data": {
      "image/png": "[encoded data removed]",
      "text/plain": [
       "<Figure size 432x288 with 16 Axes>"
      ]
     },
     "metadata": {
      "needs_background": "light"
     },
     "output_type": "display_data"
    }
   ],
   "source": [
    "# corr_data is a list of four 100-d vectors\n",
    "num_vectors = len(corr_data)\n",
    "fig, ax = plt.subplots(num_vectors, num_vectors)"
   ]
  },
  {
   "cell_type": "code",
   "execution_count": 111,
   "id": "9782c01a-0d2c-433d-ba29-b0d81e9df393",
   "metadata": {},
   "outputs": [
    {
     "data": {
      "text/plain": [
       "4"
      ]
     },
     "execution_count": 111,
     "metadata": {},
     "output_type": "execute_result"
    }
   ],
   "source": [
    "num_vectors"
   ]
  },
  {
   "cell_type": "code",
   "execution_count": 112,
   "id": "928d9266-b063-4664-b0d1-1386f801c3fd",
   "metadata": {},
   "outputs": [],
   "source": [
    "for i in range(num_vectors):\n",
    "        for j in range(num_vectors):\n",
    "\n",
    "            # Scatter column_j on the x-axis vs column_i on the y-axis,\n",
    "            if i != j: ax[i][j].scatter(corr_data[j], corr_data[i])\n",
    "\n",
    "            # unless i == j, in which case show the series name.\n",
    "            else: ax[i][j].annotate(\"series \" + str(i), (0.5, 0.5),\n",
    "                                    xycoords='axes fraction',\n",
    "                                    ha=\"center\", va=\"center\")\n",
    "\n",
    "            # Then hide axis labels except left and bottom charts\n",
    "            if i < num_vectors - 1: ax[i][j].xaxis.set_visible(False)\n",
    "            if j > 0: ax[i][j].yaxis.set_visible(False)"
   ]
  },
  {
   "cell_type": "code",
   "execution_count": 113,
   "id": "0a8cc26a-2b43-44f0-822d-e943df0c7f37",
   "metadata": {},
   "outputs": [
    {
     "data": {
      "text/plain": [
       "(-3.221994400024414, 2.480093002319336)"
      ]
     },
     "execution_count": 113,
     "metadata": {},
     "output_type": "execute_result"
    }
   ],
   "source": [
    "# Fix the bottom right and top left axis labels, which are wrong because\n",
    "# their charts only have text in them\n",
    "ax[-1][-1].set_xlim(ax[0][-1].get_xlim())\n",
    "ax[0][0].set_ylim(ax[0][1].get_ylim())"
   ]
  },
  {
   "cell_type": "code",
   "execution_count": 114,
   "id": "fcb67de5-3502-4baa-a4fb-1030ac2771e3",
   "metadata": {},
   "outputs": [],
   "source": [
    "# plt.savefig('working_scatterplot_matrix.png')\n",
    "# plt.gca().clear()\n",
    "# plt.close()\n",
    "# plt.clf()"
   ]
  },
  {
   "cell_type": "code",
   "execution_count": 115,
   "id": "b48a0b0b-8207-4191-880c-dfa76efc97a1",
   "metadata": {},
   "outputs": [],
   "source": [
    "import csv"
   ]
  },
  {
   "cell_type": "code",
   "execution_count": 116,
   "id": "8a584d00-47eb-4108-bcfc-def4670f39b1",
   "metadata": {},
   "outputs": [
    {
     "data": {
      "text/plain": [
       "[]"
      ]
     },
     "execution_count": 116,
     "metadata": {},
     "output_type": "execute_result"
    }
   ],
   "source": [
    "data: List[StockPrice] = []\n",
    "data"
   ]
  },
  {
   "cell_type": "code",
   "execution_count": 117,
   "id": "5f01c075-46ea-41a2-931d-3a4b37c4f7b7",
   "metadata": {},
   "outputs": [
    {
     "name": "stdout",
     "output_type": "stream",
     "text": [
      "skipping invalid row: ['MSFT', '6/19/2014', 'n/a']\n"
     ]
    }
   ],
   "source": [
    "with open(\"comma_delimited_stock_prices.csv\") as f:\n",
    "        reader = csv.reader(f)\n",
    "        for row in reader:\n",
    "            maybe_stock = try_parse_row(row)\n",
    "            if maybe_stock is None:\n",
    "                print(f\"skipping invalid row: {row}\")\n",
    "            else:\n",
    "                data.append(maybe_stock)"
   ]
  },
  {
   "cell_type": "code",
   "execution_count": 118,
   "id": "4307f531-1729-4837-a809-b56b48762e3a",
   "metadata": {},
   "outputs": [
    {
     "data": {
      "text/plain": [
       "StockPrice(symbol='FB', date=datetime.date(2014, 6, 19), closing_price=64.34)"
      ]
     },
     "execution_count": 118,
     "metadata": {},
     "output_type": "execute_result"
    }
   ],
   "source": [
    "maybe_stock"
   ]
  },
  {
   "cell_type": "code",
   "execution_count": 119,
   "id": "fdb6aa85-bd83-46c9-b283-509ee3228ac4",
   "metadata": {},
   "outputs": [
    {
     "name": "stdout",
     "output_type": "stream",
     "text": [
      "AAPL,6/20/2014,90.91\n",
      "MSFT,6/20/2014,41.68\n",
      "FB,6/20/3014,64.5\n",
      "AAPL,6/19/2014,91.86\n",
      "MSFT,6/19/2014,n/a\n",
      "FB,6/19/2014,64.34\n"
     ]
    }
   ],
   "source": [
    "f = open(\"comma_delimited_stock_prices.csv\", \"r\")\n",
    "print(f.read())"
   ]
  },
  {
   "cell_type": "code",
   "execution_count": 120,
   "id": "8c7cc2a1-f2dc-4aa7-ba63-a8edfc49dff3",
   "metadata": {},
   "outputs": [
    {
     "data": {
      "text/plain": [
       "[StockPrice(symbol='AAPL', date=datetime.date(2014, 6, 20), closing_price=90.91),\n",
       " StockPrice(symbol='MSFT', date=datetime.date(2014, 6, 20), closing_price=41.68),\n",
       " StockPrice(symbol='FB', date=datetime.date(3014, 6, 20), closing_price=64.5),\n",
       " StockPrice(symbol='AAPL', date=datetime.date(2014, 6, 19), closing_price=91.86),\n",
       " StockPrice(symbol='FB', date=datetime.date(2014, 6, 19), closing_price=64.34)]"
      ]
     },
     "execution_count": 120,
     "metadata": {},
     "output_type": "execute_result"
    }
   ],
   "source": [
    "data"
   ]
  },
  {
   "cell_type": "code",
   "execution_count": 121,
   "id": "4d537e6d-8b3d-4e43-b03f-8264dd8476c0",
   "metadata": {},
   "outputs": [],
   "source": [
    "from typing import List"
   ]
  },
  {
   "cell_type": "code",
   "execution_count": 122,
   "id": "e491df79-8a2b-414e-9d50-1a3c2fc56077",
   "metadata": {},
   "outputs": [],
   "source": [
    "def primes_up_to(n: int) -> List[int]:\n",
    "        primes = [2]\n",
    "\n",
    "        with tqdm.trange(3, n) as t:\n",
    "            for i in t:\n",
    "                # i is prime if no smaller prime divides it.\n",
    "                i_is_prime = not any(i % p == 0 for p in primes)\n",
    "                if i_is_prime:\n",
    "                    primes.append(i)\n",
    "\n",
    "                t.set_description(f\"{len(primes)} primes\")\n",
    "\n",
    "        return primes"
   ]
  },
  {
   "cell_type": "code",
   "execution_count": 123,
   "id": "ae18eff2-31d0-49d4-9d9f-158dd7702864",
   "metadata": {},
   "outputs": [
    {
     "name": "stderr",
     "output_type": "stream",
     "text": [
      "4 primes: 100%|████████████████████████████████████████████████████████████████████████| 7/7 [00:00<00:00, 2339.45it/s]\n"
     ]
    },
    {
     "data": {
      "text/plain": [
       "[2, 3, 5, 7]"
      ]
     },
     "execution_count": 123,
     "metadata": {},
     "output_type": "execute_result"
    }
   ],
   "source": [
    "my_primes = primes_up_to(10)\n",
    "my_primes"
   ]
  },
  {
   "cell_type": "code",
   "execution_count": 124,
   "id": "6966dfc1-b5d9-4c25-ac97-2be7fd6843be",
   "metadata": {},
   "outputs": [
    {
     "data": {
      "text/plain": [
       "[[0.6663708720254569, 1.6869418499129445],\n",
       " [2.471684004870358, -5.088339625620957]]"
      ]
     },
     "execution_count": 124,
     "metadata": {},
     "output_type": "execute_result"
    }
   ],
   "source": [
    "de_meaned = de_mean(pca_data)\n",
    "de_meaned[:2]"
   ]
  },
  {
   "cell_type": "code",
   "execution_count": 125,
   "id": "fb74ce21-4f72-4633-b1a2-0fa3f944b5c5",
   "metadata": {},
   "outputs": [
    {
     "name": "stderr",
     "output_type": "stream",
     "text": [
      "dv: 10279.151: 100%|███████████████████████████████████████████████████████████████| 100/100 [00:00<00:00, 1085.37it/s]\n"
     ]
    },
    {
     "data": {
      "text/plain": [
       "[0.9237307801943212, 0.3830423549969252]"
      ]
     },
     "execution_count": 125,
     "metadata": {},
     "output_type": "execute_result"
    }
   ],
   "source": [
    "fpc = first_principal_component(de_meaned)\n",
    "fpc"
   ]
  },
  {
   "cell_type": "code",
   "execution_count": 126,
   "id": "1be84ccb-3023-474e-82c0-e09bf4eab856",
   "metadata": {},
   "outputs": [
    {
     "data": {
      "text/plain": [
       "0.9237307801943212"
      ]
     },
     "execution_count": 126,
     "metadata": {},
     "output_type": "execute_result"
    }
   ],
   "source": [
    "assert 0.923 < fpc[0] < 0.925\n",
    "fpc[0]"
   ]
  },
  {
   "cell_type": "code",
   "execution_count": 127,
   "id": "4b835d64-e634-40c4-9ded-b1fdfb74d86a",
   "metadata": {},
   "outputs": [
    {
     "data": {
      "text/plain": [
       "0.3830423549969252"
      ]
     },
     "execution_count": 127,
     "metadata": {},
     "output_type": "execute_result"
    }
   ],
   "source": [
    "assert 0.382 < fpc[1] < 0.384\n",
    "fpc[1]"
   ]
  },
  {
   "cell_type": "code",
   "execution_count": 128,
   "id": "3197eb61-442f-49db-b12b-b451b937fd1f",
   "metadata": {},
   "outputs": [],
   "source": [
    "#if __name__ == \"__main__\": main()"
   ]
  }
 ],
 "metadata": {
  "kernelspec": {
   "display_name": "Python 3 (ipykernel)",
   "language": "python",
   "name": "python3"
  },
  "language_info": {
   "codemirror_mode": {
    "name": "ipython",
    "version": 3
   },
   "file_extension": ".py",
   "mimetype": "text/x-python",
   "name": "python",
   "nbconvert_exporter": "python",
   "pygments_lexer": "ipython3",
   "version": "3.10.2"
  }
 },
 "nbformat": 4,
 "nbformat_minor": 5
}
