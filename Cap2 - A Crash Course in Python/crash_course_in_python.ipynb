{
 "cells": [
  {
   "cell_type": "code",
   "execution_count": 1,
   "id": "4b867bee-4cb6-4ec1-9298-61125e0023d0",
   "metadata": {},
   "outputs": [
    {
     "name": "stdout",
     "output_type": "stream",
     "text": [
      "1\n",
      "1\n",
      "2\n",
      "2\n",
      "3\n",
      "1\n",
      "2\n",
      "1\n",
      "3\n",
      "2\n",
      "4\n",
      "2\n",
      "done looping\n"
     ]
    }
   ],
   "source": [
    "\"\"\"\n",
    "This is just code for the introduction to Python.\n",
    "It also won't be used anywhere else in the book.\n",
    "\"\"\"\n",
    "for i in [1, 2]:\n",
    "    print(i)                    # first line in \"for i\" block\n",
    "    for j in [1, 2]:\n",
    "        print(j)                # first line in \"for j\" block\n",
    "        print(i + j)            # last line in \"for j\" block\n",
    "    print(i)                    # last line in \"for i\" block\n",
    "print(\"done looping\")"
   ]
  },
  {
   "cell_type": "code",
   "execution_count": 2,
   "id": "d45cbf0e-2f58-49ee-8226-bebda2d705e5",
   "metadata": {},
   "outputs": [],
   "source": [
    "long_winded_computation = (1 + 2 + 3 + 4 + 5 + 6 + 7 + 8 + 9 + 10 + 11 + 12 +\n",
    "                           13 + 14 + 15 + 16 + 17 + 18 + 19 + 20)\n",
    "\n",
    "list_of_lists = [[1, 2, 3], [4, 5, 6], [7, 8, 9]]"
   ]
  },
  {
   "cell_type": "code",
   "execution_count": 3,
   "id": "1544fa72-ebaf-4651-997f-9de2c227c518",
   "metadata": {},
   "outputs": [],
   "source": [
    "easier_to_read_list_of_lists = [[1, 2, 3],\n",
    "                                [4, 5, 6],\n",
    "                                [7, 8, 9]]"
   ]
  },
  {
   "cell_type": "code",
   "execution_count": 4,
   "id": "558d8bc1-43ca-4601-8fba-7db4fdf5cf86",
   "metadata": {},
   "outputs": [
    {
     "data": {
      "text/plain": [
       "5"
      ]
     },
     "execution_count": 4,
     "metadata": {},
     "output_type": "execute_result"
    }
   ],
   "source": [
    "two_plus_three = 2 + \\\n",
    "                 3\n",
    "two_plus_three"
   ]
  },
  {
   "cell_type": "code",
   "execution_count": 5,
   "id": "43a14f8d-fa7b-424b-96b8-cb6901ebfda2",
   "metadata": {},
   "outputs": [
    {
     "name": "stdout",
     "output_type": "stream",
     "text": [
      "1\n",
      "2\n",
      "3\n",
      "4\n",
      "5\n"
     ]
    }
   ],
   "source": [
    "for i in [1, 2, 3, 4, 5]:\n",
    "\n",
    "    # notice the blank line\n",
    "    print(i)"
   ]
  },
  {
   "cell_type": "code",
   "execution_count": 6,
   "id": "b9c3d238-fedd-4736-9325-abceb09ea07c",
   "metadata": {},
   "outputs": [
    {
     "data": {
      "text/plain": [
       "re.compile(r'[0-9]+', re.IGNORECASE|re.UNICODE)"
      ]
     },
     "execution_count": 6,
     "metadata": {},
     "output_type": "execute_result"
    }
   ],
   "source": [
    "import re\n",
    "my_regex = re.compile(\"[0-9]+\", re.I)\n",
    "my_regex"
   ]
  },
  {
   "cell_type": "code",
   "execution_count": 7,
   "id": "18edc73e-53b7-45bd-930f-fd80d19f5225",
   "metadata": {},
   "outputs": [
    {
     "data": {
      "text/plain": [
       "re.compile(r'[0-9]+', re.IGNORECASE|re.UNICODE)"
      ]
     },
     "execution_count": 7,
     "metadata": {},
     "output_type": "execute_result"
    }
   ],
   "source": [
    "import re as regex\n",
    "my_regex = regex.compile(\"[0-9]+\", regex.I)\n",
    "my_regex"
   ]
  },
  {
   "cell_type": "code",
   "execution_count": 8,
   "id": "8135e624-d584-4985-95ef-dc7b22990f1a",
   "metadata": {},
   "outputs": [],
   "source": [
    "from collections import defaultdict, Counter\n",
    "lookup = defaultdict(int)\n",
    "my_counter = Counter()"
   ]
  },
  {
   "cell_type": "code",
   "execution_count": 9,
   "id": "b02a8e9b-5f72-4c2d-887b-a7b71dde245c",
   "metadata": {},
   "outputs": [
    {
     "name": "stdout",
     "output_type": "stream",
     "text": [
      "<function match at 0x000001F85D6FA0E0>\n"
     ]
    }
   ],
   "source": [
    "match = 10\n",
    "from re import *    # uh oh, re has a match function\n",
    "print(match)        # \"<function match at 0x10281e6a8>\""
   ]
  },
  {
   "cell_type": "code",
   "execution_count": 10,
   "id": "0a1fdd86-2248-48fd-9f34-adf502a83670",
   "metadata": {},
   "outputs": [],
   "source": [
    "def double(x):\n",
    "    \"\"\"\n",
    "    This is where you put an optional docstring that explains what the\n",
    "    function does. For example, this function multiplies its input by 2.\n",
    "    \"\"\"\n",
    "    return x * 2"
   ]
  },
  {
   "cell_type": "code",
   "execution_count": 11,
   "id": "67e2dc4e-37c7-4c75-a5eb-bbf5537853db",
   "metadata": {},
   "outputs": [
    {
     "data": {
      "text/plain": [
       "8"
      ]
     },
     "execution_count": 11,
     "metadata": {},
     "output_type": "execute_result"
    }
   ],
   "source": [
    "double(4)"
   ]
  },
  {
   "cell_type": "code",
   "execution_count": 12,
   "id": "1cb0ee8e-c728-4344-bcd2-0f7493f60942",
   "metadata": {},
   "outputs": [],
   "source": [
    "def apply_to_one(f):\n",
    "    \"\"\"Calls the function f with 1 as its argument\"\"\"\n",
    "    return f(1)"
   ]
  },
  {
   "cell_type": "code",
   "execution_count": 13,
   "id": "e46ca80a-7922-4abc-b400-1964579a6a98",
   "metadata": {},
   "outputs": [
    {
     "data": {
      "text/plain": [
       "2"
      ]
     },
     "execution_count": 13,
     "metadata": {},
     "output_type": "execute_result"
    }
   ],
   "source": [
    "apply_to_one(double)"
   ]
  },
  {
   "cell_type": "code",
   "execution_count": 14,
   "id": "c5005575-eb26-48db-8db7-6094e4f826dd",
   "metadata": {},
   "outputs": [
    {
     "data": {
      "text/plain": [
       "2"
      ]
     },
     "execution_count": 14,
     "metadata": {},
     "output_type": "execute_result"
    }
   ],
   "source": [
    "my_double = double             # refers to the previously defined function\n",
    "x = apply_to_one(my_double)    # equals 2\n",
    "x"
   ]
  },
  {
   "cell_type": "code",
   "execution_count": 15,
   "id": "905640c4-8bcf-4dc0-9977-b884f730ae6d",
   "metadata": {},
   "outputs": [
    {
     "data": {
      "text/plain": [
       "5"
      ]
     },
     "execution_count": 15,
     "metadata": {},
     "output_type": "execute_result"
    }
   ],
   "source": [
    "assert x == 2\n",
    "\n",
    "y = apply_to_one(lambda x: x + 4)      # equals 5\n",
    "y"
   ]
  },
  {
   "cell_type": "code",
   "execution_count": 16,
   "id": "da200ea6-c287-4674-9a62-f7e74a30d50f",
   "metadata": {},
   "outputs": [
    {
     "data": {
      "text/plain": [
       "<function __main__.<lambda>(x)>"
      ]
     },
     "execution_count": 16,
     "metadata": {},
     "output_type": "execute_result"
    }
   ],
   "source": [
    "assert y == 5\n",
    "\n",
    "another_double = lambda x: 2 * x       # Don't do this\n",
    "another_double"
   ]
  },
  {
   "cell_type": "code",
   "execution_count": 17,
   "id": "1ccdb2ae-1fef-4564-9ba9-d817981572f0",
   "metadata": {},
   "outputs": [],
   "source": [
    "def another_double(x):\n",
    "    \"\"\"Do this instead\"\"\"\n",
    "    return 2 * x"
   ]
  },
  {
   "cell_type": "code",
   "execution_count": 18,
   "id": "b86cba19-f851-4383-a044-24bf9f1cd292",
   "metadata": {},
   "outputs": [
    {
     "data": {
      "text/plain": [
       "16"
      ]
     },
     "execution_count": 18,
     "metadata": {},
     "output_type": "execute_result"
    }
   ],
   "source": [
    "another_double(8)"
   ]
  },
  {
   "cell_type": "code",
   "execution_count": 19,
   "id": "e28dba54-9935-4da7-bd0c-734c50618299",
   "metadata": {},
   "outputs": [],
   "source": [
    "def my_print(message = \"my default message\"):\n",
    "    print(message)"
   ]
  },
  {
   "cell_type": "code",
   "execution_count": 20,
   "id": "77ab59bf-574b-4d98-a2fc-33af80c02703",
   "metadata": {},
   "outputs": [
    {
     "name": "stdout",
     "output_type": "stream",
     "text": [
      "hello\n",
      "my default message\n"
     ]
    }
   ],
   "source": [
    "my_print(\"hello\")   # prints 'hello'\n",
    "my_print()          # prints 'my default message'"
   ]
  },
  {
   "cell_type": "code",
   "execution_count": 21,
   "id": "02e99ddf-bf81-4537-a46a-aa11978c5002",
   "metadata": {},
   "outputs": [
    {
     "data": {
      "text/plain": [
       "'Joel Grus'"
      ]
     },
     "execution_count": 21,
     "metadata": {},
     "output_type": "execute_result"
    }
   ],
   "source": [
    "def full_name(first = \"What's-his-name\", last = \"Something\"):\n",
    "    return first + \" \" + last\n",
    "\n",
    "full_name(\"Joel\", \"Grus\")     # \"Joel Grus\""
   ]
  },
  {
   "cell_type": "code",
   "execution_count": 22,
   "id": "8879b29e-49cd-4382-a637-8de6081ccbef",
   "metadata": {},
   "outputs": [
    {
     "data": {
      "text/plain": [
       "'Joel Something'"
      ]
     },
     "execution_count": 22,
     "metadata": {},
     "output_type": "execute_result"
    }
   ],
   "source": [
    "full_name(\"Joel\")             # \"Joel Something\""
   ]
  },
  {
   "cell_type": "code",
   "execution_count": 23,
   "id": "8c334ddd-27f7-4618-b513-2ef1f3181626",
   "metadata": {},
   "outputs": [
    {
     "data": {
      "text/plain": [
       "\"What's-his-name Grus\""
      ]
     },
     "execution_count": 23,
     "metadata": {},
     "output_type": "execute_result"
    }
   ],
   "source": [
    "full_name(last=\"Grus\")        # \"What's-his-name Grus\""
   ]
  },
  {
   "cell_type": "code",
   "execution_count": 24,
   "id": "a37e88ac-fee5-41a0-be77-3542a931ccc2",
   "metadata": {},
   "outputs": [],
   "source": [
    "assert full_name(\"Joel\", \"Grus\")     == \"Joel Grus\"\n",
    "assert full_name(\"Joel\")             == \"Joel Something\"\n",
    "assert full_name(last=\"Grus\")        == \"What's-his-name Grus\""
   ]
  },
  {
   "cell_type": "code",
   "execution_count": 25,
   "id": "b1d33b6d-318b-4316-a55b-5273fa97cb90",
   "metadata": {},
   "outputs": [],
   "source": [
    "single_quoted_string = 'data science'\n",
    "double_quoted_string = \"data science\""
   ]
  },
  {
   "cell_type": "code",
   "execution_count": 26,
   "id": "96db93d0-3863-412d-8ecc-4438e4026cb7",
   "metadata": {},
   "outputs": [
    {
     "data": {
      "text/plain": [
       "1"
      ]
     },
     "execution_count": 26,
     "metadata": {},
     "output_type": "execute_result"
    }
   ],
   "source": [
    "tab_string = \"\\t\"       # represents the tab character\n",
    "len(tab_string)         # is 1"
   ]
  },
  {
   "cell_type": "code",
   "execution_count": 27,
   "id": "e74f155c-c0a3-4d21-8d7e-a3ced8d25132",
   "metadata": {},
   "outputs": [],
   "source": [
    "assert len(tab_string) == 1"
   ]
  },
  {
   "cell_type": "code",
   "execution_count": 28,
   "id": "7fbd97bd-f076-4599-b029-e46b5b13451b",
   "metadata": {},
   "outputs": [
    {
     "data": {
      "text/plain": [
       "2"
      ]
     },
     "execution_count": 28,
     "metadata": {},
     "output_type": "execute_result"
    }
   ],
   "source": [
    "not_tab_string = r\"\\t\"  # represents the characters '\\' and 't'\n",
    "len(not_tab_string)     # is 2"
   ]
  },
  {
   "cell_type": "code",
   "execution_count": 29,
   "id": "b92a42f9-299c-4f24-868a-8dc99ddabf01",
   "metadata": {},
   "outputs": [],
   "source": [
    "assert len(not_tab_string) == 2"
   ]
  },
  {
   "cell_type": "code",
   "execution_count": 30,
   "id": "930244a5-3b0f-4951-8b16-cc83fb427586",
   "metadata": {},
   "outputs": [],
   "source": [
    "multi_line_string = \"\"\"This is the first line.\n",
    "and this is the second line\n",
    "and this is the third line\"\"\""
   ]
  },
  {
   "cell_type": "code",
   "execution_count": 31,
   "id": "d14dfe18-13be-4c65-bc8a-0f54b7d021ea",
   "metadata": {},
   "outputs": [],
   "source": [
    "first_name = \"Joel\"\n",
    "last_name = \"Grus\""
   ]
  },
  {
   "cell_type": "code",
   "execution_count": 32,
   "id": "f5934922-3350-4069-b475-2f5cf5c453b7",
   "metadata": {},
   "outputs": [
    {
     "data": {
      "text/plain": [
       "'Joel Grus'"
      ]
     },
     "execution_count": 32,
     "metadata": {},
     "output_type": "execute_result"
    }
   ],
   "source": [
    "full_name1 = first_name + \" \" + last_name             # string addition\n",
    "full_name1"
   ]
  },
  {
   "cell_type": "code",
   "execution_count": 33,
   "id": "643e66f1-d19f-4af9-81d5-9ef95e5fa298",
   "metadata": {},
   "outputs": [
    {
     "data": {
      "text/plain": [
       "'Joel Grus'"
      ]
     },
     "execution_count": 33,
     "metadata": {},
     "output_type": "execute_result"
    }
   ],
   "source": [
    "full_name2 = \"{0} {1}\".format(first_name, last_name)  # string.format\n",
    "full_name2"
   ]
  },
  {
   "cell_type": "code",
   "execution_count": 34,
   "id": "19eb84fe-032a-4958-b056-248b19f6730e",
   "metadata": {},
   "outputs": [
    {
     "data": {
      "text/plain": [
       "'Joel Grus'"
      ]
     },
     "execution_count": 34,
     "metadata": {},
     "output_type": "execute_result"
    }
   ],
   "source": [
    "full_name3 = f\"{first_name} {last_name}\"\n",
    "full_name3"
   ]
  },
  {
   "cell_type": "code",
   "execution_count": 35,
   "id": "7ea7ea1d-35f7-42c1-b8ba-e581f4deac49",
   "metadata": {},
   "outputs": [
    {
     "name": "stdout",
     "output_type": "stream",
     "text": [
      "cannot divide by zero\n"
     ]
    }
   ],
   "source": [
    "try:\n",
    "    print(0 / 0)\n",
    "except ZeroDivisionError:\n",
    "    print(\"cannot divide by zero\")"
   ]
  },
  {
   "cell_type": "code",
   "execution_count": 36,
   "id": "ac2a00af-fe8c-4c34-b4f4-1c2c7ac3efce",
   "metadata": {},
   "outputs": [],
   "source": [
    "integer_list = [1, 2, 3]\n",
    "heterogeneous_list = [\"string\", 0.1, True]\n",
    "list_of_lists = [integer_list, heterogeneous_list, []]"
   ]
  },
  {
   "cell_type": "code",
   "execution_count": 37,
   "id": "89fec565-2865-4b56-a20c-dca3edcdb3d7",
   "metadata": {},
   "outputs": [
    {
     "data": {
      "text/plain": [
       "3"
      ]
     },
     "execution_count": 37,
     "metadata": {},
     "output_type": "execute_result"
    }
   ],
   "source": [
    "list_length = len(integer_list)     # equals 3\n",
    "list_length"
   ]
  },
  {
   "cell_type": "code",
   "execution_count": 38,
   "id": "c8b76068-d596-4eb7-b2ad-e950c90c401a",
   "metadata": {},
   "outputs": [
    {
     "data": {
      "text/plain": [
       "6"
      ]
     },
     "execution_count": 38,
     "metadata": {},
     "output_type": "execute_result"
    }
   ],
   "source": [
    "list_sum    = sum(integer_list)     # equals 6\n",
    "list_sum"
   ]
  },
  {
   "cell_type": "code",
   "execution_count": 39,
   "id": "c6627b12-b9ea-41c0-ab03-0bc0bb444d90",
   "metadata": {},
   "outputs": [],
   "source": [
    "assert list_length == 3\n",
    "assert list_sum == 6"
   ]
  },
  {
   "cell_type": "code",
   "execution_count": 40,
   "id": "e14f2bd0-3acf-48df-a1ee-b31b40384443",
   "metadata": {},
   "outputs": [
    {
     "data": {
      "text/plain": [
       "0"
      ]
     },
     "execution_count": 40,
     "metadata": {},
     "output_type": "execute_result"
    }
   ],
   "source": [
    "x = [0, 1, 2, 3, 4, 5, 6, 7, 8, 9]\n",
    "\n",
    "zero = x[0]          # equals 0, lists are 0-indexed\n",
    "zero"
   ]
  },
  {
   "cell_type": "code",
   "execution_count": 41,
   "id": "252844d5-d6b9-40a0-a43f-25f3e8a6ae9c",
   "metadata": {},
   "outputs": [
    {
     "data": {
      "text/plain": [
       "1"
      ]
     },
     "execution_count": 41,
     "metadata": {},
     "output_type": "execute_result"
    }
   ],
   "source": [
    "one = x[1]           # equals 1\n",
    "one"
   ]
  },
  {
   "cell_type": "code",
   "execution_count": 42,
   "id": "448dab64-705b-4df4-960e-e1aa9ecbaf2e",
   "metadata": {},
   "outputs": [
    {
     "data": {
      "text/plain": [
       "9"
      ]
     },
     "execution_count": 42,
     "metadata": {},
     "output_type": "execute_result"
    }
   ],
   "source": [
    "nine = x[-1]         # equals 9, 'Pythonic' for last element\n",
    "nine"
   ]
  },
  {
   "cell_type": "code",
   "execution_count": 43,
   "id": "24924f25-9f55-4be6-adee-48195827765e",
   "metadata": {},
   "outputs": [
    {
     "data": {
      "text/plain": [
       "8"
      ]
     },
     "execution_count": 43,
     "metadata": {},
     "output_type": "execute_result"
    }
   ],
   "source": [
    "eight = x[-2]        # equals 8, 'Pythonic' for next-to-last element\n",
    "eight"
   ]
  },
  {
   "cell_type": "code",
   "execution_count": 44,
   "id": "9ea65de2-0a9a-4dcc-b2c8-dfe1484c8ae3",
   "metadata": {},
   "outputs": [],
   "source": [
    "x[0] = -1            # now x is [-1, 1, 2, 3, ..., 9]"
   ]
  },
  {
   "cell_type": "code",
   "execution_count": 45,
   "id": "dd0f1cb9-4ea7-4208-ad98-39c70b76ba4e",
   "metadata": {},
   "outputs": [
    {
     "data": {
      "text/plain": [
       "[-1, 1, 2, 3, 4, 5, 6, 7, 8, 9]"
      ]
     },
     "execution_count": 45,
     "metadata": {},
     "output_type": "execute_result"
    }
   ],
   "source": [
    "x"
   ]
  },
  {
   "cell_type": "code",
   "execution_count": 46,
   "id": "1be513a9-721e-46f6-9b8d-347d9d4baf17",
   "metadata": {},
   "outputs": [],
   "source": [
    "assert x == [-1, 1, 2, 3, 4, 5, 6, 7, 8, 9]"
   ]
  },
  {
   "cell_type": "code",
   "execution_count": 47,
   "id": "d7ab7452-83cf-453b-8d53-5e64d013be55",
   "metadata": {},
   "outputs": [
    {
     "data": {
      "text/plain": [
       "[-1, 1, 2]"
      ]
     },
     "execution_count": 47,
     "metadata": {},
     "output_type": "execute_result"
    }
   ],
   "source": [
    "first_three = x[:3]                 # [-1, 1, 2]\n",
    "first_three"
   ]
  },
  {
   "cell_type": "code",
   "execution_count": 48,
   "id": "904d8622-1005-45f9-ba6f-f225755874b0",
   "metadata": {},
   "outputs": [
    {
     "data": {
      "text/plain": [
       "[3, 4, 5, 6, 7, 8, 9]"
      ]
     },
     "execution_count": 48,
     "metadata": {},
     "output_type": "execute_result"
    }
   ],
   "source": [
    "three_to_end = x[3:]                # [3, 4, ..., 9]\n",
    "three_to_end"
   ]
  },
  {
   "cell_type": "code",
   "execution_count": 49,
   "id": "ba1cada3-191d-46bf-bf25-1d63f74df130",
   "metadata": {},
   "outputs": [
    {
     "data": {
      "text/plain": [
       "[1, 2, 3, 4]"
      ]
     },
     "execution_count": 49,
     "metadata": {},
     "output_type": "execute_result"
    }
   ],
   "source": [
    "one_to_four = x[1:5]                # [1, 2, 3, 4]\n",
    "one_to_four"
   ]
  },
  {
   "cell_type": "code",
   "execution_count": 50,
   "id": "73dc8752-1a86-47b5-9a30-b399de24bb06",
   "metadata": {},
   "outputs": [
    {
     "data": {
      "text/plain": [
       "[7, 8, 9]"
      ]
     },
     "execution_count": 50,
     "metadata": {},
     "output_type": "execute_result"
    }
   ],
   "source": [
    "last_three = x[-3:]                 # [7, 8, 9]\n",
    "last_three"
   ]
  },
  {
   "cell_type": "code",
   "execution_count": 51,
   "id": "8ec9e858-7c99-4a37-8f08-791ef1da5140",
   "metadata": {},
   "outputs": [
    {
     "data": {
      "text/plain": [
       "[1, 2, 3, 4, 5, 6, 7, 8]"
      ]
     },
     "execution_count": 51,
     "metadata": {},
     "output_type": "execute_result"
    }
   ],
   "source": [
    "without_first_and_last = x[1:-1]    # [1, 2, ..., 8]\n",
    "without_first_and_last"
   ]
  },
  {
   "cell_type": "code",
   "execution_count": 52,
   "id": "e1342b21-5717-4a6c-a32f-e8dd39d2faf8",
   "metadata": {},
   "outputs": [
    {
     "data": {
      "text/plain": [
       "[-1, 1, 2, 3, 4, 5, 6, 7, 8, 9]"
      ]
     },
     "execution_count": 52,
     "metadata": {},
     "output_type": "execute_result"
    }
   ],
   "source": [
    "copy_of_x = x[:]                    # [-1, 1, 2, ..., 9]\n",
    "copy_of_x"
   ]
  },
  {
   "cell_type": "code",
   "execution_count": 53,
   "id": "6c6f0b0b-8cea-46dd-a93e-8f41e2b5ad38",
   "metadata": {},
   "outputs": [
    {
     "data": {
      "text/plain": [
       "[-1, 3, 6, 9]"
      ]
     },
     "execution_count": 53,
     "metadata": {},
     "output_type": "execute_result"
    }
   ],
   "source": [
    "every_third = x[::3]                 # [-1, 3, 6, 9]\n",
    "every_third"
   ]
  },
  {
   "cell_type": "code",
   "execution_count": 54,
   "id": "c0479389-6491-4f89-b8c6-3e4e17af0ee7",
   "metadata": {},
   "outputs": [
    {
     "data": {
      "text/plain": [
       "[5, 4, 3]"
      ]
     },
     "execution_count": 54,
     "metadata": {},
     "output_type": "execute_result"
    }
   ],
   "source": [
    "five_to_three = x[5:2:-1]            # [5, 4, 3]\n",
    "five_to_three"
   ]
  },
  {
   "cell_type": "code",
   "execution_count": 55,
   "id": "5d498882-b423-4c0b-9307-d35b5acbbbdc",
   "metadata": {},
   "outputs": [],
   "source": [
    "assert every_third == [-1, 3, 6, 9]\n",
    "assert five_to_three == [5, 4, 3]"
   ]
  },
  {
   "cell_type": "code",
   "execution_count": 56,
   "id": "289f590f-5bbc-4022-8186-2289aebc3e9b",
   "metadata": {},
   "outputs": [
    {
     "data": {
      "text/plain": [
       "True"
      ]
     },
     "execution_count": 56,
     "metadata": {},
     "output_type": "execute_result"
    }
   ],
   "source": [
    "1 in [1, 2, 3]    # True"
   ]
  },
  {
   "cell_type": "code",
   "execution_count": 57,
   "id": "30023f1a-288a-4c16-b89c-a4745148c927",
   "metadata": {},
   "outputs": [
    {
     "data": {
      "text/plain": [
       "False"
      ]
     },
     "execution_count": 57,
     "metadata": {},
     "output_type": "execute_result"
    }
   ],
   "source": [
    "0 in [1, 2, 3]    # False"
   ]
  },
  {
   "cell_type": "code",
   "execution_count": 58,
   "id": "5161440b-ba70-40b7-a398-6384a2d0eb05",
   "metadata": {},
   "outputs": [
    {
     "data": {
      "text/plain": [
       "[1, 2, 3, 4, 5, 6]"
      ]
     },
     "execution_count": 58,
     "metadata": {},
     "output_type": "execute_result"
    }
   ],
   "source": [
    "x = [1, 2, 3]\n",
    "x.extend([4, 5, 6])     # x is now [1, 2, 3, 4, 5, 6]\n",
    "x"
   ]
  },
  {
   "cell_type": "code",
   "execution_count": 59,
   "id": "2612a414-daa0-4431-af96-1b10a6c7a125",
   "metadata": {},
   "outputs": [],
   "source": [
    "assert x == [1, 2, 3, 4, 5, 6]"
   ]
  },
  {
   "cell_type": "code",
   "execution_count": 60,
   "id": "cc7f4963-5f36-4159-bd1b-4facd3e20878",
   "metadata": {},
   "outputs": [
    {
     "data": {
      "text/plain": [
       "[1, 2, 3, 4, 5, 6]"
      ]
     },
     "execution_count": 60,
     "metadata": {},
     "output_type": "execute_result"
    }
   ],
   "source": [
    "x = [1, 2, 3]\n",
    "y = x + [4, 5, 6]       # y is [1, 2, 3, 4, 5, 6]; x is unchanged\n",
    "y"
   ]
  },
  {
   "cell_type": "code",
   "execution_count": 61,
   "id": "9b1ed8e7-2261-494d-8732-f347893fea38",
   "metadata": {},
   "outputs": [],
   "source": [
    "assert x == [1, 2, 3]\n",
    "assert y == [1, 2, 3, 4, 5, 6]"
   ]
  },
  {
   "cell_type": "code",
   "execution_count": 62,
   "id": "9929154c-05c2-48dc-89fe-b91d8655089e",
   "metadata": {},
   "outputs": [
    {
     "data": {
      "text/plain": [
       "[1, 2, 3, 0]"
      ]
     },
     "execution_count": 62,
     "metadata": {},
     "output_type": "execute_result"
    }
   ],
   "source": [
    "x = [1, 2, 3]\n",
    "x.append(0)      # x is now [1, 2, 3, 0]\n",
    "x"
   ]
  },
  {
   "cell_type": "code",
   "execution_count": 63,
   "id": "3c0f21b4-eadd-42a1-96f8-628f9ac05b24",
   "metadata": {},
   "outputs": [
    {
     "data": {
      "text/plain": [
       "0"
      ]
     },
     "execution_count": 63,
     "metadata": {},
     "output_type": "execute_result"
    }
   ],
   "source": [
    "y = x[-1]        # equals 0\n",
    "y"
   ]
  },
  {
   "cell_type": "code",
   "execution_count": 64,
   "id": "60042356-38aa-47e3-a34f-88d06a021f0f",
   "metadata": {},
   "outputs": [
    {
     "data": {
      "text/plain": [
       "4"
      ]
     },
     "execution_count": 64,
     "metadata": {},
     "output_type": "execute_result"
    }
   ],
   "source": [
    "z = len(x)       # equals 4\n",
    "z"
   ]
  },
  {
   "cell_type": "code",
   "execution_count": 65,
   "id": "241a97be-ebcd-41bc-aac9-82508122b2fd",
   "metadata": {},
   "outputs": [],
   "source": [
    "assert x == [1, 2, 3, 0]\n",
    "assert y == 0\n",
    "assert z == 4"
   ]
  },
  {
   "cell_type": "code",
   "execution_count": 66,
   "id": "8d4b8992-ae32-4c4b-964e-0205e94cd02c",
   "metadata": {},
   "outputs": [
    {
     "data": {
      "text/plain": [
       "(1, 2)"
      ]
     },
     "execution_count": 66,
     "metadata": {},
     "output_type": "execute_result"
    }
   ],
   "source": [
    "x, y = [1, 2]    # now x is 1, y is 2\n",
    "x, y"
   ]
  },
  {
   "cell_type": "code",
   "execution_count": 67,
   "id": "225dc7dd-50f9-4e12-b75a-42524bed1f53",
   "metadata": {},
   "outputs": [],
   "source": [
    "assert x == 1\n",
    "assert y == 2"
   ]
  },
  {
   "cell_type": "code",
   "execution_count": 68,
   "id": "60bdf0c0-1a60-4439-b9c4-f71b943fa4da",
   "metadata": {},
   "outputs": [
    {
     "data": {
      "text/plain": [
       "2"
      ]
     },
     "execution_count": 68,
     "metadata": {},
     "output_type": "execute_result"
    }
   ],
   "source": [
    "_, y = [1, 2]    # now y == 2, didn't care about the first element\n",
    "y"
   ]
  },
  {
   "cell_type": "code",
   "execution_count": 69,
   "id": "56d0cee9-5d2e-4258-b60e-1e51c89dc8eb",
   "metadata": {},
   "outputs": [
    {
     "data": {
      "text/plain": [
       "[1, 3]"
      ]
     },
     "execution_count": 69,
     "metadata": {},
     "output_type": "execute_result"
    }
   ],
   "source": [
    "my_list = [1, 2]\n",
    "my_tuple = (1, 2)\n",
    "other_tuple = 3, 4\n",
    "my_list[1] = 3      # my_list is now [1, 3]\n",
    "my_list"
   ]
  },
  {
   "cell_type": "code",
   "execution_count": 70,
   "id": "3aad87eb-04b0-482a-ab57-c0cb2421483e",
   "metadata": {},
   "outputs": [
    {
     "name": "stdout",
     "output_type": "stream",
     "text": [
      "cannot modify a tuple\n"
     ]
    }
   ],
   "source": [
    "try:\n",
    "    my_tuple[1] = 3\n",
    "except TypeError:\n",
    "    print(\"cannot modify a tuple\")"
   ]
  },
  {
   "cell_type": "code",
   "execution_count": 71,
   "id": "27a517f8-67ce-40fa-a25f-5f00a4029376",
   "metadata": {},
   "outputs": [],
   "source": [
    "def sum_and_product(x, y):\n",
    "    return (x + y), (x * y)"
   ]
  },
  {
   "cell_type": "code",
   "execution_count": 72,
   "id": "f9779b82-7b3a-457a-818c-12352f5dd71e",
   "metadata": {},
   "outputs": [
    {
     "data": {
      "text/plain": [
       "(5, 6)"
      ]
     },
     "execution_count": 72,
     "metadata": {},
     "output_type": "execute_result"
    }
   ],
   "source": [
    "sp = sum_and_product(2, 3)     # sp is (5, 6)\n",
    "sp"
   ]
  },
  {
   "cell_type": "code",
   "execution_count": 73,
   "id": "c56ff87a-4fc1-4349-9f2e-a478314c08e7",
   "metadata": {},
   "outputs": [
    {
     "data": {
      "text/plain": [
       "(15, 50)"
      ]
     },
     "execution_count": 73,
     "metadata": {},
     "output_type": "execute_result"
    }
   ],
   "source": [
    "s, p = sum_and_product(5, 10)  # s is 15, p is 50\n",
    "s, p"
   ]
  },
  {
   "cell_type": "code",
   "execution_count": 74,
   "id": "f11fe40a-113a-46d2-9817-c36a2745486a",
   "metadata": {},
   "outputs": [
    {
     "data": {
      "text/plain": [
       "(2, 1)"
      ]
     },
     "execution_count": 74,
     "metadata": {},
     "output_type": "execute_result"
    }
   ],
   "source": [
    "x, y = 1, 2     # now x is 1, y is 2\n",
    "x, y = y, x     # Pythonic way to swap variables; now x is 2, y is 1\n",
    "x, y"
   ]
  },
  {
   "cell_type": "code",
   "execution_count": 75,
   "id": "404ae1c1-0e04-41b4-b298-8fe82144b7ab",
   "metadata": {},
   "outputs": [],
   "source": [
    "assert x == 2\n",
    "assert y == 1"
   ]
  },
  {
   "cell_type": "code",
   "execution_count": 76,
   "id": "1f3435a0-db09-44c0-a0e0-78845abf1976",
   "metadata": {},
   "outputs": [],
   "source": [
    "empty_dict = {}                     # Pythonic\n",
    "empty_dict2 = dict()                # less Pythonic\n",
    "grades = {\"Joel\": 80, \"Tim\": 95}    # dictionary literal"
   ]
  },
  {
   "cell_type": "code",
   "execution_count": 77,
   "id": "ead6f645-118c-4372-a8ff-e6b8e66df21e",
   "metadata": {},
   "outputs": [
    {
     "data": {
      "text/plain": [
       "80"
      ]
     },
     "execution_count": 77,
     "metadata": {},
     "output_type": "execute_result"
    }
   ],
   "source": [
    "joels_grade = grades[\"Joel\"]        # equals 80\n",
    "joels_grade"
   ]
  },
  {
   "cell_type": "code",
   "execution_count": 78,
   "id": "9ef51800-744a-492e-aa8f-81db973a908d",
   "metadata": {},
   "outputs": [],
   "source": [
    "assert joels_grade == 80"
   ]
  },
  {
   "cell_type": "code",
   "execution_count": 79,
   "id": "36bd22ba-6e6b-4043-b747-e7bb32f8a532",
   "metadata": {},
   "outputs": [
    {
     "name": "stdout",
     "output_type": "stream",
     "text": [
      "no grade for Kate!\n"
     ]
    }
   ],
   "source": [
    "try:\n",
    "    kates_grade = grades[\"Kate\"]\n",
    "except KeyError:\n",
    "    print(\"no grade for Kate!\")"
   ]
  },
  {
   "cell_type": "code",
   "execution_count": 80,
   "id": "4ea01446-526a-4cd6-8c98-f2fd6f6c1bb5",
   "metadata": {},
   "outputs": [
    {
     "data": {
      "text/plain": [
       "True"
      ]
     },
     "execution_count": 80,
     "metadata": {},
     "output_type": "execute_result"
    }
   ],
   "source": [
    "joel_has_grade = \"Joel\" in grades     # True\n",
    "joel_has_grade"
   ]
  },
  {
   "cell_type": "code",
   "execution_count": 81,
   "id": "0f542f78-b1f0-478b-afaf-a1585aae6202",
   "metadata": {},
   "outputs": [
    {
     "data": {
      "text/plain": [
       "False"
      ]
     },
     "execution_count": 81,
     "metadata": {},
     "output_type": "execute_result"
    }
   ],
   "source": [
    "kate_has_grade = \"Kate\" in grades     # False\n",
    "kate_has_grade"
   ]
  },
  {
   "cell_type": "code",
   "execution_count": 82,
   "id": "49418898-a6c0-4810-9f3c-306dd724558b",
   "metadata": {},
   "outputs": [],
   "source": [
    "assert joel_has_grade\n",
    "assert not kate_has_grade"
   ]
  },
  {
   "cell_type": "code",
   "execution_count": 83,
   "id": "82ac1478-4c2f-44ca-9149-f4c1b4592967",
   "metadata": {},
   "outputs": [
    {
     "data": {
      "text/plain": [
       "80"
      ]
     },
     "execution_count": 83,
     "metadata": {},
     "output_type": "execute_result"
    }
   ],
   "source": [
    "joels_grade = grades.get(\"Joel\", 0)   # equals 80\n",
    "joels_grade"
   ]
  },
  {
   "cell_type": "code",
   "execution_count": 84,
   "id": "7efb16b5-30a9-4c4c-97a8-9f899085593b",
   "metadata": {},
   "outputs": [
    {
     "data": {
      "text/plain": [
       "0"
      ]
     },
     "execution_count": 84,
     "metadata": {},
     "output_type": "execute_result"
    }
   ],
   "source": [
    "kates_grade = grades.get(\"Kate\", 0)   # equals 0\n",
    "kates_grade"
   ]
  },
  {
   "cell_type": "code",
   "execution_count": 85,
   "id": "31c3a720-d85e-481e-a40a-14a9faaf9c89",
   "metadata": {},
   "outputs": [],
   "source": [
    "no_ones_grade = grades.get(\"No One\")  # default default is None\n",
    "no_ones_grade"
   ]
  },
  {
   "cell_type": "code",
   "execution_count": 86,
   "id": "c784f2c3-e332-4be5-af91-8938d6cea3c4",
   "metadata": {},
   "outputs": [],
   "source": [
    "assert joels_grade == 80\n",
    "assert kates_grade == 0\n",
    "assert no_ones_grade is None"
   ]
  },
  {
   "cell_type": "code",
   "execution_count": 87,
   "id": "e9d6e6bd-0c38-4e37-891c-f46a488ce05b",
   "metadata": {},
   "outputs": [
    {
     "data": {
      "text/plain": [
       "3"
      ]
     },
     "execution_count": 87,
     "metadata": {},
     "output_type": "execute_result"
    }
   ],
   "source": [
    "grades[\"Tim\"] = 99                    # replaces the old value\n",
    "grades[\"Kate\"] = 100                  # adds a third entry\n",
    "num_students = len(grades)            # equals 3\n",
    "num_students"
   ]
  },
  {
   "cell_type": "code",
   "execution_count": 88,
   "id": "7db0fd38-48ac-420d-9e73-c60f1d9bc6ff",
   "metadata": {},
   "outputs": [],
   "source": [
    "assert num_students == 3"
   ]
  },
  {
   "cell_type": "code",
   "execution_count": 89,
   "id": "a95fb0fb-91b4-48c7-b2d8-4763d68f56f2",
   "metadata": {},
   "outputs": [],
   "source": [
    "tweet = {\n",
    "    \"user\" : \"joelgrus\",\n",
    "    \"text\" : \"Data Science is Awesome\",\n",
    "    \"retweet_count\" : 100,\n",
    "    \"hashtags\" : [\"#data\", \"#science\", \"#datascience\", \"#awesome\", \"#yolo\"]\n",
    "}"
   ]
  },
  {
   "cell_type": "code",
   "execution_count": 90,
   "id": "6b83ef96-b842-4e8c-b042-7f3400b109d9",
   "metadata": {},
   "outputs": [
    {
     "data": {
      "text/plain": [
       "dict_keys(['user', 'text', 'retweet_count', 'hashtags'])"
      ]
     },
     "execution_count": 90,
     "metadata": {},
     "output_type": "execute_result"
    }
   ],
   "source": [
    "tweet_keys   = tweet.keys()     # iterable for the keys\n",
    "tweet_keys"
   ]
  },
  {
   "cell_type": "code",
   "execution_count": 91,
   "id": "f7b5ac91-4624-4511-b7c4-0458ec582325",
   "metadata": {},
   "outputs": [
    {
     "data": {
      "text/plain": [
       "dict_values(['joelgrus', 'Data Science is Awesome', 100, ['#data', '#science', '#datascience', '#awesome', '#yolo']])"
      ]
     },
     "execution_count": 91,
     "metadata": {},
     "output_type": "execute_result"
    }
   ],
   "source": [
    "tweet_values = tweet.values()   # iterable for the values\n",
    "tweet_values"
   ]
  },
  {
   "cell_type": "code",
   "execution_count": 92,
   "id": "94b4c2eb-412a-4a64-a1cb-07632e1eef41",
   "metadata": {},
   "outputs": [
    {
     "data": {
      "text/plain": [
       "dict_items([('user', 'joelgrus'), ('text', 'Data Science is Awesome'), ('retweet_count', 100), ('hashtags', ['#data', '#science', '#datascience', '#awesome', '#yolo'])])"
      ]
     },
     "execution_count": 92,
     "metadata": {},
     "output_type": "execute_result"
    }
   ],
   "source": [
    "tweet_items  = tweet.items()    # iterable for the (key, value) tuples\n",
    "tweet_items"
   ]
  },
  {
   "cell_type": "code",
   "execution_count": 93,
   "id": "f275da37-890c-4f1d-a3a5-f162c581446f",
   "metadata": {},
   "outputs": [
    {
     "data": {
      "text/plain": [
       "True"
      ]
     },
     "execution_count": 93,
     "metadata": {},
     "output_type": "execute_result"
    }
   ],
   "source": [
    "\"user\" in tweet_keys            # True, but not Pythonic"
   ]
  },
  {
   "cell_type": "code",
   "execution_count": 94,
   "id": "a9c54b6c-0aa5-40d4-8aad-f6ba8bedf7cb",
   "metadata": {},
   "outputs": [
    {
     "data": {
      "text/plain": [
       "True"
      ]
     },
     "execution_count": 94,
     "metadata": {},
     "output_type": "execute_result"
    }
   ],
   "source": [
    "\"user\" in tweet                 # Pythonic way of checking for keys"
   ]
  },
  {
   "cell_type": "code",
   "execution_count": 95,
   "id": "80bd2b85-75a5-4d2d-bb28-f24680c071dc",
   "metadata": {},
   "outputs": [
    {
     "data": {
      "text/plain": [
       "True"
      ]
     },
     "execution_count": 95,
     "metadata": {},
     "output_type": "execute_result"
    }
   ],
   "source": [
    "\"joelgrus\" in tweet_values      # True (slow but the only way to check)"
   ]
  },
  {
   "cell_type": "code",
   "execution_count": 96,
   "id": "5687a2d5-27ac-4715-9f96-c34ee305acac",
   "metadata": {},
   "outputs": [],
   "source": [
    "assert \"user\" in tweet_keys\n",
    "assert \"user\" in tweet\n",
    "assert \"joelgrus\" in tweet_values"
   ]
  },
  {
   "cell_type": "code",
   "execution_count": 97,
   "id": "94c11504-12bd-47cf-8ff1-830d1c853928",
   "metadata": {},
   "outputs": [],
   "source": [
    "document = [\"data\", \"science\", \"from\", \"scratch\"]"
   ]
  },
  {
   "cell_type": "code",
   "execution_count": 98,
   "id": "ea20f8fb-4e9f-48fc-b314-3bb618c6555d",
   "metadata": {},
   "outputs": [
    {
     "data": {
      "text/plain": [
       "{'data': 1, 'science': 1, 'from': 1, 'scratch': 1}"
      ]
     },
     "execution_count": 98,
     "metadata": {},
     "output_type": "execute_result"
    }
   ],
   "source": [
    "word_counts = {}\n",
    "for word in document:\n",
    "    if word in word_counts:\n",
    "        word_counts[word] += 1\n",
    "    else:\n",
    "        word_counts[word] = 1\n",
    "word_counts"
   ]
  },
  {
   "cell_type": "code",
   "execution_count": 99,
   "id": "680aab2a-6f0c-472f-88d9-4f2f5aaa0e36",
   "metadata": {},
   "outputs": [
    {
     "data": {
      "text/plain": [
       "{'data': 1, 'science': 1, 'from': 1, 'scratch': 1}"
      ]
     },
     "execution_count": 99,
     "metadata": {},
     "output_type": "execute_result"
    }
   ],
   "source": [
    "word_counts = {}\n",
    "for word in document:\n",
    "    try:\n",
    "        word_counts[word] += 1\n",
    "    except KeyError:\n",
    "        word_counts[word] = 1\n",
    "word_counts"
   ]
  },
  {
   "cell_type": "code",
   "execution_count": 100,
   "id": "0b7da880-6830-4e1c-89fe-d44c86c82ff1",
   "metadata": {},
   "outputs": [
    {
     "data": {
      "text/plain": [
       "{'data': 1, 'science': 1, 'from': 1, 'scratch': 1}"
      ]
     },
     "execution_count": 100,
     "metadata": {},
     "output_type": "execute_result"
    }
   ],
   "source": [
    "word_counts = {}\n",
    "for word in document:\n",
    "    previous_count = word_counts.get(word, 0)\n",
    "    word_counts[word] = previous_count + 1\n",
    "word_counts"
   ]
  },
  {
   "cell_type": "code",
   "execution_count": 101,
   "id": "51ee82f0-3033-4b95-987a-1df91c170d7f",
   "metadata": {},
   "outputs": [
    {
     "data": {
      "text/plain": [
       "defaultdict(int, {'data': 1, 'science': 1, 'from': 1, 'scratch': 1})"
      ]
     },
     "execution_count": 101,
     "metadata": {},
     "output_type": "execute_result"
    }
   ],
   "source": [
    "from collections import defaultdict\n",
    "\n",
    "word_counts = defaultdict(int)          # int() produces 0\n",
    "for word in document:\n",
    "    word_counts[word] += 1\n",
    "word_counts"
   ]
  },
  {
   "cell_type": "code",
   "execution_count": 102,
   "id": "727fa189-664e-4e36-8cc0-1a49f60cd501",
   "metadata": {},
   "outputs": [
    {
     "data": {
      "text/plain": [
       "defaultdict(list, {})"
      ]
     },
     "execution_count": 102,
     "metadata": {},
     "output_type": "execute_result"
    }
   ],
   "source": [
    "dd_list = defaultdict(list)             # list() produces an empty list\n",
    "dd_list"
   ]
  },
  {
   "cell_type": "code",
   "execution_count": 103,
   "id": "ce44d1e2-fb3b-4fd8-aaeb-a29923f0d4ea",
   "metadata": {},
   "outputs": [
    {
     "data": {
      "text/plain": [
       "defaultdict(list, {2: [1]})"
      ]
     },
     "execution_count": 103,
     "metadata": {},
     "output_type": "execute_result"
    }
   ],
   "source": [
    "dd_list[2].append(1)                    # now dd_list contains {2: [1]}\n",
    "dd_list"
   ]
  },
  {
   "cell_type": "code",
   "execution_count": 104,
   "id": "b001a703-a36e-478b-a4ae-d47fbe4574d1",
   "metadata": {},
   "outputs": [
    {
     "data": {
      "text/plain": [
       "defaultdict(dict, {})"
      ]
     },
     "execution_count": 104,
     "metadata": {},
     "output_type": "execute_result"
    }
   ],
   "source": [
    "dd_dict = defaultdict(dict)             # dict() produces an empty dict\n",
    "dd_dict"
   ]
  },
  {
   "cell_type": "code",
   "execution_count": 105,
   "id": "f2b38352-34d6-428e-bab9-462b5df51eed",
   "metadata": {},
   "outputs": [
    {
     "data": {
      "text/plain": [
       "defaultdict(dict, {'Joel': {'City': 'Seattle'}})"
      ]
     },
     "execution_count": 105,
     "metadata": {},
     "output_type": "execute_result"
    }
   ],
   "source": [
    "dd_dict[\"Joel\"][\"City\"] = \"Seattle\"     # {\"Joel\" : {\"City\": Seattle\"}}\n",
    "dd_dict"
   ]
  },
  {
   "cell_type": "code",
   "execution_count": 106,
   "id": "8060a3cd-3f08-4f2d-894c-0aea90d085db",
   "metadata": {},
   "outputs": [
    {
     "data": {
      "text/plain": [
       "defaultdict(<function __main__.<lambda>()>, {})"
      ]
     },
     "execution_count": 106,
     "metadata": {},
     "output_type": "execute_result"
    }
   ],
   "source": [
    "dd_pair = defaultdict(lambda: [0, 0])\n",
    "dd_pair"
   ]
  },
  {
   "cell_type": "code",
   "execution_count": 107,
   "id": "9821640e-8f56-4b63-a07a-abab10745fc1",
   "metadata": {},
   "outputs": [
    {
     "data": {
      "text/plain": [
       "defaultdict(<function __main__.<lambda>()>, {2: [0, 1]})"
      ]
     },
     "execution_count": 107,
     "metadata": {},
     "output_type": "execute_result"
    }
   ],
   "source": [
    "dd_pair[2][1] = 1                       # now dd_pair contains {2: [0, 1]}\n",
    "dd_pair"
   ]
  },
  {
   "cell_type": "code",
   "execution_count": 108,
   "id": "01969569-bfaa-4c7b-aa18-925f90d8ff2f",
   "metadata": {},
   "outputs": [
    {
     "data": {
      "text/plain": [
       "Counter({0: 2, 1: 1, 2: 1})"
      ]
     },
     "execution_count": 108,
     "metadata": {},
     "output_type": "execute_result"
    }
   ],
   "source": [
    "from collections import Counter\n",
    "c = Counter([0, 1, 2, 0])          # c is (basically) {0: 2, 1: 1, 2: 1}\n",
    "c"
   ]
  },
  {
   "cell_type": "code",
   "execution_count": 109,
   "id": "0ca43706-ea2a-4265-be80-4eb125a0fe5c",
   "metadata": {},
   "outputs": [
    {
     "data": {
      "text/plain": [
       "Counter({'data': 1, 'science': 1, 'from': 1, 'scratch': 1})"
      ]
     },
     "execution_count": 109,
     "metadata": {},
     "output_type": "execute_result"
    }
   ],
   "source": [
    "# recall, document is a list of words\n",
    "word_counts = Counter(document)\n",
    "word_counts"
   ]
  },
  {
   "cell_type": "code",
   "execution_count": 110,
   "id": "7c54fe1b-20fd-44b2-8e5f-8931a2a60955",
   "metadata": {},
   "outputs": [
    {
     "name": "stdout",
     "output_type": "stream",
     "text": [
      "data 1\n",
      "science 1\n",
      "from 1\n",
      "scratch 1\n"
     ]
    }
   ],
   "source": [
    "# print the 10 most common words and their counts\n",
    "for word, count in word_counts.most_common(10):\n",
    "    print(word, count)"
   ]
  },
  {
   "cell_type": "code",
   "execution_count": 111,
   "id": "fd41e37f-8913-4d41-9326-cd6e79180bf8",
   "metadata": {},
   "outputs": [],
   "source": [
    "primes_below_10 = {2, 3, 5, 7}"
   ]
  },
  {
   "cell_type": "code",
   "execution_count": 112,
   "id": "dd3b141e-7bed-4999-b533-991c56628b8e",
   "metadata": {},
   "outputs": [
    {
     "data": {
      "text/plain": [
       "{1}"
      ]
     },
     "execution_count": 112,
     "metadata": {},
     "output_type": "execute_result"
    }
   ],
   "source": [
    "s = set()\n",
    "s.add(1)       # s is now {1}\n",
    "s"
   ]
  },
  {
   "cell_type": "code",
   "execution_count": 113,
   "id": "cc130edb-ee3a-4f59-8fb7-f3af2bd7b0ef",
   "metadata": {},
   "outputs": [
    {
     "data": {
      "text/plain": [
       "{1, 2}"
      ]
     },
     "execution_count": 113,
     "metadata": {},
     "output_type": "execute_result"
    }
   ],
   "source": [
    "s.add(2)       # s is now {1, 2}s\n",
    "s"
   ]
  },
  {
   "cell_type": "code",
   "execution_count": 114,
   "id": "cc27237e-279e-4b92-b6e2-7ea79cc0aa3f",
   "metadata": {},
   "outputs": [
    {
     "data": {
      "text/plain": [
       "{1, 2}"
      ]
     },
     "execution_count": 114,
     "metadata": {},
     "output_type": "execute_result"
    }
   ],
   "source": [
    "s.add(2)       # s is still {1, 2}\n",
    "s"
   ]
  },
  {
   "cell_type": "code",
   "execution_count": 115,
   "id": "23078fd0-5494-4998-a480-f3b4df1f59b5",
   "metadata": {},
   "outputs": [
    {
     "data": {
      "text/plain": [
       "2"
      ]
     },
     "execution_count": 115,
     "metadata": {},
     "output_type": "execute_result"
    }
   ],
   "source": [
    "x = len(s)     # equals 2\n",
    "x"
   ]
  },
  {
   "cell_type": "code",
   "execution_count": 116,
   "id": "ba255be5-2ca1-4ff9-9f3d-6c0ad7e740e3",
   "metadata": {},
   "outputs": [
    {
     "data": {
      "text/plain": [
       "True"
      ]
     },
     "execution_count": 116,
     "metadata": {},
     "output_type": "execute_result"
    }
   ],
   "source": [
    "y = 2 in s     # equals True\n",
    "y"
   ]
  },
  {
   "cell_type": "code",
   "execution_count": 117,
   "id": "67dfaa4a-0aec-405c-bf1c-d002dfc4bc94",
   "metadata": {},
   "outputs": [
    {
     "data": {
      "text/plain": [
       "False"
      ]
     },
     "execution_count": 117,
     "metadata": {},
     "output_type": "execute_result"
    }
   ],
   "source": [
    "z = 3 in s     # equals False\n",
    "z"
   ]
  },
  {
   "cell_type": "code",
   "execution_count": 118,
   "id": "aedd335a-e0fd-4bc9-8ef0-41fd9d3661cc",
   "metadata": {},
   "outputs": [
    {
     "data": {
      "text/plain": [
       "['a', 'an', 'at', 'yet', 'you']"
      ]
     },
     "execution_count": 118,
     "metadata": {},
     "output_type": "execute_result"
    }
   ],
   "source": [
    "hundreds_of_other_words = []  # required for the below code to run\n",
    "\n",
    "stopwords_list = [\"a\", \"an\", \"at\"] + hundreds_of_other_words + [\"yet\", \"you\"]\n",
    "stopwords_list"
   ]
  },
  {
   "cell_type": "code",
   "execution_count": 119,
   "id": "a469609d-0a65-4e2c-ab2c-c9bf17a79d9a",
   "metadata": {},
   "outputs": [
    {
     "data": {
      "text/plain": [
       "False"
      ]
     },
     "execution_count": 119,
     "metadata": {},
     "output_type": "execute_result"
    }
   ],
   "source": [
    "\"zip\" in stopwords_list     # False, but have to check every element"
   ]
  },
  {
   "cell_type": "code",
   "execution_count": 120,
   "id": "14666dd0-2120-4632-801e-7b1642a32a19",
   "metadata": {},
   "outputs": [
    {
     "data": {
      "text/plain": [
       "{'a', 'an', 'at', 'yet', 'you'}"
      ]
     },
     "execution_count": 120,
     "metadata": {},
     "output_type": "execute_result"
    }
   ],
   "source": [
    "stopwords_set = set(stopwords_list)\n",
    "stopwords_set"
   ]
  },
  {
   "cell_type": "code",
   "execution_count": 121,
   "id": "7af65405-e118-42f6-a2c6-490f5ae484f0",
   "metadata": {},
   "outputs": [
    {
     "data": {
      "text/plain": [
       "False"
      ]
     },
     "execution_count": 121,
     "metadata": {},
     "output_type": "execute_result"
    }
   ],
   "source": [
    "\"zip\" in stopwords_set      # very fast to check"
   ]
  },
  {
   "cell_type": "code",
   "execution_count": 122,
   "id": "efe279e2-0856-4d72-b95b-e5b9fc14b1dc",
   "metadata": {},
   "outputs": [
    {
     "data": {
      "text/plain": [
       "6"
      ]
     },
     "execution_count": 122,
     "metadata": {},
     "output_type": "execute_result"
    }
   ],
   "source": [
    "item_list = [1, 2, 3, 1, 2, 3]\n",
    "num_items = len(item_list)                # 6\n",
    "num_items"
   ]
  },
  {
   "cell_type": "code",
   "execution_count": 123,
   "id": "088af4ac-22fd-4f67-9965-86c23e46d404",
   "metadata": {},
   "outputs": [
    {
     "data": {
      "text/plain": [
       "{1, 2, 3}"
      ]
     },
     "execution_count": 123,
     "metadata": {},
     "output_type": "execute_result"
    }
   ],
   "source": [
    "item_set = set(item_list)                 # {1, 2, 3}\n",
    "item_set"
   ]
  },
  {
   "cell_type": "code",
   "execution_count": 124,
   "id": "15159a1b-6344-42d5-8946-6bab46723f90",
   "metadata": {},
   "outputs": [
    {
     "data": {
      "text/plain": [
       "3"
      ]
     },
     "execution_count": 124,
     "metadata": {},
     "output_type": "execute_result"
    }
   ],
   "source": [
    "num_distinct_items = len(item_set)        # 3\n",
    "num_distinct_items"
   ]
  },
  {
   "cell_type": "code",
   "execution_count": 125,
   "id": "f6bd692c-2bdb-4e17-b98e-dca920c634cb",
   "metadata": {},
   "outputs": [
    {
     "data": {
      "text/plain": [
       "[1, 2, 3]"
      ]
     },
     "execution_count": 125,
     "metadata": {},
     "output_type": "execute_result"
    }
   ],
   "source": [
    "distinct_item_list = list(item_set)       # [1, 2, 3]\n",
    "distinct_item_list"
   ]
  },
  {
   "cell_type": "code",
   "execution_count": 126,
   "id": "1497234d-6646-4994-80f6-8b5a377d3466",
   "metadata": {},
   "outputs": [],
   "source": [
    "assert num_items == 6\n",
    "assert item_set == {1, 2, 3}\n",
    "assert num_distinct_items == 3\n",
    "assert distinct_item_list == [1, 2, 3]"
   ]
  },
  {
   "cell_type": "code",
   "execution_count": 127,
   "id": "a6b8b744-1b93-48a0-b1e3-88c3160b3fa3",
   "metadata": {},
   "outputs": [],
   "source": [
    "if 1 > 2:\n",
    "    message = \"if only 1 were greater than two...\"\n",
    "elif 1 > 3:\n",
    "    message = \"elif stands for 'else if'\"\n",
    "else:\n",
    "    message = \"when all else fails use else (if you want to)\""
   ]
  },
  {
   "cell_type": "code",
   "execution_count": 128,
   "id": "2acd5140-92bf-418a-9061-e1765aceb7b1",
   "metadata": {},
   "outputs": [
    {
     "data": {
      "text/plain": [
       "'even'"
      ]
     },
     "execution_count": 128,
     "metadata": {},
     "output_type": "execute_result"
    }
   ],
   "source": [
    "parity = \"even\" if x % 2 == 0 else \"odd\"\n",
    "parity"
   ]
  },
  {
   "cell_type": "code",
   "execution_count": 129,
   "id": "49e086b0-47bf-4d3b-b27d-1ccd2a66e16e",
   "metadata": {},
   "outputs": [
    {
     "name": "stdout",
     "output_type": "stream",
     "text": [
      "0 is less than 10\n",
      "1 is less than 10\n",
      "2 is less than 10\n",
      "3 is less than 10\n",
      "4 is less than 10\n",
      "5 is less than 10\n",
      "6 is less than 10\n",
      "7 is less than 10\n",
      "8 is less than 10\n",
      "9 is less than 10\n"
     ]
    }
   ],
   "source": [
    "x = 0\n",
    "while x < 10:\n",
    "    print(f\"{x} is less than 10\")\n",
    "    x += 1"
   ]
  },
  {
   "cell_type": "code",
   "execution_count": 130,
   "id": "1b072f2e-6e96-4058-9c07-372eeaa96b35",
   "metadata": {},
   "outputs": [
    {
     "name": "stdout",
     "output_type": "stream",
     "text": [
      "0 is less than 10\n",
      "1 is less than 10\n",
      "2 is less than 10\n",
      "3 is less than 10\n",
      "4 is less than 10\n",
      "5 is less than 10\n",
      "6 is less than 10\n",
      "7 is less than 10\n",
      "8 is less than 10\n",
      "9 is less than 10\n"
     ]
    }
   ],
   "source": [
    "# range(10) is the numbers 0, 1, ..., 9\n",
    "for x in range(10):\n",
    "    print(f\"{x} is less than 10\")"
   ]
  },
  {
   "cell_type": "code",
   "execution_count": 131,
   "id": "4d0a3ba2-c19d-4fc3-8809-4c43b862dd09",
   "metadata": {},
   "outputs": [
    {
     "name": "stdout",
     "output_type": "stream",
     "text": [
      "0\n",
      "1\n",
      "2\n",
      "4\n"
     ]
    }
   ],
   "source": [
    "for x in range(10):\n",
    "    if x == 3:\n",
    "        continue  # go immediately to the next iteration\n",
    "    if x == 5:\n",
    "        break     # quit the loop entirely\n",
    "    print(x)"
   ]
  },
  {
   "cell_type": "code",
   "execution_count": 132,
   "id": "02398bb4-d300-4874-ab78-d8c30d0b3774",
   "metadata": {},
   "outputs": [
    {
     "data": {
      "text/plain": [
       "True"
      ]
     },
     "execution_count": 132,
     "metadata": {},
     "output_type": "execute_result"
    }
   ],
   "source": [
    "one_is_less_than_two = 1 < 2          # equals True\n",
    "one_is_less_than_two"
   ]
  },
  {
   "cell_type": "code",
   "execution_count": 133,
   "id": "0b722456-b79f-482e-8ab6-b2c2d38ba9c3",
   "metadata": {},
   "outputs": [
    {
     "data": {
      "text/plain": [
       "False"
      ]
     },
     "execution_count": 133,
     "metadata": {},
     "output_type": "execute_result"
    }
   ],
   "source": [
    "true_equals_false = True == False     # equals False\n",
    "true_equals_false"
   ]
  },
  {
   "cell_type": "code",
   "execution_count": 134,
   "id": "a238664b-7d18-4dc8-8b0a-f373727ee441",
   "metadata": {},
   "outputs": [],
   "source": [
    "assert one_is_less_than_two\n",
    "assert not true_equals_false"
   ]
  },
  {
   "cell_type": "code",
   "execution_count": 135,
   "id": "f3aef702-7dc3-449c-af70-057de8e94a13",
   "metadata": {},
   "outputs": [],
   "source": [
    "x = None\n",
    "assert x == None, \"this is the not the Pythonic way to check for None\"\n",
    "assert x is None, \"this is the Pythonic way to check for None\""
   ]
  },
  {
   "cell_type": "code",
   "execution_count": 136,
   "id": "a6ce6217-08e2-40a2-8231-c35f41c49bdb",
   "metadata": {},
   "outputs": [],
   "source": [
    "def some_function_that_returns_a_string():\n",
    "    return \"\""
   ]
  },
  {
   "cell_type": "code",
   "execution_count": 137,
   "id": "dcc1bdbb-5081-49ed-8c91-3d4a68b9043c",
   "metadata": {},
   "outputs": [],
   "source": [
    "s = some_function_that_returns_a_string()\n",
    "if s:\n",
    "    first_char = s[0]\n",
    "else:\n",
    "    first_char = \"\""
   ]
  },
  {
   "cell_type": "code",
   "execution_count": 138,
   "id": "b84442fd-9aaa-4082-9635-0cda1780b08c",
   "metadata": {},
   "outputs": [
    {
     "data": {
      "text/plain": [
       "''"
      ]
     },
     "execution_count": 138,
     "metadata": {},
     "output_type": "execute_result"
    }
   ],
   "source": [
    "first_char = s and s[0]\n",
    "first_char"
   ]
  },
  {
   "cell_type": "code",
   "execution_count": 139,
   "id": "dd518c47-d6ca-40ea-b95b-ba9fb2559df2",
   "metadata": {},
   "outputs": [
    {
     "data": {
      "text/plain": [
       "0"
      ]
     },
     "execution_count": 139,
     "metadata": {},
     "output_type": "execute_result"
    }
   ],
   "source": [
    "safe_x = x or 0\n",
    "\n",
    "safe_x = x if x is not None else 0\n",
    "safe_x"
   ]
  },
  {
   "cell_type": "code",
   "execution_count": 140,
   "id": "d8cae989-1952-449d-8c34-843435fe6de7",
   "metadata": {},
   "outputs": [
    {
     "data": {
      "text/plain": [
       "True"
      ]
     },
     "execution_count": 140,
     "metadata": {},
     "output_type": "execute_result"
    }
   ],
   "source": [
    "all([True, 1, {3}])   # True, all are truthy"
   ]
  },
  {
   "cell_type": "code",
   "execution_count": 141,
   "id": "bb258901-241d-4d31-b66d-a40980a3d190",
   "metadata": {},
   "outputs": [
    {
     "data": {
      "text/plain": [
       "False"
      ]
     },
     "execution_count": 141,
     "metadata": {},
     "output_type": "execute_result"
    }
   ],
   "source": [
    "all([True, 1, {}])    # False, {} is falsy"
   ]
  },
  {
   "cell_type": "code",
   "execution_count": 142,
   "id": "48ba72dd-c783-4130-b845-bc197386e925",
   "metadata": {},
   "outputs": [
    {
     "data": {
      "text/plain": [
       "True"
      ]
     },
     "execution_count": 142,
     "metadata": {},
     "output_type": "execute_result"
    }
   ],
   "source": [
    "any([True, 1, {}])    # True, True is truthy"
   ]
  },
  {
   "cell_type": "code",
   "execution_count": 143,
   "id": "3ccd8c9d-12ff-4535-a7c8-3b3552a1f1f9",
   "metadata": {},
   "outputs": [
    {
     "data": {
      "text/plain": [
       "True"
      ]
     },
     "execution_count": 143,
     "metadata": {},
     "output_type": "execute_result"
    }
   ],
   "source": [
    "all([])               # True, no falsy elements in the list"
   ]
  },
  {
   "cell_type": "code",
   "execution_count": 144,
   "id": "599bfe50-08e3-41cb-8c6f-5e2cba773c03",
   "metadata": {},
   "outputs": [
    {
     "data": {
      "text/plain": [
       "False"
      ]
     },
     "execution_count": 144,
     "metadata": {},
     "output_type": "execute_result"
    }
   ],
   "source": [
    "any([])               # False, no truthy elements in the list"
   ]
  },
  {
   "cell_type": "code",
   "execution_count": 145,
   "id": "3fbc0115-26d6-4e6e-9640-f4704ccab27f",
   "metadata": {},
   "outputs": [
    {
     "data": {
      "text/plain": [
       "[1, 2, 3, 4]"
      ]
     },
     "execution_count": 145,
     "metadata": {},
     "output_type": "execute_result"
    }
   ],
   "source": [
    "x = [4, 1, 2, 3]\n",
    "y = sorted(x)     # y is [1, 2, 3, 4], x is unchanged\n",
    "y"
   ]
  },
  {
   "cell_type": "code",
   "execution_count": 146,
   "id": "718c9e44-9587-4421-b4ea-bdcdf63469f3",
   "metadata": {},
   "outputs": [
    {
     "data": {
      "text/plain": [
       "[1, 2, 3, 4]"
      ]
     },
     "execution_count": 146,
     "metadata": {},
     "output_type": "execute_result"
    }
   ],
   "source": [
    "x.sort()          # now x is [1, 2, 3, 4]\n",
    "x"
   ]
  },
  {
   "cell_type": "code",
   "execution_count": 147,
   "id": "e7177a04-f130-490f-9091-4e98f91acd2d",
   "metadata": {
    "tags": []
   },
   "outputs": [
    {
     "data": {
      "text/plain": [
       "[-4, 3, -2, 1]"
      ]
     },
     "execution_count": 147,
     "metadata": {},
     "output_type": "execute_result"
    }
   ],
   "source": [
    "# sort the list by absolute value from largest to smallest\n",
    "x = sorted([-4, 1, -2, 3], key=abs, reverse=True)  # is [-4, 3, -2, 1]\n",
    "x"
   ]
  },
  {
   "cell_type": "code",
   "execution_count": 148,
   "id": "7aff6365-461c-42d4-a95f-473755609dd8",
   "metadata": {},
   "outputs": [
    {
     "name": "stdout",
     "output_type": "stream",
     "text": [
      "Counter({'data': 1, 'science': 1, 'from': 1, 'scratch': 1})\n",
      "\n",
      "\n"
     ]
    },
    {
     "data": {
      "text/plain": [
       "[('data', 1), ('science', 1), ('from', 1), ('scratch', 1)]"
      ]
     },
     "execution_count": 148,
     "metadata": {},
     "output_type": "execute_result"
    }
   ],
   "source": [
    "# sort the words and counts from highest count to lowest\n",
    "print(word_counts)\n",
    "print('\\n')\n",
    "wc = sorted(word_counts.items(),\n",
    "            key=lambda word_and_count: word_and_count[1],\n",
    "            reverse=True)\n",
    "wc"
   ]
  },
  {
   "cell_type": "code",
   "execution_count": 149,
   "id": "f78bcf25-e3b3-4d06-9558-a3e8558db182",
   "metadata": {},
   "outputs": [
    {
     "data": {
      "text/plain": [
       "[0, 2, 4]"
      ]
     },
     "execution_count": 149,
     "metadata": {},
     "output_type": "execute_result"
    }
   ],
   "source": [
    "even_numbers = [x for x in range(5) if x % 2 == 0]  # [0, 2, 4]\n",
    "even_numbers"
   ]
  },
  {
   "cell_type": "code",
   "execution_count": 150,
   "id": "ed56994c-59df-4bf8-8b8f-5180218f8caa",
   "metadata": {},
   "outputs": [
    {
     "data": {
      "text/plain": [
       "[0, 1, 4, 9, 16]"
      ]
     },
     "execution_count": 150,
     "metadata": {},
     "output_type": "execute_result"
    }
   ],
   "source": [
    "squares = [x * x for x in range(5)]            # [0, 1, 4, 9, 16]\n",
    "squares"
   ]
  },
  {
   "cell_type": "code",
   "execution_count": 151,
   "id": "47f9a417-d4dd-4197-8556-9a4f13af1c9c",
   "metadata": {},
   "outputs": [
    {
     "data": {
      "text/plain": [
       "[0, 4, 16]"
      ]
     },
     "execution_count": 151,
     "metadata": {},
     "output_type": "execute_result"
    }
   ],
   "source": [
    "even_squares = [x * x for x in even_numbers]        # [0, 4, 16]\n",
    "even_squares"
   ]
  },
  {
   "cell_type": "code",
   "execution_count": 152,
   "id": "cf903d0b-51d9-4381-8ca2-cd773e02788f",
   "metadata": {},
   "outputs": [],
   "source": [
    "assert even_numbers == [0, 2, 4]\n",
    "assert squares == [0, 1, 4, 9, 16]\n",
    "assert even_squares == [0, 4, 16]"
   ]
  },
  {
   "cell_type": "code",
   "execution_count": 153,
   "id": "acb1291b-8c15-4c3c-b91a-4c65fdba67d3",
   "metadata": {},
   "outputs": [
    {
     "data": {
      "text/plain": [
       "{0: 0, 1: 1, 2: 4, 3: 9, 4: 16}"
      ]
     },
     "execution_count": 153,
     "metadata": {},
     "output_type": "execute_result"
    }
   ],
   "source": [
    "square_dict = {x: x * x for x in range(5)}  # {0: 0, 1: 1, 2: 4, 3: 9, 4: 16}\n",
    "square_dict"
   ]
  },
  {
   "cell_type": "code",
   "execution_count": 154,
   "id": "9acd78d9-9d6e-4b0a-9b55-911a5905a4cf",
   "metadata": {},
   "outputs": [
    {
     "data": {
      "text/plain": [
       "{1}"
      ]
     },
     "execution_count": 154,
     "metadata": {},
     "output_type": "execute_result"
    }
   ],
   "source": [
    "square_set  = {x * x for x in [1, -1]}      # {1}\n",
    "square_set"
   ]
  },
  {
   "cell_type": "code",
   "execution_count": 155,
   "id": "98d37472-3f29-4f16-817c-8d2e88546cf4",
   "metadata": {},
   "outputs": [],
   "source": [
    "assert square_dict == {0: 0, 1: 1, 2: 4, 3: 9, 4: 16}\n",
    "assert square_set == {1}"
   ]
  },
  {
   "cell_type": "code",
   "execution_count": 156,
   "id": "51a0be4d-bfe3-4166-9569-8a3323263d75",
   "metadata": {},
   "outputs": [
    {
     "data": {
      "text/plain": [
       "[0, 0, 0]"
      ]
     },
     "execution_count": 156,
     "metadata": {},
     "output_type": "execute_result"
    }
   ],
   "source": [
    "zeros = [0 for _ in even_numbers]      # has the same length as even_numbers\n",
    "zeros"
   ]
  },
  {
   "cell_type": "code",
   "execution_count": 157,
   "id": "188aee31-5601-45f4-949f-c6f551ddcc1e",
   "metadata": {},
   "outputs": [],
   "source": [
    "assert zeros == [0, 0, 0]"
   ]
  },
  {
   "cell_type": "code",
   "execution_count": 158,
   "id": "57cca3b5-881b-466a-af18-888cbde55c84",
   "metadata": {},
   "outputs": [
    {
     "data": {
      "text/plain": [
       "[(0, 0), (0, 1), (0, 2), (1, 0), (1, 1), (1, 2), (2, 0), (2, 1), (2, 2)]"
      ]
     },
     "execution_count": 158,
     "metadata": {},
     "output_type": "execute_result"
    }
   ],
   "source": [
    "pairs = [(x, y)\n",
    "         for x in range(3)\n",
    "         for y in range(3)]   # 100 pairs (0,0) (0,1) ... (9,8), (9,9)\n",
    "pairs"
   ]
  },
  {
   "cell_type": "code",
   "execution_count": 159,
   "id": "a9bc2d6d-f153-45f4-8360-d0edc2a4597e",
   "metadata": {},
   "outputs": [],
   "source": [
    "assert len(pairs) == 9"
   ]
  },
  {
   "cell_type": "code",
   "execution_count": 160,
   "id": "b586797c-4578-442c-b1a1-26eede936c61",
   "metadata": {},
   "outputs": [
    {
     "data": {
      "text/plain": [
       "[(0, 1), (0, 2), (0, 3), (1, 2), (1, 3), (2, 3)]"
      ]
     },
     "execution_count": 160,
     "metadata": {},
     "output_type": "execute_result"
    }
   ],
   "source": [
    "increasing_pairs = [(x, y)                       # only pairs with x < y,\n",
    "                    for x in range(4)           # range(lo, hi) equals\n",
    "                    for y in range(x + 1, 4)]   # [lo, lo + 1, ..., hi - 1]\n",
    "increasing_pairs"
   ]
  },
  {
   "cell_type": "code",
   "execution_count": 161,
   "id": "9d5b6d8a-9357-4c59-a5bd-2901f8a3e45b",
   "metadata": {},
   "outputs": [],
   "source": [
    "assert len(increasing_pairs) == 3 + 2 + 1"
   ]
  },
  {
   "cell_type": "code",
   "execution_count": 162,
   "id": "3da96d51-73e3-4715-be59-0dfad3bbcb6c",
   "metadata": {},
   "outputs": [],
   "source": [
    "assert all(x < y for x, y in increasing_pairs)\n",
    "\n",
    "assert 1 + 1 == 2\n",
    "assert 1 + 1 == 2, \"1 + 1 should equal 2 but didn't\""
   ]
  },
  {
   "cell_type": "code",
   "execution_count": 163,
   "id": "c12b5972-e64f-4633-9a16-0c4954588fe8",
   "metadata": {},
   "outputs": [],
   "source": [
    "def smallest_item(xs):\n",
    "    return min(xs)"
   ]
  },
  {
   "cell_type": "code",
   "execution_count": 164,
   "id": "b5953d09-212e-4e60-abb3-8730f3375bdb",
   "metadata": {},
   "outputs": [],
   "source": [
    "assert smallest_item([10, 20, 5, 40]) == 5\n",
    "assert smallest_item([1, 0, -1, 2]) == -1"
   ]
  },
  {
   "cell_type": "code",
   "execution_count": 165,
   "id": "ac29b5e2-43b9-4e9b-ae58-a5cabbf55571",
   "metadata": {},
   "outputs": [],
   "source": [
    "def smallest_item(xs):\n",
    "    assert xs, \"empty list has no smallest item\"\n",
    "    return min(xs)"
   ]
  },
  {
   "cell_type": "code",
   "execution_count": 166,
   "id": "c98df8e7-e893-46e1-a77c-e385a27ca376",
   "metadata": {},
   "outputs": [],
   "source": [
    "class CountingClicker:\n",
    "    \"\"\"A class can/should have a docstring, just like a function\"\"\"\n",
    "\n",
    "    def __init__(self, count = 0):\n",
    "        self.count = count\n",
    "\n",
    "    def __repr__(self):\n",
    "        return f\"CountingClicker(count={self.count})\"\n",
    "\n",
    "    def click(self, num_times = 1):\n",
    "        \"\"\"Click the clicker some number of times.\"\"\"\n",
    "        self.count += num_times\n",
    "\n",
    "    def read(self):\n",
    "        return self.count\n",
    "\n",
    "    def reset(self):\n",
    "        self.count = 0"
   ]
  },
  {
   "cell_type": "code",
   "execution_count": 167,
   "id": "0df7e2a1-d4b4-4c28-a953-3103a537bd6b",
   "metadata": {},
   "outputs": [],
   "source": [
    "clicker = CountingClicker()\n",
    "assert clicker.read() == 0, \"clicker should start with count 0\"\n",
    "clicker.click()\n",
    "clicker.click()"
   ]
  },
  {
   "cell_type": "code",
   "execution_count": 168,
   "id": "ce1751f1-e3dc-4e1a-8906-a0df2be0878b",
   "metadata": {},
   "outputs": [],
   "source": [
    "assert clicker.read() == 2, \"after two clicks, clicker should have count 2\""
   ]
  },
  {
   "cell_type": "code",
   "execution_count": 169,
   "id": "d581508e-2e79-4092-8a5a-a3f060ab2692",
   "metadata": {},
   "outputs": [],
   "source": [
    "clicker.reset()"
   ]
  },
  {
   "cell_type": "code",
   "execution_count": 170,
   "id": "3c7d8c85-4b38-4ea6-823f-7142e4de8f37",
   "metadata": {},
   "outputs": [],
   "source": [
    "assert clicker.read() == 0, \"after reset, clicker should be back to 0\""
   ]
  },
  {
   "cell_type": "code",
   "execution_count": 171,
   "id": "9930b972-f021-4b37-92fe-d9f528ae756e",
   "metadata": {},
   "outputs": [],
   "source": [
    "# A subclass inherits all the behavior of its parent class.\n",
    "class NoResetClicker(CountingClicker):\n",
    "    # This class has all the same methods as CountingClicker\n",
    "\n",
    "    # Except that it has a reset method that does nothing.\n",
    "    def reset(self):\n",
    "        pass"
   ]
  },
  {
   "cell_type": "code",
   "execution_count": 172,
   "id": "23ded118-a6fa-476c-8d81-c070e3ec00d7",
   "metadata": {},
   "outputs": [],
   "source": [
    "clicker2 = NoResetClicker()\n",
    "assert clicker2.read() == 0\n",
    "clicker2.click()"
   ]
  },
  {
   "cell_type": "code",
   "execution_count": 173,
   "id": "d9e5c035-252f-40c1-9be6-b92dc78d7b54",
   "metadata": {},
   "outputs": [],
   "source": [
    "assert clicker2.read() == 1\n",
    "clicker2.reset()"
   ]
  },
  {
   "cell_type": "code",
   "execution_count": 174,
   "id": "626bdf79-8d4c-48a5-95b3-c0bd3aa70508",
   "metadata": {},
   "outputs": [],
   "source": [
    "assert clicker2.read() == 1, \"reset shouldn't do anything\""
   ]
  },
  {
   "cell_type": "code",
   "execution_count": 175,
   "id": "e28513bf-3c85-42aa-8608-e7137ad778b5",
   "metadata": {},
   "outputs": [],
   "source": [
    "def generate_range(n):\n",
    "    i = 0\n",
    "    while i < n:\n",
    "        yield i   # every call to yield produces a value of the generator\n",
    "        i += 1"
   ]
  },
  {
   "cell_type": "code",
   "execution_count": 176,
   "id": "2e98b3d5-581a-40bd-b61b-d13c33491947",
   "metadata": {},
   "outputs": [
    {
     "name": "stdout",
     "output_type": "stream",
     "text": [
      "i: 0\n",
      "i: 1\n",
      "i: 2\n",
      "i: 3\n",
      "i: 4\n",
      "i: 5\n",
      "i: 6\n",
      "i: 7\n",
      "i: 8\n",
      "i: 9\n"
     ]
    }
   ],
   "source": [
    "for i in generate_range(10):\n",
    "    print(f\"i: {i}\")"
   ]
  },
  {
   "cell_type": "code",
   "execution_count": 177,
   "id": "84de9ee7-0d7b-495e-8ed3-e5dbcc0996d3",
   "metadata": {},
   "outputs": [],
   "source": [
    "def natural_numbers():\n",
    "    \"\"\"returns 1, 2, 3, ...\"\"\"\n",
    "    n = 1\n",
    "    while True:\n",
    "        yield n\n",
    "        n += 1"
   ]
  },
  {
   "cell_type": "code",
   "execution_count": 178,
   "id": "70448a7b-1731-4e00-92f5-f4a7c6fbd349",
   "metadata": {},
   "outputs": [
    {
     "data": {
      "text/plain": [
       "<generator object <genexpr> at 0x000001F862C377D0>"
      ]
     },
     "execution_count": 178,
     "metadata": {},
     "output_type": "execute_result"
    }
   ],
   "source": [
    "evens_below_20 = (i for i in generate_range(20) if i % 2 == 0)\n",
    "evens_below_20"
   ]
  },
  {
   "cell_type": "code",
   "execution_count": 179,
   "id": "12f843e2-e668-4271-a860-c3610c0e54a6",
   "metadata": {},
   "outputs": [
    {
     "data": {
      "text/plain": [
       "<generator object <genexpr> at 0x000001F862C37920>"
      ]
     },
     "execution_count": 179,
     "metadata": {},
     "output_type": "execute_result"
    }
   ],
   "source": [
    "data = natural_numbers()\n",
    "evens = (x for x in data if x % 2 == 0)\n",
    "evens "
   ]
  },
  {
   "cell_type": "code",
   "execution_count": 180,
   "id": "93460e23-910f-4287-bac9-5424922d0054",
   "metadata": {},
   "outputs": [
    {
     "data": {
      "text/plain": [
       "<generator object <genexpr> at 0x000001F862C37D80>"
      ]
     },
     "execution_count": 180,
     "metadata": {},
     "output_type": "execute_result"
    }
   ],
   "source": [
    "even_squares = (x ** 2 for x in evens)\n",
    "even_squares"
   ]
  },
  {
   "cell_type": "code",
   "execution_count": 181,
   "id": "43be55b1-76f7-4918-8498-ca967fc9d9d1",
   "metadata": {},
   "outputs": [
    {
     "data": {
      "text/plain": [
       "<generator object <genexpr> at 0x000001F862C37E60>"
      ]
     },
     "execution_count": 181,
     "metadata": {},
     "output_type": "execute_result"
    }
   ],
   "source": [
    "even_squares_ending_in_six = (x for x in even_squares if x % 10 == 6)\n",
    "# and so on\n",
    "even_squares_ending_in_six"
   ]
  },
  {
   "cell_type": "code",
   "execution_count": 182,
   "id": "43743fd3-f4a5-444e-988e-161b71d0df5c",
   "metadata": {},
   "outputs": [],
   "source": [
    "assert next(even_squares_ending_in_six) == 16\n",
    "assert next(even_squares_ending_in_six) == 36\n",
    "assert next(even_squares_ending_in_six) == 196"
   ]
  },
  {
   "cell_type": "code",
   "execution_count": 183,
   "id": "9e3ff59a-508d-44fb-ba0c-7bc6702e99e5",
   "metadata": {},
   "outputs": [
    {
     "name": "stdout",
     "output_type": "stream",
     "text": [
      "name 0 is Alice\n",
      "name 1 is Bob\n",
      "name 2 is Charlie\n",
      "name 3 is Debbie\n"
     ]
    }
   ],
   "source": [
    "names = [\"Alice\", \"Bob\", \"Charlie\", \"Debbie\"]\n",
    "\n",
    "# not Pythonic\n",
    "for i in range(len(names)):\n",
    "    print(f\"name {i} is {names[i]}\")"
   ]
  },
  {
   "cell_type": "code",
   "execution_count": 184,
   "id": "0f42a066-ab85-46d1-b54f-756a9229b208",
   "metadata": {},
   "outputs": [
    {
     "name": "stdout",
     "output_type": "stream",
     "text": [
      "name 0 is Alice\n",
      "name 1 is Bob\n",
      "name 2 is Charlie\n",
      "name 3 is Debbie\n"
     ]
    }
   ],
   "source": [
    "# also not Pythonic\n",
    "i = 0\n",
    "for name in names:\n",
    "    print(f\"name {i} is {names[i]}\")\n",
    "    i += 1"
   ]
  },
  {
   "cell_type": "code",
   "execution_count": 185,
   "id": "eba1bbc4-aaaa-43ac-8467-92c91d37909b",
   "metadata": {},
   "outputs": [
    {
     "name": "stdout",
     "output_type": "stream",
     "text": [
      "name 0 is Alice\n",
      "name 1 is Bob\n",
      "name 2 is Charlie\n",
      "name 3 is Debbie\n"
     ]
    }
   ],
   "source": [
    "# Pythonic\n",
    "for i, name in enumerate(names):\n",
    "    print(f\"name {i} is {name}\")"
   ]
  },
  {
   "cell_type": "code",
   "execution_count": 186,
   "id": "0ef5286f-a537-4ba1-8f39-65c983528134",
   "metadata": {},
   "outputs": [
    {
     "data": {
      "text/plain": [
       "[0.5714025946899135,\n",
       " 0.4288890546751146,\n",
       " 0.5780913011344704,\n",
       " 0.20609823213950174]"
      ]
     },
     "execution_count": 186,
     "metadata": {},
     "output_type": "execute_result"
    }
   ],
   "source": [
    "import random\n",
    "random.seed(10)  # this ensures we get the same results every time\n",
    "\n",
    "four_uniform_randoms = [random.random() for _ in range(4)]\n",
    "four_uniform_randoms"
   ]
  },
  {
   "cell_type": "code",
   "execution_count": 187,
   "id": "d99f1e76-2d12-40cf-b241-e58d937d3f5a",
   "metadata": {},
   "outputs": [
    {
     "name": "stdout",
     "output_type": "stream",
     "text": [
      "0.5714025946899135\n"
     ]
    }
   ],
   "source": [
    "random.seed(10)         # set the seed to 10\n",
    "print(random.random())  # 0.57140259469"
   ]
  },
  {
   "cell_type": "code",
   "execution_count": 188,
   "id": "2c0d062b-a794-41fd-8961-25a6c9cd0272",
   "metadata": {},
   "outputs": [
    {
     "name": "stdout",
     "output_type": "stream",
     "text": [
      "0.5714025946899135\n"
     ]
    }
   ],
   "source": [
    "random.seed(10)         # reset the seed to 10\n",
    "print(random.random())  # 0.57140259469 again"
   ]
  },
  {
   "cell_type": "code",
   "execution_count": 189,
   "id": "b2460a57-248f-4726-ba08-fe749fce7a82",
   "metadata": {},
   "outputs": [
    {
     "data": {
      "text/plain": [
       "6"
      ]
     },
     "execution_count": 189,
     "metadata": {},
     "output_type": "execute_result"
    }
   ],
   "source": [
    "random.randrange(10)    # choose randomly from range(10) = [0, 1, ..., 9]"
   ]
  },
  {
   "cell_type": "code",
   "execution_count": 190,
   "id": "5272bf4c-81a7-4e6b-a91d-01b5ed1ef103",
   "metadata": {},
   "outputs": [
    {
     "data": {
      "text/plain": [
       "4"
      ]
     },
     "execution_count": 190,
     "metadata": {},
     "output_type": "execute_result"
    }
   ],
   "source": [
    "random.randrange(3, 6)  # choose randomly from range(3, 6) = [3, 4, 5]"
   ]
  },
  {
   "cell_type": "code",
   "execution_count": 191,
   "id": "557e9d3a-b91d-48fb-b66e-eed2184d1eeb",
   "metadata": {},
   "outputs": [
    {
     "name": "stdout",
     "output_type": "stream",
     "text": [
      "[5, 6, 9, 2, 3, 7, 8, 4, 1, 10]\n"
     ]
    }
   ],
   "source": [
    "up_to_ten = [1, 2, 3, 4, 5, 6, 7, 8, 9, 10]\n",
    "random.shuffle(up_to_ten)\n",
    "print(up_to_ten)"
   ]
  },
  {
   "cell_type": "code",
   "execution_count": 192,
   "id": "9e3667e9-6ab7-4abf-a1f4-5af72898bc9d",
   "metadata": {},
   "outputs": [
    {
     "data": {
      "text/plain": [
       "'Bob'"
      ]
     },
     "execution_count": 192,
     "metadata": {},
     "output_type": "execute_result"
    }
   ],
   "source": [
    "my_best_friend = random.choice([\"Alice\", \"Bob\", \"Charlie\"])     # \"Bob\" for me\n",
    "my_best_friend"
   ]
  },
  {
   "cell_type": "code",
   "execution_count": 193,
   "id": "078a4d9d-b104-4d3b-a1a4-c1142c316c1f",
   "metadata": {},
   "outputs": [
    {
     "data": {
      "text/plain": [
       "[4, 15, 47, 23, 2, 26]"
      ]
     },
     "execution_count": 193,
     "metadata": {},
     "output_type": "execute_result"
    }
   ],
   "source": [
    "lottery_numbers = range(60)\n",
    "winning_numbers = random.sample(lottery_numbers, 6)  # [16, 36, 10, 6, 25, 9]\n",
    "winning_numbers"
   ]
  },
  {
   "cell_type": "code",
   "execution_count": 194,
   "id": "2d9cc2ed-4705-49ff-aa93-2c8e4ed3f3a3",
   "metadata": {},
   "outputs": [
    {
     "name": "stdout",
     "output_type": "stream",
     "text": [
      "[2, 9, 5, 6]\n"
     ]
    }
   ],
   "source": [
    "four_with_replacement = [random.choice(range(10)) for _ in range(4)]\n",
    "print(four_with_replacement)  # [9, 4, 4, 2]"
   ]
  },
  {
   "cell_type": "code",
   "execution_count": 195,
   "id": "a330b0d0-20b7-4046-9c3d-045dab8cd892",
   "metadata": {},
   "outputs": [],
   "source": [
    "import re\n",
    "\n",
    "re_examples = [                        # all of these are true, because\n",
    "    not re.match(\"a\", \"cat\"),              #  'cat' doesn't start with 'a'\n",
    "    re.search(\"a\", \"cat\"),                 #  'cat' has an 'a' in it\n",
    "    not re.search(\"c\", \"dog\"),             #  'dog' doesn't have a 'c' in it\n",
    "    3 == len(re.split(\"[ab]\", \"carbs\")),   #  split on a or b to ['c','r','s']\n",
    "    \"R-D-\" == re.sub(\"[0-9]\", \"-\", \"R2D2\") #  replace digits with dashes\n",
    "    ]"
   ]
  },
  {
   "cell_type": "code",
   "execution_count": 196,
   "id": "2bb4482f-85f8-4cbe-b75a-a1948eba9204",
   "metadata": {},
   "outputs": [],
   "source": [
    "assert all(re_examples), \"all the regex examples should be True\"\n",
    "\n",
    "list1 = ['a', 'b', 'c']\n",
    "list2 = [1, 2, 3]"
   ]
  },
  {
   "cell_type": "code",
   "execution_count": 197,
   "id": "107568f8-1f4f-4e23-b01d-d65242bbe3b3",
   "metadata": {},
   "outputs": [
    {
     "data": {
      "text/plain": [
       "[('a', 1), ('b', 2), ('c', 3)]"
      ]
     },
     "execution_count": 197,
     "metadata": {},
     "output_type": "execute_result"
    }
   ],
   "source": [
    "# zip is lazy, so you have to do something like the following\n",
    "[pair for pair in zip(list1, list2)]    # is [('a', 1), ('b', 2), ('c', 3)]"
   ]
  },
  {
   "cell_type": "code",
   "execution_count": 198,
   "id": "1ab39971-8e89-4524-a001-42d022dcd85b",
   "metadata": {},
   "outputs": [],
   "source": [
    "assert [pair for pair in zip(list1, list2)] == [('a', 1), ('b', 2), ('c', 3)]"
   ]
  },
  {
   "cell_type": "code",
   "execution_count": 199,
   "id": "a1f1fda2-66b3-4869-8972-c58b15467697",
   "metadata": {},
   "outputs": [
    {
     "data": {
      "text/plain": [
       "(('a', 'b', 'c'), (1, 2, 3))"
      ]
     },
     "execution_count": 199,
     "metadata": {},
     "output_type": "execute_result"
    }
   ],
   "source": [
    "pairs = [('a', 1), ('b', 2), ('c', 3)]\n",
    "letters, numbers = zip(*pairs)\n",
    "letters, numbers"
   ]
  },
  {
   "cell_type": "code",
   "execution_count": 200,
   "id": "cc5614c8-c3ca-41fd-b1a7-c95306d9ad64",
   "metadata": {},
   "outputs": [
    {
     "data": {
      "text/plain": [
       "(('a', 'b', 'c'), (1, 2, 3))"
      ]
     },
     "execution_count": 200,
     "metadata": {},
     "output_type": "execute_result"
    }
   ],
   "source": [
    "letters, numbers = zip(('a', 1), ('b', 2), ('c', 3))\n",
    "letters, numbers"
   ]
  },
  {
   "cell_type": "code",
   "execution_count": 201,
   "id": "bf916726-926e-42c0-a547-463f4e074f3a",
   "metadata": {},
   "outputs": [
    {
     "data": {
      "text/plain": [
       "3"
      ]
     },
     "execution_count": 201,
     "metadata": {},
     "output_type": "execute_result"
    }
   ],
   "source": [
    "def add(a, b): return a + b\n",
    "add(1, 2)      # returns 3"
   ]
  },
  {
   "cell_type": "code",
   "execution_count": 202,
   "id": "f0a16301-9711-45ee-9df7-14ece24d0ee9",
   "metadata": {},
   "outputs": [
    {
     "name": "stdout",
     "output_type": "stream",
     "text": [
      "add expects two inputs\n"
     ]
    }
   ],
   "source": [
    "try:\n",
    "    add([1, 2])\n",
    "except TypeError:\n",
    "    print(\"add expects two inputs\")"
   ]
  },
  {
   "cell_type": "code",
   "execution_count": 203,
   "id": "422582f7-642f-4ad4-9462-aa0e583a3326",
   "metadata": {},
   "outputs": [
    {
     "data": {
      "text/plain": [
       "3"
      ]
     },
     "execution_count": 203,
     "metadata": {},
     "output_type": "execute_result"
    }
   ],
   "source": [
    "add(*[1, 2])   # returns 3"
   ]
  },
  {
   "cell_type": "code",
   "execution_count": 204,
   "id": "8ad1347f-89bc-44b0-9243-b92fbe46171e",
   "metadata": {},
   "outputs": [],
   "source": [
    "def doubler(f):\n",
    "    # Here we define a new function that keeps a reference to f\n",
    "    def g(x):\n",
    "        return 2 * f(x)\n",
    "\n",
    "    # And return that new function.\n",
    "    return g\n",
    "\n",
    "def f1(x):\n",
    "    return x + 1"
   ]
  },
  {
   "cell_type": "code",
   "execution_count": 205,
   "id": "fe308d6d-d5a1-49d5-9f8e-2f37185071f9",
   "metadata": {},
   "outputs": [
    {
     "data": {
      "text/plain": [
       "<function __main__.doubler.<locals>.g(x)>"
      ]
     },
     "execution_count": 205,
     "metadata": {},
     "output_type": "execute_result"
    }
   ],
   "source": [
    "g = doubler(f1)\n",
    "g"
   ]
  },
  {
   "cell_type": "code",
   "execution_count": 206,
   "id": "5521c2ba-be7f-4ae0-9c07-7c14a9690a33",
   "metadata": {},
   "outputs": [],
   "source": [
    "assert g(3) == 8,  \"(3 + 1) * 2 should equal 8\""
   ]
  },
  {
   "cell_type": "code",
   "execution_count": 207,
   "id": "a79652cd-1eef-42fd-805c-6a8b4a3e0860",
   "metadata": {},
   "outputs": [],
   "source": [
    "assert g(-1) == 0, \"(-1 + 1) * 2 should equal 0\""
   ]
  },
  {
   "cell_type": "code",
   "execution_count": 208,
   "id": "12fcdefd-53b1-418f-a7ed-093397a05ec6",
   "metadata": {},
   "outputs": [],
   "source": [
    "def f2(x, y):\n",
    "    return x + y"
   ]
  },
  {
   "cell_type": "code",
   "execution_count": 209,
   "id": "3a521438-f48f-4f56-8d2f-6ff1736b1608",
   "metadata": {},
   "outputs": [],
   "source": [
    "g = doubler(f2)"
   ]
  },
  {
   "cell_type": "code",
   "execution_count": 210,
   "id": "dcaaae6c-26c9-4e1e-b2b3-599656006983",
   "metadata": {},
   "outputs": [
    {
     "name": "stdout",
     "output_type": "stream",
     "text": [
      "as defined, g only takes one argument\n"
     ]
    }
   ],
   "source": [
    "try:\n",
    "    g(1, 2)\n",
    "except TypeError:\n",
    "    print(\"as defined, g only takes one argument\")"
   ]
  },
  {
   "cell_type": "code",
   "execution_count": 211,
   "id": "da7c89be-4e6f-401d-9a93-1701bf9bf95a",
   "metadata": {},
   "outputs": [
    {
     "name": "stdout",
     "output_type": "stream",
     "text": [
      "unnamed args: (1, 2)\n",
      "keyword args: {'key': 'word', 'key2': 'word2'}\n"
     ]
    }
   ],
   "source": [
    "def magic(*args, **kwargs):\n",
    "    print(\"unnamed args:\", args)\n",
    "    print(\"keyword args:\", kwargs)\n",
    "\n",
    "magic(1, 2, key=\"word\", key2=\"word2\")"
   ]
  },
  {
   "cell_type": "code",
   "execution_count": 212,
   "id": "80c63eeb-eced-406d-92bd-7f976204a84c",
   "metadata": {},
   "outputs": [],
   "source": [
    "def other_way_magic(x, y, z):\n",
    "    return x + y + z"
   ]
  },
  {
   "cell_type": "code",
   "execution_count": 213,
   "id": "5c5cc996-12ec-42ab-82a9-cbfd6d479e4c",
   "metadata": {},
   "outputs": [],
   "source": [
    "x_y_list = [1, 2]\n",
    "z_dict = {\"z\": 3}\n",
    "assert other_way_magic(*x_y_list, **z_dict) == 6, \"1 + 2 + 3 should be 6\""
   ]
  },
  {
   "cell_type": "code",
   "execution_count": 214,
   "id": "4551f4c9-2e14-41a9-973e-5bc06c7484c8",
   "metadata": {},
   "outputs": [
    {
     "data": {
      "text/plain": [
       "<function __main__.doubler_correct.<locals>.g(*args, **kwargs)>"
      ]
     },
     "execution_count": 214,
     "metadata": {},
     "output_type": "execute_result"
    }
   ],
   "source": [
    "def doubler_correct(f):\n",
    "    \"\"\"works no matter what kind of inputs f expects\"\"\"\n",
    "    def g(*args, **kwargs):\n",
    "        \"\"\"whatever arguments g is supplied, pass them through to f\"\"\"\n",
    "        return 2 * f(*args, **kwargs)\n",
    "    return g\n",
    "\n",
    "g = doubler_correct(f2)\n",
    "g"
   ]
  },
  {
   "cell_type": "code",
   "execution_count": 215,
   "id": "44ac3e0d-830b-4144-b3ec-2da0e42acea3",
   "metadata": {},
   "outputs": [],
   "source": [
    "assert g(1, 2) == 6, \"doubler should work now\""
   ]
  },
  {
   "cell_type": "code",
   "execution_count": 216,
   "id": "9bd5d137-2693-4aba-9952-52deef6efb79",
   "metadata": {},
   "outputs": [],
   "source": [
    "def add(a, b):\n",
    "    return a + b"
   ]
  },
  {
   "cell_type": "code",
   "execution_count": 217,
   "id": "57802acc-9f14-4417-abb1-a09597ad040a",
   "metadata": {},
   "outputs": [],
   "source": [
    "assert add(10, 5) == 15,                  \"+ is valid for numbers\"\n",
    "assert add([1, 2], [3]) == [1, 2, 3],     \"+ is valid for lists\"\n",
    "assert add(\"hi \", \"there\") == \"hi there\", \"+ is valid for strings\""
   ]
  },
  {
   "cell_type": "code",
   "execution_count": 218,
   "id": "0ce8c1fd-3d16-4ac2-b333-b23dbe7edebc",
   "metadata": {},
   "outputs": [
    {
     "name": "stdout",
     "output_type": "stream",
     "text": [
      "cannot add an int to a string\n"
     ]
    }
   ],
   "source": [
    "try:\n",
    "    add(10, \"five\")\n",
    "except TypeError:\n",
    "    print(\"cannot add an int to a string\")"
   ]
  },
  {
   "cell_type": "code",
   "execution_count": 219,
   "id": "32ccacbb-5c7d-43dd-aadf-877f3d7a67be",
   "metadata": {},
   "outputs": [],
   "source": [
    "def add(a: int, b: int) -> int:\n",
    "    return a + b"
   ]
  },
  {
   "cell_type": "code",
   "execution_count": 220,
   "id": "737b135a-a163-4997-b56d-cfff843f6808",
   "metadata": {},
   "outputs": [
    {
     "data": {
      "text/plain": [
       "15"
      ]
     },
     "execution_count": 220,
     "metadata": {},
     "output_type": "execute_result"
    }
   ],
   "source": [
    "add(10, 5)           # you'd like this to be OK"
   ]
  },
  {
   "cell_type": "code",
   "execution_count": 221,
   "id": "9efb05da-0235-431c-873c-6c3acf06067b",
   "metadata": {},
   "outputs": [
    {
     "data": {
      "text/plain": [
       "'hi there'"
      ]
     },
     "execution_count": 221,
     "metadata": {},
     "output_type": "execute_result"
    }
   ],
   "source": [
    "add(\"hi \", \"there\")  # you'd like this to be not OK"
   ]
  },
  {
   "cell_type": "code",
   "execution_count": 222,
   "id": "63295b3a-0292-408c-b55e-8defb19b1ace",
   "metadata": {},
   "outputs": [
    {
     "data": {
      "text/plain": [
       "typing.List[float]"
      ]
     },
     "execution_count": 222,
     "metadata": {},
     "output_type": "execute_result"
    }
   ],
   "source": [
    "# This is not in the book, but it's needed\n",
    "# to make the `dot_product` stubs not error out.\n",
    "from typing import List\n",
    "Vector = List[float]\n",
    "Vector"
   ]
  },
  {
   "cell_type": "code",
   "execution_count": 223,
   "id": "2f6c2623-7c0e-4390-b21c-ffb1602f5c79",
   "metadata": {},
   "outputs": [],
   "source": [
    "def dot_product(x, y): ..."
   ]
  },
  {
   "cell_type": "code",
   "execution_count": 224,
   "id": "7e3cf828-f8c4-478e-b327-669b38d7f184",
   "metadata": {},
   "outputs": [],
   "source": [
    "# we have not yet defined Vector, but imagine we had\n",
    "def dot_product(x: Vector, y: Vector) -> float: ..."
   ]
  },
  {
   "cell_type": "code",
   "execution_count": 225,
   "id": "0f69f921-43c4-4343-b269-2686e6bd36fe",
   "metadata": {},
   "outputs": [],
   "source": [
    "from typing import Union"
   ]
  },
  {
   "cell_type": "code",
   "execution_count": 226,
   "id": "f5f50081-8df8-45fe-9c81-3f54f40ef79d",
   "metadata": {},
   "outputs": [],
   "source": [
    "def secretly_ugly_function(value, operation): ..."
   ]
  },
  {
   "cell_type": "code",
   "execution_count": 227,
   "id": "013bc0b2-9ea7-44d1-8cb0-e8ae619974f0",
   "metadata": {},
   "outputs": [],
   "source": [
    "def ugly_function(value: int, operation: Union[str, int, float, bool]) -> int:\n",
    "    ..."
   ]
  },
  {
   "cell_type": "code",
   "execution_count": 228,
   "id": "7fe85f36-8ac0-430a-95e6-8b2a79373caa",
   "metadata": {},
   "outputs": [],
   "source": [
    "def total(xs: list) -> float:\n",
    "    return sum(xs)"
   ]
  },
  {
   "cell_type": "code",
   "execution_count": 229,
   "id": "d082b7ab-6f36-4809-9431-96735cf3ed1d",
   "metadata": {},
   "outputs": [],
   "source": [
    "from typing import List  # note capital L"
   ]
  },
  {
   "cell_type": "code",
   "execution_count": 230,
   "id": "3812f911-049c-45c7-96ec-f6535e6b722c",
   "metadata": {},
   "outputs": [],
   "source": [
    "def total(xs: List[float]) -> float:\n",
    "    return sum(xs)"
   ]
  },
  {
   "cell_type": "code",
   "execution_count": 231,
   "id": "c7e9f0c0-dd25-4ae8-8c36-a9441b73f5aa",
   "metadata": {},
   "outputs": [],
   "source": [
    "# This is how to type-annotate variables when you define them.\n",
    "# But this is unnecessary; it's \"obvious\" x is an int.\n",
    "x: int = 5"
   ]
  },
  {
   "cell_type": "code",
   "execution_count": 232,
   "id": "dd423b5b-5a28-4b03-b586-3c464e745ad7",
   "metadata": {},
   "outputs": [],
   "source": [
    "values = []         # what's my type?\n",
    "best_so_far = None  # what's my type?"
   ]
  },
  {
   "cell_type": "code",
   "execution_count": 233,
   "id": "a4fc3f99-f214-497b-91fb-7213e43943c8",
   "metadata": {},
   "outputs": [],
   "source": [
    "from typing import Optional"
   ]
  },
  {
   "cell_type": "code",
   "execution_count": 234,
   "id": "929ee1e6-202f-4087-996c-1248a48e8924",
   "metadata": {},
   "outputs": [],
   "source": [
    "values: List[int] = []\n",
    "best_so_far: Optional[float] = None  # allowed to be either a float or None"
   ]
  },
  {
   "cell_type": "code",
   "execution_count": 235,
   "id": "e7a7747b-c600-49f7-b9fe-9d287634cefa",
   "metadata": {},
   "outputs": [],
   "source": [
    "lazy = True\n",
    "\n",
    "# the type annotations in this snippet are all unnecessary\n",
    "from typing import Dict, Iterable, Tuple"
   ]
  },
  {
   "cell_type": "code",
   "execution_count": 236,
   "id": "0c51672a-e558-48b7-899b-d45c555efacf",
   "metadata": {},
   "outputs": [],
   "source": [
    "# keys are strings, values are ints\n",
    "counts: Dict[str, int] = {'data': 1, 'science': 2}"
   ]
  },
  {
   "cell_type": "code",
   "execution_count": 237,
   "id": "b1aa02c8-c5d7-483f-8d28-839e4cb75882",
   "metadata": {},
   "outputs": [],
   "source": [
    "# lists and generators are both iterable\n",
    "if lazy:\n",
    "    evens: Iterable[int] = (x for x in range(10) if x % 2 == 0)\n",
    "else:\n",
    "    evens = [0, 2, 4, 6, 8]"
   ]
  },
  {
   "cell_type": "code",
   "execution_count": 238,
   "id": "5e7e7939-fb4f-48f6-9251-f620fa2e87af",
   "metadata": {},
   "outputs": [],
   "source": [
    "# tuples specify a type for each element\n",
    "triple: Tuple[int, float, int] = (10, 2.3, 5)"
   ]
  },
  {
   "cell_type": "code",
   "execution_count": 239,
   "id": "63c58d5c-66b4-4e88-a6e9-586a69cd5b8c",
   "metadata": {},
   "outputs": [],
   "source": [
    "from typing import Callable\n",
    "\n",
    "# The type hint says that repeater is a function that takes\n",
    "# two arguments, a string and an int, and returns a string.\n",
    "def twice(repeater: Callable[[str, int], str], s: str) -> str:\n",
    "    return repeater(s, 2)"
   ]
  },
  {
   "cell_type": "code",
   "execution_count": 240,
   "id": "a071689c-8908-467f-b993-925e3f7b0b9a",
   "metadata": {},
   "outputs": [],
   "source": [
    "def comma_repeater(s: str, n: int) -> str:\n",
    "    n_copies = [s for _ in range(n)]\n",
    "    return ', '.join(n_copies)"
   ]
  },
  {
   "cell_type": "code",
   "execution_count": 241,
   "id": "2dd083cc-6db8-4168-8cb5-e1b8b588aee7",
   "metadata": {},
   "outputs": [],
   "source": [
    "assert twice(comma_repeater, \"type hints\") == \"type hints, type hints\""
   ]
  },
  {
   "cell_type": "code",
   "execution_count": 242,
   "id": "ad4f3796-15b3-44d4-bee4-db49ab19af9a",
   "metadata": {},
   "outputs": [],
   "source": [
    "Number = int\n",
    "Numbers = List[Number]"
   ]
  },
  {
   "cell_type": "code",
   "execution_count": 243,
   "id": "734f70d2-14ba-4415-b1ea-27437e7d66dd",
   "metadata": {},
   "outputs": [],
   "source": [
    "def total(xs: Numbers) -> Number:\n",
    "    return sum(xs)"
   ]
  }
 ],
 "metadata": {
  "kernelspec": {
   "display_name": "Python 3 (ipykernel)",
   "language": "python",
   "name": "python3"
  },
  "language_info": {
   "codemirror_mode": {
    "name": "ipython",
    "version": 3
   },
   "file_extension": ".py",
   "mimetype": "text/x-python",
   "name": "python",
   "nbconvert_exporter": "python",
   "pygments_lexer": "ipython3",
   "version": "3.10.2"
  }
 },
 "nbformat": 4,
 "nbformat_minor": 5
}
