{
 "cells": [
  {
   "cell_type": "code",
   "execution_count": 1,
   "id": "d12fc751-92d5-4b77-be82-b67df127cb74",
   "metadata": {},
   "outputs": [
    {
     "name": "stdout",
     "output_type": "stream",
     "text": [
      "importing Jupyter notebook from linear_algebra.ipynb\n"
     ]
    }
   ],
   "source": [
    "import import_ipynb\n",
    "from linear_algebra import Vector"
   ]
  },
  {
   "cell_type": "code",
   "execution_count": 2,
   "id": "3a685771-2c9d-4fbb-97fc-e397119151d8",
   "metadata": {},
   "outputs": [],
   "source": [
    "def num_differences(v1: Vector, v2: Vector) -> int:\n",
    "    assert len(v1) == len(v2)\n",
    "    return len([x1 for x1, x2 in zip(v1, v2) if x1 != x2])"
   ]
  },
  {
   "cell_type": "code",
   "execution_count": 3,
   "id": "8c490b75-781a-4830-84ce-565bc078c008",
   "metadata": {},
   "outputs": [],
   "source": [
    "assert num_differences([1, 2, 3], [2, 1, 3]) == 2\n",
    "assert num_differences([1, 2], [1, 2]) == 0"
   ]
  },
  {
   "cell_type": "code",
   "execution_count": 4,
   "id": "cfc900bd-f13a-4dc6-923b-361d1e9334e2",
   "metadata": {},
   "outputs": [],
   "source": [
    "from typing import List\n",
    "from linear_algebra import vector_mean"
   ]
  },
  {
   "cell_type": "code",
   "execution_count": 5,
   "id": "127935f0-196c-4b8a-9dc0-eefc7c14dc6a",
   "metadata": {},
   "outputs": [],
   "source": [
    "def cluster_means(k: int,\n",
    "                  inputs: List[Vector],\n",
    "                  assignments: List[int]) -> List[Vector]:\n",
    "    # clusters[i] contains the inputs whose assignment is i\n",
    "    clusters = [[] for i in range(k)]\n",
    "    for input, assignment in zip(inputs, assignments):\n",
    "        clusters[assignment].append(input)\n",
    "\n",
    "    # if a cluster is empty, just use a random point\n",
    "    return [vector_mean(cluster) if cluster else random.choice(inputs)\n",
    "            for cluster in clusters]"
   ]
  },
  {
   "cell_type": "code",
   "execution_count": 6,
   "id": "b6ff6bc9-60e4-435a-9123-c6d75f1d3a3a",
   "metadata": {},
   "outputs": [],
   "source": [
    "import itertools\n",
    "import random\n",
    "import tqdm\n",
    "from linear_algebra import squared_distance"
   ]
  },
  {
   "cell_type": "code",
   "execution_count": 7,
   "id": "953fce65-955b-4281-ba30-1b33c56ea0b5",
   "metadata": {},
   "outputs": [],
   "source": [
    "class KMeans:\n",
    "    def __init__(self, k: int) -> None:\n",
    "        self.k = k                      # number of clusters\n",
    "        self.means = None\n",
    "\n",
    "    def classify(self, input: Vector) -> int:\n",
    "        \"\"\"return the index of the cluster closest to the input\"\"\"\n",
    "        return min(range(self.k),\n",
    "                   key=lambda i: squared_distance(input, self.means[i]))\n",
    "\n",
    "    def train(self, inputs: List[Vector]) -> None:\n",
    "        # Start with random assignments\n",
    "        assignments = [random.randrange(self.k) for _ in inputs]\n",
    "\n",
    "        with tqdm.tqdm(itertools.count()) as t:\n",
    "            for _ in t:\n",
    "                # Compute means and find new assignments\n",
    "                self.means = cluster_means(self.k, inputs, assignments)\n",
    "                new_assignments = [self.classify(input) for input in inputs]\n",
    "\n",
    "                # Check how many assignments changed and if we're done\n",
    "                num_changed = num_differences(assignments, new_assignments)\n",
    "                if num_changed == 0:\n",
    "                    return\n",
    "\n",
    "                # Otherwise keep the new assignments, and compute new means\n",
    "                assignments = new_assignments\n",
    "                self.means = cluster_means(self.k, inputs, assignments)\n",
    "                t.set_description(f\"changed: {num_changed} / {len(inputs)}\")"
   ]
  },
  {
   "cell_type": "code",
   "execution_count": 8,
   "id": "5a1bae3d-89b3-4bdd-aae0-38366025a010",
   "metadata": {},
   "outputs": [],
   "source": [
    "from typing import NamedTuple, Union"
   ]
  },
  {
   "cell_type": "code",
   "execution_count": 9,
   "id": "721e49e8-92ae-4bb2-9655-49841300cab8",
   "metadata": {},
   "outputs": [],
   "source": [
    "class Leaf(NamedTuple):\n",
    "    value: Vector"
   ]
  },
  {
   "cell_type": "code",
   "execution_count": 10,
   "id": "a8f6d1fa-6a87-470a-b795-eb73b0fabbeb",
   "metadata": {},
   "outputs": [
    {
     "data": {
      "text/plain": [
       "(Leaf(value=[10, 20]), Leaf(value=[30, -15]))"
      ]
     },
     "execution_count": 10,
     "metadata": {},
     "output_type": "execute_result"
    }
   ],
   "source": [
    "leaf1 = Leaf([10,  20])\n",
    "leaf2 = Leaf([30, -15])\n",
    "leaf1, leaf2 "
   ]
  },
  {
   "cell_type": "code",
   "execution_count": 11,
   "id": "384e9d95-8dae-4294-a28b-ceae58a79649",
   "metadata": {},
   "outputs": [],
   "source": [
    "class Merged(NamedTuple):\n",
    "    children: tuple\n",
    "    order: int"
   ]
  },
  {
   "cell_type": "code",
   "execution_count": 12,
   "id": "ad4c6dc4-5c47-448c-816b-b72f5072b365",
   "metadata": {},
   "outputs": [
    {
     "data": {
      "text/plain": [
       "Merged(children=(Leaf(value=[10, 20]), Leaf(value=[30, -15])), order=1)"
      ]
     },
     "execution_count": 12,
     "metadata": {},
     "output_type": "execute_result"
    }
   ],
   "source": [
    "merged = Merged((leaf1, leaf2), order=1)\n",
    "merged"
   ]
  },
  {
   "cell_type": "code",
   "execution_count": 13,
   "id": "44e0cc49-698e-4804-a9ba-782796aa04fb",
   "metadata": {},
   "outputs": [
    {
     "data": {
      "text/plain": [
       "typing.Union[__main__.Leaf, __main__.Merged]"
      ]
     },
     "execution_count": 13,
     "metadata": {},
     "output_type": "execute_result"
    }
   ],
   "source": [
    "Cluster = Union[Leaf, Merged]\n",
    "Cluster"
   ]
  },
  {
   "cell_type": "code",
   "execution_count": 14,
   "id": "78499e09-672a-4497-b702-8b06685e29fb",
   "metadata": {},
   "outputs": [],
   "source": [
    "def get_values(cluster: Cluster) -> List[Vector]:\n",
    "    if isinstance(cluster, Leaf):\n",
    "        return [cluster.value]\n",
    "    else:\n",
    "        return [value\n",
    "                for child in cluster.children\n",
    "                for value in get_values(child)]"
   ]
  },
  {
   "cell_type": "code",
   "execution_count": 15,
   "id": "a04e5dba-e764-49f6-8b3e-172830a6b13e",
   "metadata": {},
   "outputs": [],
   "source": [
    "assert get_values(merged) == [[10, 20], [30, -15]]"
   ]
  },
  {
   "cell_type": "code",
   "execution_count": 16,
   "id": "2bf54d54-4b18-4ecb-b1a8-bf0cf37a7322",
   "metadata": {},
   "outputs": [],
   "source": [
    "from typing import Callable\n",
    "from linear_algebra import distance"
   ]
  },
  {
   "cell_type": "code",
   "execution_count": 17,
   "id": "dd3e5b86-21cd-4f5f-801a-b6384309ae85",
   "metadata": {},
   "outputs": [],
   "source": [
    "def cluster_distance(cluster1: Cluster,\n",
    "                     cluster2: Cluster,\n",
    "                     distance_agg: Callable = min) -> float:\n",
    "    \"\"\"\n",
    "    compute all the pairwise distances between cluster1 and cluster2\n",
    "    and apply the aggregation function _distance_agg_ to the resulting list\n",
    "    \"\"\"\n",
    "    return distance_agg([distance(v1, v2)\n",
    "                         for v1 in get_values(cluster1)\n",
    "                         for v2 in get_values(cluster2)])"
   ]
  },
  {
   "cell_type": "code",
   "execution_count": 18,
   "id": "b2ed5099-3c4b-42a7-a4a4-dab47fef4842",
   "metadata": {},
   "outputs": [],
   "source": [
    "def get_merge_order(cluster: Cluster) -> float:\n",
    "    if isinstance(cluster, Leaf):\n",
    "        return float('inf')  # was never merged\n",
    "    else:\n",
    "        return cluster.order"
   ]
  },
  {
   "cell_type": "code",
   "execution_count": 19,
   "id": "6071b0a9-216b-4625-893c-98e947b1607d",
   "metadata": {},
   "outputs": [],
   "source": [
    "from typing import Tuple"
   ]
  },
  {
   "cell_type": "code",
   "execution_count": 20,
   "id": "b5d01c9b-8ec9-449f-9a18-24ef6f4f958f",
   "metadata": {},
   "outputs": [],
   "source": [
    "def get_children(cluster: Cluster):\n",
    "    if isinstance(cluster, Leaf):\n",
    "        raise TypeError(\"Leaf has no children\")\n",
    "    else:\n",
    "        return cluster.children"
   ]
  },
  {
   "cell_type": "code",
   "execution_count": 21,
   "id": "92e6412d-575a-426c-bf32-8a1b0b7e8f2d",
   "metadata": {},
   "outputs": [],
   "source": [
    "def bottom_up_cluster(inputs: List[Vector],\n",
    "                      distance_agg: Callable = min) -> Cluster:\n",
    "    # Start with all leaves\n",
    "    clusters: List[Cluster] = [Leaf(input) for input in inputs]\n",
    "\n",
    "    def pair_distance(pair: Tuple[Cluster, Cluster]) -> float:\n",
    "        return cluster_distance(pair[0], pair[1], distance_agg)\n",
    "\n",
    "    # as long as we have more than one cluster left...\n",
    "    while len(clusters) > 1:\n",
    "        # find the two closest clusters\n",
    "        c1, c2 = min(((cluster1, cluster2)\n",
    "                      for i, cluster1 in enumerate(clusters)\n",
    "                      for cluster2 in clusters[:i]),\n",
    "                      key=pair_distance)\n",
    "\n",
    "        # remove them from the list of clusters\n",
    "        clusters = [c for c in clusters if c != c1 and c != c2]\n",
    "\n",
    "        # merge them, using merge_order = # of clusters left\n",
    "        merged_cluster = Merged((c1, c2), order=len(clusters))\n",
    "\n",
    "        # and add their merge\n",
    "        clusters.append(merged_cluster)\n",
    "\n",
    "    # when there's only one cluster left, return it\n",
    "    return clusters[0]"
   ]
  },
  {
   "cell_type": "code",
   "execution_count": 22,
   "id": "32784115-adcf-4103-b407-bfc6bcb7f86f",
   "metadata": {},
   "outputs": [],
   "source": [
    "def generate_clusters(base_cluster: Cluster,\n",
    "                      num_clusters: int) -> List[Cluster]:\n",
    "    # start with a list with just the base cluster\n",
    "    clusters = [base_cluster]\n",
    "\n",
    "    # as long as we don't have enough clusters yet...\n",
    "    while len(clusters) < num_clusters:\n",
    "        # choose the last-merged of our clusters\n",
    "        next_cluster = min(clusters, key=get_merge_order)\n",
    "        # remove it from the list\n",
    "        clusters = [c for c in clusters if c != next_cluster]\n",
    "\n",
    "        # and add its children to the list (i.e., unmerge it)\n",
    "        clusters.extend(get_children(next_cluster))\n",
    "\n",
    "    # once we have enough clusters...\n",
    "    return clusters"
   ]
  },
  {
   "cell_type": "code",
   "execution_count": 23,
   "id": "59a56f4d-505c-4896-b073-8a5862ad65b9",
   "metadata": {},
   "outputs": [
    {
     "name": "stderr",
     "output_type": "stream",
     "text": [
      "changed: 5 / 20: : 1it [00:00, ?it/s]\n",
      "changed: 4 / 20: : 2it [00:00, 1002.10it/s]\n",
      "0it [00:00, ?it/s]\n",
      "changed: 8 / 20: : 1it [00:00, 158.78it/s]\n",
      "changed: 2 / 20: : 2it [00:00, 2008.77it/s]\n",
      "changed: 2 / 20: : 2it [00:00, 1002.94it/s]\n",
      "changed: 2 / 20: : 4it [00:00, 1336.83it/s]\n",
      "changed: 1 / 20: : 3it [00:00, 1504.23it/s]\n",
      "changed: 1 / 20: : 5it [00:00, 1059.54it/s]\n",
      "changed: 4 / 20: : 2it [00:00, 1016.19it/s]\n",
      "changed: 2 / 20: : 3it [00:00, 1002.62it/s]\n",
      "changed: 4 / 20: : 3it [00:00, 1002.54it/s]\n",
      "changed: 1 / 20: : 3it [00:00, 1002.54it/s]\n",
      "changed: 1 / 20: : 3it [00:00, 1002.46it/s]\n",
      "changed: 1 / 20: : 3it [00:00, 752.03it/s]\n",
      "changed: 1 / 20: : 3it [00:00, 752.07it/s]\n",
      "changed: 1 / 20: : 4it [00:00, 802.20it/s]\n",
      "changed: 3 / 20: : 3it [00:00, ?it/s] \n",
      "changed: 1 / 20: : 4it [00:00, ?it/s] \n",
      "changed: 3 / 20: : 3it [00:00, 1023.00it/s]\n",
      "changed: 3 / 20: : 3it [00:00, ?it/s] \n",
      "changed: 1 / 20: : 5it [00:00, 694.58it/s]\n",
      "changed: 5 / 697686: : 27it [02:41,  6.00s/it]    \n"
     ]
    },
    {
     "data": {
      "image/png": "[encoded data removed]",
      "text/plain": [
       "<Figure size 432x288 with 1 Axes>"
      ]
     },
     "metadata": {
      "needs_background": "light"
     },
     "output_type": "display_data"
    }
   ],
   "source": [
    "def main():\n",
    "    \n",
    "    \n",
    "    inputs: List[List[float]] = [[-14,-5],[13,13],[20,23],[-19,-11],[-9,-16],[21,27],[-49,15],[26,13],[-46,5],[-34,-1],[11,15],[-49,0],[-22,-16],[19,28],[-12,-8],[-13,-19],[-41,8],[-11,-6],[-25,-9],[-18,-3]]\n",
    "    \n",
    "    random.seed(12)                   # so you get the same results as me\n",
    "    clusterer = KMeans(k=3)\n",
    "    clusterer.train(inputs)\n",
    "    means = sorted(clusterer.means)   # sort for the unit test\n",
    "    \n",
    "    assert len(means) == 3\n",
    "    \n",
    "    # Check that the means are close to what we expect.\n",
    "    assert squared_distance(means[0], [-44, 5]) < 1\n",
    "    assert squared_distance(means[1], [-16, -10]) < 1\n",
    "    assert squared_distance(means[2], [18, 20]) < 1\n",
    "    \n",
    "    random.seed(0)\n",
    "    clusterer = KMeans(k=2)\n",
    "    clusterer.train(inputs)\n",
    "    means = sorted(clusterer.means)\n",
    "    \n",
    "    assert len(means) == 2\n",
    "    assert squared_distance(means[0], [-26, -5]) < 1\n",
    "    assert squared_distance(means[1], [18, 20]) < 1\n",
    "    \n",
    "    from matplotlib import pyplot as plt\n",
    "    \n",
    "    def squared_clustering_errors(inputs: List[Vector], k: int) -> float:\n",
    "        \"\"\"finds the total squared error from k-means clustering the inputs\"\"\"\n",
    "        clusterer = KMeans(k)\n",
    "        clusterer.train(inputs)\n",
    "        means = clusterer.means\n",
    "        assignments = [clusterer.classify(input) for input in inputs]\n",
    "    \n",
    "        return sum(squared_distance(input, means[cluster])\n",
    "                   for input, cluster in zip(inputs, assignments))\n",
    "    \n",
    "    # now plot from 1 up to len(inputs) clusters\n",
    "    \n",
    "    ks = range(1, len(inputs) + 1)\n",
    "    errors = [squared_clustering_errors(inputs, k) for k in ks]\n",
    "    \n",
    "    plt.plot(ks, errors)\n",
    "    plt.xticks(ks)\n",
    "    plt.xlabel(\"k\")\n",
    "    plt.ylabel(\"total squared error\")\n",
    "    plt.title(\"Total Error vs. # of Clusters\")\n",
    "    # plt.show()\n",
    "    \n",
    "    \n",
    "    \n",
    "    plt.savefig('images/total_error_vs_num_clusters')\n",
    "    plt.gca().clear()\n",
    "    \n",
    "    image_path = r\"girl_with_book.jpg\"    # wherever your image is\n",
    "    import matplotlib.image as mpimg\n",
    "    img = mpimg.imread(image_path) / 256  # rescale to between 0 and 1\n",
    "    \n",
    "    # .tolist() converts a numpy array to a Python list\n",
    "    pixels = [pixel.tolist() for row in img for pixel in row]\n",
    "    \n",
    "    clusterer = KMeans(5)\n",
    "    clusterer.train(pixels)   # this might take a while\n",
    "    \n",
    "    def recolor(pixel: Vector) -> Vector:\n",
    "        cluster = clusterer.classify(pixel)        # index of the closest cluster\n",
    "        return clusterer.means[cluster]            # mean of the closest cluster\n",
    "    \n",
    "    new_img = [[recolor(pixel) for pixel in row]   # recolor this row of pixels\n",
    "               for row in img]                     # for each row in the image\n",
    "    \n",
    "    \n",
    "    plt.close()\n",
    "    \n",
    "    plt.imshow(new_img)\n",
    "    plt.axis('off')\n",
    "    # plt.show()\n",
    "    \n",
    "    \n",
    "    \n",
    "    plt.savefig('images/recolored_girl_with_book.jpg')\n",
    "    plt.gca().clear()\n",
    "    \n",
    "    base_cluster = bottom_up_cluster(inputs)\n",
    "    \n",
    "    three_clusters = [get_values(cluster)\n",
    "                      for cluster in generate_clusters(base_cluster, 3)]\n",
    "    \n",
    "    \n",
    "    \n",
    "    # sort smallest to largest\n",
    "    tc = sorted(three_clusters, key=len)\n",
    "    assert len(tc) == 3\n",
    "    assert [len(c) for c in tc] == [2, 4, 14]\n",
    "    assert sorted(tc[0]) == [[11, 15], [13, 13]]\n",
    "    \n",
    "    \n",
    "    plt.close()\n",
    "    \n",
    "    for i, cluster, marker, color in zip([1, 2, 3],\n",
    "                                         three_clusters,\n",
    "                                         ['D','o','*'],\n",
    "                                         ['r','g','b']):\n",
    "        xs, ys = zip(*cluster)  # magic unzipping trick\n",
    "        plt.scatter(xs, ys, color=color, marker=marker)\n",
    "    \n",
    "        # put a number at the mean of the cluster\n",
    "        x, y = vector_mean(cluster)\n",
    "        plt.plot(x, y, marker='$' + str(i) + '$', color='black')\n",
    "    \n",
    "    plt.title(\"User Locations -- 3 Bottom-Up Clusters, Min\")\n",
    "    plt.xlabel(\"blocks east of city center\")\n",
    "    plt.ylabel(\"blocks north of city center\")\n",
    "    # plt.show()\n",
    "    \n",
    "    \n",
    "    \n",
    "    plt.savefig('images/bottom_up_clusters_min.png')\n",
    "    plt.gca().clear()\n",
    "    plt.close()\n",
    "    \n",
    "    \n",
    "    \n",
    "    base_cluster_max = bottom_up_cluster(inputs, max)\n",
    "    three_clusters_max = [get_values(cluster)\n",
    "                          for cluster in generate_clusters(base_cluster_max, 3)]\n",
    "    \n",
    "    for i, cluster, marker, color in zip([1, 2, 3],\n",
    "                                         three_clusters_max,\n",
    "                                         ['D','o','*'],\n",
    "                                         ['r','g','b']):\n",
    "        xs, ys = zip(*cluster)  # magic unzipping trick\n",
    "        plt.scatter(xs, ys, color=color, marker=marker)\n",
    "    \n",
    "        # put a number at the mean of the cluster\n",
    "        x, y = vector_mean(cluster)\n",
    "        plt.plot(x, y, marker='$' + str(i) + '$', color='black')\n",
    "    \n",
    "    plt.title(\"User Locations -- 3 Bottom-Up Clusters, Max\")\n",
    "    plt.xlabel(\"blocks east of city center\")\n",
    "    plt.ylabel(\"blocks north of city center\")\n",
    "    plt.savefig('images/bottom_up_clusters_max.png')\n",
    "    #plt.gca().clear()\n",
    "    \n",
    "if __name__ == \"__main__\": main()"
   ]
  },
  {
   "cell_type": "markdown",
   "id": "11bda469-5939-4bb5-a6fd-1c7b494ac204",
   "metadata": {},
   "source": [
    "# fragmenting the function main above"
   ]
  },
  {
   "cell_type": "code",
   "execution_count": 24,
   "id": "35e0bdfc-b47c-45c1-81ba-432e7a33374d",
   "metadata": {},
   "outputs": [],
   "source": [
    "# def main():"
   ]
  },
  {
   "cell_type": "code",
   "execution_count": 25,
   "id": "b65fc1ea-8aa2-4f3b-8e66-d7a7d0a2f112",
   "metadata": {},
   "outputs": [
    {
     "name": "stderr",
     "output_type": "stream",
     "text": [
      "changed: 5 / 20: : 1it [00:00, 1002.70it/s]\n"
     ]
    }
   ],
   "source": [
    "inputs: List[List[float]] = [[-14,-5],[13,13],[20,23],[-19,-11],[-9,-16],[21,27],[-49,15],[26,13],[-46,5],[-34,-1],[11,15],[-49,0],[-22,-16],[19,28],[-12,-8],[-13,-19],[-41,8],[-11,-6],[-25,-9],[-18,-3]]\n",
    "\n",
    "random.seed(12)                   # so you get the same results as me\n",
    "clusterer = KMeans(k=3)\n",
    "clusterer.train(inputs)\n",
    "means = sorted(clusterer.means)   # sort for the unit test"
   ]
  },
  {
   "cell_type": "code",
   "execution_count": 26,
   "id": "972ae696-b07d-42fc-98f6-f14b4aaeda7e",
   "metadata": {},
   "outputs": [],
   "source": [
    "assert len(means) == 3"
   ]
  },
  {
   "cell_type": "code",
   "execution_count": 27,
   "id": "07d3d7eb-5b3c-4b5c-9e1d-7108771efae1",
   "metadata": {},
   "outputs": [],
   "source": [
    "# Check that the means are close to what we expect.\n",
    "assert squared_distance(means[0], [-44, 5]) < 1\n",
    "assert squared_distance(means[1], [-16, -10]) < 1\n",
    "assert squared_distance(means[2], [18, 20]) < 1"
   ]
  },
  {
   "cell_type": "code",
   "execution_count": 28,
   "id": "56322709-e8e9-44fa-ab9f-14cca7a60d58",
   "metadata": {},
   "outputs": [
    {
     "name": "stderr",
     "output_type": "stream",
     "text": [
      "changed: 4 / 20: : 2it [00:00, ?it/s]\n"
     ]
    }
   ],
   "source": [
    "random.seed(0)\n",
    "clusterer = KMeans(k=2)\n",
    "clusterer.train(inputs)\n",
    "means = sorted(clusterer.means)"
   ]
  },
  {
   "cell_type": "code",
   "execution_count": 29,
   "id": "b481fba9-e615-4bd5-9788-8dc07d819761",
   "metadata": {},
   "outputs": [],
   "source": [
    "assert len(means) == 2\n",
    "assert squared_distance(means[0], [-26, -5]) < 1\n",
    "assert squared_distance(means[1], [18, 20]) < 1"
   ]
  },
  {
   "cell_type": "code",
   "execution_count": 30,
   "id": "1f6ab448-f86b-4ea9-b971-9db5a0a929d4",
   "metadata": {},
   "outputs": [],
   "source": [
    "from matplotlib import pyplot as plt"
   ]
  },
  {
   "cell_type": "code",
   "execution_count": 31,
   "id": "e1f6d86e-297c-4b35-8aa7-e1e89803937d",
   "metadata": {},
   "outputs": [],
   "source": [
    "def squared_clustering_errors(inputs: List[Vector], k: int) -> float:\n",
    "    \"\"\"finds the total squared error from k-means clustering the inputs\"\"\"\n",
    "    clusterer = KMeans(k)\n",
    "    clusterer.train(inputs)\n",
    "    means = clusterer.means\n",
    "    assignments = [clusterer.classify(input) for input in inputs]\n",
    "\n",
    "    return sum(squared_distance(input, means[cluster])\n",
    "               for input, cluster in zip(inputs, assignments))"
   ]
  },
  {
   "cell_type": "code",
   "execution_count": 32,
   "id": "05ff8607-5c04-490a-ae01-336531f3a82a",
   "metadata": {},
   "outputs": [
    {
     "name": "stderr",
     "output_type": "stream",
     "text": [
      "0it [00:00, ?it/s]\n",
      "changed: 8 / 20: : 1it [00:00, 63.42it/s]\n",
      "changed: 2 / 20: : 2it [00:00, ?it/s]\n",
      "changed: 2 / 20: : 2it [00:00, ?it/s] \n",
      "changed: 2 / 20: : 4it [00:00, 236.59it/s]\n",
      "changed: 1 / 20: : 3it [00:00, ?it/s] \n",
      "changed: 1 / 20: : 5it [00:00, ?it/s] \n",
      "changed: 4 / 20: : 2it [00:00, 121.45it/s]\n",
      "changed: 2 / 20: : 3it [00:00, ?it/s] \n",
      "changed: 4 / 20: : 3it [00:00, ?it/s] \n",
      "changed: 1 / 20: : 3it [00:00, 189.72it/s]\n",
      "changed: 1 / 20: : 3it [00:00, ?it/s] \n",
      "changed: 1 / 20: : 3it [00:00, ?it/s] \n",
      "changed: 1 / 20: : 3it [00:00, 179.72it/s]\n",
      "changed: 1 / 20: : 4it [00:00, ?it/s] \n",
      "changed: 3 / 20: : 3it [00:00, ?it/s] \n",
      "changed: 1 / 20: : 4it [00:00, ?it/s] \n",
      "changed: 3 / 20: : 3it [00:00, 186.45it/s]\n",
      "changed: 3 / 20: : 3it [00:00, 501.29it/s]\n",
      "changed: 1 / 20: : 5it [00:00, 1655.08it/s]\n"
     ]
    },
    {
     "data": {
      "image/png": "[encoded data removed]",
      "text/plain": [
       "<Figure size 432x288 with 1 Axes>"
      ]
     },
     "metadata": {
      "needs_background": "light"
     },
     "output_type": "display_data"
    }
   ],
   "source": [
    "# now plot from 1 up to len(inputs) clusters\n",
    "\n",
    "ks = range(1, len(inputs) + 1)\n",
    "errors = [squared_clustering_errors(inputs, k) for k in ks]\n",
    "\n",
    "plt.plot(ks, errors)\n",
    "plt.xticks(ks)\n",
    "plt.xlabel(\"k\")\n",
    "plt.ylabel(\"total squared error\")\n",
    "plt.title(\"Total Error vs. # of Clusters\")\n",
    "plt.savefig('images/total_error_vs_num_clusters')\n",
    "# plt.show()"
   ]
  },
  {
   "cell_type": "code",
   "execution_count": 33,
   "id": "7263b02c-f088-4254-98af-b7e25f1c5843",
   "metadata": {},
   "outputs": [
    {
     "data": {
      "text/plain": [
       "<Figure size 432x288 with 0 Axes>"
      ]
     },
     "metadata": {},
     "output_type": "display_data"
    }
   ],
   "source": [
    "plt.gca().clear()\n",
    "plt.close()\n",
    "plt.clf()"
   ]
  },
  {
   "cell_type": "code",
   "execution_count": 34,
   "id": "5b5074db-384d-4bf3-a50f-54d44f3937a0",
   "metadata": {},
   "outputs": [
    {
     "data": {
      "text/plain": [
       "array([[[0.125     , 0.13671875, 0.015625  ],\n",
       "        [0.12890625, 0.140625  , 0.01953125],\n",
       "        [0.12890625, 0.140625  , 0.01953125],\n",
       "        ...,\n",
       "        [0.02734375, 0.08984375, 0.05078125],\n",
       "        [0.03125   , 0.09375   , 0.0546875 ],\n",
       "        [0.03125   , 0.09375   , 0.0546875 ]],\n",
       "\n",
       "       [[0.1328125 , 0.14453125, 0.0234375 ],\n",
       "        [0.1328125 , 0.14453125, 0.0234375 ],\n",
       "        [0.1328125 , 0.14453125, 0.0234375 ],\n",
       "        ...,\n",
       "        [0.02734375, 0.08984375, 0.05078125],\n",
       "        [0.03515625, 0.09765625, 0.05859375],\n",
       "        [0.03515625, 0.09765625, 0.05859375]],\n",
       "\n",
       "       [[0.12890625, 0.140625  , 0.01953125],\n",
       "        [0.1328125 , 0.14453125, 0.0234375 ],\n",
       "        [0.1328125 , 0.14453125, 0.0234375 ],\n",
       "        ...,\n",
       "        [0.02734375, 0.08984375, 0.05078125],\n",
       "        [0.03515625, 0.09765625, 0.05859375],\n",
       "        [0.03515625, 0.09765625, 0.05859375]],\n",
       "\n",
       "       ...,\n",
       "\n",
       "       [[0.8515625 , 0.50390625, 0.00390625],\n",
       "        [0.8515625 , 0.50390625, 0.00390625],\n",
       "        [0.85546875, 0.5078125 , 0.0078125 ],\n",
       "        ...,\n",
       "        [0.66015625, 0.3671875 , 0.00390625],\n",
       "        [0.6328125 , 0.3359375 , 0.        ],\n",
       "        [0.6328125 , 0.3359375 , 0.0078125 ]],\n",
       "\n",
       "       [[0.8515625 , 0.50390625, 0.00390625],\n",
       "        [0.8515625 , 0.50390625, 0.00390625],\n",
       "        [0.8515625 , 0.50390625, 0.00390625],\n",
       "        ...,\n",
       "        [0.66015625, 0.3671875 , 0.00390625],\n",
       "        [0.62890625, 0.33203125, 0.        ],\n",
       "        [0.625     , 0.3359375 , 0.00390625]],\n",
       "\n",
       "       [[0.84765625, 0.5       , 0.        ],\n",
       "        [0.84765625, 0.5       , 0.        ],\n",
       "        [0.84765625, 0.5       , 0.        ],\n",
       "        ...,\n",
       "        [0.66015625, 0.375     , 0.015625  ],\n",
       "        [0.625     , 0.3359375 , 0.        ],\n",
       "        [0.61328125, 0.33203125, 0.        ]]])"
      ]
     },
     "execution_count": 34,
     "metadata": {},
     "output_type": "execute_result"
    }
   ],
   "source": [
    "image_path = r\"girl_with_book.jpg\"    # wherever your image is\n",
    "import matplotlib.image as mpimg\n",
    "img = mpimg.imread(image_path) / 256  # rescale to between 0 and 1\n",
    "img"
   ]
  },
  {
   "cell_type": "code",
   "execution_count": 35,
   "id": "28a850b2-5f88-4267-875f-3b4035793d68",
   "metadata": {},
   "outputs": [
    {
     "data": {
      "text/plain": [
       "[[0.125, 0.13671875, 0.015625],\n",
       " [0.12890625, 0.140625, 0.01953125],\n",
       " [0.12890625, 0.140625, 0.01953125]]"
      ]
     },
     "execution_count": 35,
     "metadata": {},
     "output_type": "execute_result"
    }
   ],
   "source": [
    "# .tolist() converts a numpy array to a Python list\n",
    "pixels = [pixel.tolist() for row in img for pixel in row]\n",
    "pixels[:3]"
   ]
  },
  {
   "cell_type": "code",
   "execution_count": 36,
   "id": "37a2d911-6413-4262-8026-f6d517faa9a4",
   "metadata": {},
   "outputs": [
    {
     "name": "stderr",
     "output_type": "stream",
     "text": [
      "changed: 5 / 697686: : 27it [02:41,  5.99s/it]    \n"
     ]
    }
   ],
   "source": [
    "clusterer = KMeans(5)\n",
    "clusterer.train(pixels)   # this might take a while"
   ]
  },
  {
   "cell_type": "code",
   "execution_count": 37,
   "id": "c8201b94-60cc-4f1a-a096-2266567d2bcd",
   "metadata": {},
   "outputs": [],
   "source": [
    "def recolor(pixel: Vector) -> Vector:\n",
    "    cluster = clusterer.classify(pixel)        # index of the closest cluster\n",
    "    return clusterer.means[cluster]            # mean of the closest cluster\n",
    "\n",
    "new_img = [[recolor(pixel) for pixel in row]   # recolor this row of pixels\n",
    "           for row in img]                     # for each row in the image"
   ]
  },
  {
   "cell_type": "code",
   "execution_count": 38,
   "id": "cd3188ee-9ad6-48a5-9f03-42b6a4e34080",
   "metadata": {},
   "outputs": [
    {
     "data": {
      "image/png": "[encoded data removed]",
      "text/plain": [
       "<Figure size 432x288 with 1 Axes>"
      ]
     },
     "metadata": {
      "needs_background": "light"
     },
     "output_type": "display_data"
    }
   ],
   "source": [
    "plt.close()\n",
    "\n",
    "plt.imshow(new_img)\n",
    "plt.axis('off')\n",
    "# plt.show()\n",
    "\n",
    "plt.savefig('images/recolored_girl_with_book.jpg')\n",
    "#plt.gca().clear()"
   ]
  },
  {
   "cell_type": "code",
   "execution_count": 39,
   "id": "bc5bf6a7-2e61-49ad-9270-d08eaf849da2",
   "metadata": {},
   "outputs": [
    {
     "data": {
      "text/plain": [
       "<Figure size 432x288 with 0 Axes>"
      ]
     },
     "metadata": {},
     "output_type": "display_data"
    }
   ],
   "source": [
    "plt.gca().clear()\n",
    "plt.close()\n",
    "plt.clf()"
   ]
  },
  {
   "cell_type": "code",
   "execution_count": 40,
   "id": "1c6e7e1d-e8c1-489d-8a58-5fd781164946",
   "metadata": {},
   "outputs": [],
   "source": [
    "base_cluster = bottom_up_cluster(inputs)\n",
    "\n",
    "three_clusters = [get_values(cluster)\n",
    "                  for cluster in generate_clusters(base_cluster, 3)]"
   ]
  },
  {
   "cell_type": "code",
   "execution_count": 41,
   "id": "bb785435-f2c0-4acd-9343-0e70d9a10798",
   "metadata": {},
   "outputs": [],
   "source": [
    "# sort smallest to largest\n",
    "tc = sorted(three_clusters, key=len)\n",
    "assert len(tc) == 3\n",
    "assert [len(c) for c in tc] == [2, 4, 14]\n",
    "assert sorted(tc[0]) == [[11, 15], [13, 13]]"
   ]
  },
  {
   "cell_type": "code",
   "execution_count": 42,
   "id": "d1891b77-6e40-40f1-916e-807e2fb3091e",
   "metadata": {},
   "outputs": [],
   "source": [
    "plt.close()"
   ]
  },
  {
   "cell_type": "code",
   "execution_count": 43,
   "id": "8bd41caa-d16a-4ba5-8c44-f59075bb0186",
   "metadata": {},
   "outputs": [
    {
     "data": {
      "image/png": "[encoded data removed]",
      "text/plain": [
       "<Figure size 432x288 with 1 Axes>"
      ]
     },
     "metadata": {
      "needs_background": "light"
     },
     "output_type": "display_data"
    }
   ],
   "source": [
    "for i, cluster, marker, color in zip([1, 2, 3],\n",
    "                                     three_clusters,\n",
    "                                     ['D','o','*'],\n",
    "                                     ['r','g','b']):\n",
    "    xs, ys = zip(*cluster)  # magic unzipping trick\n",
    "    plt.scatter(xs, ys, color=color, marker=marker)\n",
    "\n",
    "    # put a number at the mean of the cluster\n",
    "    x, y = vector_mean(cluster)\n",
    "    plt.plot(x, y, marker='$' + str(i) + '$', color='black')\n",
    "\n",
    "plt.title(\"User Locations -- 3 Bottom-Up Clusters, Min\")\n",
    "plt.xlabel(\"blocks east of city center\")\n",
    "plt.ylabel(\"blocks north of city center\")\n",
    "# plt.show()\n",
    "\n",
    "plt.savefig('images/bottom_up_clusters_min.png')"
   ]
  },
  {
   "cell_type": "code",
   "execution_count": 44,
   "id": "17617253-e774-41fc-89d2-dfcaefaf1f71",
   "metadata": {},
   "outputs": [
    {
     "data": {
      "text/plain": [
       "<Figure size 432x288 with 0 Axes>"
      ]
     },
     "metadata": {},
     "output_type": "display_data"
    }
   ],
   "source": [
    "plt.gca().clear()\n",
    "plt.close()\n",
    "plt.clf()"
   ]
  },
  {
   "cell_type": "code",
   "execution_count": 45,
   "id": "b0a72ac0-aac9-4460-b275-5f871aecdc50",
   "metadata": {},
   "outputs": [],
   "source": [
    "base_cluster_max = bottom_up_cluster(inputs, max)\n",
    "three_clusters_max = [get_values(cluster)\n",
    "                      for cluster in generate_clusters(base_cluster_max, 3)]"
   ]
  },
  {
   "cell_type": "code",
   "execution_count": 46,
   "id": "1627fb88-1860-4979-9180-b04342c3e172",
   "metadata": {},
   "outputs": [
    {
     "data": {
      "image/png": "[encoded data removed]",
      "text/plain": [
       "<Figure size 432x288 with 1 Axes>"
      ]
     },
     "metadata": {
      "needs_background": "light"
     },
     "output_type": "display_data"
    }
   ],
   "source": [
    "for i, cluster, marker, color in zip([1, 2, 3],\n",
    "                                     three_clusters_max,\n",
    "                                     ['D','o','*'],\n",
    "                                     ['r','g','b']):\n",
    "    xs, ys = zip(*cluster)  # magic unzipping trick\n",
    "    plt.scatter(xs, ys, color=color, marker=marker)\n",
    "\n",
    "    # put a number at the mean of the cluster\n",
    "    x, y = vector_mean(cluster)\n",
    "    plt.plot(x, y, marker='$' + str(i) + '$', color='black')\n",
    "\n",
    "plt.title(\"User Locations -- 3 Bottom-Up Clusters, Max\")\n",
    "plt.xlabel(\"blocks east of city center\")\n",
    "plt.ylabel(\"blocks north of city center\")\n",
    "plt.savefig('images/bottom_up_clusters_max.png')\n",
    "#plt.gca().clear()"
   ]
  },
  {
   "cell_type": "code",
   "execution_count": 47,
   "id": "4f4152f5-c134-4cbc-8f60-58eca64552c2",
   "metadata": {},
   "outputs": [
    {
     "data": {
      "text/plain": [
       "<Figure size 432x288 with 0 Axes>"
      ]
     },
     "metadata": {},
     "output_type": "display_data"
    }
   ],
   "source": [
    "plt.gca().clear()\n",
    "plt.close()\n",
    "plt.clf()"
   ]
  },
  {
   "cell_type": "code",
   "execution_count": 48,
   "id": "37217bda-bfdf-453e-aae9-2de22b535dd5",
   "metadata": {},
   "outputs": [],
   "source": [
    "# if __name__ == \"__main__\": main()"
   ]
  }
 ],
 "metadata": {
  "kernelspec": {
   "display_name": "Python 3 (ipykernel)",
   "language": "python",
   "name": "python3"
  },
  "language_info": {
   "codemirror_mode": {
    "name": "ipython",
    "version": 3
   },
   "file_extension": ".py",
   "mimetype": "text/x-python",
   "name": "python",
   "nbconvert_exporter": "python",
   "pygments_lexer": "ipython3",
   "version": "3.10.2"
  }
 },
 "nbformat": 4,
 "nbformat_minor": 5
}
