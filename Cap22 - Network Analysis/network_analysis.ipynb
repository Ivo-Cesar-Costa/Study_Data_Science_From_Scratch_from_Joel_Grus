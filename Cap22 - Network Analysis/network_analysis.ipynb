{
 "cells": [
  {
   "cell_type": "code",
   "execution_count": 1,
   "id": "4288084b-12c4-462b-8d90-07f98b56906c",
   "metadata": {},
   "outputs": [],
   "source": [
    "from typing import NamedTuple"
   ]
  },
  {
   "cell_type": "code",
   "execution_count": 2,
   "id": "1da58ae1-d5a5-4717-8c64-165097487a8a",
   "metadata": {},
   "outputs": [],
   "source": [
    "class User(NamedTuple):\n",
    "    id: int\n",
    "    name: str"
   ]
  },
  {
   "cell_type": "code",
   "execution_count": 3,
   "id": "c750fb27-328b-4af5-928f-c4f6ac4d7ed5",
   "metadata": {},
   "outputs": [],
   "source": [
    "users = [User(0, \"Hero\"), User(1, \"Dunn\"), User(2, \"Sue\"), User(3, \"Chi\"),\n",
    "         User(4, \"Thor\"), User(5, \"Clive\"), User(6, \"Hicks\"),\n",
    "         User(7, \"Devin\"), User(8, \"Kate\"), User(9, \"Klein\")]"
   ]
  },
  {
   "cell_type": "code",
   "execution_count": 4,
   "id": "5783da8a-cfcd-478a-b4ca-3bf356e7946d",
   "metadata": {},
   "outputs": [],
   "source": [
    "friend_pairs = [(0, 1), (0, 2), (1, 2), (1, 3), (2, 3), (3, 4),\n",
    "                (4, 5), (5, 6), (5, 7), (6, 8), (7, 8), (8, 9)]"
   ]
  },
  {
   "cell_type": "code",
   "execution_count": 5,
   "id": "c4bff3b7-458b-45e4-b884-c83d223dfdda",
   "metadata": {},
   "outputs": [],
   "source": [
    "from typing import Dict, List"
   ]
  },
  {
   "cell_type": "code",
   "execution_count": 6,
   "id": "9369df98-c40d-4492-849d-54d92f2d3375",
   "metadata": {},
   "outputs": [],
   "source": [
    "# type alias for keeping track of Friendships\n",
    "Friendships = Dict[int, List[int]]"
   ]
  },
  {
   "cell_type": "code",
   "execution_count": 7,
   "id": "cb1ec93a-0584-4be6-ac2d-b55982409f33",
   "metadata": {},
   "outputs": [],
   "source": [
    "friendships: Friendships = {user.id: [] for user in users}"
   ]
  },
  {
   "cell_type": "code",
   "execution_count": 8,
   "id": "3f4641b3-0897-49cf-b5a8-ae9cf387190f",
   "metadata": {},
   "outputs": [
    {
     "data": {
      "text/plain": [
       "{0: [], 1: [], 2: [], 3: [], 4: [], 5: [], 6: [], 7: [], 8: [], 9: []}"
      ]
     },
     "execution_count": 8,
     "metadata": {},
     "output_type": "execute_result"
    }
   ],
   "source": [
    "friendships"
   ]
  },
  {
   "cell_type": "code",
   "execution_count": 9,
   "id": "23517887-6c4b-4a5b-aabe-44e77206ac41",
   "metadata": {},
   "outputs": [],
   "source": [
    "for i, j in friend_pairs:\n",
    "    friendships[i].append(j)\n",
    "    friendships[j].append(i)"
   ]
  },
  {
   "cell_type": "code",
   "execution_count": 10,
   "id": "993b1590-4f90-442a-814e-0c117936fb2d",
   "metadata": {},
   "outputs": [
    {
     "data": {
      "text/plain": [
       "{0: [1, 2],\n",
       " 1: [0, 2, 3],\n",
       " 2: [0, 1, 3],\n",
       " 3: [1, 2, 4],\n",
       " 4: [3, 5],\n",
       " 5: [4, 6, 7],\n",
       " 6: [5, 8],\n",
       " 7: [5, 8],\n",
       " 8: [6, 7, 9],\n",
       " 9: [8]}"
      ]
     },
     "execution_count": 10,
     "metadata": {},
     "output_type": "execute_result"
    }
   ],
   "source": [
    "friendships"
   ]
  },
  {
   "cell_type": "code",
   "execution_count": 11,
   "id": "7a0eb1e0-c7f5-43e8-a51b-8b40e0e4bb64",
   "metadata": {},
   "outputs": [],
   "source": [
    "assert friendships[4] == [3, 5]\n",
    "assert friendships[8] == [6, 7, 9]"
   ]
  },
  {
   "cell_type": "code",
   "execution_count": 12,
   "id": "288f068b-7cf6-4220-b8a3-3fda1f4a9bb7",
   "metadata": {},
   "outputs": [],
   "source": [
    "from collections import deque"
   ]
  },
  {
   "cell_type": "code",
   "execution_count": 13,
   "id": "cecd08a4-3f8b-432c-b76f-8d5fc72f7c66",
   "metadata": {},
   "outputs": [],
   "source": [
    "Path = List[int]"
   ]
  },
  {
   "cell_type": "code",
   "execution_count": 14,
   "id": "e9a0aea8-d8bd-4396-a11c-12b2fedcd4f2",
   "metadata": {},
   "outputs": [],
   "source": [
    "def shortest_paths_from(from_user_id: int,\n",
    "                        friendships: Friendships) -> Dict[int, List[Path]]:\n",
    "    # A dictionary from \"user_id\" to *all* shortest paths to that user\n",
    "    shortest_paths_to: Dict[int, List[Path]] = {from_user_id: [[]]}\n",
    "\n",
    "    # A queue of (previous user, next user) that we need to check.\n",
    "    # Starts out with all pairs (from_user, friend_of_from_user)\n",
    "    frontier = deque((from_user_id, friend_id)\n",
    "                     for friend_id in friendships[from_user_id])\n",
    "\n",
    "    # Keep going until we empty the queue.\n",
    "    while frontier:\n",
    "        # Remove the pair that's next in the queue.\n",
    "        prev_user_id, user_id = frontier.popleft()\n",
    "\n",
    "        # Because of the way we're adding to the queue,\n",
    "        # necessarily we already know some shortest paths to prev_user\n",
    "        paths_to_prev_user = shortest_paths_to[prev_user_id]\n",
    "        new_paths_to_user = [path + [user_id] for path in paths_to_prev_user]\n",
    "\n",
    "        # It's possible we already know a shortest path to user_id.\n",
    "        old_paths_to_user = shortest_paths_to.get(user_id, [])\n",
    "\n",
    "        # What's the shortest path to here that we've seen so far?\n",
    "        if old_paths_to_user:\n",
    "            min_path_length = len(old_paths_to_user[0])\n",
    "        else:\n",
    "            min_path_length = float('inf')\n",
    "\n",
    "        # Only keep paths that aren't too long and are actually new\n",
    "        new_paths_to_user = [path\n",
    "                             for path in new_paths_to_user\n",
    "                             if len(path) <= min_path_length\n",
    "                             and path not in old_paths_to_user]\n",
    "\n",
    "        shortest_paths_to[user_id] = old_paths_to_user + new_paths_to_user\n",
    "\n",
    "        # Add never-seen neighbors to the frontier\n",
    "        frontier.extend((user_id, friend_id)\n",
    "                        for friend_id in friendships[user_id]\n",
    "                        if friend_id not in shortest_paths_to)\n",
    "\n",
    "    return shortest_paths_to"
   ]
  },
  {
   "cell_type": "code",
   "execution_count": 15,
   "id": "e654bf88-c8e9-457b-9121-efabdb019552",
   "metadata": {},
   "outputs": [],
   "source": [
    "# For each from_user, for each to_user, a list of shortest paths.\n",
    "shortest_paths = {user.id: shortest_paths_from(user.id, friendships)\n",
    "                  for user in users}"
   ]
  },
  {
   "cell_type": "code",
   "execution_count": 16,
   "id": "4fdfc0e6-134a-4177-852d-1ae066a5c0bd",
   "metadata": {},
   "outputs": [],
   "source": [
    "betweenness_centrality = {user.id: 0.0 for user in users}"
   ]
  },
  {
   "cell_type": "code",
   "execution_count": 17,
   "id": "6f748b62-c870-42de-8e9a-67d6d31ca012",
   "metadata": {},
   "outputs": [
    {
     "data": {
      "text/plain": [
       "{0: 0.0,\n",
       " 1: 0.0,\n",
       " 2: 0.0,\n",
       " 3: 0.0,\n",
       " 4: 0.0,\n",
       " 5: 0.0,\n",
       " 6: 0.0,\n",
       " 7: 0.0,\n",
       " 8: 0.0,\n",
       " 9: 0.0}"
      ]
     },
     "execution_count": 17,
     "metadata": {},
     "output_type": "execute_result"
    }
   ],
   "source": [
    "betweenness_centrality"
   ]
  },
  {
   "cell_type": "code",
   "execution_count": 18,
   "id": "26983203-a11c-477e-a680-eba9d828bf5d",
   "metadata": {},
   "outputs": [
    {
     "data": {
      "text/plain": [
       "[User(id=0, name='Hero'),\n",
       " User(id=1, name='Dunn'),\n",
       " User(id=2, name='Sue'),\n",
       " User(id=3, name='Chi'),\n",
       " User(id=4, name='Thor'),\n",
       " User(id=5, name='Clive'),\n",
       " User(id=6, name='Hicks'),\n",
       " User(id=7, name='Devin'),\n",
       " User(id=8, name='Kate'),\n",
       " User(id=9, name='Klein')]"
      ]
     },
     "execution_count": 18,
     "metadata": {},
     "output_type": "execute_result"
    }
   ],
   "source": [
    "users"
   ]
  },
  {
   "cell_type": "code",
   "execution_count": 19,
   "id": "2df9b5f4-0024-4980-8775-e9ab1b06f9ce",
   "metadata": {},
   "outputs": [],
   "source": [
    "for source in users:\n",
    "    for target_id, paths in shortest_paths[source.id].items():\n",
    "        if source.id < target_id:      # don't double count\n",
    "            num_paths = len(paths)     # how many shortest paths?\n",
    "            contrib = 1 / num_paths    # contribution to centrality\n",
    "            for path in paths:\n",
    "                for between_id in path:\n",
    "                    if between_id not in [source.id, target_id]:\n",
    "                        betweenness_centrality[between_id] += contrib"
   ]
  },
  {
   "cell_type": "code",
   "execution_count": 20,
   "id": "c6943bbe-5c4d-4c91-8a35-92c38fc8eeea",
   "metadata": {},
   "outputs": [],
   "source": [
    "def farness(user_id: int) -> float:\n",
    "    \"\"\"the sum of the lengths of the shortest paths to each other user\"\"\"\n",
    "    return sum(len(paths[0])\n",
    "               for paths in shortest_paths[user_id].values())"
   ]
  },
  {
   "cell_type": "code",
   "execution_count": 21,
   "id": "3dcf29ea-cdd2-43e5-932e-bc6856085b86",
   "metadata": {},
   "outputs": [],
   "source": [
    "closeness_centrality = {user.id: 1 / farness(user.id) for user in users}"
   ]
  },
  {
   "cell_type": "code",
   "execution_count": 22,
   "id": "bc53659a-18a6-4498-8391-97f4fb713b2e",
   "metadata": {},
   "outputs": [
    {
     "data": {
      "text/plain": [
       "{0: 0.029411764705882353,\n",
       " 1: 0.037037037037037035,\n",
       " 2: 0.037037037037037035,\n",
       " 3: 0.045454545454545456,\n",
       " 4: 0.05,\n",
       " 5: 0.05,\n",
       " 6: 0.041666666666666664,\n",
       " 7: 0.041666666666666664,\n",
       " 8: 0.03571428571428571,\n",
       " 9: 0.027777777777777776}"
      ]
     },
     "execution_count": 22,
     "metadata": {},
     "output_type": "execute_result"
    }
   ],
   "source": [
    "closeness_centrality"
   ]
  },
  {
   "cell_type": "code",
   "execution_count": 23,
   "id": "cbb8c0f2-d40b-425b-9077-2fd53bd22c70",
   "metadata": {},
   "outputs": [
    {
     "name": "stdout",
     "output_type": "stream",
     "text": [
      "importing Jupyter notebook from linear_algebra.ipynb\n"
     ]
    }
   ],
   "source": [
    "import import_ipynb\n",
    "from linear_algebra import Matrix, make_matrix, shape"
   ]
  },
  {
   "cell_type": "code",
   "execution_count": 24,
   "id": "5cf6cc57-42e5-4d5f-8f58-39f0a126ace6",
   "metadata": {},
   "outputs": [],
   "source": [
    "def matrix_times_matrix(m1: Matrix, m2: Matrix) -> Matrix:\n",
    "    nr1, nc1 = shape(m1)\n",
    "    nr2, nc2 = shape(m2)\n",
    "    assert nc1 == nr2, \"must have (# of columns in m1) == (# of rows in m2)\"\n",
    "\n",
    "    def entry_fn(i: int, j: int) -> float:\n",
    "        \"\"\"dot product of i-th row of m1 with j-th column of m2\"\"\"\n",
    "        return sum(m1[i][k] * m2[k][j] for k in range(nc1))\n",
    "\n",
    "    return make_matrix(nr1, nc2, entry_fn)"
   ]
  },
  {
   "cell_type": "code",
   "execution_count": 25,
   "id": "c24bf821-834c-4227-96e3-3ab4442f72a8",
   "metadata": {},
   "outputs": [],
   "source": [
    "from linear_algebra import Vector, dot "
   ]
  },
  {
   "cell_type": "code",
   "execution_count": 26,
   "id": "53138f41-4d37-440c-8def-09ef464bbd36",
   "metadata": {},
   "outputs": [],
   "source": [
    "def matrix_times_vector(m: Matrix, v: Vector) -> Vector:\n",
    "    nr, nc = shape(m)\n",
    "    n = len(v)\n",
    "    assert nc == n, \"must have (# of cols in m) == (# of elements in v)\"\n",
    "\n",
    "    return [dot(row, v) for row in m]  # output has length nr"
   ]
  },
  {
   "cell_type": "code",
   "execution_count": 27,
   "id": "f6bb6e8f-e56c-484b-8ff2-26bd0884a683",
   "metadata": {},
   "outputs": [],
   "source": [
    "from typing import Tuple\n",
    "import random\n",
    "from linear_algebra import magnitude, distance"
   ]
  },
  {
   "cell_type": "code",
   "execution_count": 28,
   "id": "47098cf6-e3a1-447f-bc02-5f0f3cbd5844",
   "metadata": {},
   "outputs": [],
   "source": [
    "def find_eigenvector(m: Matrix,\n",
    "                     tolerance: float = 0.00001) -> Tuple[Vector, float]:\n",
    "    guess = [random.random() for _ in m]\n",
    "\n",
    "    while True:\n",
    "        result = matrix_times_vector(m, guess)    # transform guess\n",
    "        norm = magnitude(result)                  # compute norm\n",
    "        next_guess = [x / norm for x in result]   # rescale\n",
    "\n",
    "        if distance(guess, next_guess) < tolerance:\n",
    "            # convergence so return (eigenvector, eigenvalue)\n",
    "            return next_guess, norm\n",
    "\n",
    "        guess = next_guess"
   ]
  },
  {
   "cell_type": "code",
   "execution_count": 29,
   "id": "f7cdfbc4-d0e4-480a-a337-4eb6a82c7ad4",
   "metadata": {},
   "outputs": [],
   "source": [
    "rotate = [[ 0, 1],\n",
    "          [-1, 0]]"
   ]
  },
  {
   "cell_type": "code",
   "execution_count": 30,
   "id": "b6d631de-01e7-4641-b052-17a0f0ae1b14",
   "metadata": {},
   "outputs": [],
   "source": [
    "flip = [[0, 1],\n",
    "        [1, 0]]"
   ]
  },
  {
   "cell_type": "code",
   "execution_count": 31,
   "id": "275ba148-9ae7-47be-a77b-99e4a73093f7",
   "metadata": {},
   "outputs": [],
   "source": [
    "def entry_fn(i: int, j: int):\n",
    "    return 1 if (i, j) in friend_pairs or (j, i) in friend_pairs else 0"
   ]
  },
  {
   "cell_type": "code",
   "execution_count": 32,
   "id": "e3e41cc2-9e30-4288-9675-e177e1a92434",
   "metadata": {},
   "outputs": [],
   "source": [
    "n = len(users)\n",
    "adjacency_matrix = make_matrix(n, n, entry_fn)"
   ]
  },
  {
   "cell_type": "code",
   "execution_count": 33,
   "id": "fe8ef42e-0cb1-4d62-a3e9-7e77907cb4ab",
   "metadata": {},
   "outputs": [
    {
     "data": {
      "text/plain": [
       "10"
      ]
     },
     "execution_count": 33,
     "metadata": {},
     "output_type": "execute_result"
    }
   ],
   "source": [
    "n"
   ]
  },
  {
   "cell_type": "code",
   "execution_count": 34,
   "id": "b442419a-08b0-4813-a67c-2408a406b16a",
   "metadata": {},
   "outputs": [
    {
     "data": {
      "text/plain": [
       "[[0, 1, 1, 0, 0, 0, 0, 0, 0, 0],\n",
       " [1, 0, 1, 1, 0, 0, 0, 0, 0, 0],\n",
       " [1, 1, 0, 1, 0, 0, 0, 0, 0, 0],\n",
       " [0, 1, 1, 0, 1, 0, 0, 0, 0, 0],\n",
       " [0, 0, 0, 1, 0, 1, 0, 0, 0, 0],\n",
       " [0, 0, 0, 0, 1, 0, 1, 1, 0, 0],\n",
       " [0, 0, 0, 0, 0, 1, 0, 0, 1, 0],\n",
       " [0, 0, 0, 0, 0, 1, 0, 0, 1, 0],\n",
       " [0, 0, 0, 0, 0, 0, 1, 1, 0, 1],\n",
       " [0, 0, 0, 0, 0, 0, 0, 0, 1, 0]]"
      ]
     },
     "execution_count": 34,
     "metadata": {},
     "output_type": "execute_result"
    }
   ],
   "source": [
    "adjacency_matrix"
   ]
  },
  {
   "cell_type": "code",
   "execution_count": 35,
   "id": "2a349193-6fa4-4d35-bc5e-b06661b78911",
   "metadata": {},
   "outputs": [],
   "source": [
    "endorsements = [(0, 1), (1, 0), (0, 2), (2, 0), (1, 2),\n",
    "                (2, 1), (1, 3), (2, 3), (3, 4), (5, 4),\n",
    "                (5, 6), (7, 5), (6, 8), (8, 7), (8, 9)]"
   ]
  },
  {
   "cell_type": "code",
   "execution_count": 36,
   "id": "be0cb534-af08-4056-adec-b1dab9511fab",
   "metadata": {},
   "outputs": [],
   "source": [
    "from collections import Counter"
   ]
  },
  {
   "cell_type": "code",
   "execution_count": 37,
   "id": "e950adc4-3edd-4936-9ce6-5510e7317823",
   "metadata": {},
   "outputs": [
    {
     "data": {
      "text/plain": [
       "Counter({1: 2, 0: 2, 2: 2, 3: 2, 4: 2, 6: 1, 5: 1, 8: 1, 7: 1, 9: 1})"
      ]
     },
     "execution_count": 37,
     "metadata": {},
     "output_type": "execute_result"
    }
   ],
   "source": [
    "endorsement_counts = Counter(target for source, target in endorsements)\n",
    "endorsement_counts"
   ]
  },
  {
   "cell_type": "code",
   "execution_count": 38,
   "id": "f7717f9a-c55b-448f-a964-cb7946c56bf0",
   "metadata": {},
   "outputs": [],
   "source": [
    "import tqdm"
   ]
  },
  {
   "cell_type": "code",
   "execution_count": 39,
   "id": "f0576add-aff1-4f65-872c-f3e611034de3",
   "metadata": {},
   "outputs": [],
   "source": [
    "def page_rank(users: List[User],\n",
    "              endorsements: List[Tuple[int, int]],\n",
    "              damping: float = 0.85,\n",
    "              num_iters: int = 100) -> Dict[int, float]:\n",
    "    # Compute how many people each person endorses\n",
    "    outgoing_counts = Counter(target for source, target in endorsements)\n",
    "\n",
    "    # Initially distribute PageRank evenly\n",
    "    num_users = len(users)\n",
    "    pr = {user.id : 1 / num_users for user in users}\n",
    "\n",
    "    # Small fraction of PageRank that each node gets each iteration\n",
    "    base_pr = (1 - damping) / num_users\n",
    "\n",
    "    for iter in tqdm.trange(num_iters):\n",
    "        next_pr = {user.id : base_pr for user in users}  # start with base_pr\n",
    "\n",
    "        for source, target in endorsements:\n",
    "            # Add damped fraction of source pr to target\n",
    "            next_pr[target] += damping * pr[source] / outgoing_counts[source]\n",
    "\n",
    "        pr = next_pr\n",
    "\n",
    "    return pr"
   ]
  },
  {
   "cell_type": "code",
   "execution_count": 40,
   "id": "ff5b8dba-e340-482c-b1be-e8e77c99fbaa",
   "metadata": {},
   "outputs": [
    {
     "name": "stderr",
     "output_type": "stream",
     "text": [
      "100%|████████████████████████████████████████████████████████████████████████████████████████| 100/100 [00:00<?, ?it/s]\n"
     ]
    },
    {
     "data": {
      "text/plain": [
       "{0: 0.1,\n",
       " 1: 0.1,\n",
       " 2: 0.1,\n",
       " 3: 0.1,\n",
       " 4: 0.14250000000000002,\n",
       " 5: 0.1,\n",
       " 6: 0.1,\n",
       " 7: 0.1,\n",
       " 8: 0.1,\n",
       " 9: 0.1}"
      ]
     },
     "execution_count": 40,
     "metadata": {},
     "output_type": "execute_result"
    }
   ],
   "source": [
    "pr = page_rank(users, endorsements)\n",
    "pr"
   ]
  },
  {
   "cell_type": "code",
   "execution_count": 41,
   "id": "620c370e-2dc1-4949-ae88-de68b76144c2",
   "metadata": {},
   "outputs": [],
   "source": [
    "# Thor (user_id 4) has higher page rank than anyone else\n",
    "assert pr[4] > max(page_rank\n",
    "                   for user_id, page_rank in pr.items()\n",
    "                   if user_id != 4)"
   ]
  }
 ],
 "metadata": {
  "kernelspec": {
   "display_name": "Python 3 (ipykernel)",
   "language": "python",
   "name": "python3"
  },
  "language_info": {
   "codemirror_mode": {
    "name": "ipython",
    "version": 3
   },
   "file_extension": ".py",
   "mimetype": "text/x-python",
   "name": "python",
   "nbconvert_exporter": "python",
   "pygments_lexer": "ipython3",
   "version": "3.10.2"
  }
 },
 "nbformat": 4,
 "nbformat_minor": 5
}
