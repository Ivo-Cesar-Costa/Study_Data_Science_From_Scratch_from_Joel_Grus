{
 "cells": [
  {
   "cell_type": "code",
   "execution_count": 1,
   "id": "24c46e8f-b34e-4f98-96ed-c1797a675514",
   "metadata": {},
   "outputs": [],
   "source": [
    "users = [[0, \"Hero\", 0],\n",
    "         [1, \"Dunn\", 2],\n",
    "         [2, \"Sue\", 3],\n",
    "         [3, \"Chi\", 3]]"
   ]
  },
  {
   "cell_type": "code",
   "execution_count": 2,
   "id": "e52eba24-b4ef-4aad-a7e5-4d758e6a84d1",
   "metadata": {},
   "outputs": [],
   "source": [
    "from typing import Tuple, Sequence, List, Any, Callable, Dict, Iterator\n",
    "from collections import defaultdict"
   ]
  },
  {
   "cell_type": "code",
   "execution_count": 3,
   "id": "eb677549-5d5a-4d7c-bf81-f1443ed906d8",
   "metadata": {},
   "outputs": [],
   "source": [
    "# A few type aliases we'll use later\n",
    "Row = Dict[str, Any]                        # A database row\n",
    "WhereClause = Callable[[Row], bool]         # Predicate for a single row\n",
    "HavingClause = Callable[[List[Row]], bool]  # Predicate over multiple rows"
   ]
  },
  {
   "cell_type": "code",
   "execution_count": 4,
   "id": "fca110ca-e560-4c75-92c8-f7a78aae7fe5",
   "metadata": {},
   "outputs": [],
   "source": [
    "class Table:\n",
    "    def __init__(self, columns: List[str], types: List[type]) -> None:\n",
    "        assert len(columns) == len(types), \"# of columns must == # of types\"\n",
    "\n",
    "        self.columns = columns         # Names of columns\n",
    "        self.types = types             # Data types of columns\n",
    "        self.rows: List[Row] = []      # (no data yet)\n",
    "\n",
    "    def col2type(self, col: str) -> type:\n",
    "        idx = self.columns.index(col)      # Find the index of the column,\n",
    "        return self.types[idx]             # and return its type.\n",
    "\n",
    "    def insert(self, values: list) -> None:\n",
    "        # Check for right # of values\n",
    "        if len(values) != len(self.types):\n",
    "            raise ValueError(f\"You need to provide {len(self.types)} values\")\n",
    "\n",
    "        # Check for right types of values\n",
    "        for value, typ3 in zip(values, self.types):\n",
    "            if not isinstance(value, typ3) and value is not None:\n",
    "                raise TypeError(f\"Expected type {typ3} but got {value}\")\n",
    "\n",
    "        # Add the corresponding dict as a \"row\"\n",
    "        self.rows.append(dict(zip(self.columns, values)))\n",
    "\n",
    "    def __getitem__(self, idx: int) -> Row:\n",
    "        return self.rows[idx]\n",
    "\n",
    "    def __iter__(self) -> Iterator[Row]:\n",
    "        return iter(self.rows)\n",
    "\n",
    "    def __len__(self) -> int:\n",
    "        return len(self.rows)\n",
    "\n",
    "    def __repr__(self):\n",
    "        \"\"\"Pretty representation of the table: columns then rows\"\"\"\n",
    "        rows = \"\\n\".join(str(row) for row in self.rows)\n",
    "\n",
    "        return f\"{self.columns}\\n{rows}\"\n",
    "\n",
    "    def update(self,\n",
    "               updates: Dict[str, Any],\n",
    "               predicate: WhereClause = lambda row: True):\n",
    "        # First make sure the updates have valid names and types\n",
    "        for column, new_value in updates.items():\n",
    "            if column not in self.columns:\n",
    "                raise ValueError(f\"invalid column: {column}\")\n",
    "\n",
    "            typ3 = self.col2type(column)\n",
    "            if not isinstance(new_value, typ3) and new_value is not None:\n",
    "                raise TypeError(f\"expected type {typ3}, but got {new_value}\")\n",
    "\n",
    "        # Now update\n",
    "        for row in self.rows:\n",
    "            if predicate(row):\n",
    "                for column, new_value in updates.items():\n",
    "                    row[column] = new_value\n",
    "\n",
    "    def delete(self, predicate: WhereClause = lambda row: True) -> None:\n",
    "        \"\"\"Delete all rows matching predicate\"\"\"\n",
    "        self.rows = [row for row in self.rows if not predicate(row)]\n",
    "\n",
    "    def select(self,\n",
    "               keep_columns: List[str] = None,\n",
    "               additional_columns: Dict[str, Callable] = None) -> 'Table':\n",
    "\n",
    "        if keep_columns is None:         # If no columns specified,\n",
    "            keep_columns = self.columns  # return all columns\n",
    "\n",
    "        if additional_columns is None:\n",
    "            additional_columns = {}\n",
    "\n",
    "        # New column names and types\n",
    "        new_columns = keep_columns + list(additional_columns.keys())\n",
    "        keep_types = [self.col2type(col) for col in keep_columns]\n",
    "\n",
    "        # This is how to get the return type from a type annotation.\n",
    "        # It will crash if `calculation` doesn't have a return type.\n",
    "        add_types = [calculation.__annotations__['return']\n",
    "                     for calculation in additional_columns.values()]\n",
    "\n",
    "        # Create a new table for results\n",
    "        new_table = Table(new_columns, keep_types + add_types)\n",
    "\n",
    "        for row in self.rows:\n",
    "            new_row = [row[column] for column in keep_columns]\n",
    "            for column_name, calculation in additional_columns.items():\n",
    "                new_row.append(calculation(row))\n",
    "            new_table.insert(new_row)\n",
    "\n",
    "        return new_table\n",
    "\n",
    "    def where(self, predicate: WhereClause = lambda row: True) -> 'Table':\n",
    "        \"\"\"Return only the rows that satisfy the supplied predicate\"\"\"\n",
    "        where_table = Table(self.columns, self.types)\n",
    "        for row in self.rows:\n",
    "            if predicate(row):\n",
    "                values = [row[column] for column in self.columns]\n",
    "                where_table.insert(values)\n",
    "        return where_table\n",
    "\n",
    "    def limit(self, num_rows: int) -> 'Table':\n",
    "        \"\"\"Return only the first `num_rows` rows\"\"\"\n",
    "        limit_table = Table(self.columns, self.types)\n",
    "        for i, row in enumerate(self.rows):\n",
    "            if i >= num_rows:\n",
    "                break\n",
    "            values = [row[column] for column in self.columns]\n",
    "            limit_table.insert(values)\n",
    "        return limit_table\n",
    "\n",
    "    def group_by(self,\n",
    "                 group_by_columns: List[str],\n",
    "                 aggregates: Dict[str, Callable],\n",
    "                 having: HavingClause = lambda group: True) -> 'Table':\n",
    "\n",
    "        grouped_rows = defaultdict(list)\n",
    "\n",
    "        # Populate groups\n",
    "        for row in self.rows:\n",
    "            key = tuple(row[column] for column in group_by_columns)\n",
    "            grouped_rows[key].append(row)\n",
    "\n",
    "        # Result table consists of group_by columns and aggregates\n",
    "        new_columns = group_by_columns + list(aggregates.keys())\n",
    "        group_by_types = [self.col2type(col) for col in group_by_columns]\n",
    "        aggregate_types = [agg.__annotations__['return']\n",
    "                           for agg in aggregates.values()]\n",
    "        result_table = Table(new_columns, group_by_types + aggregate_types)\n",
    "\n",
    "        for key, rows in grouped_rows.items():\n",
    "            if having(rows):\n",
    "                new_row = list(key)\n",
    "                for aggregate_name, aggregate_fn in aggregates.items():\n",
    "                    new_row.append(aggregate_fn(rows))\n",
    "                result_table.insert(new_row)\n",
    "\n",
    "        return result_table\n",
    "\n",
    "    def order_by(self, order: Callable[[Row], Any]) -> 'Table':\n",
    "        new_table = self.select()       # make a copy\n",
    "        new_table.rows.sort(key=order)\n",
    "        return new_table\n",
    "\n",
    "    def join(self, other_table: 'Table', left_join: bool = False) -> 'Table':\n",
    "\n",
    "        join_on_columns = [c for c in self.columns           # columns in\n",
    "                           if c in other_table.columns]      # both tables\n",
    "\n",
    "        additional_columns = [c for c in other_table.columns # columns only\n",
    "                              if c not in join_on_columns]   # in right table\n",
    "\n",
    "        # all columns from left table + additional_columns from right table\n",
    "        new_columns = self.columns + additional_columns\n",
    "        new_types = self.types + [other_table.col2type(col)\n",
    "                                  for col in additional_columns]\n",
    "\n",
    "        join_table = Table(new_columns, new_types)\n",
    "\n",
    "        for row in self.rows:\n",
    "            def is_join(other_row):\n",
    "                return all(other_row[c] == row[c] for c in join_on_columns)\n",
    "\n",
    "            other_rows = other_table.where(is_join).rows\n",
    "\n",
    "            # Each other row that matches this one produces a result row.\n",
    "            for other_row in other_rows:\n",
    "                join_table.insert([row[c] for c in self.columns] +\n",
    "                                  [other_row[c] for c in additional_columns])\n",
    "\n",
    "            # If no rows match and it's a left join, output with Nones.\n",
    "            if left_join and not other_rows:\n",
    "                join_table.insert([row[c] for c in self.columns] +\n",
    "                                  [None for c in additional_columns])\n",
    "\n",
    "        return join_table"
   ]
  },
  {
   "cell_type": "markdown",
   "id": "6ad4c831-4180-40b6-8c51-3e705df25024",
   "metadata": {},
   "source": [
    "# fragmenting the code snippet above (Class) to see it in more details"
   ]
  },
  {
   "cell_type": "code",
   "execution_count": 5,
   "id": "b3b13c68-6741-476a-9e8a-608e7799f482",
   "metadata": {},
   "outputs": [],
   "source": [
    "# class Table:"
   ]
  },
  {
   "cell_type": "code",
   "execution_count": 6,
   "id": "0b77b49f-2132-4d97-a509-b768d8488818",
   "metadata": {},
   "outputs": [],
   "source": [
    "def __init__(self, columns: List[str], types: List[type]) -> None:\n",
    "    assert len(columns) == len(types), \"# of columns must == # of types\"\n",
    "\n",
    "    self.columns = columns         # Names of columns\n",
    "    self.types = types             # Data types of columns\n",
    "    self.rows: List[Row] = []      # (no data yet)"
   ]
  },
  {
   "cell_type": "code",
   "execution_count": 7,
   "id": "e77e582f-d51a-4379-9ce4-c7623dada5c5",
   "metadata": {},
   "outputs": [],
   "source": [
    "def col2type(self, col: str) -> type:\n",
    "    idx = self.columns.index(col)      # Find the index of the column,\n",
    "    return self.types[idx]             # and return its type."
   ]
  },
  {
   "cell_type": "code",
   "execution_count": 8,
   "id": "759720cf-da56-4ab7-a0d7-079851929dc7",
   "metadata": {},
   "outputs": [],
   "source": [
    "def insert(self, values: list) -> None:\n",
    "    # Check for right # of values\n",
    "    if len(values) != len(self.types):\n",
    "        raise ValueError(f\"You need to provide {len(self.types)} values\")\n",
    "\n",
    "    # Check for right types of values\n",
    "    for value, typ3 in zip(values, self.types):\n",
    "        if not isinstance(value, typ3) and value is not None:\n",
    "            raise TypeError(f\"Expected type {typ3} but got {value}\")\n",
    "\n",
    "    # Add the corresponding dict as a \"row\"\n",
    "    self.rows.append(dict(zip(self.columns, values)))"
   ]
  },
  {
   "cell_type": "code",
   "execution_count": 9,
   "id": "cbc7cded-8889-4f3d-bc22-115c4c5fef74",
   "metadata": {},
   "outputs": [],
   "source": [
    "def __getitem__(self, idx: int) -> Row:\n",
    "    return self.rows[idx]"
   ]
  },
  {
   "cell_type": "code",
   "execution_count": 10,
   "id": "c2ec9a5f-4618-4d30-aac6-7693badbe8cc",
   "metadata": {},
   "outputs": [],
   "source": [
    "def __iter__(self) -> Iterator[Row]:\n",
    "    return iter(self.rows)"
   ]
  },
  {
   "cell_type": "code",
   "execution_count": 11,
   "id": "074a0e9d-1332-4af9-b501-ca13310caf3c",
   "metadata": {},
   "outputs": [],
   "source": [
    "def __len__(self) -> int:\n",
    "    return len(self.rows)"
   ]
  },
  {
   "cell_type": "code",
   "execution_count": 12,
   "id": "49969445-62bd-4a26-9848-d27a6fc96490",
   "metadata": {},
   "outputs": [],
   "source": [
    "def __repr__(self):\n",
    "    \"\"\"Pretty representation of the table: columns then rows\"\"\"\n",
    "    rows = \"\\n\".join(str(row) for row in self.rows)\n",
    "\n",
    "    return f\"{self.columns}\\n{rows}\""
   ]
  },
  {
   "cell_type": "code",
   "execution_count": 13,
   "id": "4942ecd2-96de-4a6b-8f9d-5e44fee9b6b3",
   "metadata": {},
   "outputs": [],
   "source": [
    "def update(self,\n",
    "           updates: Dict[str, Any],\n",
    "           predicate: WhereClause = lambda row: True):\n",
    "    # First make sure the updates have valid names and types\n",
    "    for column, new_value in updates.items():\n",
    "        if column not in self.columns:\n",
    "            raise ValueError(f\"invalid column: {column}\")\n",
    "\n",
    "        typ3 = self.col2type(column)\n",
    "        if not isinstance(new_value, typ3) and new_value is not None:\n",
    "            raise TypeError(f\"expected type {typ3}, but got {new_value}\")\n",
    "\n",
    "    # Now update\n",
    "    for row in self.rows:\n",
    "        if predicate(row):\n",
    "            for column, new_value in updates.items():\n",
    "                row[column] = new_value"
   ]
  },
  {
   "cell_type": "code",
   "execution_count": 14,
   "id": "d15eaa81-851f-438d-804d-7044fbdd4b2f",
   "metadata": {},
   "outputs": [],
   "source": [
    "def delete(self, predicate: WhereClause = lambda row: True) -> None:\n",
    "    \"\"\"Delete all rows matching predicate\"\"\"\n",
    "    self.rows = [row for row in self.rows if not predicate(row)]"
   ]
  },
  {
   "cell_type": "code",
   "execution_count": 15,
   "id": "8e6537f9-78b1-491a-aa4e-a0728c656c75",
   "metadata": {},
   "outputs": [],
   "source": [
    "    def select(self,\n",
    "               keep_columns: List[str] = None,\n",
    "               additional_columns: Dict[str, Callable] = None) -> 'Table':\n",
    "\n",
    "        if keep_columns is None:         # If no columns specified,\n",
    "            keep_columns = self.columns  # return all columns\n",
    "\n",
    "        if additional_columns is None:\n",
    "            additional_columns = {}\n",
    "\n",
    "        # New column names and types\n",
    "        new_columns = keep_columns + list(additional_columns.keys())\n",
    "        keep_types = [self.col2type(col) for col in keep_columns]\n",
    "\n",
    "        # This is how to get the return type from a type annotation.\n",
    "        # It will crash if `calculation` doesn't have a return type.\n",
    "        add_types = [calculation.__annotations__['return']\n",
    "                     for calculation in additional_columns.values()]\n",
    "\n",
    "        # Create a new table for results\n",
    "        new_table = Table(new_columns, keep_types + add_types)\n",
    "\n",
    "        for row in self.rows:\n",
    "            new_row = [row[column] for column in keep_columns]\n",
    "            for column_name, calculation in additional_columns.items():\n",
    "                new_row.append(calculation(row))\n",
    "            new_table.insert(new_row)\n",
    "\n",
    "        return new_table"
   ]
  },
  {
   "cell_type": "code",
   "execution_count": 16,
   "id": "1050c28a-d7ca-4980-a070-c0d045f57cb3",
   "metadata": {},
   "outputs": [],
   "source": [
    "def where(self, predicate: WhereClause = lambda row: True) -> 'Table':\n",
    "    \"\"\"Return only the rows that satisfy the supplied predicate\"\"\"\n",
    "    where_table = Table(self.columns, self.types)\n",
    "    for row in self.rows:\n",
    "        if predicate(row):\n",
    "            values = [row[column] for column in self.columns]\n",
    "            where_table.insert(values)\n",
    "    return where_table"
   ]
  },
  {
   "cell_type": "code",
   "execution_count": 17,
   "id": "fbab8f38-3c76-44fe-ad85-37d986e8685a",
   "metadata": {},
   "outputs": [],
   "source": [
    "def limit(self, num_rows: int) -> 'Table':\n",
    "    \"\"\"Return only the first `num_rows` rows\"\"\"\n",
    "    limit_table = Table(self.columns, self.types)\n",
    "    for i, row in enumerate(self.rows):\n",
    "        if i >= num_rows:\n",
    "            break\n",
    "        values = [row[column] for column in self.columns]\n",
    "        limit_table.insert(values)\n",
    "    return limit_table"
   ]
  },
  {
   "cell_type": "code",
   "execution_count": 18,
   "id": "dc7c90af-91a8-421b-a859-94628c69cd89",
   "metadata": {},
   "outputs": [],
   "source": [
    "def group_by(self,\n",
    "             group_by_columns: List[str],\n",
    "             aggregates: Dict[str, Callable],\n",
    "             having: HavingClause = lambda group: True) -> 'Table':\n",
    "\n",
    "    grouped_rows = defaultdict(list)\n",
    "\n",
    "    # Populate groups\n",
    "    for row in self.rows:\n",
    "        key = tuple(row[column] for column in group_by_columns)\n",
    "        grouped_rows[key].append(row)\n",
    "\n",
    "    # Result table consists of group_by columns and aggregates\n",
    "    new_columns = group_by_columns + list(aggregates.keys())\n",
    "    group_by_types = [self.col2type(col) for col in group_by_columns]\n",
    "    aggregate_types = [agg.__annotations__['return']\n",
    "                       for agg in aggregates.values()]\n",
    "    result_table = Table(new_columns, group_by_types + aggregate_types)\n",
    "\n",
    "    for key, rows in grouped_rows.items():\n",
    "        if having(rows):\n",
    "            new_row = list(key)\n",
    "            for aggregate_name, aggregate_fn in aggregates.items():\n",
    "                new_row.append(aggregate_fn(rows))\n",
    "            result_table.insert(new_row)\n",
    "\n",
    "    return result_table"
   ]
  },
  {
   "cell_type": "code",
   "execution_count": 19,
   "id": "6878755d-3570-4b79-81df-abf8a742cfcb",
   "metadata": {},
   "outputs": [],
   "source": [
    "def order_by(self, order: Callable[[Row], Any]) -> 'Table':\n",
    "    new_table = self.select()       # make a copy\n",
    "    new_table.rows.sort(key=order)\n",
    "    return new_table"
   ]
  },
  {
   "cell_type": "code",
   "execution_count": 20,
   "id": "80626d5c-6ef4-4a06-b534-3f028ad27358",
   "metadata": {},
   "outputs": [],
   "source": [
    "def join(self, other_table: 'Table', left_join: bool = False) -> 'Table':\n",
    "\n",
    "    join_on_columns = [c for c in self.columns           # columns in\n",
    "                       if c in other_table.columns]      # both tables\n",
    "\n",
    "    additional_columns = [c for c in other_table.columns # columns only\n",
    "                          if c not in join_on_columns]   # in right table\n",
    "\n",
    "    # all columns from left table + additional_columns from right table\n",
    "    new_columns = self.columns + additional_columns\n",
    "    new_types = self.types + [other_table.col2type(col)\n",
    "                              for col in additional_columns]\n",
    "\n",
    "    join_table = Table(new_columns, new_types)\n",
    "\n",
    "    for row in self.rows:\n",
    "        def is_join(other_row):\n",
    "            return all(other_row[c] == row[c] for c in join_on_columns)\n",
    "\n",
    "        other_rows = other_table.where(is_join).rows\n",
    "\n",
    "        # Each other row that matches this one produces a result row.\n",
    "        for other_row in other_rows:\n",
    "            join_table.insert([row[c] for c in self.columns] +\n",
    "                              [other_row[c] for c in additional_columns])\n",
    "\n",
    "        # If no rows match and it's a left join, output with Nones.\n",
    "        if left_join and not other_rows:\n",
    "            join_table.insert([row[c] for c in self.columns] +\n",
    "                              [None for c in additional_columns])\n",
    "\n",
    "    return join_table"
   ]
  },
  {
   "cell_type": "code",
   "execution_count": 21,
   "id": "a6680098-4845-4772-b9c8-a5240c19417b",
   "metadata": {},
   "outputs": [],
   "source": [
    "def main():\n",
    "    # Constructor requires column names and types\n",
    "    users = Table(['user_id', 'name', 'num_friends'], [int, str, int])\n",
    "    users.insert([0, \"Hero\", 0])\n",
    "    users.insert([1, \"Dunn\", 2])\n",
    "    users.insert([2, \"Sue\", 3])\n",
    "    users.insert([3, \"Chi\", 3])\n",
    "    users.insert([4, \"Thor\", 3])\n",
    "    users.insert([5, \"Clive\", 2])\n",
    "    users.insert([6, \"Hicks\", 3])\n",
    "    users.insert([7, \"Devin\", 2])\n",
    "    users.insert([8, \"Kate\", 2])\n",
    "    users.insert([9, \"Klein\", 3])\n",
    "    users.insert([10, \"Jen\", 1])\n",
    "    \n",
    "    assert len(users) == 11\n",
    "    assert users[1]['name'] == 'Dunn'\n",
    "    \n",
    "    assert users[1]['num_friends'] == 2             # Original value\n",
    "    \n",
    "    users.update({'num_friends' : 3},               # Set num_friends = 3\n",
    "                 lambda row: row['user_id'] == 1)   # in rows where user_id == 1\n",
    "    \n",
    "    assert users[1]['num_friends'] == 3             # Updated value\n",
    "    \n",
    "    # SELECT * FROM users;\n",
    "    all_users = users.select()\n",
    "    assert len(all_users) == 11\n",
    "    \n",
    "    # SELECT * FROM users LIMIT 2;\n",
    "    two_users = users.limit(2)\n",
    "    assert len(two_users) == 2\n",
    "    \n",
    "    # SELECT user_id FROM users;\n",
    "    just_ids = users.select(keep_columns=[\"user_id\"])\n",
    "    assert just_ids.columns == ['user_id']\n",
    "    \n",
    "    # SELECT user_id FROM users WHERE name = 'Dunn';\n",
    "    dunn_ids = (\n",
    "        users\n",
    "        .where(lambda row: row[\"name\"] == \"Dunn\")\n",
    "        .select(keep_columns=[\"user_id\"])\n",
    "    )\n",
    "    assert len(dunn_ids) == 1\n",
    "    assert dunn_ids[0] == {\"user_id\": 1}\n",
    "    \n",
    "    # SELECT LENGTH(name) AS name_length FROM users;\n",
    "    def name_length(row) -> int: return len(row[\"name\"])\n",
    "    \n",
    "    name_lengths = users.select(keep_columns=[],\n",
    "                                additional_columns = {\"name_length\": name_length})\n",
    "    assert name_lengths[0]['name_length'] == len(\"Hero\")\n",
    "    \n",
    "    def min_user_id(rows) -> int:\n",
    "        return min(row[\"user_id\"] for row in rows)\n",
    "    \n",
    "    def length(rows) -> int:\n",
    "        return len(rows)\n",
    "    \n",
    "    stats_by_length = (\n",
    "        users\n",
    "        .select(additional_columns={\"name_length\" : name_length})\n",
    "        .group_by(group_by_columns=[\"name_length\"],\n",
    "                  aggregates={\"min_user_id\" : min_user_id,\n",
    "                              \"num_users\" : length})\n",
    "    )\n",
    "    \n",
    "    \n",
    "    \n",
    "    assert len(stats_by_length) == 3\n",
    "    assert stats_by_length.columns == [\"name_length\", \"min_user_id\", \"num_users\"]\n",
    "    \n",
    "    def first_letter_of_name(row: Row) -> str:\n",
    "        return row[\"name\"][0] if row[\"name\"] else \"\"\n",
    "    \n",
    "    def average_num_friends(rows: List[Row]) -> float:\n",
    "        return sum(row[\"num_friends\"] for row in rows) / len(rows)\n",
    "    \n",
    "    def enough_friends(rows: List[Row]) -> bool:\n",
    "        return average_num_friends(rows) > 1\n",
    "    \n",
    "    avg_friends_by_letter = (\n",
    "        users\n",
    "        .select(additional_columns={'first_letter' : first_letter_of_name})\n",
    "        .group_by(group_by_columns=['first_letter'],\n",
    "                  aggregates={\"avg_num_friends\" : average_num_friends},\n",
    "                  having=enough_friends)\n",
    "    )\n",
    "    \n",
    "    \n",
    "    assert len(avg_friends_by_letter) == 6\n",
    "    assert {row['first_letter'] for row in avg_friends_by_letter} == \\\n",
    "           {\"H\", \"D\", \"S\", \"C\", \"T\", \"K\"}\n",
    "    \n",
    "    def sum_user_ids(rows: List[Row]) -> int:\n",
    "        return sum(row[\"user_id\"] for row in rows)\n",
    "    \n",
    "    user_id_sum = (\n",
    "        users\n",
    "        .where(lambda row: row[\"user_id\"] > 1)\n",
    "        .group_by(group_by_columns=[],\n",
    "                  aggregates={ \"user_id_sum\" : sum_user_ids })\n",
    "    )\n",
    "    \n",
    "    \n",
    "    \n",
    "    assert len(user_id_sum) == 1\n",
    "    assert user_id_sum[0][\"user_id_sum\"] == 54\n",
    "    \n",
    "    friendliest_letters = (\n",
    "        avg_friends_by_letter\n",
    "        .order_by(lambda row: -row[\"avg_num_friends\"])\n",
    "        .limit(4)\n",
    "    )\n",
    "    \n",
    "    \n",
    "    assert len(friendliest_letters) == 4\n",
    "    assert friendliest_letters[0]['first_letter'] in ['S', 'T']\n",
    "    \n",
    "    user_interests = Table(['user_id', 'interest'], [int, str])\n",
    "    user_interests.insert([0, \"SQL\"])\n",
    "    user_interests.insert([0, \"NoSQL\"])\n",
    "    user_interests.insert([2, \"SQL\"])\n",
    "    user_interests.insert([2, \"MySQL\"])\n",
    "    \n",
    "    sql_users = (\n",
    "        users\n",
    "        .join(user_interests)\n",
    "        .where(lambda row: row[\"interest\"] == \"SQL\")\n",
    "        .select(keep_columns=[\"name\"])\n",
    "    )\n",
    "    \n",
    "    \n",
    "    \n",
    "    assert len(sql_users) == 2\n",
    "    sql_user_names = {row[\"name\"] for row in sql_users}\n",
    "    assert sql_user_names == {\"Hero\", \"Sue\"}\n",
    "    \n",
    "    def count_interests(rows: List[Row]) -> int:\n",
    "        \"\"\"counts how many rows have non-None interests\"\"\"\n",
    "        return len([row for row in rows if row[\"interest\"] is not None])\n",
    "    \n",
    "    user_interest_counts = (\n",
    "        users\n",
    "        .join(user_interests, left_join=True)\n",
    "        .group_by(group_by_columns=[\"user_id\"],\n",
    "                  aggregates={\"num_interests\" : count_interests })\n",
    "    )\n",
    "    \n",
    "    likes_sql_user_ids = (\n",
    "        user_interests\n",
    "        .where(lambda row: row[\"interest\"] == \"SQL\")\n",
    "        .select(keep_columns=['user_id'])\n",
    "    )\n",
    "    \n",
    "    likes_sql_user_ids.group_by(group_by_columns=[],\n",
    "                                aggregates={ \"min_user_id\" : min_user_id })\n",
    "    \n",
    "    \n",
    "    \n",
    "    assert len(likes_sql_user_ids) == 2\n",
    "    \n",
    "    (\n",
    "        user_interests\n",
    "        .where(lambda row: row[\"interest\"] == \"SQL\")\n",
    "        .join(users)\n",
    "        .select([\"name\"])\n",
    "    )\n",
    "    \n",
    "    (\n",
    "        user_interests\n",
    "        .join(users)\n",
    "        .where(lambda row: row[\"interest\"] == \"SQL\")\n",
    "        .select([\"name\"])\n",
    "    )\n",
    "    \n",
    "if __name__ == \"__main__\": main()"
   ]
  },
  {
   "cell_type": "markdown",
   "id": "943bce2f-ee73-440e-a887-443d842a0944",
   "metadata": {},
   "source": [
    "# fragmenting the code snippet above (main function) to see it in more details"
   ]
  },
  {
   "cell_type": "code",
   "execution_count": 22,
   "id": "16057235-f5f3-4c68-abcf-af5f52b26df2",
   "metadata": {},
   "outputs": [],
   "source": [
    "#def main():"
   ]
  },
  {
   "cell_type": "code",
   "execution_count": 23,
   "id": "5a073282-2d6e-46df-b6a8-5e054b853848",
   "metadata": {},
   "outputs": [],
   "source": [
    "# Constructor requires column names and types\n",
    "users = Table(['user_id', 'name', 'num_friends'], [int, str, int])\n",
    "users.insert([0, \"Hero\", 0])\n",
    "users.insert([1, \"Dunn\", 2])\n",
    "users.insert([2, \"Sue\", 3])\n",
    "users.insert([3, \"Chi\", 3])\n",
    "users.insert([4, \"Thor\", 3])\n",
    "users.insert([5, \"Clive\", 2])\n",
    "users.insert([6, \"Hicks\", 3])\n",
    "users.insert([7, \"Devin\", 2])\n",
    "users.insert([8, \"Kate\", 2])\n",
    "users.insert([9, \"Klein\", 3])\n",
    "users.insert([10, \"Jen\", 1])"
   ]
  },
  {
   "cell_type": "code",
   "execution_count": 24,
   "id": "5edc313b-b5b6-4338-8df9-f8bdf63daf2e",
   "metadata": {},
   "outputs": [
    {
     "data": {
      "text/plain": [
       "['user_id', 'name', 'num_friends']\n",
       "{'user_id': 0, 'name': 'Hero', 'num_friends': 0}\n",
       "{'user_id': 1, 'name': 'Dunn', 'num_friends': 2}\n",
       "{'user_id': 2, 'name': 'Sue', 'num_friends': 3}\n",
       "{'user_id': 3, 'name': 'Chi', 'num_friends': 3}\n",
       "{'user_id': 4, 'name': 'Thor', 'num_friends': 3}\n",
       "{'user_id': 5, 'name': 'Clive', 'num_friends': 2}\n",
       "{'user_id': 6, 'name': 'Hicks', 'num_friends': 3}\n",
       "{'user_id': 7, 'name': 'Devin', 'num_friends': 2}\n",
       "{'user_id': 8, 'name': 'Kate', 'num_friends': 2}\n",
       "{'user_id': 9, 'name': 'Klein', 'num_friends': 3}\n",
       "{'user_id': 10, 'name': 'Jen', 'num_friends': 1}"
      ]
     },
     "execution_count": 24,
     "metadata": {},
     "output_type": "execute_result"
    }
   ],
   "source": [
    "users"
   ]
  },
  {
   "cell_type": "code",
   "execution_count": 25,
   "id": "6cdf18a7-0afa-46de-a399-aae28cd3ed23",
   "metadata": {},
   "outputs": [],
   "source": [
    "assert len(users) == 11\n",
    "assert users[1]['name'] == 'Dunn'"
   ]
  },
  {
   "cell_type": "code",
   "execution_count": 26,
   "id": "94e6b8b4-cd00-4464-b930-96e8ca75f33e",
   "metadata": {},
   "outputs": [],
   "source": [
    "assert users[1]['num_friends'] == 2             # Original value"
   ]
  },
  {
   "cell_type": "code",
   "execution_count": 27,
   "id": "509ca0db-77e4-4983-b967-328a065c4afc",
   "metadata": {},
   "outputs": [],
   "source": [
    "users.update({'num_friends' : 3},               # Set num_friends = 3\n",
    "             lambda row: row['user_id'] == 1)   # in rows where user_id == 1"
   ]
  },
  {
   "cell_type": "code",
   "execution_count": 28,
   "id": "2ebe2ac1-f0a0-4f77-81ea-60b535178fac",
   "metadata": {},
   "outputs": [
    {
     "data": {
      "text/plain": [
       "['user_id', 'name', 'num_friends']\n",
       "{'user_id': 0, 'name': 'Hero', 'num_friends': 0}\n",
       "{'user_id': 1, 'name': 'Dunn', 'num_friends': 3}\n",
       "{'user_id': 2, 'name': 'Sue', 'num_friends': 3}\n",
       "{'user_id': 3, 'name': 'Chi', 'num_friends': 3}\n",
       "{'user_id': 4, 'name': 'Thor', 'num_friends': 3}\n",
       "{'user_id': 5, 'name': 'Clive', 'num_friends': 2}\n",
       "{'user_id': 6, 'name': 'Hicks', 'num_friends': 3}\n",
       "{'user_id': 7, 'name': 'Devin', 'num_friends': 2}\n",
       "{'user_id': 8, 'name': 'Kate', 'num_friends': 2}\n",
       "{'user_id': 9, 'name': 'Klein', 'num_friends': 3}\n",
       "{'user_id': 10, 'name': 'Jen', 'num_friends': 1}"
      ]
     },
     "execution_count": 28,
     "metadata": {},
     "output_type": "execute_result"
    }
   ],
   "source": [
    "users"
   ]
  },
  {
   "cell_type": "code",
   "execution_count": 29,
   "id": "13b6de2c-857c-4512-8288-662f7f0b3445",
   "metadata": {},
   "outputs": [],
   "source": [
    "assert users[1]['num_friends'] == 3             # Updated value"
   ]
  },
  {
   "cell_type": "code",
   "execution_count": 30,
   "id": "6377bae6-6fab-48e0-b985-023892ad8837",
   "metadata": {},
   "outputs": [],
   "source": [
    "# SELECT * FROM users;\n",
    "all_users = users.select()\n",
    "assert len(all_users) == 11"
   ]
  },
  {
   "cell_type": "code",
   "execution_count": 31,
   "id": "20009018-3acb-4e88-b798-34a414ceef33",
   "metadata": {},
   "outputs": [
    {
     "data": {
      "text/plain": [
       "['user_id', 'name', 'num_friends']\n",
       "{'user_id': 0, 'name': 'Hero', 'num_friends': 0}\n",
       "{'user_id': 1, 'name': 'Dunn', 'num_friends': 3}\n",
       "{'user_id': 2, 'name': 'Sue', 'num_friends': 3}\n",
       "{'user_id': 3, 'name': 'Chi', 'num_friends': 3}\n",
       "{'user_id': 4, 'name': 'Thor', 'num_friends': 3}\n",
       "{'user_id': 5, 'name': 'Clive', 'num_friends': 2}\n",
       "{'user_id': 6, 'name': 'Hicks', 'num_friends': 3}\n",
       "{'user_id': 7, 'name': 'Devin', 'num_friends': 2}\n",
       "{'user_id': 8, 'name': 'Kate', 'num_friends': 2}\n",
       "{'user_id': 9, 'name': 'Klein', 'num_friends': 3}\n",
       "{'user_id': 10, 'name': 'Jen', 'num_friends': 1}"
      ]
     },
     "execution_count": 31,
     "metadata": {},
     "output_type": "execute_result"
    }
   ],
   "source": [
    "all_users"
   ]
  },
  {
   "cell_type": "code",
   "execution_count": 32,
   "id": "2d4644dd-5e6b-4822-873e-a75ae3a0ea6a",
   "metadata": {},
   "outputs": [],
   "source": [
    "# SELECT * FROM users LIMIT 2;\n",
    "two_users = users.limit(2)\n",
    "assert len(two_users) == 2"
   ]
  },
  {
   "cell_type": "code",
   "execution_count": 33,
   "id": "e97e067e-89b1-46d0-aa36-2558ecdfe482",
   "metadata": {},
   "outputs": [
    {
     "data": {
      "text/plain": [
       "['user_id', 'name', 'num_friends']\n",
       "{'user_id': 0, 'name': 'Hero', 'num_friends': 0}\n",
       "{'user_id': 1, 'name': 'Dunn', 'num_friends': 3}"
      ]
     },
     "execution_count": 33,
     "metadata": {},
     "output_type": "execute_result"
    }
   ],
   "source": [
    "two_users"
   ]
  },
  {
   "cell_type": "code",
   "execution_count": 34,
   "id": "17f3e240-c224-4cfb-99de-2409bf217b80",
   "metadata": {},
   "outputs": [],
   "source": [
    "# SELECT user_id FROM users;\n",
    "just_ids = users.select(keep_columns=[\"user_id\"])\n",
    "assert just_ids.columns == ['user_id']"
   ]
  },
  {
   "cell_type": "code",
   "execution_count": 35,
   "id": "24688e80-294b-4c89-b4a3-35b45d97c67e",
   "metadata": {},
   "outputs": [
    {
     "data": {
      "text/plain": [
       "['user_id']\n",
       "{'user_id': 0}\n",
       "{'user_id': 1}\n",
       "{'user_id': 2}\n",
       "{'user_id': 3}\n",
       "{'user_id': 4}\n",
       "{'user_id': 5}\n",
       "{'user_id': 6}\n",
       "{'user_id': 7}\n",
       "{'user_id': 8}\n",
       "{'user_id': 9}\n",
       "{'user_id': 10}"
      ]
     },
     "execution_count": 35,
     "metadata": {},
     "output_type": "execute_result"
    }
   ],
   "source": [
    "just_ids"
   ]
  },
  {
   "cell_type": "code",
   "execution_count": 36,
   "id": "f1483fa2-8529-410a-b66b-b96c382be07e",
   "metadata": {},
   "outputs": [],
   "source": [
    "# SELECT user_id FROM users WHERE name = 'Dunn';\n",
    "dunn_ids = (\n",
    "    users\n",
    "    .where(lambda row: row[\"name\"] == \"Dunn\")\n",
    "    .select(keep_columns=[\"user_id\"])\n",
    ")"
   ]
  },
  {
   "cell_type": "code",
   "execution_count": 37,
   "id": "d68a37f9-ca2d-48cc-9858-d8466f8932cd",
   "metadata": {},
   "outputs": [
    {
     "data": {
      "text/plain": [
       "['user_id']\n",
       "{'user_id': 1}"
      ]
     },
     "execution_count": 37,
     "metadata": {},
     "output_type": "execute_result"
    }
   ],
   "source": [
    "dunn_ids"
   ]
  },
  {
   "cell_type": "code",
   "execution_count": 38,
   "id": "8785a412-a096-4117-81c0-72bf503bdc17",
   "metadata": {},
   "outputs": [],
   "source": [
    "assert len(dunn_ids) == 1\n",
    "assert dunn_ids[0] == {\"user_id\": 1}"
   ]
  },
  {
   "cell_type": "code",
   "execution_count": 39,
   "id": "2b79dad1-35f9-407a-b05d-d00e52a9c3db",
   "metadata": {},
   "outputs": [],
   "source": [
    "# SELECT LENGTH(name) AS name_length FROM users;\n",
    "def name_length(row) -> int: return len(row[\"name\"])"
   ]
  },
  {
   "cell_type": "code",
   "execution_count": 40,
   "id": "cc7ffdea-3751-41de-9518-b2bb8c70b465",
   "metadata": {},
   "outputs": [
    {
     "data": {
      "text/plain": [
       "['name_length']\n",
       "{'name_length': 4}\n",
       "{'name_length': 4}\n",
       "{'name_length': 3}\n",
       "{'name_length': 3}\n",
       "{'name_length': 4}\n",
       "{'name_length': 5}\n",
       "{'name_length': 5}\n",
       "{'name_length': 5}\n",
       "{'name_length': 4}\n",
       "{'name_length': 5}\n",
       "{'name_length': 3}"
      ]
     },
     "execution_count": 40,
     "metadata": {},
     "output_type": "execute_result"
    }
   ],
   "source": [
    "name_lengths = users.select(keep_columns=[],\n",
    "                            additional_columns = {\"name_length\": name_length})\n",
    "name_lengths"
   ]
  },
  {
   "cell_type": "code",
   "execution_count": 41,
   "id": "ced146d6-d92f-4c75-a7fa-6fd6edeed9e2",
   "metadata": {},
   "outputs": [],
   "source": [
    "assert name_lengths[0]['name_length'] == len(\"Hero\")"
   ]
  },
  {
   "cell_type": "code",
   "execution_count": 42,
   "id": "5e4b58a0-3f51-4223-a7da-779201dd6e26",
   "metadata": {},
   "outputs": [],
   "source": [
    "def min_user_id(rows) -> int:\n",
    "    return min(row[\"user_id\"] for row in rows)"
   ]
  },
  {
   "cell_type": "code",
   "execution_count": 43,
   "id": "652e7036-cca0-48d7-8ec8-32c86b1b2e27",
   "metadata": {},
   "outputs": [],
   "source": [
    "def length(rows) -> int:\n",
    "    return len(rows)"
   ]
  },
  {
   "cell_type": "code",
   "execution_count": 44,
   "id": "2fa15c55-fc24-44fa-b9a5-829e3a3231b8",
   "metadata": {},
   "outputs": [
    {
     "data": {
      "text/plain": [
       "['name_length', 'min_user_id', 'num_users']\n",
       "{'name_length': 4, 'min_user_id': 0, 'num_users': 4}\n",
       "{'name_length': 3, 'min_user_id': 2, 'num_users': 3}\n",
       "{'name_length': 5, 'min_user_id': 5, 'num_users': 4}"
      ]
     },
     "execution_count": 44,
     "metadata": {},
     "output_type": "execute_result"
    }
   ],
   "source": [
    "stats_by_length = (\n",
    "    users\n",
    "    .select(additional_columns={\"name_length\" : name_length})\n",
    "    .group_by(group_by_columns=[\"name_length\"],\n",
    "              aggregates={\"min_user_id\" : min_user_id,\n",
    "                          \"num_users\" : length})\n",
    ")\n",
    "stats_by_length"
   ]
  },
  {
   "cell_type": "code",
   "execution_count": 45,
   "id": "63e917d5-8e15-42d6-8a28-2c9223e3b54e",
   "metadata": {},
   "outputs": [],
   "source": [
    "assert len(stats_by_length) == 3\n",
    "assert stats_by_length.columns == [\"name_length\", \"min_user_id\", \"num_users\"]"
   ]
  },
  {
   "cell_type": "code",
   "execution_count": 46,
   "id": "4bd71cd3-e6da-4975-aca1-765c7fd5cf9d",
   "metadata": {},
   "outputs": [],
   "source": [
    "def first_letter_of_name(row: Row) -> str:\n",
    "    return row[\"name\"][0] if row[\"name\"] else \"\""
   ]
  },
  {
   "cell_type": "code",
   "execution_count": 47,
   "id": "6a2b5dbc-f414-48dc-a1d5-9cadfcff2b08",
   "metadata": {},
   "outputs": [],
   "source": [
    "def average_num_friends(rows: List[Row]) -> float:\n",
    "    return sum(row[\"num_friends\"] for row in rows) / len(rows)"
   ]
  },
  {
   "cell_type": "code",
   "execution_count": 48,
   "id": "e2a9397f-0827-42f5-a071-8d1d1ddccf5b",
   "metadata": {},
   "outputs": [],
   "source": [
    "def enough_friends(rows: List[Row]) -> bool:\n",
    "    return average_num_friends(rows) > 1"
   ]
  },
  {
   "cell_type": "code",
   "execution_count": 49,
   "id": "43d65a5f-5089-49b8-b524-69805cf392b3",
   "metadata": {},
   "outputs": [
    {
     "data": {
      "text/plain": [
       "['first_letter', 'avg_num_friends']\n",
       "{'first_letter': 'H', 'avg_num_friends': 1.5}\n",
       "{'first_letter': 'D', 'avg_num_friends': 2.5}\n",
       "{'first_letter': 'S', 'avg_num_friends': 3.0}\n",
       "{'first_letter': 'C', 'avg_num_friends': 2.5}\n",
       "{'first_letter': 'T', 'avg_num_friends': 3.0}\n",
       "{'first_letter': 'K', 'avg_num_friends': 2.5}"
      ]
     },
     "execution_count": 49,
     "metadata": {},
     "output_type": "execute_result"
    }
   ],
   "source": [
    "avg_friends_by_letter = (\n",
    "        users\n",
    "        .select(additional_columns={'first_letter' : first_letter_of_name})\n",
    "        .group_by(group_by_columns=['first_letter'],\n",
    "                  aggregates={\"avg_num_friends\" : average_num_friends},\n",
    "                  having=enough_friends)\n",
    "    )\n",
    "avg_friends_by_letter"
   ]
  },
  {
   "cell_type": "code",
   "execution_count": 50,
   "id": "ae916eca-2cb1-46a0-b08b-b51df3eb663e",
   "metadata": {},
   "outputs": [],
   "source": [
    "assert len(avg_friends_by_letter) == 6\n",
    "assert {row['first_letter'] for row in avg_friends_by_letter} == \\\n",
    "       {\"H\", \"D\", \"S\", \"C\", \"T\", \"K\"}"
   ]
  },
  {
   "cell_type": "code",
   "execution_count": 51,
   "id": "3657bd8c-bbac-498d-a678-47558095c1fe",
   "metadata": {},
   "outputs": [],
   "source": [
    "def sum_user_ids(rows: List[Row]) -> int:\n",
    "    return sum(row[\"user_id\"] for row in rows)"
   ]
  },
  {
   "cell_type": "code",
   "execution_count": 52,
   "id": "519242eb-f4ef-407b-99c5-4c581f841fbd",
   "metadata": {},
   "outputs": [
    {
     "data": {
      "text/plain": [
       "['user_id_sum']\n",
       "{'user_id_sum': 54}"
      ]
     },
     "execution_count": 52,
     "metadata": {},
     "output_type": "execute_result"
    }
   ],
   "source": [
    "user_id_sum = (\n",
    "    users\n",
    "    .where(lambda row: row[\"user_id\"] > 1)\n",
    "    .group_by(group_by_columns=[],\n",
    "              aggregates={ \"user_id_sum\" : sum_user_ids })\n",
    ")\n",
    "user_id_sum"
   ]
  },
  {
   "cell_type": "code",
   "execution_count": 53,
   "id": "fec7c3fc-2a47-4680-a4e1-3179e739f8e9",
   "metadata": {},
   "outputs": [],
   "source": [
    "assert len(user_id_sum) == 1\n",
    "assert user_id_sum[0][\"user_id_sum\"] == 54"
   ]
  },
  {
   "cell_type": "code",
   "execution_count": 54,
   "id": "dfa9dc08-04a4-47fa-86ee-2eb8adf22fa3",
   "metadata": {},
   "outputs": [
    {
     "data": {
      "text/plain": [
       "['first_letter', 'avg_num_friends']\n",
       "{'first_letter': 'S', 'avg_num_friends': 3.0}\n",
       "{'first_letter': 'T', 'avg_num_friends': 3.0}\n",
       "{'first_letter': 'D', 'avg_num_friends': 2.5}\n",
       "{'first_letter': 'C', 'avg_num_friends': 2.5}"
      ]
     },
     "execution_count": 54,
     "metadata": {},
     "output_type": "execute_result"
    }
   ],
   "source": [
    "friendliest_letters = (\n",
    "    avg_friends_by_letter\n",
    "    .order_by(lambda row: -row[\"avg_num_friends\"])\n",
    "    .limit(4)\n",
    ")\n",
    "friendliest_letters"
   ]
  },
  {
   "cell_type": "code",
   "execution_count": 55,
   "id": "0d774fdd-b161-4708-8238-5589f6f4be43",
   "metadata": {},
   "outputs": [],
   "source": [
    "assert len(friendliest_letters) == 4\n",
    "assert friendliest_letters[0]['first_letter'] in ['S', 'T']"
   ]
  },
  {
   "cell_type": "code",
   "execution_count": 56,
   "id": "4e9603d9-67c2-417c-b574-6b0efbedaa92",
   "metadata": {},
   "outputs": [],
   "source": [
    "user_interests = Table(['user_id', 'interest'], [int, str])\n",
    "user_interests.insert([0, \"SQL\"])\n",
    "user_interests.insert([0, \"NoSQL\"])\n",
    "user_interests.insert([2, \"SQL\"])\n",
    "user_interests.insert([2, \"MySQL\"])"
   ]
  },
  {
   "cell_type": "code",
   "execution_count": 57,
   "id": "64867d12-63e1-4bd1-8627-fb0fa9d37390",
   "metadata": {},
   "outputs": [
    {
     "data": {
      "text/plain": [
       "['user_id', 'interest']\n",
       "{'user_id': 0, 'interest': 'SQL'}\n",
       "{'user_id': 0, 'interest': 'NoSQL'}\n",
       "{'user_id': 2, 'interest': 'SQL'}\n",
       "{'user_id': 2, 'interest': 'MySQL'}"
      ]
     },
     "execution_count": 57,
     "metadata": {},
     "output_type": "execute_result"
    }
   ],
   "source": [
    "user_interests"
   ]
  },
  {
   "cell_type": "code",
   "execution_count": 58,
   "id": "ac162775-e991-4acd-bded-a07dc2bec96e",
   "metadata": {},
   "outputs": [
    {
     "data": {
      "text/plain": [
       "['name']\n",
       "{'name': 'Hero'}\n",
       "{'name': 'Sue'}"
      ]
     },
     "execution_count": 58,
     "metadata": {},
     "output_type": "execute_result"
    }
   ],
   "source": [
    "sql_users = (\n",
    "    users\n",
    "    .join(user_interests)\n",
    "    .where(lambda row: row[\"interest\"] == \"SQL\")\n",
    "    .select(keep_columns=[\"name\"])\n",
    ")\n",
    "sql_users"
   ]
  },
  {
   "cell_type": "code",
   "execution_count": 59,
   "id": "552757d9-3f9a-45fc-85e2-164eb2d29efd",
   "metadata": {},
   "outputs": [],
   "source": [
    "assert len(sql_users) == 2"
   ]
  },
  {
   "cell_type": "code",
   "execution_count": 60,
   "id": "87757ede-f116-4b61-9856-a557cb3f15a1",
   "metadata": {},
   "outputs": [
    {
     "data": {
      "text/plain": [
       "{'Hero', 'Sue'}"
      ]
     },
     "execution_count": 60,
     "metadata": {},
     "output_type": "execute_result"
    }
   ],
   "source": [
    "sql_user_names = {row[\"name\"] for row in sql_users}\n",
    "sql_user_names"
   ]
  },
  {
   "cell_type": "code",
   "execution_count": 61,
   "id": "ca079902-f3a5-4b6e-946e-9f082c0d04f4",
   "metadata": {},
   "outputs": [],
   "source": [
    "assert sql_user_names == {\"Hero\", \"Sue\"}"
   ]
  },
  {
   "cell_type": "code",
   "execution_count": 62,
   "id": "ca02694f-3c88-4a54-8103-bb2b22f42f82",
   "metadata": {},
   "outputs": [],
   "source": [
    "def count_interests(rows: List[Row]) -> int:\n",
    "    \"\"\"counts how many rows have non-None interests\"\"\"\n",
    "    return len([row for row in rows if row[\"interest\"] is not None])"
   ]
  },
  {
   "cell_type": "code",
   "execution_count": 63,
   "id": "971ab285-d780-4688-90a7-2db61bd36362",
   "metadata": {},
   "outputs": [
    {
     "data": {
      "text/plain": [
       "['user_id', 'num_interests']\n",
       "{'user_id': 0, 'num_interests': 2}\n",
       "{'user_id': 1, 'num_interests': 0}\n",
       "{'user_id': 2, 'num_interests': 2}\n",
       "{'user_id': 3, 'num_interests': 0}\n",
       "{'user_id': 4, 'num_interests': 0}\n",
       "{'user_id': 5, 'num_interests': 0}\n",
       "{'user_id': 6, 'num_interests': 0}\n",
       "{'user_id': 7, 'num_interests': 0}\n",
       "{'user_id': 8, 'num_interests': 0}\n",
       "{'user_id': 9, 'num_interests': 0}\n",
       "{'user_id': 10, 'num_interests': 0}"
      ]
     },
     "execution_count": 63,
     "metadata": {},
     "output_type": "execute_result"
    }
   ],
   "source": [
    "user_interest_counts = (\n",
    "    users\n",
    "    .join(user_interests, left_join=True)\n",
    "    .group_by(group_by_columns=[\"user_id\"],\n",
    "              aggregates={\"num_interests\" : count_interests })\n",
    ")\n",
    "user_interest_counts"
   ]
  },
  {
   "cell_type": "code",
   "execution_count": 64,
   "id": "e28a223a-6d43-4d60-8614-084519db3742",
   "metadata": {},
   "outputs": [
    {
     "data": {
      "text/plain": [
       "['user_id']\n",
       "{'user_id': 0}\n",
       "{'user_id': 2}"
      ]
     },
     "execution_count": 64,
     "metadata": {},
     "output_type": "execute_result"
    }
   ],
   "source": [
    "likes_sql_user_ids = (\n",
    "    user_interests\n",
    "    .where(lambda row: row[\"interest\"] == \"SQL\")\n",
    "    .select(keep_columns=['user_id'])\n",
    ")\n",
    "likes_sql_user_ids"
   ]
  },
  {
   "cell_type": "code",
   "execution_count": 65,
   "id": "2daa0688-6f5e-4f9a-83e5-1274e6259846",
   "metadata": {},
   "outputs": [
    {
     "data": {
      "text/plain": [
       "['user_id']\n",
       "{'user_id': 0}\n",
       "{'user_id': 2}"
      ]
     },
     "execution_count": 65,
     "metadata": {},
     "output_type": "execute_result"
    }
   ],
   "source": [
    "likes_sql_user_ids.group_by(group_by_columns=[],\n",
    "                            aggregates={ \"min_user_id\" : min_user_id })\n",
    "likes_sql_user_ids"
   ]
  },
  {
   "cell_type": "code",
   "execution_count": 66,
   "id": "29c3f7eb-c4a8-4a93-b439-38c936385ff9",
   "metadata": {},
   "outputs": [],
   "source": [
    "assert len(likes_sql_user_ids) == 2"
   ]
  },
  {
   "cell_type": "code",
   "execution_count": 67,
   "id": "5c8f363b-fc3c-4f21-be52-4f1a7aaf53dc",
   "metadata": {},
   "outputs": [
    {
     "data": {
      "text/plain": [
       "['name']\n",
       "{'name': 'Hero'}\n",
       "{'name': 'Sue'}"
      ]
     },
     "execution_count": 67,
     "metadata": {},
     "output_type": "execute_result"
    }
   ],
   "source": [
    "(\n",
    "    user_interests\n",
    "    .where(lambda row: row[\"interest\"] == \"SQL\")\n",
    "    .join(users)\n",
    "    .select([\"name\"])\n",
    ")"
   ]
  },
  {
   "cell_type": "code",
   "execution_count": 68,
   "id": "4d43b6b2-7853-45bd-9946-17fbedc4385c",
   "metadata": {},
   "outputs": [
    {
     "data": {
      "text/plain": [
       "['name']\n",
       "{'name': 'Hero'}\n",
       "{'name': 'Sue'}"
      ]
     },
     "execution_count": 68,
     "metadata": {},
     "output_type": "execute_result"
    }
   ],
   "source": [
    "(\n",
    "    user_interests\n",
    "    .join(users)\n",
    "    .where(lambda row: row[\"interest\"] == \"SQL\")\n",
    "    .select([\"name\"])\n",
    ")"
   ]
  },
  {
   "cell_type": "code",
   "execution_count": 69,
   "id": "9058ca85-3fdd-4676-8cec-d86895d4eb32",
   "metadata": {},
   "outputs": [],
   "source": [
    "# if __name__ == \"__main__\": main()"
   ]
  }
 ],
 "metadata": {
  "kernelspec": {
   "display_name": "Python 3 (ipykernel)",
   "language": "python",
   "name": "python3"
  },
  "language_info": {
   "codemirror_mode": {
    "name": "ipython",
    "version": 3
   },
   "file_extension": ".py",
   "mimetype": "text/x-python",
   "name": "python",
   "nbconvert_exporter": "python",
   "pygments_lexer": "ipython3",
   "version": "3.10.2"
  }
 },
 "nbformat": 4,
 "nbformat_minor": 5
}
