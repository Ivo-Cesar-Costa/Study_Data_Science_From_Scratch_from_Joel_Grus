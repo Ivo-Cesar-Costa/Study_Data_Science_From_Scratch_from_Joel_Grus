{
 "cells": [
  {
   "cell_type": "code",
   "execution_count": 1,
   "id": "c1fdf2c3-422d-4218-af71-d536c9ceba6b",
   "metadata": {},
   "outputs": [],
   "source": [
    "from typing import List\n",
    "from collections import Counter"
   ]
  },
  {
   "cell_type": "code",
   "execution_count": 2,
   "id": "3919f62e-0bb1-44e8-8af1-f3825055bfd3",
   "metadata": {},
   "outputs": [],
   "source": [
    "def tokenize(document: str) -> List[str]:\n",
    "    \"\"\"Just split on whitespace\"\"\"\n",
    "    return document.split()"
   ]
  },
  {
   "cell_type": "code",
   "execution_count": 3,
   "id": "afa51016-4a51-4592-a1b5-b69b2db1093a",
   "metadata": {},
   "outputs": [],
   "source": [
    "def word_count_old(documents: List[str]):\n",
    "    \"\"\"Word Count not using MapReduce\"\"\"\n",
    "    return Counter(word\n",
    "        for document in documents\n",
    "        for word in tokenize(document))"
   ]
  },
  {
   "cell_type": "code",
   "execution_count": 4,
   "id": "5fde75c6-e7ca-49af-9591-d8263ccc17ca",
   "metadata": {},
   "outputs": [],
   "source": [
    "from typing import Iterator, Tuple"
   ]
  },
  {
   "cell_type": "code",
   "execution_count": 5,
   "id": "aa3af5eb-8a76-46d7-8f3a-2ba18b96214d",
   "metadata": {},
   "outputs": [],
   "source": [
    "def wc_mapper(document: str) -> Iterator[Tuple[str, int]]:\n",
    "    \"\"\"For each word in the document, emit (word, 1)\"\"\"\n",
    "    for word in tokenize(document):\n",
    "        yield (word, 1)"
   ]
  },
  {
   "cell_type": "code",
   "execution_count": 6,
   "id": "4fad0a4b-460c-4b91-9764-d801d9cc69af",
   "metadata": {},
   "outputs": [],
   "source": [
    "from typing import Iterable"
   ]
  },
  {
   "cell_type": "code",
   "execution_count": 7,
   "id": "e05d1f2c-00da-4495-9ce8-b69c40822811",
   "metadata": {},
   "outputs": [],
   "source": [
    "def wc_reducer(word: str,\n",
    "               counts: Iterable[int]) -> Iterator[Tuple[str, int]]:\n",
    "    \"\"\"Sum up the counts for a word\"\"\"\n",
    "    yield (word, sum(counts))"
   ]
  },
  {
   "cell_type": "code",
   "execution_count": 8,
   "id": "9557b985-653f-4193-8d1e-ca82f3a6e23f",
   "metadata": {},
   "outputs": [],
   "source": [
    "from collections import defaultdict"
   ]
  },
  {
   "cell_type": "code",
   "execution_count": 9,
   "id": "9afec961-b86f-4bab-91d5-ef3fc2c8a57c",
   "metadata": {},
   "outputs": [],
   "source": [
    "def word_count(documents: List[str]) -> List[Tuple[str, int]]:\n",
    "    \"\"\"Count the words in the input documents using MapReduce\"\"\"\n",
    "\n",
    "    collector = defaultdict(list)  # To store grouped values\n",
    "\n",
    "    for document in documents:\n",
    "        for word, count in wc_mapper(document):\n",
    "            collector[word].append(count)\n",
    "\n",
    "    return [output\n",
    "            for word, counts in collector.items()\n",
    "            for output in wc_reducer(word, counts)]\n"
   ]
  },
  {
   "cell_type": "code",
   "execution_count": 10,
   "id": "9d3cddee-a255-4769-82b5-f32656c9f341",
   "metadata": {},
   "outputs": [
    {
     "data": {
      "text/plain": [
       "[('data', 2), ('science', 2), ('big', 1), ('fiction', 1)]"
      ]
     },
     "execution_count": 10,
     "metadata": {},
     "output_type": "execute_result"
    }
   ],
   "source": [
    "wc = word_count([\"data science\", \"big data\", \"science fiction\"])\n",
    "wc"
   ]
  },
  {
   "cell_type": "code",
   "execution_count": 11,
   "id": "65f02b8e-b293-4f10-8041-083c67fcd180",
   "metadata": {},
   "outputs": [],
   "source": [
    "assert len(wc) == 4"
   ]
  },
  {
   "cell_type": "code",
   "execution_count": 12,
   "id": "bb8ba70e-3d88-4065-a690-ed1a639ad53a",
   "metadata": {},
   "outputs": [],
   "source": [
    "assert set(wc) == {(\"data\", 2), (\"science\", 2), (\"big\", 1), (\"fiction\", 1)}"
   ]
  },
  {
   "cell_type": "code",
   "execution_count": 13,
   "id": "17820721-b074-4503-811f-0f05556d9147",
   "metadata": {},
   "outputs": [],
   "source": [
    "from typing import Callable, Iterable, Any, Tuple"
   ]
  },
  {
   "cell_type": "code",
   "execution_count": 14,
   "id": "18a7554e-097b-4da7-9272-c13d5c647d9f",
   "metadata": {},
   "outputs": [],
   "source": [
    "# A key-value pair is just a 2-tuple\n",
    "KV = Tuple[Any, Any]"
   ]
  },
  {
   "cell_type": "code",
   "execution_count": 15,
   "id": "4253f88b-b378-4286-8410-95a5da974f46",
   "metadata": {},
   "outputs": [],
   "source": [
    "# A Mapper is a function that returns an Iterable of key-value pairs\n",
    "Mapper = Callable[..., Iterable[KV]]"
   ]
  },
  {
   "cell_type": "code",
   "execution_count": 16,
   "id": "a899a5e1-bf89-42ef-939a-20a1d8272ee9",
   "metadata": {},
   "outputs": [],
   "source": [
    "# A Reducer is a function that takes a key and an iterable of values\n",
    "# and returns a key-value pair\n",
    "Reducer = Callable[[Any, Iterable], KV]"
   ]
  },
  {
   "cell_type": "code",
   "execution_count": 17,
   "id": "30706c63-e851-447e-8da7-9d3d4918f3c9",
   "metadata": {},
   "outputs": [],
   "source": [
    "def map_reduce(inputs: Iterable,\n",
    "               mapper: Mapper,\n",
    "               reducer: Reducer) -> List[KV]:\n",
    "    \"\"\"Run MapReduce on the inputs using mapper and reducer\"\"\"\n",
    "    collector = defaultdict(list)\n",
    "\n",
    "    for input in inputs:\n",
    "        for key, value in mapper(input):\n",
    "            collector[key].append(value)\n",
    "\n",
    "    return [output\n",
    "            for key, values in collector.items()\n",
    "            for output in reducer(key, values)]"
   ]
  },
  {
   "cell_type": "code",
   "execution_count": 18,
   "id": "69a66e8e-48b8-420a-bb66-8b9966545070",
   "metadata": {},
   "outputs": [],
   "source": [
    "def values_reducer(values_fn: Callable) -> Reducer:\n",
    "    \"\"\"Return a reducer that just applies values_fn to its values\"\"\"\n",
    "    def reduce(key, values: Iterable) -> KV:\n",
    "        return (key, values_fn(values))\n",
    "\n",
    "    return reduce"
   ]
  },
  {
   "cell_type": "code",
   "execution_count": 19,
   "id": "15bf4fa3-8f92-45de-ae13-ad96c9016ab3",
   "metadata": {},
   "outputs": [],
   "source": [
    "sum_reducer = values_reducer(sum)\n",
    "max_reducer = values_reducer(max)\n",
    "min_reducer = values_reducer(min)\n",
    "count_distinct_reducer = values_reducer(lambda values: len(set(values)))"
   ]
  },
  {
   "cell_type": "code",
   "execution_count": 20,
   "id": "863c9c0c-aa56-43dc-9bad-922ade5db5fb",
   "metadata": {},
   "outputs": [],
   "source": [
    "assert sum_reducer(\"key\", [1, 2, 3, 3]) == (\"key\", 9)\n",
    "assert min_reducer(\"key\", [1, 2, 3, 3]) == (\"key\", 1)\n",
    "assert max_reducer(\"key\", [1, 2, 3, 3]) == (\"key\", 3)\n",
    "assert count_distinct_reducer(\"key\", [1, 2, 3, 3]) == (\"key\", 3)"
   ]
  },
  {
   "cell_type": "code",
   "execution_count": 21,
   "id": "13b899ef-aca5-44c6-ad82-5d43e25af6b2",
   "metadata": {},
   "outputs": [],
   "source": [
    "from typing import NamedTuple"
   ]
  },
  {
   "cell_type": "code",
   "execution_count": 22,
   "id": "c57775d1-e412-4c5e-bf0c-747cdb1ba053",
   "metadata": {},
   "outputs": [],
   "source": [
    "class Entry(NamedTuple):\n",
    "    name: str\n",
    "    i: int\n",
    "    j: int\n",
    "    value: float"
   ]
  },
  {
   "cell_type": "code",
   "execution_count": 23,
   "id": "ca1060f5-f55f-43ee-adbe-fde5cb897cf2",
   "metadata": {},
   "outputs": [],
   "source": [
    "def matrix_multiply_mapper(num_rows_a: int, num_cols_b: int) -> Mapper:\n",
    "    # C[x][y] = A[x][0] * B[0][y] + ... + A[x][m] * B[m][y]\n",
    "    #\n",
    "    # so an element A[i][j] goes into every C[i][y] with coef B[j][y]\n",
    "    # and an element B[i][j] goes into every C[x][j] with coef A[x][i]\n",
    "    def mapper(entry: Entry):\n",
    "        if entry.name == \"A\":\n",
    "            for y in range(num_cols_b):\n",
    "                key = (entry.i, y)              # which element of C\n",
    "                value = (entry.j, entry.value)  # which entry in the sum\n",
    "                yield (key, value)\n",
    "        else:\n",
    "            for x in range(num_rows_a):\n",
    "                key = (x, entry.j)              # which element of C\n",
    "                value = (entry.i, entry.value)  # which entry in the sum\n",
    "                yield (key, value)\n",
    "\n",
    "    return mapper"
   ]
  },
  {
   "cell_type": "code",
   "execution_count": 24,
   "id": "a0083a33-ec74-46a7-a4f5-74c48c28fe07",
   "metadata": {},
   "outputs": [],
   "source": [
    "def matrix_multiply_reducer(key: Tuple[int, int],\n",
    "                            indexed_values: Iterable[Tuple[int, int]]):\n",
    "    results_by_index = defaultdict(list)\n",
    "\n",
    "    for index, value in indexed_values:\n",
    "        results_by_index[index].append(value)\n",
    "\n",
    "    # Multiply the values for positions with two values\n",
    "    # (one from A, and one from B) and sum them up.\n",
    "    sumproduct = sum(values[0] * values[1]\n",
    "                     for values in results_by_index.values()\n",
    "                     if len(values) == 2)\n",
    "\n",
    "    if sumproduct != 0.0:\n",
    "        yield (key, sumproduct)"
   ]
  },
  {
   "cell_type": "code",
   "execution_count": 25,
   "id": "c233cfcb-1f08-4a9b-b4a4-2937c69548a7",
   "metadata": {},
   "outputs": [],
   "source": [
    "A = [[3, 2, 0],\n",
    "     [0, 0, 0]]\n",
    "\n",
    "B = [[4, -1, 0],\n",
    "     [10, 0, 0],\n",
    "     [0, 0, 0]]"
   ]
  },
  {
   "cell_type": "code",
   "execution_count": 26,
   "id": "9afe1653-4e1a-4766-bdca-1f03467af0f4",
   "metadata": {},
   "outputs": [],
   "source": [
    "def main():\n",
    "    \n",
    "    # Analyzing status updates\n",
    "    import datetime\n",
    "    \n",
    "    status_updates = [\n",
    "        {\"id\": 2,\n",
    "         \"username\" : \"joelgrus\",\n",
    "         \"text\" : \"Should I write a second edition of my data science book?\",\n",
    "         \"created_at\" : datetime.datetime(2018, 2, 21, 11, 47, 0),\n",
    "         \"liked_by\" : [\"data_guy\", \"data_gal\", \"mike\"] },\n",
    "         # ...\n",
    "    ]\n",
    "    \n",
    "    def data_science_day_mapper(status_update: dict) -> Iterable:\n",
    "        \"\"\"Yields (day_of_week, 1) if status_update contains \"data science\" \"\"\"\n",
    "        if \"data science\" in status_update[\"text\"].lower():\n",
    "            day_of_week = status_update[\"created_at\"].weekday()\n",
    "            yield (day_of_week, 1)\n",
    "    \n",
    "    data_science_days = map_reduce(status_updates,\n",
    "                                   data_science_day_mapper,\n",
    "                                   sum_reducer)\n",
    "    \n",
    "    def words_per_user_mapper(status_update: dict):\n",
    "        user = status_update[\"username\"]\n",
    "        for word in tokenize(status_update[\"text\"]):\n",
    "            yield (user, (word, 1))\n",
    "    \n",
    "    def most_popular_word_reducer(user: str,\n",
    "                                  words_and_counts: Iterable[KV]):\n",
    "        \"\"\"\n",
    "        Given a sequence of (word, count) pairs,\n",
    "        return the word with the highest total count\n",
    "        \"\"\"\n",
    "        word_counts = Counter()\n",
    "        for word, count in words_and_counts:\n",
    "            word_counts[word] += count\n",
    "    \n",
    "        word, count = word_counts.most_common(1)[0]\n",
    "    \n",
    "        yield (user, (word, count))\n",
    "    \n",
    "    user_words = map_reduce(status_updates,\n",
    "                            words_per_user_mapper,\n",
    "                            most_popular_word_reducer)\n",
    "    \n",
    "    def liker_mapper(status_update: dict):\n",
    "        user = status_update[\"username\"]\n",
    "        for liker in status_update[\"liked_by\"]:\n",
    "            yield (user, liker)\n",
    "    \n",
    "    distinct_likers_per_user = map_reduce(status_updates,\n",
    "                                          liker_mapper,\n",
    "                                          count_distinct_reducer)\n",
    "    \n",
    "    entries = [Entry(\"A\", 0, 0, 3), Entry(\"A\", 0, 1,  2), Entry(\"B\", 0, 0, 4),\n",
    "               Entry(\"B\", 0, 1, -1), Entry(\"B\", 1, 0, 10)]\n",
    "    \n",
    "    \n",
    "    mapper = matrix_multiply_mapper(num_rows_a=2, num_cols_b=3)\n",
    "    reducer = matrix_multiply_reducer\n",
    "    \n",
    "    # Product should be [[32, -3, 0], [0, 0, 0]].\n",
    "    # So it should have two entries.\n",
    "    assert (set(map_reduce(entries, mapper, reducer)) ==\n",
    "            {((0, 1), -3), ((0, 0), 32)})\n",
    "    \n",
    "if __name__ == \"__main__\": main()"
   ]
  },
  {
   "cell_type": "markdown",
   "id": "59e73082-d4a7-4068-b612-03af677dcc51",
   "metadata": {},
   "source": [
    "# fragmenting the code snippet above (the main function) "
   ]
  },
  {
   "cell_type": "code",
   "execution_count": 27,
   "id": "ff66955f-6bad-43f0-a04a-46c99b22e15f",
   "metadata": {},
   "outputs": [],
   "source": [
    "# def main():"
   ]
  },
  {
   "cell_type": "code",
   "execution_count": 28,
   "id": "a1fd0025-fade-4070-b823-0cf8ab5a3078",
   "metadata": {},
   "outputs": [],
   "source": [
    "# Analyzing status updates\n",
    "import datetime"
   ]
  },
  {
   "cell_type": "code",
   "execution_count": 29,
   "id": "4aa21c0b-cfe1-47a7-95c6-87cfa33cc1bb",
   "metadata": {},
   "outputs": [],
   "source": [
    "status_updates = [\n",
    "    {\"id\": 2,\n",
    "     \"username\" : \"joelgrus\",\n",
    "     \"text\" : \"Should I write a second edition of my data science book?\",\n",
    "     \"created_at\" : datetime.datetime(2018, 2, 21, 11, 47, 0),\n",
    "     \"liked_by\" : [\"data_guy\", \"data_gal\", \"mike\"] },\n",
    "     # ...\n",
    "]"
   ]
  },
  {
   "cell_type": "code",
   "execution_count": 30,
   "id": "65830081-1f7e-4090-9f40-4dfd654c8f7a",
   "metadata": {},
   "outputs": [],
   "source": [
    "def data_science_day_mapper(status_update: dict) -> Iterable:\n",
    "    \"\"\"Yields (day_of_week, 1) if status_update contains \"data science\" \"\"\"\n",
    "    if \"data science\" in status_update[\"text\"].lower():\n",
    "        day_of_week = status_update[\"created_at\"].weekday()\n",
    "        yield (day_of_week, 1)"
   ]
  },
  {
   "cell_type": "code",
   "execution_count": 31,
   "id": "e16e8bdf-454b-4e81-86a9-2385a2dc4f39",
   "metadata": {},
   "outputs": [
    {
     "data": {
      "text/plain": [
       "[2, 1]"
      ]
     },
     "execution_count": 31,
     "metadata": {},
     "output_type": "execute_result"
    }
   ],
   "source": [
    "data_science_days = map_reduce(status_updates,\n",
    "                               data_science_day_mapper,\n",
    "                               sum_reducer)\n",
    "data_science_days"
   ]
  },
  {
   "cell_type": "code",
   "execution_count": 32,
   "id": "4648c816-ce92-4cbe-82b6-c0eab949b38a",
   "metadata": {},
   "outputs": [],
   "source": [
    "def words_per_user_mapper(status_update: dict):\n",
    "    user = status_update[\"username\"]\n",
    "    for word in tokenize(status_update[\"text\"]):\n",
    "        yield (user, (word, 1))"
   ]
  },
  {
   "cell_type": "code",
   "execution_count": 33,
   "id": "c7224894-6572-44f7-9855-023b6729b76b",
   "metadata": {},
   "outputs": [],
   "source": [
    "def most_popular_word_reducer(user: str,\n",
    "                              words_and_counts: Iterable[KV]):\n",
    "    \"\"\"\n",
    "    Given a sequence of (word, count) pairs,\n",
    "    return the word with the highest total count\n",
    "    \"\"\"\n",
    "    word_counts = Counter()\n",
    "    for word, count in words_and_counts:\n",
    "        word_counts[word] += count\n",
    "\n",
    "    word, count = word_counts.most_common(1)[0]\n",
    "\n",
    "    yield (user, (word, count))"
   ]
  },
  {
   "cell_type": "code",
   "execution_count": 34,
   "id": "ed3e3d33-7ed4-471e-b91a-d3b773dd649d",
   "metadata": {},
   "outputs": [
    {
     "data": {
      "text/plain": [
       "[('joelgrus', ('Should', 1))]"
      ]
     },
     "execution_count": 34,
     "metadata": {},
     "output_type": "execute_result"
    }
   ],
   "source": [
    "user_words = map_reduce(status_updates,\n",
    "                        words_per_user_mapper,\n",
    "                        most_popular_word_reducer)\n",
    "user_words"
   ]
  },
  {
   "cell_type": "code",
   "execution_count": 35,
   "id": "b0b35462-939a-4438-b243-cf4d4e164e67",
   "metadata": {},
   "outputs": [],
   "source": [
    "def liker_mapper(status_update: dict):\n",
    "    user = status_update[\"username\"]\n",
    "    for liker in status_update[\"liked_by\"]:\n",
    "        yield (user, liker)"
   ]
  },
  {
   "cell_type": "code",
   "execution_count": 36,
   "id": "8d7b8537-339a-44d8-ad2d-709936a80690",
   "metadata": {},
   "outputs": [
    {
     "data": {
      "text/plain": [
       "['joelgrus', 3]"
      ]
     },
     "execution_count": 36,
     "metadata": {},
     "output_type": "execute_result"
    }
   ],
   "source": [
    "distinct_likers_per_user = map_reduce(status_updates,\n",
    "                                      liker_mapper,\n",
    "                                      count_distinct_reducer)\n",
    "distinct_likers_per_user"
   ]
  },
  {
   "cell_type": "code",
   "execution_count": 37,
   "id": "e7f4305f-86c4-4b99-a76d-bef219ec8700",
   "metadata": {},
   "outputs": [
    {
     "data": {
      "text/plain": [
       "[Entry(name='A', i=0, j=0, value=3),\n",
       " Entry(name='A', i=0, j=1, value=2),\n",
       " Entry(name='B', i=0, j=0, value=4),\n",
       " Entry(name='B', i=0, j=1, value=-1),\n",
       " Entry(name='B', i=1, j=0, value=10)]"
      ]
     },
     "execution_count": 37,
     "metadata": {},
     "output_type": "execute_result"
    }
   ],
   "source": [
    "entries = [Entry(\"A\", 0, 0, 3), Entry(\"A\", 0, 1,  2), Entry(\"B\", 0, 0, 4),\n",
    "           Entry(\"B\", 0, 1, -1), Entry(\"B\", 1, 0, 10)]\n",
    "entries"
   ]
  },
  {
   "cell_type": "code",
   "execution_count": 38,
   "id": "317b9599-bf95-4c0e-8017-3e3f93b0c5ea",
   "metadata": {},
   "outputs": [],
   "source": [
    "mapper = matrix_multiply_mapper(num_rows_a=2, num_cols_b=3)\n",
    "reducer = matrix_multiply_reducer"
   ]
  },
  {
   "cell_type": "code",
   "execution_count": 39,
   "id": "66a4d019-700b-4ad9-a694-2879a85945c9",
   "metadata": {},
   "outputs": [],
   "source": [
    "# Product should be [[32, -3, 0], [0, 0, 0]].\n",
    "# So it should have two entries.\n",
    "assert (set(map_reduce(entries, mapper, reducer)) ==\n",
    "        {((0, 1), -3), ((0, 0), 32)})"
   ]
  },
  {
   "cell_type": "code",
   "execution_count": 40,
   "id": "3c8a0582-45d9-4e58-a023-3cfaac6b58b3",
   "metadata": {},
   "outputs": [],
   "source": [
    "# if __name__ == \"__main__\": main()"
   ]
  }
 ],
 "metadata": {
  "kernelspec": {
   "display_name": "Python 3 (ipykernel)",
   "language": "python",
   "name": "python3"
  },
  "language_info": {
   "codemirror_mode": {
    "name": "ipython",
    "version": 3
   },
   "file_extension": ".py",
   "mimetype": "text/x-python",
   "name": "python",
   "nbconvert_exporter": "python",
   "pygments_lexer": "ipython3",
   "version": "3.10.2"
  }
 },
 "nbformat": 4,
 "nbformat_minor": 5
}
